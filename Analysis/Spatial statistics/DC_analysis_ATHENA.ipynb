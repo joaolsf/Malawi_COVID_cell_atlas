{
 "cells": [
  {
   "cell_type": "markdown",
   "id": "52533f0a",
   "metadata": {},
   "source": [
    "# Import libraries and setup"
   ]
  },
  {
   "cell_type": "code",
   "execution_count": null,
   "id": "488a1bcf",
   "metadata": {},
   "outputs": [],
   "source": [
    "# Import libraries we may need\n",
    "import anndata\n",
    "import numpy as np\n",
    "import pandas as pd\n",
    "import seaborn as sb\n",
    "import scanpy as sc\n",
    "import dill\n",
    "import colorcet as cc\n",
    "import matplotlib.pyplot as plt\n",
    "from matplotlib.colors import ListedColormap, Normalize\n",
    "from pathlib import Path\n",
    "\n",
    "#My module for importing IMC data into AnnData format\n",
    "import mikeimc as mimc\n",
    "import mikeimc_v2 as mikeimc_v2\n",
    "\n",
    "#ATHENA\n",
    "from spatialOmics import SpatialOmics\n",
    "import athena as sh\n"
   ]
  },
  {
   "cell_type": "code",
   "execution_count": null,
   "id": "53f42784",
   "metadata": {},
   "outputs": [],
   "source": [
    "# Set up output figure settings\n",
    "plt.rcParams['figure.figsize']=(64,64) #rescale figures, increase sizehere\n",
    "\n",
    "# Set up scanpy settings\n",
    "sc.settings.verbosity = 3\n",
    "sc.set_figure_params(dpi=100, dpi_save=300) #Increase DPI for better resolution figures\n",
    "#sc.logging.print_versions()"
   ]
  },
  {
   "cell_type": "code",
   "execution_count": null,
   "id": "3d7adf5f",
   "metadata": {},
   "outputs": [],
   "source": [
    "#load the session\n",
    "dill.load_session('DC_ATHENA.db')"
   ]
  },
  {
   "cell_type": "code",
   "execution_count": null,
   "id": "8c047a7c",
   "metadata": {},
   "outputs": [],
   "source": [
    "#save the session\n",
    "dill.dump_session('DC_ATHENA.db')"
   ]
  },
  {
   "cell_type": "markdown",
   "id": "988da317",
   "metadata": {},
   "source": [
    "# Transfer data into ATHENA format ('so' object)"
   ]
  },
  {
   "cell_type": "code",
   "execution_count": null,
   "id": "43c52289",
   "metadata": {
    "scrolled": true
   },
   "outputs": [],
   "source": [
    "adata_subset3 = anndata.read_h5ad('adata_subset3')"
   ]
  },
  {
   "cell_type": "code",
   "execution_count": null,
   "id": "39706c03",
   "metadata": {},
   "outputs": [],
   "source": [
    "adata_subset3"
   ]
  },
  {
   "cell_type": "code",
   "execution_count": null,
   "id": "c0a6d43a",
   "metadata": {},
   "outputs": [],
   "source": [
    "ad = adata_subset3"
   ]
  },
  {
   "cell_type": "code",
   "execution_count": null,
   "id": "75982d84",
   "metadata": {},
   "outputs": [],
   "source": [
    "ad"
   ]
  },
  {
   "cell_type": "markdown",
   "id": "8bea6120",
   "metadata": {},
   "source": [
    "Convert some columns to category\n",
    "This will save headaches in later stages - makes sure that all categorical variables in obs are stored as categories.\n",
    "This will need changing depending on what extra columns you added from your 'observations' in the cell table, or information added in the dictionary.csv"
   ]
  },
  {
   "cell_type": "code",
   "execution_count": null,
   "id": "ba3de72d",
   "metadata": {},
   "outputs": [],
   "source": [
    "# This will list out the columns you may want to now convert...\n",
    "ad.obs.columns.tolist()"
   ]
  },
  {
   "cell_type": "code",
   "execution_count": null,
   "id": "bafdcb4f",
   "metadata": {},
   "outputs": [],
   "source": [
    "# Alter this with the categorical obs from above\n",
    "for i in ['ROI','TMAID', 'CaseID', 'Region', 'Patient', 'Group', 'Diagnosis']:\n",
    "    ad.obs[i]=ad.obs[i].astype('category')"
   ]
  },
  {
   "cell_type": "markdown",
   "id": "9e79f306",
   "metadata": {},
   "source": [
    "Add a cell_index - numbers each cell in each sample (starting again at 0 for each sample)"
   ]
  },
  {
   "cell_type": "code",
   "execution_count": null,
   "id": "419fbd11",
   "metadata": {},
   "outputs": [],
   "source": [
    "for roi in ad.obs.ROI.cat.categories:\n",
    "    ad.obs.loc[ad.obs.ROI==roi,'cell_id'] = ad.obs.loc[ad.obs.ROI==roi,'Master_Index'] - ad.obs.loc[ad.obs.ROI==roi,'Master_Index'].min() + 1\n"
   ]
  },
  {
   "cell_type": "markdown",
   "id": "0cddb885",
   "metadata": {},
   "source": [
    "Convert the group names into ids - numbers for each group. \n",
    "This is required for some of athenas plotting functions and to plot in mode='mask'\n",
    "Here, we just convert each group name into a number."
   ]
  },
  {
   "cell_type": "code",
   "execution_count": null,
   "id": "2a9b2398",
   "metadata": {},
   "outputs": [],
   "source": [
    "ad.obs['hierarchy_id'] = ad.obs.groupby('hierarchy').ngroup()\n",
    "ad.obs['cell_type_id'] = ad.obs.groupby('cell_type').ngroup()\n",
    "ad.obs['cell_cluster_id'] = ad.obs.groupby('pheno_cluster').ngroup()"
   ]
  },
  {
   "cell_type": "markdown",
   "id": "88185dc2",
   "metadata": {},
   "source": [
    "Make sure the columns are set to 'category' type, to enable correct plotting.\n",
    "\n",
    "Change this with the adata.obs column names that are categorical"
   ]
  },
  {
   "cell_type": "code",
   "execution_count": null,
   "id": "bdb580cd",
   "metadata": {
    "scrolled": true
   },
   "outputs": [],
   "source": [
    "ad.obs.columns"
   ]
  },
  {
   "cell_type": "code",
   "execution_count": null,
   "id": "10b3a633",
   "metadata": {},
   "outputs": [],
   "source": [
    "for i in ['ROI', 'Patient', 'Group','hierarchy_id', 'cell_type_id','cell_cluster_id']:\n",
    "    ad.obs.loc[:, i] = ad.obs[i].astype('category')"
   ]
  },
  {
   "cell_type": "markdown",
   "id": "7aebcc11",
   "metadata": {},
   "source": [
    "Construct the SpatialOmics object"
   ]
  },
  {
   "cell_type": "markdown",
   "id": "f19758b2",
   "metadata": {},
   "source": [
    "We need to create a new data frame that containts the 'sample level' meta data, these are currently stored in the adata.obs\n",
    "\n",
    "Change the first line with the adata.obs that define ROI-level information, for example what patient (in this case 'Case') the ROI came from"
   ]
  },
  {
   "cell_type": "code",
   "execution_count": null,
   "id": "42667f0b",
   "metadata": {},
   "outputs": [],
   "source": [
    "spl = ad.obs[['ROI','TMAID', 'CaseID', 'Region', 'Patient', 'Group', 'Diagnosis']] #These are the sample/ROI level obs in the adata\n",
    "spl = spl[~spl.duplicated()]\n",
    "spl.set_index('ROI', inplace=True) #Set the index as ROI, which is the unique ID for each region"
   ]
  },
  {
   "cell_type": "code",
   "execution_count": null,
   "id": "f973e4c5",
   "metadata": {},
   "outputs": [],
   "source": [
    "spl"
   ]
  },
  {
   "cell_type": "markdown",
   "id": "c0ddbc86",
   "metadata": {},
   "source": [
    "Map the cell mask file path for each ROI"
   ]
  },
  {
   "cell_type": "markdown",
   "id": "b149bcfe",
   "metadata": {},
   "source": [
    "Here, you need to setup the mask files in a folder called 'masks', and create a new .csv file that points each ROI to its correct mask file\n",
    "If you use the Bodenmiller pipeline, the masks are created in the 'CP_Output' folder. Unfortunately they all have quite confusing names that won't match with your ROI names. You can find out which masks match to which ROI by looking at the Image.csv file in the same folder as the outputted masks. There is a row per image analysed (per ROI), the columns you are looking for are 'Metadata_description' and 'Metadata_acname' to work out which ROI each line coresponds to, then look for 'URL_cellmask' to get the file name. I then created a subfolder called 'masks', and copied the masks into there. If you look at the 'mask_dict.csv' example here, you can see how I then layed out the dictionary file that will point each ROI to it's relevant mask file."
   ]
  },
  {
   "cell_type": "code",
   "execution_count": null,
   "id": "a9d06738",
   "metadata": {},
   "outputs": [],
   "source": [
    "#Open the mask dictionary\n",
    "map_file = pd.read_csv('COVID_mask_dict.csv').set_index('ROI').to_dict()['mask_path']\n",
    "\n",
    "#Map into the spl dataframe\n",
    "spl.loc[:, 'cell_mask_file'] = spl.index.map(map_file)"
   ]
  },
  {
   "cell_type": "code",
   "execution_count": null,
   "id": "335631a2",
   "metadata": {},
   "outputs": [],
   "source": [
    "spl.loc[:, 'cell_mask_file']"
   ]
  },
  {
   "cell_type": "markdown",
   "id": "540ccef3",
   "metadata": {},
   "source": [
    "Create the SpatialOmics instance and add in the sample data"
   ]
  },
  {
   "cell_type": "code",
   "execution_count": null,
   "id": "82d90899",
   "metadata": {},
   "outputs": [],
   "source": [
    "so = SpatialOmics()\n",
    "so.spl = spl"
   ]
  },
  {
   "cell_type": "code",
   "execution_count": null,
   "id": "b634871e",
   "metadata": {},
   "outputs": [],
   "source": [
    "so"
   ]
  },
  {
   "cell_type": "markdown",
   "id": "62f90d85",
   "metadata": {},
   "source": [
    "Add in cell mask"
   ]
  },
  {
   "cell_type": "code",
   "execution_count": null,
   "id": "0d1248b6",
   "metadata": {},
   "outputs": [],
   "source": [
    "for r in so.spl.index:\n",
    "    mask = ad.obs.ROI == r\n",
    "    so.X[r] = pd.DataFrame(ad.X[mask], columns=ad.var.index)\n",
    "    so.obs[r] = ad.obs[mask]\n",
    "    so.obs[r].set_index('cell_id', inplace=True)\n",
    "    so.X[r].index = so.obs[r].index\n",
    "\n",
    "    # this is how you can add masks to the spatial omics instance\n",
    "    # please use `to_store=False` as this prevents writing the file to disk which is still experimental\n",
    "    cell_mask_file = spl.loc[r].cell_mask_file\n",
    "\n",
    "    # first argument is the sample name\n",
    "    # second argument is the KEY in so.masks[KEY] under which the mask is stored\n",
    "    # third argument the file name\n",
    "    so.add_mask(r, 'cellmasks', cell_mask_file, to_store=False)\n",
    "    so.masks[r]['cellmasks'] = so.masks[r]['cellmasks'].astype(int)  # should be int\n",
    "\n",
    "    # process segmentation masks and remove masks that do not represent a cell\n",
    "    existing_cells = set(so.obs[r].index)\n",
    "    segmentation_ids = set(np.unique(so.masks[r]['cellmasks']))\n",
    "    idsToDelete = segmentation_ids - existing_cells\n",
    "    for i in idsToDelete:\n",
    "        cm = so.masks[r]['cellmasks']\n",
    "        cm[cm == i] = 0"
   ]
  },
  {
   "cell_type": "markdown",
   "id": "a537ee79",
   "metadata": {},
   "source": [
    "Check that the number of cell IDs matches the number of cell masks"
   ]
  },
  {
   "cell_type": "code",
   "execution_count": null,
   "id": "57fd551b",
   "metadata": {},
   "outputs": [],
   "source": [
    "for spl in so.spl.index:\n",
    "   ids = np.unique(so.masks[spl]['cellmasks'])\n",
    "   ids = ids[ids != 0]  # drop the background identifier\n",
    "   if len(so.obs[spl]) == len(ids):\n",
    "       print(f'Sample: {spl} has {len(ids)} cell identifiers in cellmasks but {len(so.obs[spl])} cells in so.obs[spl]')"
   ]
  },
  {
   "cell_type": "code",
   "execution_count": null,
   "id": "6d47b0e5",
   "metadata": {},
   "outputs": [],
   "source": [
    "so"
   ]
  },
  {
   "cell_type": "code",
   "execution_count": null,
   "id": "cd35ecaf",
   "metadata": {},
   "outputs": [],
   "source": [
    "so.spl"
   ]
  },
  {
   "cell_type": "code",
   "execution_count": null,
   "id": "5d27d1e3",
   "metadata": {},
   "outputs": [],
   "source": [
    "so.obs"
   ]
  },
  {
   "cell_type": "code",
   "execution_count": null,
   "id": "cc4684ac",
   "metadata": {},
   "outputs": [],
   "source": [
    "so.obs[spl]['pheno_cluster']"
   ]
  },
  {
   "cell_type": "code",
   "execution_count": null,
   "id": "0ca7a0b1",
   "metadata": {},
   "outputs": [],
   "source": [
    "so.obs[spl]['cell_cluster_id']"
   ]
  },
  {
   "cell_type": "code",
   "execution_count": null,
   "id": "7acfaac4",
   "metadata": {},
   "outputs": [],
   "source": [
    "so.masks"
   ]
  },
  {
   "cell_type": "markdown",
   "id": "3e2facc9",
   "metadata": {},
   "source": [
    "# Colour maps"
   ]
  },
  {
   "cell_type": "markdown",
   "id": "480dfd70",
   "metadata": {},
   "source": [
    "Create colour maps dictionaries and labels"
   ]
  },
  {
   "cell_type": "markdown",
   "id": "9f0ed72f",
   "metadata": {},
   "source": [
    "This will create dictionaries that pair up the id numbers to the actual names"
   ]
  },
  {
   "cell_type": "code",
   "execution_count": null,
   "id": "fc4d6a05",
   "metadata": {},
   "outputs": [],
   "source": [
    "hierarchy_dict = dict(zip(ad.obs['hierarchy_id'].cat.categories, ad.obs['hierarchy'].cat.categories))\n",
    "cell_type_dict = dict(zip(ad.obs['cell_type_id'].cat.categories, ad.obs['cell_type'].cat.categories))\n",
    "cell_cluster_dict = dict(zip(ad.obs['cell_cluster_id'].cat.categories, ad.obs['pheno_cluster'].cat.categories))\n",
    "\n",
    "so.uns['cmap_labels'].update({'hierarchy_id': hierarchy_dict})\n",
    "so.uns['cmap_labels'].update({'cell_type_id': cell_type_dict})\n",
    "so.uns['cmap_labels'].update({'cell_cluster_id': cell_cluster_dict})"
   ]
  },
  {
   "cell_type": "markdown",
   "id": "36d60173",
   "metadata": {},
   "source": [
    "Assign colour map\n",
    "This will assign colours in the order they appear in the dictionaries created above."
   ]
  },
  {
   "cell_type": "code",
   "execution_count": null,
   "id": "bf33176a",
   "metadata": {},
   "outputs": [],
   "source": [
    "import colorcet as cc\n",
    "import matplotlib\n",
    "import matplotlib.pyplot as plt\n",
    "from matplotlib.colors import ListedColormap\n",
    "from matplotlib import cm\n",
    "\n",
    "# Specify different colour maps here\n",
    "colourmap = cc.glasbey_category10\n",
    "\n",
    "\n",
    "for i in ['hierarchy_id','cell_type_id','cell_cluster_id']:\n",
    "    length = len(so.obs[so.spl.index[0]][i].cat.categories)\n",
    "    cmap = colourmap[:length]\n",
    "    cmap = ListedColormap(cmap)\n",
    "    print(i)\n",
    "    display(cmap)\n",
    "    so.uns['cmaps'].update({i: cmap})"
   ]
  },
  {
   "cell_type": "markdown",
   "id": "49b23d55",
   "metadata": {},
   "source": [
    "Duplicate colour maps in format friendly for matplotlib and scanpy etc"
   ]
  },
  {
   "cell_type": "code",
   "execution_count": null,
   "id": "9dd15a65",
   "metadata": {},
   "outputs": [],
   "source": [
    "items = list(hierarchy_dict.values())\n",
    "colours = so.uns['cmaps']['hierarchy_id'].colors\n",
    "hierarchy_colours = {items[i]: colours[i] for i in range(len(items))}\n",
    "\n",
    "items = list(cell_type_dict.values())\n",
    "colours = so.uns['cmaps']['cell_type_id'].colors\n",
    "cell_type_colours = {items[i]: colours[i] for i in range(len(items))}\n",
    "\n",
    "items = list(cell_cluster_dict.values())\n",
    "colours = so.uns['cmaps']['cell_cluster_id'].colors\n",
    "cell_cluster_colours = {items[i]: colours[i] for i in range(len(items))}"
   ]
  },
  {
   "cell_type": "markdown",
   "id": "43cf28c1",
   "metadata": {},
   "source": [
    "Alternative method - use only if you dont want to use the colors set above"
   ]
  },
  {
   "cell_type": "code",
   "execution_count": null,
   "id": "c3507512",
   "metadata": {},
   "outputs": [],
   "source": [
    "metacluster = ad.obs.hierarchy.unique()\n",
    "cmap = cc.glasbey_warm[:len(metacluster)]\n",
    "cmap = ListedColormap(cmap)\n",
    "\n",
    "#hierarchy_id colormap\n",
    "so.uns['cmaps']['hierarchy_id'] = cmap\n",
    "\n",
    "#hierarchy colormap\n",
    "cmap = ['white', 'darkgreen', 'gold', 'steelblue', 'darkred']\n",
    "cmap_labels = {0: 'background', 1: 'Myeloid',  2: 'Lymphoid', 3: 'Stromal', 4: 'Vascular'}\n",
    "cmap = ListedColormap(cmap)\n",
    "\n",
    "so.uns['cmaps'].update({'hierarchy': cmap})\n",
    "so.uns['cmap_labels'].update({'hierarchy': cmap_labels})\n",
    "\n",
    "df = ad.obs[['hierarchy', 'hierarchy_id']]\n",
    "df[~df.duplicated()]\n",
    "so.uns['cmap_labels']['hierarchy_id'] = df.set_index('hierarchy_id').hierarchy.to_dict()"
   ]
  },
  {
   "cell_type": "code",
   "execution_count": null,
   "id": "f45c054c",
   "metadata": {},
   "outputs": [],
   "source": [
    "# set up colormaps for cell_type_id - ATHENA's tutorial color coding\n",
    "#cmap_paper = np.array([[255, 255, 255], [10, 141, 66], [62, 181, 86], [203, 224, 87],  # 0 1 2 3\n",
    "                       #[84, 108, 47], [180, 212, 50], [23, 101, 54],  # 4 5 6\n",
    "                       #[248, 232, 13], [1, 247, 252], [190, 252, 252],  # 7 8 9\n",
    "                       #[150, 210, 225], [151, 254, 255], [0, 255, 250],  # 10 11 12\n",
    "                       #[154, 244, 253], [19, 76, 144], [0, 2, 251],  # 13 14 15\n",
    "                      #[147, 213, 198], [67, 140, 114], [238, 70, 71],  # 16 17 18\n",
    "                       #[80, 45, 143], [135, 76, 158]]) #19, 20"
   ]
  },
  {
   "cell_type": "code",
   "execution_count": null,
   "id": "04387dcb",
   "metadata": {},
   "outputs": [],
   "source": [
    "# set up colormaps for cell_type_id - following my own color coding from previous graphs\n",
    "cmap_paper = np.array([[240,185,141], [17,198,56], [141,213,147], [133,149,225],  #0 #1 #2 #3\n",
    "                       [181,187,227], [211,63,106], [244,204,204],  #4 #5 #6\n",
    "                       [255,217,102], [184,108,185], [73,0,239],  #7 #8 #9\n",
    "                       [89,89,89], [240,185,141], [163,129,239],  #10 #11 #12\n",
    "                       [156,222,214], [185,135,125], [0,112,192],  #13 #14 #15\n",
    "                       [224,123,145], [74,111,227], [255,125,168], #16 #17 #18\n",
    "                       [15,207,192], [214,188,192], [184,108,185],  #19 #20 #21\n",
    "                       [247,31,15], [0,176,240],  #22 #23 #24\n",
    "                       [250,128,0], [51,102,0], [165,63,2]]) #25 #26 #27  "
   ]
  },
  {
   "cell_type": "code",
   "execution_count": null,
   "id": "84ed8c92",
   "metadata": {},
   "outputs": [],
   "source": [
    "so.uns['cmaps'].update({'cell_cluster_id': ListedColormap(cmap_paper / 255)})"
   ]
  },
  {
   "cell_type": "code",
   "execution_count": null,
   "id": "2aad1813",
   "metadata": {},
   "outputs": [],
   "source": [
    "# define labels for cell_cluster_id\n",
    "#cell_cluster_id follows alphabetical order - see order in the NE plot for example\n",
    "cmap_labels = {0: 'AT2 cell',\n",
    "               1: 'Activated Endothelial cell',\n",
    "               2: 'Alveolar Macrophage',\n",
    "               3: 'Apoptotic Interstitial Macrophage',\n",
    "               4: 'B cell',\n",
    "               5: 'CD4 T cell',\n",
    "               6: 'CD4 Treg cell',\n",
    "               7: 'CD66bHigh Neutrophil',\n",
    "               8: 'CD66bLow Neutrophil',\n",
    "               9: 'CD8 T cell',\n",
    "               10: 'Classical Monocyte',\n",
    "               11: 'EM CD4 T cell',\n",
    "               12: 'EM CD8 T cell',\n",
    "               13: 'Endothelial cell',\n",
    "               14: 'Epithelial cell',\n",
    "               15: 'Fibroblast',\n",
    "               16: 'GranzB+ Endothelial cell',\n",
    "               17: 'Interstitial Macrophage', \n",
    "               18: 'Proliferative CD4 T cell',\n",
    "               19: 'Proliferative Endothelial cell',\n",
    "               20: 'Proliferative Epithelial cell',\n",
    "               21: 'Proliferative Fibroblast',\n",
    "               22: 'Proliferative Interstitial Macrophage',\n",
    "               23: 'RBC',\n",
    "               24: 'Smooth Muscle cell',\n",
    "               25: 'Virus-infected AT2 cell',\n",
    "               26: 'Virus-infected Alveolar Macrophage',\n",
    "               27: 'Virus-infected Epithelial cell'}"
   ]
  },
  {
   "cell_type": "code",
   "execution_count": null,
   "id": "070ee107",
   "metadata": {},
   "outputs": [],
   "source": [
    "so.uns['cmap_labels'].update({'cell_cluster_id': cmap_labels})"
   ]
  },
  {
   "cell_type": "code",
   "execution_count": null,
   "id": "97306d7d",
   "metadata": {},
   "outputs": [],
   "source": [
    "so.uns['cmap_labels']"
   ]
  },
  {
   "cell_type": "code",
   "execution_count": null,
   "id": "df8ff016",
   "metadata": {},
   "outputs": [],
   "source": [
    "so.obs"
   ]
  },
  {
   "cell_type": "code",
   "execution_count": null,
   "id": "e5376289",
   "metadata": {},
   "outputs": [],
   "source": [
    "so.uns['cmaps'].update({'default': cm.plasma})"
   ]
  },
  {
   "cell_type": "markdown",
   "id": "61f1a00a",
   "metadata": {},
   "source": [
    "# Explore SpatialOmics object"
   ]
  },
  {
   "cell_type": "code",
   "execution_count": null,
   "id": "af8fc9dd",
   "metadata": {},
   "outputs": [],
   "source": [
    "print(so.spl.columns.values) #see all available sample annotations\n",
    "so.spl.head(3) "
   ]
  },
  {
   "cell_type": "code",
   "execution_count": null,
   "id": "06265096",
   "metadata": {},
   "outputs": [],
   "source": [
    "spl = 'MP41-ROI1' #for one specific sample\n",
    "print(so.obs[spl].columns.values) #see all available sample annotations\n",
    "so.obs[spl].head(3) "
   ]
  },
  {
   "cell_type": "code",
   "execution_count": null,
   "id": "0004566c",
   "metadata": {},
   "outputs": [],
   "source": [
    "print(so.masks[spl].keys())"
   ]
  },
  {
   "cell_type": "markdown",
   "id": "24166239",
   "metadata": {},
   "source": [
    "# Graph construction"
   ]
  },
  {
   "cell_type": "markdown",
   "id": "6d28ab47",
   "metadata": {},
   "source": [
    "This will construct the different spatial connectivity graphs, these define which cells are considered neighbours for later analyses.\n",
    "\n",
    "Use your extracted cell locations to build a {radius, knn} graph (it does not use the cellmasks)\n",
    "\n",
    "You need to define the 'r' parameter to a specific ROI, otherwise the code runs only for the last ROI in the SO object. Or the original code does not work."
   ]
  },
  {
   "cell_type": "markdown",
   "id": "13faca47",
   "metadata": {},
   "source": [
    "Setup"
   ]
  },
  {
   "cell_type": "code",
   "execution_count": null,
   "id": "9490ed19",
   "metadata": {},
   "outputs": [],
   "source": [
    "#This select which samples to use - all by default\n",
    "samples = so.spl.index \n",
    "\n",
    "# Import the default graph settings\n",
    "from athena.graph_builder.constants import GRAPH_BUILDER_DEFAULT_PARAMS"
   ]
  },
  {
   "cell_type": "markdown",
   "id": "c82866d2",
   "metadata": {},
   "source": [
    "Extract centroids from masks"
   ]
  },
  {
   "cell_type": "markdown",
   "id": "c2f4e4b1",
   "metadata": {},
   "source": [
    "We can define where cells are in two ways \n",
    "1- either from the centre of the mask or \n",
    "2- from the cell locations extracted from the cell profiler pipeline.\n",
    "In theory, they should be almost identical, and in previous tests they are."
   ]
  },
  {
   "cell_type": "code",
   "execution_count": null,
   "id": "2c9e13da",
   "metadata": {},
   "outputs": [],
   "source": [
    "print(so.masks[r].keys())"
   ]
  },
  {
   "cell_type": "code",
   "execution_count": null,
   "id": "f5904fb8",
   "metadata": {},
   "outputs": [],
   "source": [
    "#Loading bar functionality for long tasks\n",
    "from tqdm import tqdm\n",
    "\n",
    "# Extract cell centroids across all samples\n",
    "for r in tqdm(so.obs.keys()):\n",
    "    sh.pp.extract_centroids(so, r, mask_key='cellmasks')"
   ]
  },
  {
   "cell_type": "code",
   "execution_count": null,
   "id": "04e27cef",
   "metadata": {},
   "outputs": [],
   "source": [
    "# print results\n",
    "print(so.obs[r])"
   ]
  },
  {
   "cell_type": "markdown",
   "id": "851d4201",
   "metadata": {},
   "source": [
    "KNN graph"
   ]
  },
  {
   "cell_type": "markdown",
   "id": "8557fca7",
   "metadata": {},
   "source": [
    "k nearest neighbors - change 'number_neighbours' to define number of nearest neighbors to identify per cell. Default is 6\n",
    "The graph key will be knn_[number_neighbours]"
   ]
  },
  {
   "cell_type": "code",
   "execution_count": null,
   "id": "780f1d2e",
   "metadata": {},
   "outputs": [],
   "source": [
    "number_neighbours = 4\n",
    "\n",
    "#kNN graph, without cellmasks, using predetermined X, Y locs\n",
    "config = GRAPH_BUILDER_DEFAULT_PARAMS['knn']\n",
    "config['builder_params']['n_neighbors'] = number_neighbours # set parameter k\n",
    "for spl in tqdm(samples):\n",
    "             sh.graph.build_graph(so, spl,\n",
    "                     key_added='knn_'+str(number_neighbours),\n",
    "                     builder_type='knn', mask_key=None, coordinate_keys=('X_loc', 'Y_loc'), config=config) "
   ]
  },
  {
   "cell_type": "markdown",
   "id": "2b6443bc",
   "metadata": {},
   "source": [
    "Radius graph"
   ]
  },
  {
   "cell_type": "markdown",
   "id": "12484610",
   "metadata": {},
   "source": [
    "Defines a cells neighbours using a radius (in um) from the cell. Default is 20\n",
    "The graph key will be radius_[radius]"
   ]
  },
  {
   "cell_type": "code",
   "execution_count": null,
   "id": "83c52d27",
   "metadata": {},
   "outputs": [],
   "source": [
    "radius = 20\n",
    "\n",
    "# radius graph without cellmasks, using my predetermined X, Y locs\n",
    "config = GRAPH_BUILDER_DEFAULT_PARAMS['radius']\n",
    "config['builder_params']['radius'] = radius\n",
    "for spl in tqdm(samples):\n",
    "             sh.graph.build_graph(so, spl,\n",
    "                     key_added='radius_'+str(radius),\n",
    "                     builder_type='radius', mask_key=None, coordinate_keys=('X_loc', 'Y_loc'), config=config)"
   ]
  },
  {
   "cell_type": "code",
   "execution_count": null,
   "id": "71664fa9",
   "metadata": {},
   "outputs": [],
   "source": [
    "so"
   ]
  },
  {
   "cell_type": "markdown",
   "id": "077c5325",
   "metadata": {},
   "source": [
    "Contact graph (with multiprocessing)"
   ]
  },
  {
   "cell_type": "markdown",
   "id": "2fcb00f4",
   "metadata": {},
   "source": [
    "Defines neighbours using direct cell-cell contact using cell mask"
   ]
  },
  {
   "cell_type": "code",
   "execution_count": null,
   "id": "bf70f0fa",
   "metadata": {
    "scrolled": true
   },
   "outputs": [],
   "source": [
    "#For multiprocessing\n",
    "from functools import partial\n",
    "from multiprocessing import Pool\n",
    "\n",
    "# Use parallel processing?\n",
    "parallel = True\n",
    "\n",
    "# This select which samples to use - all by default\n",
    "samples = so.spl.index.tolist() #so.spl.index \n",
    "\n",
    "# Number of cores to use for parallel processing\n",
    "num_cores = 4\n",
    "\n",
    "# Run the paralell processing\n",
    "if parallel==True:\n",
    "    \n",
    "    contact_graph_partial = partial(mikeimc_v2.contact_graph, so)\n",
    "    \n",
    "    with Pool(processes = num_cores) as pool:      \n",
    "        data = pool.map(contact_graph_partial, tqdm(samples))\n",
    "        print('Complete')\n",
    "    \n",
    "    for spl,grph in zip(samples,data):\n",
    "\n",
    "        if spl in so.G:\n",
    "            so.G[spl].update({'contact': grph})\n",
    "        else:\n",
    "            so.G[spl] = {'contact':grph}\n",
    "    \n",
    "    print('Added back into original SO!')\n",
    "    \n",
    "elif parallel==False:\n",
    "    \n",
    "    for spl in samples:\n",
    "        try:\n",
    "            sh.graph.build_graph(so, spl, builder_type='contact', mask_key='cellmasks')\n",
    "        except KeyboardInterrupt:\n",
    "            pass\n",
    "        except BaseException as err:\n",
    "            print(\"An exception occurred in calculating contact graph for \" + spl)\n",
    "            print(f\"Unexpected {err=}, {type(err)=}\") "
   ]
  },
  {
   "cell_type": "markdown",
   "id": "e9d98293",
   "metadata": {},
   "source": [
    "# Save spatial mapping of pops without cell masks"
   ]
  },
  {
   "cell_type": "code",
   "execution_count": null,
   "id": "3492ac5b",
   "metadata": {},
   "outputs": [],
   "source": [
    "so"
   ]
  },
  {
   "cell_type": "code",
   "execution_count": null,
   "id": "5ee550ca",
   "metadata": {
    "scrolled": true
   },
   "outputs": [],
   "source": [
    "r = '1507_2_C'\n",
    "fig, axs = plt.subplots(1, 2, figsize=(15, 8), dpi=300)\n",
    "for ax, graph_key in zip(axs.flat, ['knn_4', 'radius_20']):\n",
    "    for obs in ['cell_cluster_id']:\n",
    "        for bgd in ['black','white']:    \n",
    "                sh.pl.spatial(so, r, obs, node_size=10, edges=True, graph_key=graph_key, coordinate_keys=['X_loc', 'Y_loc'], ax=ax)\n",
    "                ax.set_title(graph_key)\n",
    "fig.tight_layout()\n",
    "#fig.show()\n",
    "plt.savefig(str(r)+'.png')"
   ]
  },
  {
   "cell_type": "code",
   "execution_count": null,
   "id": "5054a7b0",
   "metadata": {},
   "outputs": [],
   "source": [
    "r = '1507_2_A'\n",
    "fig, axs = plt.subplots(1, 2, figsize=(15, 8), dpi=300)\n",
    "for ax, graph_key in zip(axs.flat, ['knn_4', 'radius_20']):\n",
    "    for obs in ['cell_cluster_id']:\n",
    "        for bgd in ['black','white']:    \n",
    "                sh.pl.spatial(so, r, obs, node_size=10, edges=True, graph_key=graph_key, coordinate_keys=['X_loc', 'Y_loc'], ax=ax)\n",
    "                ax.set_title(graph_key)\n",
    "fig.tight_layout()\n",
    "#fig.show()\n",
    "plt.savefig(str(r)+'.png')"
   ]
  },
  {
   "cell_type": "code",
   "execution_count": null,
   "id": "c1a8559e",
   "metadata": {
    "scrolled": true
   },
   "outputs": [],
   "source": [
    "#it did not work\n",
    "#fig, axs = plt.subplots(1, 2, figsize=(15, 8), dpi=300)\n",
    "#for ax, graph_key in zip(axs.flat, ['knn_4', 'radius_20']):\n",
    " #   for obs in ['cell_cluster_id']:\n",
    "  #      for bgd in ['black','white']:  \n",
    "   #         for i in tqdm(samples):\n",
    "    #            sh.pl.spatial(so, i, obs, node_size=5, edges=True, graph_key=graph_key, coordinate_keys=['X_loc', 'Y_loc'], ax=ax)\n",
    "                ax.set_title(graph_key)\n",
    "#fig.tight_layout()\n",
    "#fig.show()"
   ]
  },
  {
   "cell_type": "markdown",
   "id": "39806de4",
   "metadata": {},
   "source": [
    "# Plot protein intensity or single-cell annotations"
   ]
  },
  {
   "cell_type": "code",
   "execution_count": null,
   "id": "37499727",
   "metadata": {},
   "outputs": [],
   "source": [
    "r = 'MP41-ROI1'\n",
    "fig, axs = plt.subplots(2, 3, figsize=(15, 6), dpi=300)\n",
    "sh.pl.spatial(so, r, None, ax=ax)\n",
    "sh.pl.spatial(so, r, 'cell_type_id', ax=ax)\n",
    "sh.pl.spatial(so, r, 'hierarchy_id', ax=ax)\n",
    "sh.pl.spatial(so, r, 'cell_cluster_id', ax=ax)\n",
    "sh.pl.spatial(so, r, 'IgD', ax=ax)\n",
    "sh.pl.spatial(so, r, 'CD45RA', ax=ax)\n"
   ]
  },
  {
   "cell_type": "code",
   "execution_count": null,
   "id": "4a04b6a0",
   "metadata": {},
   "outputs": [],
   "source": [
    "r = 'MP41-ROI1'\n",
    "so.uns['cmaps'].update({'default': cm.plasma})\n",
    "fig, axs = plt.subplots(1, 3, figsize=(30, 3), dpi=100)\n",
    "sh.pl.spatial(so, r, 'CD45RA', mode='mask', ax=axs.flat[0], background_color='black')\n",
    "sh.pl.spatial(so, r, 'CD19', mode='mask', ax=axs.flat[1], background_color='black')\n",
    "sh.pl.spatial(so, r, 'IgD', mode='mask', ax=axs.flat[2], background_color='black')"
   ]
  },
  {
   "cell_type": "markdown",
   "id": "2d4f422c",
   "metadata": {},
   "source": [
    "# Heterogeneity quantification"
   ]
  },
  {
   "cell_type": "markdown",
   "id": "57934f7f",
   "metadata": {},
   "source": [
    "# Sample-level scores - Information-theoretic scores"
   ]
  },
  {
   "cell_type": "markdown",
   "id": "93a9cdf1",
   "metadata": {},
   "source": [
    "Sample-level scores estimate a single heterogeneity score for the whole tumor, saved in so.spl. Although they ignore the spatial topology and cell-cell interactions, they describe the heterogeneity attrbuted to the number of cell types present and their frequencies. Below we compute some of the included metrics across all samples."
   ]
  },
  {
   "cell_type": "markdown",
   "id": "cd039c2c",
   "metadata": {},
   "source": [
    "Richness: The most basic and intuitive heterogeneity score is richness S, which simply counts the number of observed cell subpopulations within a tumor sample, independently of their relative abundance. This score is equivalent to tumor clonality, commonly employed in genetic heterogeneity studies [3] to quantify the number of distinct clones in a tumor.\n",
    "\n",
    "Shannon index: Shannon index H takes into consideration not only the number of cell subpopulations S present, but also their relative proportions. In other words, how likely we are to guess the phenotype of a randomly observed cell from a tumor sample. the more even the cell proportions, the more uncertain our prediction. Shannon entropy increases with richness and evenness, and reaches its maximal value when the cell subpopulation distribution is uniform. Higher Shannon index the higher heterogeneity.\n",
    "\n",
    "Simpson index: Similarly, the Simpson index considers both richness and relative abundance. The Simpson index describes the probability of sampling the same phenotype twice from the tumor. In contrast to the Shannon index, the Simpson index decreases with increasing diversity. Furthermore, the Simpson index is sensitive to the abundance of the more dominant phenotype and can be regarded as a measure of dominance concentration.\n",
    "\n",
    "Rao’s quadratic entropy: The indices and quantiﬁcation methods discussed so far consider both richness and relative abundance of phenotypes, but ignore the similarity of these phenotypes, i.e., how close they are in phenotypic space. Rao’s quadratic entropy [22] accounts for that."
   ]
  },
  {
   "cell_type": "markdown",
   "id": "240d6cf2",
   "metadata": {},
   "source": [
    "Calculate richness, shannon and quadratic entropy (with multiprocessing)"
   ]
  },
  {
   "cell_type": "code",
   "execution_count": null,
   "id": "fbccbac4",
   "metadata": {},
   "outputs": [],
   "source": [
    "# compute metrics at a sample level for all samples - this will take some time\n",
    "for s in tqdm(samples):\n",
    "    sh.metrics.richness(so, s, 'cell_cluster_id', local=False, graph_key='knn_4')\n",
    "    sh.metrics.shannon(so, s, 'cell_cluster_id', local=False, graph_key='knn_4')\n",
    "    sh.metrics.quadratic_entropy(so, s, 'cell_cluster_id', local=False, graph_key='knn_4', metric='cosine')\n",
    "\n",
    "# estimated values are saved in so.obs\n",
    "so.obs[spl].columns"
   ]
  },
  {
   "cell_type": "code",
   "execution_count": null,
   "id": "c8ca9c8a",
   "metadata": {},
   "outputs": [],
   "source": [
    "# compute metrics at sample level for all samples - this will take some time\n",
    "for s in tqdm(samples):\n",
    "    sh.metrics.richness(so, s, 'cell_cluster_id', local=False, graph_key='radius_20')\n",
    "    sh.metrics.shannon(so, s, 'cell_cluster_id', local=False, graph_key='radius_20')\n",
    "    sh.metrics.quadratic_entropy(so, s, 'cell_cluster_id', local=False, graph_key='radius_20', metric='cosine')\n",
    "\n",
    "# estimated values are saved in so.obs\n",
    "so.obs[spl].columns"
   ]
  },
  {
   "cell_type": "code",
   "execution_count": null,
   "id": "0ef4c922",
   "metadata": {},
   "outputs": [],
   "source": [
    "# compute cell counts\n",
    "so.spl['cell_count'] = [len(so.obs[s]) for s in so.obs.keys()]\n",
    "so.spl['Myeloid_cell_count'] = [np.sum(so.obs[s].hierarchy == 'Myeloid') for s in so.obs.keys()]"
   ]
  },
  {
   "cell_type": "code",
   "execution_count": null,
   "id": "8c8ed7e2",
   "metadata": {},
   "outputs": [],
   "source": [
    "so.spl"
   ]
  },
  {
   "cell_type": "code",
   "execution_count": null,
   "id": "a724cef4",
   "metadata": {},
   "outputs": [],
   "source": [
    "# estimated values are saved in so.spl    \n",
    "so.spl[['cell_count', 'richness_cell_cluster_id', 'shannon_cell_cluster_id', 'quadratic_cell_cluster_id']]"
   ]
  },
  {
   "cell_type": "code",
   "execution_count": null,
   "id": "238227ee",
   "metadata": {},
   "outputs": [],
   "source": [
    "df = so.spl[['cell_count', 'richness_cell_cluster_id', 'shannon_cell_cluster_id', 'quadratic_cell_cluster_id']]\n",
    "compression_opts = dict(method='zip',\n",
    "                         archive_name='COVID_Malawi_Heterogeneity_Index_Sample_level_scores.csv') \n",
    "df.to_csv('COVID_Malawi_Heterogeneity_Index_Sample_level_scores.csv.zip', index=True, compression=compression_opts)"
   ]
  },
  {
   "cell_type": "code",
   "execution_count": null,
   "id": "ac39fdd2",
   "metadata": {},
   "outputs": [],
   "source": [
    "df1 = pd.read_csv('COVID_Malawi_Heterogeneity_Index_Sample_level_scores.csv')"
   ]
  },
  {
   "cell_type": "code",
   "execution_count": null,
   "id": "15dc86a1",
   "metadata": {},
   "outputs": [],
   "source": [
    "df1"
   ]
  },
  {
   "cell_type": "code",
   "execution_count": null,
   "id": "1a734445",
   "metadata": {},
   "outputs": [],
   "source": [
    "df1.plot.bar(x='ROI', y='richness_cell_cluster_id', color = 'darkmagenta', stacked=False, figsize=(32, 8), rot=90).legend(bbox_to_anchor=(1, 1))\n",
    "df1.plot.bar(x='ROI', y='shannon_cell_cluster_id', color = 'darkmagenta', stacked=False, figsize=(32, 8), rot=90).legend(bbox_to_anchor=(1, 1))\n",
    "df1.plot.bar(x='ROI', y='quadratic_cell_cluster_id', color = 'darkmagenta', stacked=False, figsize=(32, 8), rot=90).legend(bbox_to_anchor=(1, 1))\n",
    "\n",
    "#figsize=(16, 4),"
   ]
  },
  {
   "cell_type": "markdown",
   "id": "269b8efe",
   "metadata": {},
   "source": [
    "# Cell-level scores"
   ]
  },
  {
   "cell_type": "markdown",
   "id": "8c308315",
   "metadata": {},
   "source": [
    "In their original deﬁnition, all entropic scores described above do not take the spatial component into account when calculated on a whole tumor level. For this reason, ATHENA implements two ﬂavors of these scores: a global ﬂavor, in which the metrics are computed at a whole sample level using only the phenotype distribution, and a local ﬂavor, in which the scores are computed at a single-cell level, using also the graph structure. Speciﬁcally, when computing local scores, ATHENA iterates over all cells, and for each cell, computes the local entropy within its neighborhood. In this way, highly diverse regions where cells from multiple diferent phenotypes coexist can be highlighted, and, instead of computing a single entropy value as for the global ﬂavor, a distribution of entropic values is returned.\n",
    "\n",
    "Cell-level scores quantify heterogeneity in a spatial manner, accounting for local effects, and return a value per single cell, saved in so.obs. To apply these scores to the data we use again .metrics but this time with local=True. Since these scores heavily depend on the tumor topology, the graph type and occasionally additional parameters also need to be provided."
   ]
  },
  {
   "cell_type": "code",
   "execution_count": null,
   "id": "807994c2",
   "metadata": {},
   "outputs": [],
   "source": [
    "from tqdm import tqdm\n",
    "all_samples = so.spl.index.values"
   ]
  },
  {
   "cell_type": "code",
   "execution_count": null,
   "id": "6dfd9b52",
   "metadata": {},
   "outputs": [],
   "source": [
    "# compute metrics at a cell level for all samples - this will take some time\n",
    "for s in tqdm(all_samples):\n",
    "    sh.metrics.richness(so, s, 'cell_cluster_id', local=True, graph_key='knn_4')\n",
    "    sh.metrics.shannon(so, s, 'cell_cluster_id', local=True, graph_key='knn_4')\n",
    "    sh.metrics.quadratic_entropy(so, s, 'cell_cluster_id', local=True, graph_key='knn_4', metric='cosine')\n",
    "\n",
    "# estimated values are saved in so.obs\n",
    "so.obs[spl].columns"
   ]
  },
  {
   "cell_type": "code",
   "execution_count": null,
   "id": "c4585b13",
   "metadata": {
    "scrolled": true
   },
   "outputs": [],
   "source": [
    "# compute metrics at a cell level for all samples - this will take some time\n",
    "for s in tqdm(all_samples):\n",
    "    sh.metrics.richness(so, s, 'cell_cluster_id', local=True, graph_key='radius_20')\n",
    "    sh.metrics.shannon(so, s, 'cell_cluster_id', local=True, graph_key='radius_20')\n",
    "    sh.metrics.quadratic_entropy(so, s, 'cell_cluster_id', local=True, graph_key='radius_20', metric='cosine')\n",
    "\n",
    "# estimated values are saved in so.obs\n",
    "so.obs[spl].columns"
   ]
  },
  {
   "cell_type": "code",
   "execution_count": null,
   "id": "afbd4111",
   "metadata": {},
   "outputs": [],
   "source": [
    "fig = plt.figure(figsize=(60, 30))\n",
    "for i,s in enumerate(all_samples):\n",
    "    plt.subplot(4, 8, i+1)\n",
    "    g=sb.histplot(so.obs[s]['quadratic_cell_cluster_id_radius_20'], stat='probability', color = 'darkmagenta')\n",
    "    g.set_title(s + 'median quadratic entropy = ' + str(round(so.obs[s]['quadratic_cell_cluster_id_radius_20'].median(),3)))\n",
    "    plt.ylim([0,0.5])\n",
    "    plt.xlim([0,1])"
   ]
  },
  {
   "cell_type": "code",
   "execution_count": null,
   "id": "db130999",
   "metadata": {},
   "outputs": [],
   "source": [
    "# if needed, we can retrieve selected single-cell score values \n",
    "df2 = so.obs[spl].loc[:,['richness_cell_cluster_id_knn_4', 'shannon_cell_cluster_id_knn_4', 'quadratic_cell_cluster_id_knn_4', \n",
    "                  'richness_cell_cluster_id_radius_20', 'shannon_cell_cluster_id_radius_20', 'quadratic_cell_cluster_id_radius_20']].head(500)"
   ]
  },
  {
   "cell_type": "code",
   "execution_count": null,
   "id": "d381d5df",
   "metadata": {},
   "outputs": [],
   "source": [
    "compression_opts = dict(method='zip',\n",
    "                         archive_name='COVID_Malawi_Heterogeneity_Index_Cell_level_scores.csv') \n",
    "df2.to_csv('COVID_Malawi_Heterogeneity_Index_Cell_level_scores.csv.zip', index=True, compression=compression_opts)"
   ]
  },
  {
   "cell_type": "markdown",
   "id": "c42ce36a",
   "metadata": {},
   "source": [
    "The results can be plotted again using the .pl.spatial submodule and passing the attribute we want to visualize. For example, let’s observe the spatial heterogeneity of a random sample using three different metrics in the cell below. While local richness highlights tumor neighborhoods with multiple cell phenotypes present, local Shannon also takes into consideration the proportions of these phenotypes. Finally, local quadratic entropy additionally takes into consideration the similarity between these phenotypes using the single-cell proteomic data stored in .X. Notice how, in the last subplot, only regions where cell phenotypes with very different profiles (e.g., tumor - immune - stromal) are highlighted."
   ]
  },
  {
   "cell_type": "code",
   "execution_count": null,
   "id": "3cba85e5",
   "metadata": {},
   "outputs": [],
   "source": [
    "so.uns['cmaps'].update({'default': cm.plasma})\n",
    "\n",
    "r = '1507_2_C'\n",
    "fig, axs = plt.subplots(1, 3, figsize=(25, 12), dpi=300)\n",
    "for ax, obs in zip(axs.flat, ['richness_cell_cluster_id_knn_4', 'shannon_cell_cluster_id_knn_4', 'quadratic_cell_cluster_id_knn_4']): \n",
    "            sh.pl.spatial(so, r, obs, node_size=40, edges=True, graph_key='knn_4', coordinate_keys=['X_loc', 'Y_loc'], cbar_title=False, background_color='white', ax=ax)\n",
    "            ax.set_title(obs)\n",
    "fig.tight_layout()\n",
    "#fig.show()\n",
    "plt.savefig(str(r)+'_knn.png')"
   ]
  },
  {
   "cell_type": "code",
   "execution_count": null,
   "id": "392576d9",
   "metadata": {},
   "outputs": [],
   "source": [
    "so.uns['cmaps'].update({'default': cm.plasma})\n",
    "\n",
    "r = '1507_2_C'\n",
    "fig, axs = plt.subplots(1, 3, figsize=(25, 12), dpi=300)\n",
    "for ax, obs in zip(axs.flat, ['richness_cell_cluster_id_radius_20', 'shannon_cell_cluster_id_radius_20', 'quadratic_cell_cluster_id_radius_20']): \n",
    "            sh.pl.spatial(so, r, obs, node_size=40, edges=True, graph_key='radius_20', coordinate_keys=['X_loc', 'Y_loc'], cbar_title=False, background_color='white', ax=ax)\n",
    "            ax.set_title(obs)\n",
    "fig.tight_layout()\n",
    "#fig.show()\n",
    "plt.savefig(str(r)+'_radius.png')"
   ]
  },
  {
   "cell_type": "markdown",
   "id": "e8187367",
   "metadata": {},
   "source": [
    "# Cell type interactions"
   ]
  },
  {
   "cell_type": "markdown",
   "id": "56611c1f",
   "metadata": {},
   "source": [
    "mode: it can be classical, histocat or proportion\n",
    "\n",
    "Classic: In the classic ﬂavor of the neighborhood analysis score, the average number of interactions between cells of the same phenotype is computed.\n",
    "\n",
    "HistoCAT: In the histoCAT ﬂavor, the global average of interaction score is only computed across cells that actually show this interaction.\n",
    "\n",
    "Proportional: Finally, the proportional ﬂavor uses interaction frequencies instead of counts, i.e., divides the counts of pairwise interactions by all interactions a given cell has. We propose this approach as an alternative that normalizes the scores with respect to varying cell density. In contrast to the classic or the histoCAT ﬂavor, the proportional ﬂavor is not inﬂuenced by the number of cells in a sample and the score is bounded in the range of [0,1].\n",
    "\n",
    "graph_key can be knn, radius or contact\n",
    "\n",
    "prediction_type can be observation, pvalue or diff In addition to a p-value, we propose to compute the di↵erence between the observed proportion of interactions obs ij between cell type i ! j and the randomised proportion of interactions rand ij . This difference can be asymmetrical (i ! j = 6 j ! i), is bounded in the range of [-1,1], and might be more suited as input for certain machine learning models."
   ]
  },
  {
   "cell_type": "markdown",
   "id": "490c2ab4",
   "metadata": {},
   "source": [
    "Calculate all potential interaction metrics (with multiprocessing)"
   ]
  },
  {
   "cell_type": "code",
   "execution_count": null,
   "id": "9b3f4135",
   "metadata": {},
   "outputs": [],
   "source": [
    "#calculating based on radius_20 graph\n",
    "import logging\n",
    "logging.getLogger().setLevel(logging.ERROR)  # set logger to logging.INFO if you want to see more progress information\n",
    "\n",
    "# this will take some time...\n",
    "for s in tqdm(all_samples):\n",
    "    sh.neigh.interactions(so, s, 'cell_cluster_id', mode='proportion', prediction_type='diff', graph_key='radius_20')"
   ]
  },
  {
   "cell_type": "code",
   "execution_count": null,
   "id": "28c4f8b2",
   "metadata": {
    "scrolled": true
   },
   "outputs": [],
   "source": [
    "#calculating based on radius_20 graph\n",
    "import logging\n",
    "logging.getLogger().setLevel(logging.ERROR)  # set logger to logging.INFO if you want to see more progress information\n",
    "\n",
    "# this will take some time...\n",
    "for s in tqdm(all_samples):\n",
    "    sh.neigh.interactions(so, s, 'cell_type_id', mode='proportion', prediction_type='diff', graph_key='radius_20')"
   ]
  },
  {
   "cell_type": "code",
   "execution_count": null,
   "id": "8b0d88e0",
   "metadata": {},
   "outputs": [],
   "source": [
    "#calculating based on radius_20 graph\n",
    "import logging\n",
    "logging.getLogger().setLevel(logging.ERROR)  # set logger to logging.INFO if you want to see more progress information\n",
    "\n",
    "# this will take some time...\n",
    "for s in tqdm(all_samples):\n",
    "    sh.neigh.interactions(so, s, 'hierarchy_id', mode='proportion', prediction_type='diff', graph_key='radius_20')"
   ]
  },
  {
   "cell_type": "code",
   "execution_count": null,
   "id": "7f184ea7",
   "metadata": {},
   "outputs": [],
   "source": [
    "#calculating based on knn_4 graph\n",
    "import logging\n",
    "logging.getLogger().setLevel(logging.ERROR)  # set logger to logging.INFO if you want to see more progress information\n",
    "\n",
    "# this will take some time...\n",
    "for s in tqdm(all_samples):\n",
    "    sh.neigh.interactions(so, s, 'cell_cluster_id', mode='proportion', prediction_type='diff', graph_key='knn_4')"
   ]
  },
  {
   "cell_type": "code",
   "execution_count": null,
   "id": "e6e7f308",
   "metadata": {},
   "outputs": [],
   "source": [
    "#calculating based on knn_4 graph\n",
    "import logging\n",
    "logging.getLogger().setLevel(logging.ERROR)  # set logger to logging.INFO if you want to see more progress information\n",
    "\n",
    "# this will take some time...\n",
    "for s in tqdm(all_samples):\n",
    "    sh.neigh.interactions(so, s, 'cell_type_id', mode='proportion', prediction_type='diff', graph_key='knn_4')"
   ]
  },
  {
   "cell_type": "code",
   "execution_count": null,
   "id": "362fed27",
   "metadata": {},
   "outputs": [],
   "source": [
    "#calculating based on knn_4 graph\n",
    "import logging\n",
    "logging.getLogger().setLevel(logging.ERROR)  # set logger to logging.INFO if you want to see more progress information\n",
    "\n",
    "# this will take some time...\n",
    "for s in tqdm(all_samples):\n",
    "    sh.neigh.interactions(so, s, 'hierarchy_id', mode='proportion', prediction_type='diff', graph_key='knn_4')"
   ]
  },
  {
   "cell_type": "markdown",
   "id": "3c76d711",
   "metadata": {},
   "source": [
    "# Interaction graphs"
   ]
  },
  {
   "cell_type": "markdown",
   "id": "0ce3601c",
   "metadata": {},
   "source": [
    "Interaction heatmap example"
   ]
  },
  {
   "cell_type": "code",
   "execution_count": null,
   "id": "1b4aa18d",
   "metadata": {},
   "outputs": [],
   "source": [
    "so.uns"
   ]
  },
  {
   "cell_type": "code",
   "execution_count": null,
   "id": "c18db402",
   "metadata": {},
   "outputs": [],
   "source": [
    "so.spl.index"
   ]
  },
  {
   "cell_type": "code",
   "execution_count": null,
   "id": "efbc9aa5",
   "metadata": {},
   "outputs": [],
   "source": [
    "#Samples to combine for the interaction summary\n",
    "CM2 = ['MP42-ROI1','MP42-ROI2','MP42-ROI3','MP61-ROI1','MP61-ROI2','MP61-ROI3','MP69-ROI1','MP69-ROI2',\n",
    "       'MP69-ROI3','PM78-ROI1','PM78-ROI2','PM78-ROI3','PM83-ROI1','PM83-ROI2','PM83-ROI3',\n",
    "       'PM102-ROI1','PM102-ROI2','PM102-ROI3'] # the SAMPLE_NAMES must be in so.masks.keys()\n",
    "\n",
    "\n",
    "Non_CM = ['MP41-ROI1','MP41-ROI2','MP41-ROI3','MP65-ROI1','MP65-ROI2','MP65-ROI3',\n",
    "        'PM88-ROI1','PM88-ROI2','PM88-ROI3']\n",
    "\n",
    "CM2 = so.spl.index # this way you compute the graphs for all samples in your spatialOmics instance\n",
    "\n",
    "Non_CM = so.spl.index\n"
   ]
  },
  {
   "cell_type": "code",
   "execution_count": null,
   "id": "b68f7141",
   "metadata": {},
   "outputs": [],
   "source": [
    "CM2"
   ]
  },
  {
   "cell_type": "code",
   "execution_count": null,
   "id": "3b521474",
   "metadata": {},
   "outputs": [],
   "source": [
    "Non_CM"
   ]
  },
  {
   "cell_type": "code",
   "execution_count": null,
   "id": "fad0b27a",
   "metadata": {},
   "outputs": [],
   "source": [
    "mikeimc_v2.interactions_summary(so,\n",
    "                                CM2,\n",
    "                                'cell_type_id_proportion_diff_radius_20',\n",
    "                                population_dictionary=so.uns['cmap_labels']['cell_type_id'], aggregate_function='mean',\n",
    "                                calc_ttest_p_value=None, cmap='bwr')"
   ]
  },
  {
   "cell_type": "markdown",
   "id": "074fde03",
   "metadata": {},
   "source": [
    "Interaction bar graphs - Cell type broad"
   ]
  },
  {
   "cell_type": "code",
   "execution_count": null,
   "id": "ca8ae4f4",
   "metadata": {},
   "outputs": [],
   "source": [
    "so.uns['cmap_labels']['cell_cluster_id']"
   ]
  },
  {
   "cell_type": "code",
   "execution_count": null,
   "id": "995698cf",
   "metadata": {},
   "outputs": [],
   "source": [
    "samples = list(so.spl.index)\n",
    "\n",
    "all_pops=['Activated B cell', 'CD4 T cell', 'CD68+CD163+VISTA+ Macrophage',\n",
    "         'CD68+CD163+VISTA- Macrophage', 'CD8 T cell', 'Classical Monocyte','Dendritic cell', 'Effector CD4 T cell', 'Effector CD8 T cell',\n",
    "         'Endothelial cell', 'Iba1+VISTA- Macrophage', 'Intermediate Monocyte', 'Memory CD4 T cell', 'NK cell', 'Naive B cell',\n",
    "         'Neutrophil', 'Non-classical Monocyte', 'RBC', 'Smooth Muscle cell']\n",
    "\n",
    "remap_dict={'Activated B cell':'Lymphoid',\n",
    "            'CD4 T cell':'Lymphoid',\n",
    "            'CD68+CD163+VISTA+ Macrophage':'Myeloid',\n",
    "            'CD68+CD163+VISTA- Macrophage':'Myeloid',\n",
    "            'CD8 T cell':'Lymphoid',\n",
    "            'Classical Monocyte':'Myeloid',\n",
    "            'Dendritic cell':'Myeloid',\n",
    "           'Effector CD4 T cell':'Lymphoid',\n",
    "            'Effector CD8 T cell': 'Lymphoid',\n",
    "             'Endothelial cell': 'Vascular',\n",
    "            'Iba1+VISTA- Macrophage': 'Myeloid',\n",
    "            'Intermediate Monocyte': 'Myeloid',\n",
    "            'Memory CD4 T cell': 'Lymphoid',\n",
    "            'NK cell': 'Lymphoid',\n",
    "            'Naive B cell': 'Lymphoid',\n",
    "            'Neutrophil': 'Myeloid',\n",
    "            'Non-classical Monocyte':'Myeloid',\n",
    "            'RBC': 'Vascular',\n",
    "            'Smooth Muscle cell': 'Vascular'}    \n",
    "\n",
    "titles = ['KNN', 'Radius']\n",
    "\n",
    "graphs = ['cell_type_id_proportion_diff_knn_4',          \n",
    "          'cell_type_id_proportion_diff_radius_20']\n",
    "\n",
    "\n",
    "for b,k in zip(titles, graphs):    \n",
    "    \n",
    "    for t in ['diff','score']:    \n",
    "        variable=t\n",
    "\n",
    "        summary = mikeimc_v2.interactions_table(so,\n",
    "                            samples_list=samples,\n",
    "                            interaction_reference=k,\n",
    "                            var=variable,\n",
    "                            population_dictionary=so.uns['cmap_labels']['cell_type_id'],\n",
    "                            mode='individual',\n",
    "                            remap=remap_dict,\n",
    "                            remap_agg='sum')\n",
    "\n",
    "\n",
    "\n",
    "        fig, axs = plt.subplots(1, 5, figsize=(8, 3), dpi=300)\n",
    "        fig.suptitle(b, fontsize=16)\n",
    "        fig.tight_layout()\n",
    "        plt.subplots_adjust(wspace = 1)\n",
    "        \n",
    "        for count,i in enumerate(['Vascular','Lymphocytes','Myeloid']):\n",
    "\n",
    "            data = summary.loc[summary.target_label==i,:]\n",
    "            data = data.loc[np.where(data.source_label.isin(all_pops),True,False),:]\n",
    "            try:\n",
    "                data.source_label.cat.remove_unused_categories(inplace=True)\n",
    "                data.target_label.cat.remove_unused_categories(inplace=True)\n",
    "\n",
    "            except:\n",
    "                'None'\n",
    "\n",
    "\n",
    "            sb.barplot(data = data, \n",
    "                       x = \"source_label\", \n",
    "                       y = variable, \n",
    "                       ci=68,\n",
    "                       ax=axs[count],\n",
    "                       palette=cell_type_colours,\n",
    "                      order=data.groupby(['source_label','target_label']).mean().sort_values(variable).reset_index()['source_label']\n",
    "                      )\n",
    "            #axs[count].set_yscale(\"log\")\n",
    "            axs[count].set_title(i)\n",
    "            axs[count].tick_params(axis='x', labelrotation = 90, labelsize=8)\n",
    "            axs[count].tick_params(axis='y', labelsize=8)\n",
    "            plt.xticks(rotation=90)\n",
    "            axs[count].set_ylabel(t, fontsize=12)\n",
    "        \n",
    "fig.savefig(('figures/interaction_bargraphs/'+t+'_'+k+'.svg'), bbox_inches='tight')\n",
    "\n"
   ]
  },
  {
   "cell_type": "markdown",
   "id": "e5b56a8a",
   "metadata": {},
   "source": [
    "UMAP clustering of interactions - \"cell_type_broad_id_proportion_diff_contact\""
   ]
  },
  {
   "cell_type": "code",
   "execution_count": null,
   "id": "e31f20d4",
   "metadata": {},
   "outputs": [],
   "source": [
    "samples = list(so.spl.index)\n",
    "mikeimc_v2.interactions_summary_UMAP(so,samples,'cell_type_id_proportion_diff_radius_20',var='score',\n",
    "                                     category_columns=['ROI','Patient','Group'],annotate='ROI', dim_red='UMAP')"
   ]
  },
  {
   "cell_type": "code",
   "execution_count": null,
   "id": "6ce564af",
   "metadata": {
    "scrolled": true
   },
   "outputs": [],
   "source": [
    "#Let’s look at the results for each ROI\n",
    "from matplotlib.colors import ListedColormap, Normalize\n",
    "norm = Normalize(-.1, .1)\n",
    "fig = plt.subplots(figsize=(15, 6), dpi=100)\n",
    "for s in tqdm(all_samples):\n",
    "    sh.pl.interactions(so, s, 'cell_cluster_id', mode='proportion', prediction_type='diff', graph_key='radius_20',\n",
    "                   norm=norm)\n",
    "#fig.tight_layout()\n",
    "#fig.show()\n",
    "plt.savefig(str(r)+'_interactions_radius.png')"
   ]
  },
  {
   "cell_type": "code",
   "execution_count": null,
   "id": "29eaa567",
   "metadata": {},
   "outputs": [],
   "source": [
    "so.uns['cmap_labels']"
   ]
  },
  {
   "cell_type": "code",
   "execution_count": null,
   "id": "3cf17661",
   "metadata": {},
   "outputs": [],
   "source": [
    "# Update the colormap for cell_type_id - following my own color coding from previous graphs\n",
    "cmap_paper2 = np.array([[250,128,0], [15,207,192],  [165,63,2], [240,185,141],  #0, 1, 2, 3\n",
    "                       [141,213,147], [255,217,102], [163,129,239], [247,31,15],[0,0,0]]) #4 5 6 7 8\n",
    "so.uns['cmaps'].update({'cell_type_id': ListedColormap(cmap_paper2 / 255)})"
   ]
  },
  {
   "cell_type": "code",
   "execution_count": null,
   "id": "b183f8de",
   "metadata": {},
   "outputs": [],
   "source": [
    "# update colormap to show only immune and tumor cells \n",
    "cmap = ['lightgrey', 'blue', 'lightgrey', 'lightgrey', \n",
    "        'lightgrey', 'lightgrey', 'lightgrey', 'orange', 'lightgrey']\n",
    "\n",
    "cmap2 = ListedColormap(cmap)\n",
    "so.uns['cmaps'].update({'cell_type_id': cmap2})"
   ]
  },
  {
   "cell_type": "code",
   "execution_count": null,
   "id": "c1037015",
   "metadata": {},
   "outputs": [],
   "source": [
    "#use the interaction score of specific cell clusters to sort our samples by increasing attraction:\n",
    "mixing_score=[]\n",
    "for s in all_samples:\n",
    "    interaction_res = so.uns[s]['interactions']['cell_type_id_proportion_diff_radius_20'] # get interaction results\n",
    "    diff = interaction_res.loc[1].loc[7]['diff'] # interactions between source id 1 (immune), target id 4 (tumor)\n",
    "    mixing_score.append(diff)\n",
    "\n",
    "ind=np.argsort(mixing_score)"
   ]
  },
  {
   "cell_type": "code",
   "execution_count": null,
   "id": "0619d38f",
   "metadata": {},
   "outputs": [],
   "source": [
    "#order the plots of ROI accoding the force of cellular interactions between the 2 specific clusters\n",
    "fig, axs = plt.subplots(6, 4, figsize=(25, 12), dpi=300)\n",
    "for i,s in enumerate(ind):\n",
    "    sh.pl.spatial(so, all_samples[s], 'cell_type_id', node_size=0.5, edges=True, graph_key='radius_20', coordinate_keys=['X_loc', 'Y_loc'], ax=axs.flat[i])"
   ]
  },
  {
   "cell_type": "code",
   "execution_count": null,
   "id": "faa9ceea",
   "metadata": {},
   "outputs": [],
   "source": [
    "# update colormap to show only immune and tumor cells \n",
    "cmap = ['lightgrey', 'lightgrey', 'blue', 'lightgrey', \n",
    "        'lightgrey', 'lightgrey', 'lightgrey', 'orange', 'lightgrey']\n",
    "\n",
    "cmap2 = ListedColormap(cmap)\n",
    "so.uns['cmaps'].update({'cell_type_id': cmap2})\n",
    "\n",
    "\n",
    "#use the interaction score of specific cell clusters to sort our samples by increasing attraction:\n",
    "mixing_score=[]\n",
    "for s in all_samples:\n",
    "    interaction_res = so.uns[s]['interactions']['cell_type_id_proportion_diff_radius_20'] # get interaction results\n",
    "    diff = interaction_res.loc[2].loc[7]['diff'] # interactions between source id 1 (immune), target id 4 (tumor)\n",
    "    mixing_score.append(diff)\n",
    "\n",
    "ind=np.argsort(mixing_score)\n",
    "\n",
    "#order the plots of ROI accoding the force of cellular interactions between the 2 specific clusters\n",
    "fig, axs = plt.subplots(6, 4, figsize=(25, 12), dpi=300)\n",
    "for i,s in enumerate(ind):\n",
    "    sh.pl.spatial(so, all_samples[s], 'cell_type_id', node_size=0.5, edges=True, graph_key='radius_20', coordinate_keys=['X_loc', 'Y_loc'], ax=axs.flat[i])"
   ]
  },
  {
   "cell_type": "code",
   "execution_count": null,
   "id": "61bfac12",
   "metadata": {},
   "outputs": [],
   "source": [
    "# update colormap to show only immune and tumor cells \n",
    "cmap = ['lightgrey', 'lightgrey', 'lightgrey', 'blue', \n",
    "        'lightgrey', 'lightgrey', 'lightgrey', 'orange', 'lightgrey']\n",
    "\n",
    "cmap2 = ListedColormap(cmap)\n",
    "so.uns['cmaps'].update({'cell_type_id': cmap2})\n",
    "\n",
    "#use the interaction score of specific cell clusters to sort our samples by increasing attraction:\n",
    "mixing_score=[]\n",
    "for s in all_samples:\n",
    "    interaction_res = so.uns[s]['interactions']['cell_type_id_proportion_diff_radius_20'] # get interaction results\n",
    "    diff = interaction_res.loc[3].loc[7]['diff'] # interactions between source id 1 (immune), target id 4 (tumor)\n",
    "    mixing_score.append(diff)\n",
    "\n",
    "ind=np.argsort(mixing_score)\n",
    "\n",
    "#order the plots of ROI accoding the force of cellular interactions between the 2 specific clusters\n",
    "fig, axs = plt.subplots(6, 4, figsize=(25, 12), dpi=300)\n",
    "for i,s in enumerate(ind):\n",
    "    sh.pl.spatial(so, all_samples[s], 'cell_type_id', node_size=0.5, edges=True, graph_key='radius_20', coordinate_keys=['X_loc', 'Y_loc'], ax=axs.flat[i])"
   ]
  },
  {
   "cell_type": "code",
   "execution_count": null,
   "id": "4480aa80",
   "metadata": {},
   "outputs": [],
   "source": [
    "# update colormap to show only immune and tumor cells \n",
    "cmap = ['lightgrey', 'lightgrey', 'lightgrey', 'lightgrey', \n",
    "        'lightgrey', 'blue', 'lightgrey', 'orange', 'lightgrey']\n",
    "\n",
    "cmap2 = ListedColormap(cmap)\n",
    "so.uns['cmaps'].update({'cell_type_id': cmap2})\n",
    "\n",
    "#use the interaction score of specific cell clusters to sort our samples by increasing attraction:\n",
    "mixing_score=[]\n",
    "for s in all_samples:\n",
    "    interaction_res = so.uns[s]['interactions']['cell_type_id_proportion_diff_radius_20'] # get interaction results\n",
    "    diff = interaction_res.loc[5].loc[7]['diff'] # interactions between source id 1 (immune), target id 4 (tumor)\n",
    "    mixing_score.append(diff)\n",
    "\n",
    "ind=np.argsort(mixing_score)\n",
    "\n",
    "#order the plots of ROI accoding the force of cellular interactions between the 2 specific clusters\n",
    "fig, axs = plt.subplots(6, 4, figsize=(25, 12), dpi=300)\n",
    "for i,s in enumerate(ind):\n",
    "    sh.pl.spatial(so, all_samples[s], 'cell_type_id', node_size=0.5, edges=True, graph_key='radius_20', coordinate_keys=['X_loc', 'Y_loc'], ax=axs.flat[i])"
   ]
  },
  {
   "cell_type": "code",
   "execution_count": null,
   "id": "861df3ba",
   "metadata": {},
   "outputs": [],
   "source": [
    "# update colormap to show only immune and tumor cells \n",
    "cmap = ['lightgrey', 'lightgrey', 'lightgrey', 'lightgrey', \n",
    "        'lightgrey', 'lightgrey', 'blue', 'orange', 'lightgrey']\n",
    "\n",
    "cmap2 = ListedColormap(cmap)\n",
    "so.uns['cmaps'].update({'cell_type_id': cmap2})\n",
    "\n",
    "#use the interaction score of specific cell clusters to sort our samples by increasing attraction:\n",
    "mixing_score=[]\n",
    "for s in all_samples:\n",
    "    interaction_res = so.uns[s]['interactions']['cell_type_id_proportion_diff_radius_20'] # get interaction results\n",
    "    diff = interaction_res.loc[6].loc[7]['diff'] # interactions between source id 1 (immune), target id 4 (tumor)\n",
    "    mixing_score.append(diff)\n",
    "\n",
    "ind=np.argsort(mixing_score)\n",
    "\n",
    "#order the plots of ROI accoding the force of cellular interactions between the 2 specific clusters\n",
    "fig, axs = plt.subplots(6, 4, figsize=(25, 12), dpi=300)\n",
    "for i,s in enumerate(ind):\n",
    "    sh.pl.spatial(so, all_samples[s], 'cell_type_id', node_size=0.5, edges=True, graph_key='radius_20', coordinate_keys=['X_loc', 'Y_loc'], ax=axs.flat[i])"
   ]
  },
  {
   "cell_type": "code",
   "execution_count": null,
   "id": "636d2188",
   "metadata": {},
   "outputs": [],
   "source": [
    "# update colormap to show only immune and tumor cells \n",
    "cmap = ['lightgrey', 'lightgrey', 'lightgrey', 'lightgrey', \n",
    "        'lightgrey', 'lightgrey', 'lightgrey' , 'orange', 'blue']\n",
    "\n",
    "cmap2 = ListedColormap(cmap)\n",
    "so.uns['cmaps'].update({'cell_type_id': cmap2})\n",
    "\n",
    "#use the interaction score of specific cell clusters to sort our samples by increasing attraction:\n",
    "mixing_score=[]\n",
    "for s in all_samples:\n",
    "    interaction_res = so.uns[s]['interactions']['cell_type_id_proportion_diff_radius_20'] # get interaction results\n",
    "    diff = interaction_res.loc[7].loc[8]['diff'] # interactions between source id 1 (immune), target id 4 (tumor)\n",
    "    mixing_score.append(diff)\n",
    "\n",
    "ind=np.argsort(mixing_score)\n",
    "\n",
    "#order the plots of ROI accoding the force of cellular interactions between the 2 specific clusters\n",
    "fig, axs = plt.subplots(6, 4, figsize=(25, 12), dpi=300)\n",
    "for i,s in enumerate(ind):\n",
    "    sh.pl.spatial(so, all_samples[s], 'cell_type_id', node_size=0.5, edges=True, graph_key='radius_20', coordinate_keys=['X_loc', 'Y_loc'], ax=axs.flat[i])"
   ]
  },
  {
   "cell_type": "code",
   "execution_count": null,
   "id": "4822d613",
   "metadata": {},
   "outputs": [],
   "source": [
    "# update colormap to show only immune and tumor cells \n",
    "cmap = ['orange', 'blue', 'lightgrey', 'lightgrey', \n",
    "        'lightgrey', 'lightgrey', 'lightgrey' , 'lightgrey', 'lightgrey']\n",
    "\n",
    "cmap2 = ListedColormap(cmap)\n",
    "so.uns['cmaps'].update({'cell_type_id': cmap2})\n",
    "\n",
    "#use the interaction score of specific cell clusters to sort our samples by increasing attraction:\n",
    "mixing_score=[]\n",
    "for s in all_samples:\n",
    "    interaction_res = so.uns[s]['interactions']['cell_type_id_proportion_diff_radius_20'] # get interaction results\n",
    "    diff = interaction_res.loc[1].loc[0]['diff'] # interactions between source id 1 (immune), target id 4 (tumor)\n",
    "    mixing_score.append(diff)\n",
    "\n",
    "ind=np.argsort(mixing_score)\n",
    "\n",
    "#order the plots of ROI accoding the force of cellular interactions between the 2 specific clusters\n",
    "fig, axs = plt.subplots(6, 4, figsize=(25, 12), dpi=300)\n",
    "for i,s in enumerate(ind):\n",
    "    sh.pl.spatial(so, all_samples[s], 'cell_type_id', node_size=0.5, edges=True, graph_key='radius_20', coordinate_keys=['X_loc', 'Y_loc'], ax=axs.flat[i])"
   ]
  },
  {
   "cell_type": "code",
   "execution_count": null,
   "id": "d525ee05",
   "metadata": {},
   "outputs": [],
   "source": [
    "# update colormap to show only immune and tumor cells \n",
    "cmap = ['orange', 'lightgrey', 'lightgrey', 'blue', \n",
    "        'lightgrey', 'lightgrey', 'lightgrey' , 'lightgrey', 'lightgrey']\n",
    "\n",
    "cmap2 = ListedColormap(cmap)\n",
    "so.uns['cmaps'].update({'cell_type_id': cmap2})\n",
    "\n",
    "#use the interaction score of specific cell clusters to sort our samples by increasing attraction:\n",
    "mixing_score=[]\n",
    "for s in all_samples:\n",
    "    interaction_res = so.uns[s]['interactions']['cell_type_id_proportion_diff_radius_20'] # get interaction results\n",
    "    diff = interaction_res.loc[3].loc[0]['diff'] # interactions between source id 1 (immune), target id 4 (tumor)\n",
    "    mixing_score.append(diff)\n",
    "\n",
    "ind=np.argsort(mixing_score)\n",
    "\n",
    "#order the plots of ROI accoding the force of cellular interactions between the 2 specific clusters\n",
    "fig, axs = plt.subplots(6, 4, figsize=(25, 12), dpi=300)\n",
    "for i,s in enumerate(ind):\n",
    "    sh.pl.spatial(so, all_samples[s], 'cell_type_id', node_size=0.5, edges=True, graph_key='radius_20', coordinate_keys=['X_loc', 'Y_loc'], ax=axs.flat[i])"
   ]
  },
  {
   "cell_type": "markdown",
   "id": "fbe8848e",
   "metadata": {},
   "source": [
    "# Cell infiltration score - sample level"
   ]
  },
  {
   "cell_type": "markdown",
   "id": "fffc3f6b",
   "metadata": {},
   "source": [
    "More sophisticated heterogeneity scores additionally consider cell-cell interactions by exploiting the cellcell graph, where nodes encode cells, edges encode interactions, and each node is associated with a label that encodes the cell’s phenotype.\n",
    "\n",
    "The infiltration score included in the .neigh submodule quantifies the degree of tumor-immune mixing (as defined in Keren, L. et al. - paper). It quantiﬁes the degree to which a certain cell phenotype has penetrated among cells of another type. As a consequence, the implementation of the score does not explicitly limit its application to immune-to-tumor inﬁltration, but is very ﬂexible and allows the user to deﬁne any pairwise interaction, e.g., a speciﬁc immune subtype to the whole tumor, or even non-immune types of inﬁltration, should this be of interest.\n",
    "ATHENA implements two ﬂavors of inﬁltration, a global one that returns an estimate at the wholesample level, and a local one, where for each cell i the inﬁltration is computed on the sub-graph only containing all immediate neighbors of i. Let us compute it across all patients.\n",
    "This score computes a ratio between the number of interactions."
   ]
  },
  {
   "cell_type": "markdown",
   "id": "7c07ffef",
   "metadata": {},
   "source": [
    "Cell infiltration score at hierarchy level (sample analysis) - metaclusters"
   ]
  },
  {
   "cell_type": "code",
   "execution_count": null,
   "id": "c4fab741",
   "metadata": {},
   "outputs": [],
   "source": [
    "samples2 = ['MP42-ROI1','MP42-ROI2','MP42-ROI3','MP61-ROI1','MP61-ROI2','MP61-ROI3','MP69-ROI1','MP69-ROI2', 'MP69-ROI3','PM78-ROI1','PM78-ROI2','PM78-ROI3','PM83-ROI1','PM83-ROI2','PM83-ROI3','PM102-ROI1','PM102-ROI2','PM102-ROI3','MP41-ROI1','MP41-ROI2','MP41-ROI3','MP65-ROI1','MP65-ROI2','MP65-ROI3']"
   ]
  },
  {
   "cell_type": "code",
   "execution_count": null,
   "id": "3bfd5001",
   "metadata": {},
   "outputs": [],
   "source": [
    "samples2"
   ]
  },
  {
   "cell_type": "code",
   "execution_count": null,
   "id": "3ffd92f6",
   "metadata": {},
   "outputs": [],
   "source": [
    "spl = so.spl.index[1]\n",
    "obs = so.obs[spl]\n",
    "\n",
    "# make sure that the column you want to use is categorical\n",
    "assert isinstance(obs.hierarchy.dtype, pd.CategoricalDtype)\n",
    "\n",
    "# Definition of infiltration\n",
    "# infiltration = count_of_interaction1 / count_of_interaction2\n",
    "\n",
    "# compute infiltration on the sample level\n",
    "for s in tqdm(samples2):\n",
    "    sh.neigh.infiltration(so, s, 'cell_type', \n",
    "                          interaction1=('Dendritic cells', 'B cells'),\n",
    "                          interaction2=('B cells', 'B cells'),\n",
    "                          graph_key='radius_20',\n",
    "                          local=False)\n",
    "so.spl.loc[samples2, 'infiltration']"
   ]
  },
  {
   "cell_type": "code",
   "execution_count": null,
   "id": "6efdc9e3",
   "metadata": {},
   "outputs": [],
   "source": [
    "so.uns['cmap_labels']['cell_type_id']"
   ]
  },
  {
   "cell_type": "code",
   "execution_count": null,
   "id": "955e431c",
   "metadata": {},
   "outputs": [],
   "source": [
    "# sort samples by increasing infiltration\n",
    "ind1=np.argsort(so.spl.loc[all_samples].infiltration.values)\n",
    "\n",
    "# update colormap to show only immune and tumor cells \n",
    "cmap = ['white', 'white', 'white', 'blue', \n",
    "        'white', 'white', 'white', 'orange', 'white']\n",
    "\n",
    "cmap2 = ListedColormap(cmap)\n",
    "so.uns['cmaps'].update({'cell_type_id': cmap2})\n",
    "\n",
    "#cmap_labels = {0: 'B cells', 1: 'CD 4 T cells',  2: 'CD 8 T cells', 3: 'Dendritics cells', 4: 'Endothelial cells', \n",
    "               #5: 'Macrophages', 6: 'NK cells', 7: 'RBCs', 8: 'Smooth Muscle Cells'}\n",
    "#so.uns['cmap_labels'].update({'cell_type_id': cmap_labels})\n",
    "\n",
    "fig, axs = plt.subplots(6, 4, figsize=(25, 12), dpi=300)\n",
    "for i,s in enumerate(ind1):\n",
    "    sh.pl.spatial(so, samples2[s], 'cell_type_id', node_size=0.5, edges=False, graph_key='radius_20', coordinate_keys=['X_loc', 'Y_loc'], ax=axs.flat[i])"
   ]
  },
  {
   "cell_type": "markdown",
   "id": "f8d00c43",
   "metadata": {},
   "source": [
    "Cell infiltration score at cell type level (sample analysis) - metaclusters"
   ]
  },
  {
   "cell_type": "code",
   "execution_count": null,
   "id": "cec32f8c",
   "metadata": {},
   "outputs": [],
   "source": [
    "spl = so.spl.index[1]\n",
    "obs = so.obs[spl]\n",
    "\n",
    "# make sure that the column you want to use is categorical\n",
    "assert isinstance(obs.cell_type.dtype, pd.CategoricalDtype)\n",
    "\n",
    "# Definition of infiltration\n",
    "# infiltration = count_of_interaction1 / count_of_interaction2\n",
    "\n",
    "# compute infiltration on the sample level\n",
    "for s in tqdm(all_samples):\n",
    "    sh.neigh.infiltration(so, s, 'cell_type', \n",
    "                          interaction1=('Fibroblast', 'Epithelial'),\n",
    "                          interaction2=('Epithelial', 'Epithelial'),\n",
    "                          graph_key='radius_1',\n",
    "                          local=False)\n",
    "so.spl.loc[all_samples, 'infiltration']"
   ]
  },
  {
   "cell_type": "code",
   "execution_count": null,
   "id": "d816c46e",
   "metadata": {},
   "outputs": [],
   "source": [
    "# sort samples by increasing infiltration\n",
    "ind1=np.argsort(so.spl.loc[samples2].infiltration.values)\n",
    "\n",
    "# update colormap to show only immune and tumor cells\n",
    "cmap2 = ['white', 'lightgrey', 'darkgreen', 'lightgrey', 'darkred']\n",
    "#cmap_labels = {0: 'background', 1: 'Myeloid',  2: 'Lymphoid', 3: 'Vascular', 4: 'Stromal'}\n",
    "cmap = ListedColormap(cmap)\n",
    "so.uns['cmaps'].update({'cell_type_id': cmap2})\n",
    "#so.uns['cmap_labels'].update({'hierarchy_id': cmap_labels})\n",
    "\n",
    "fig, axs = plt.subplots(6, 5, figsize=(28, 14), dpi=300)\n",
    "for i,s in enumerate(ind1):\n",
    "    sh.pl.spatial(so, all_samples[s], 'hierarchy_id', mode='mask', ax=axs.flat[i])\n",
    "    d = so.spl.loc[all_samples[s]]"
   ]
  },
  {
   "cell_type": "markdown",
   "id": "be266601",
   "metadata": {},
   "source": [
    "# Cell infiltration score - single-cell level"
   ]
  },
  {
   "cell_type": "code",
   "execution_count": null,
   "id": "8417bf9c",
   "metadata": {},
   "outputs": [],
   "source": [
    "# compute infiltration on a cell-level\n",
    "spl = so.spl.index[1]\n",
    "obs = so.obs[spl]\n",
    "\n",
    "assert isinstance(obs.hierarchy.dtype, pd.CategoricalDtype)\n",
    "\n",
    "for s in tqdm(samples2):\n",
    "    sh.neigh.infiltration(so, s, 'cell_type', \n",
    "                          interaction1=('CD4 T cells', 'RBCs'),\n",
    "                          interaction2=('RBCs', 'RBCs'),\n",
    "                          graph_key='radius_20',\n",
    "                          local=True)\n",
    "    \n",
    "so.obs[spl].infiltration\n",
    "so.obs[spl].infiltration.isna().mean()"
   ]
  },
  {
   "cell_type": "code",
   "execution_count": null,
   "id": "03b89ded",
   "metadata": {},
   "outputs": [],
   "source": [
    "#it does not work\n",
    "spl = 'C07_ROI4'\n",
    "fig, axs = plt.subplots(1,3, figsize=(16,8))\n",
    "sh.pl.infiltration(so, spl, 'hierarchy_id',step_size= 10, ax=axs[1])\n",
    "sh.pl.infiltration(so, spl, 'hierarchy_id', step_size= 5, ax=axs[2])"
   ]
  },
  {
   "cell_type": "markdown",
   "id": "19b15696",
   "metadata": {},
   "source": [
    "# Modularity"
   ]
  },
  {
   "cell_type": "markdown",
   "id": "80c69563",
   "metadata": {},
   "source": [
    "Modularity captures the structure of a graph by quantifying the degree at which it can be divided into communities of the same label. In the context of tumor heterogeneity, modularity can be thought of as the degree of self-organization of the cells with the same phenotype into spatially distinct communities. A graph of high modularity represents a tumor where connections between the cells within the same community are more dense than connections between cells of different communities."
   ]
  },
  {
   "cell_type": "code",
   "execution_count": null,
   "id": "d6421ca4",
   "metadata": {},
   "outputs": [],
   "source": [
    "for spl in so.spl.index:\n",
    "    sh.graph.build_graph(so, spl, builder_type='radius', mask_key='cellmasks')\n",
    "    sh.metrics.modularity(so, spl, 'cell_cluster_id', graph_key='radius_20')\n",
    "so.spl"
   ]
  },
  {
   "cell_type": "markdown",
   "id": "b95839a6",
   "metadata": {},
   "source": [
    "# LISA Clustering"
   ]
  },
  {
   "cell_type": "markdown",
   "id": "88b6fae5",
   "metadata": {},
   "source": [
    "LISA clustering Paper: https://www.biorxiv.org/content/10.1101/2021.08.16.456469v1\n",
    "\n",
    "Web app: https://shiny.maths.usyd.edu.au/lisaClust/"
   ]
  },
  {
   "cell_type": "markdown",
   "id": "502b00e2",
   "metadata": {},
   "source": [
    "Exporting data for LISA analysis\n",
    "\n",
    "Export a simplified version of the .obs dataframe with the information we need to do the LISA analysis"
   ]
  },
  {
   "cell_type": "code",
   "execution_count": null,
   "id": "c7df11fc",
   "metadata": {},
   "outputs": [],
   "source": [
    "#Specify the cluster that has population information in the adata.obs\n",
    "\n",
    "cluster_id='pheno_cluster'\n",
    "\n",
    "adata_subset3.obs[['ROI',cluster_id,'X_loc','Y_loc']].to_csv('lisaclust_export.csv')"
   ]
  },
  {
   "cell_type": "markdown",
   "id": "11fd26d0",
   "metadata": {},
   "source": [
    "Upload the 'lisaclust_export.csv' to the web app above, and then download the results as 'LISAclust.csv' in this folder"
   ]
  },
  {
   "cell_type": "markdown",
   "id": "ffe160d1",
   "metadata": {},
   "source": [
    "Importing data from LISA analysis from web app"
   ]
  },
  {
   "cell_type": "markdown",
   "id": "912a520a",
   "metadata": {},
   "source": [
    "This will add in the LISA results to the adata.obs as a new column"
   ]
  },
  {
   "cell_type": "code",
   "execution_count": null,
   "id": "3629d1a0",
   "metadata": {},
   "outputs": [],
   "source": [
    "mikeimc_v2.lisa_import(adata_subset3,LISA_file = 'LISA_annotated_data_4regions.csv',LISA_col_title = 'LISAclust')"
   ]
  },
  {
   "cell_type": "markdown",
   "id": "1e2389e8",
   "metadata": {},
   "source": [
    "Stacked bar graphs"
   ]
  },
  {
   "cell_type": "code",
   "execution_count": null,
   "id": "8535e35c",
   "metadata": {},
   "outputs": [],
   "source": [
    "for i in ['LISAclust']: \n",
    "\n",
    "    for x in ['cell_type','hierarchy']:\n",
    "        \n",
    "        tmp = pd.crosstab(adata_subset3.obs[i],adata_subset3.obs[x], normalize='index')\n",
    "        tmp.plot.bar(stacked=True, figsize=(3, 3)).legend(bbox_to_anchor=(1.02, 1))"
   ]
  },
  {
   "cell_type": "code",
   "execution_count": null,
   "id": "858f0a0a",
   "metadata": {},
   "outputs": [],
   "source": [
    "col_df = pd.read_csv('mikeimc_approach/colours/pheno_colours.csv')\n",
    "colour_palette = col_df.set_index('pheno_cluster').to_dict()\n",
    "colour_palette['colour']"
   ]
  },
  {
   "cell_type": "code",
   "execution_count": null,
   "id": "2b7d2143",
   "metadata": {},
   "outputs": [],
   "source": [
    "for i in ['LISAclust']: \n",
    "    tmp = pd.crosstab(adata_subset3.obs[i],adata_subset3.obs['pheno_cluster'], normalize='index')\n",
    "    tmp.plot.bar(stacked=True, color=colour_palette['colour'], figsize=(3, 3)).legend(bbox_to_anchor=(1.02, 1))"
   ]
  },
  {
   "cell_type": "markdown",
   "id": "4c3d3c39",
   "metadata": {},
   "source": [
    "Heatmaps"
   ]
  },
  {
   "cell_type": "code",
   "execution_count": null,
   "id": "1a40dec4",
   "metadata": {},
   "outputs": [],
   "source": [
    "LISA_clust_obs='LISAclust'\n",
    "population_id='pheno_cluster'\n",
    "\n",
    "vmax=0.6\n",
    "vmin=0\n",
    "figsize=(30,16)\n",
    "\n",
    "fig, axs = plt.subplots(figsize=figsize)\n",
    "tmp = pd.crosstab(adata_subset3.obs[population_id], adata_subset3.obs[LISA_clust_obs], normalize='index')\n",
    "sb.heatmap(data=tmp, robust=True,linewidths=.5,square=True,cmap='viridis',vmax=vmax, vmin=vmin, ax=axs)\n",
    "fig.savefig('LISAclust_heatmap.png', bbox_inches='tight')"
   ]
  },
  {
   "cell_type": "markdown",
   "id": "80a3b53c",
   "metadata": {},
   "source": [
    "# UMAP based on cluster proportion in an ROI"
   ]
  },
  {
   "cell_type": "code",
   "execution_count": null,
   "id": "beaf58b9",
   "metadata": {},
   "outputs": [],
   "source": [
    "mikeimc_v2.cellabundance_UMAP(adata_subset3, 'ROI',population='LISAclust', colour_by='Group', normalize='index', dim_red='UMAP')"
   ]
  },
  {
   "cell_type": "markdown",
   "id": "a05e5cfa",
   "metadata": {},
   "source": [
    "Edge vs core of lisa clusters\n",
    "\n",
    "Normalising over ROI, so it becomes proportion of cells in each region"
   ]
  },
  {
   "cell_type": "code",
   "execution_count": null,
   "id": "8a9bcb11",
   "metadata": {},
   "outputs": [],
   "source": [
    "mikeimc_v2.grouped_graph(adata_subset3,\n",
    "                         ROI_id='ROI',\n",
    "                         group_by_obs='Group',\n",
    "                         x_axis='LISAclust',\n",
    "                         fig_size=(3,3),\n",
    "                         log_scale=False,\n",
    "                        display_tables=True,\n",
    "                         crosstab_norm='index'\n",
    "                        ) #If you change display_tables to True, will also do stats on the groups\n",
    "plt.show()"
   ]
  },
  {
   "cell_type": "code",
   "execution_count": null,
   "id": "63dd236a",
   "metadata": {},
   "outputs": [],
   "source": [
    "Draw all voronoi and save them"
   ]
  },
  {
   "cell_type": "code",
   "execution_count": null,
   "id": "fe96a455",
   "metadata": {},
   "outputs": [],
   "source": [
    "from mikeimc_v2 import draw_voronoi_scatter\n",
    "\n",
    "for i in adata_subset3.obs['ROI'].unique().tolist():\n",
    "\n",
    "    spot = adata_subset3.obs[adata_subset3.obs['ROI']==i]\n",
    "\n",
    "    _ = draw_voronoi_scatter(spot=spot,\n",
    "                             c=[],\n",
    "                             voronoi_palette = sc.pl.palettes.vega_20_scanpy,\n",
    "                             X='X_loc',\n",
    "                             Y='Y_loc',\n",
    "                             voronoi_hue='LISAclust')\n",
    "    #plt.savefig(str(i)+'_voronoi.svg')\n",
    "    plt.savefig(str(i)+'_voronoi.png')"
   ]
  },
  {
   "cell_type": "code",
   "execution_count": null,
   "id": "b5cef624",
   "metadata": {},
   "outputs": [],
   "source": [
    "for i in adata_subset3.obs['ROI'].unique().tolist():\n",
    "    sc.pl.spatial(adata_subset3[adata_subset3.obs[\"ROI\"] == i], color = 'LISAclust', neighbors_key=\"spatial_neighbors\", \n",
    "                  spot_size=10, edges=False, edges_width=1, edges_color='black', img_key=None, title=i,\n",
    "                  add_outline=False,return_fig=True, save=str(i)+'.png')"
   ]
  },
  {
   "cell_type": "code",
   "execution_count": null,
   "id": "4f8b9e39",
   "metadata": {},
   "outputs": [],
   "source": []
  },
  {
   "cell_type": "markdown",
   "id": "fdbcb3b5",
   "metadata": {},
   "source": [
    "Voronoi, with a specific cell population drawn ontop"
   ]
  },
  {
   "cell_type": "code",
   "execution_count": null,
   "id": "7a4711f8",
   "metadata": {},
   "outputs": [],
   "source": [
    "#Define the ROI to look at\n",
    "ROI = adata_subset3.obs[adata_subset3.obs['ROI']=='PM102-ROI1']\n",
    "\n",
    "#Specify which cell populations will be overlayed\n",
    "specific_cells=ROI[ROI.hierarchy=='Lymphoid'].copy()\n",
    "\n",
    "#Make a new column with a number per category, will be used to colour cells that are added\n",
    "specific_cells['colour']=specific_cells['pheno_cluster'].cat.codes\n",
    "\n",
    "_ = draw_voronoi_scatter(spot=ROI,\n",
    "                         c=specific_cells,\n",
    "                         voronoi_palette = sc.pl.palettes.vega_20_scanpy,\n",
    "                         X='X_loc',\n",
    "                         Y='Y_loc',\n",
    "                         voronoi_hue='LISAclust',\n",
    "                         scatter_hue='colour',\n",
    "                         scatter_palette=sc.pl.palettes.vega_20_scanpy,\n",
    "                         scatter_kwargs={'s':10},\n",
    "                         figsize=(5,5))"
   ]
  },
  {
   "cell_type": "code",
   "execution_count": null,
   "id": "49a191ad",
   "metadata": {},
   "outputs": [],
   "source": []
  }
 ],
 "metadata": {
  "kernelspec": {
   "display_name": "Python 3 (ipykernel)",
   "language": "python",
   "name": "python3"
  },
  "language_info": {
   "codemirror_mode": {
    "name": "ipython",
    "version": 3
   },
   "file_extension": ".py",
   "mimetype": "text/x-python",
   "name": "python",
   "nbconvert_exporter": "python",
   "pygments_lexer": "ipython3",
   "version": "3.9.13"
  }
 },
 "nbformat": 4,
 "nbformat_minor": 5
}
