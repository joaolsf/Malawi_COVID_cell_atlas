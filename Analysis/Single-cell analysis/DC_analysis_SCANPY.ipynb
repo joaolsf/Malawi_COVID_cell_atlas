{
 "cells": [
  {
   "cell_type": "markdown",
   "id": "f93400a9",
   "metadata": {},
   "source": [
    "# Import libraries and setup"
   ]
  },
  {
   "cell_type": "code",
   "execution_count": null,
   "id": "389cfa0b",
   "metadata": {
    "scrolled": true
   },
   "outputs": [],
   "source": [
    "# Import libraries we may need\n",
    "import scanpy as sc\n",
    "import numpy as np\n",
    "import scipy as sp\n",
    "import squidpy as sq\n",
    "import pandas as pd\n",
    "import matplotlib.pyplot as plt\n",
    "from matplotlib import rcParams\n",
    "from matplotlib import colors\n",
    "import seaborn as sb\n",
    "import scanpy.external as sce\n",
    "import wget\n",
    "import yaml\n",
    "import wget\n",
    "import astir\n",
    "import dill\n",
    "import umap\n",
    "reducer = umap.UMAP()\n",
    "\n",
    "#My module for importing IMC data into AnnData format\n",
    "import mikeimc as mimc\n",
    "import mikeimc_v2 as mikeimc_v2"
   ]
  },
  {
   "cell_type": "code",
   "execution_count": null,
   "id": "26a8b227",
   "metadata": {
    "scrolled": true
   },
   "outputs": [],
   "source": [
    "# Set up output figure settings\n",
    "plt.rcParams['figure.figsize']=(64,64) #rescale figures, increase sizehere\n",
    "\n",
    "# Set up scanpy settings\n",
    "sc.settings.verbosity = 3\n",
    "sc.set_figure_params(dpi=100, dpi_save=300) #Increase DPI for better resolution figures\n",
    "#sc.logging.print_versions()"
   ]
  },
  {
   "cell_type": "markdown",
   "id": "dc0281c4",
   "metadata": {},
   "source": [
    "# Save / restore adatas\n"
   ]
  },
  {
   "cell_type": "code",
   "execution_count": null,
   "id": "152fc796",
   "metadata": {
    "scrolled": true
   },
   "outputs": [],
   "source": [
    "# load adata\n",
    "import anndata as ad\n",
    "adata_subset2 = ad.read_h5ad('./2_h5ad files/adata_subset2')"
   ]
  },
  {
   "cell_type": "code",
   "execution_count": null,
   "id": "2be0a61b",
   "metadata": {
    "scrolled": true
   },
   "outputs": [],
   "source": [
    "# save\n",
    "adata_subset2.write('./2_h5ad files/adata_subset2')"
   ]
  },
  {
   "cell_type": "code",
   "execution_count": null,
   "id": "11543d5a",
   "metadata": {},
   "outputs": [],
   "source": [
    "adata_subset2"
   ]
  },
  {
   "cell_type": "code",
   "execution_count": null,
   "id": "1503741c",
   "metadata": {},
   "outputs": [],
   "source": [
    "adata_subset2.obs"
   ]
  },
  {
   "cell_type": "markdown",
   "id": "1a3ef174",
   "metadata": {},
   "source": [
    "# SCANPY - clustering analysis including functional markers"
   ]
  },
  {
   "cell_type": "code",
   "execution_count": null,
   "id": "7459f77c",
   "metadata": {
    "scrolled": true
   },
   "outputs": [],
   "source": [
    "#including functional markers\n",
    "neutrophil_markers = ['Arginase1','CD11b', 'CD11c', 'CD14', 'CD16', 'CD163', 'CD206', 'CD45', 'CD66b', 'CD68', 'Iba1', 'CD74', 'MHCII', 'MHCI', 'Vista', \n",
    "                   'iNOS', 'CD38','CD107a', 'GranzymeB', 'Ki67', 'ClvdCaspase3', 'SARSCoV2']\n",
    "adata_neutrophil_2 = adata_neutrophil[:,neutrophil_markers].copy()\n",
    "\n",
    "macrophage_markers = ['Arginase1','CD11b', 'CD11c', 'CD14', 'CD16', 'CD163', 'CD206', 'CD45', 'CD66b', 'CD68', 'Iba1', 'CD74', 'MHCII', 'MHCI', 'Vista', \n",
    "                   'iNOS', 'CD38', 'CD107a', 'GranzymeB', 'Ki67', 'ClvdCaspase3', 'SARSCoV2']\n",
    "adata_macrophage_2 = adata_macrophage[:,macrophage_markers].copy()\n",
    "\n",
    "lymphoid_markers = ['CD3','CD4','CD8', 'CD11c', 'CD16','CD20','CD38', 'CD45RO', 'CD74','MHCI','MHCII','Foxp3','CD107a','GranzymeB','Ki67','ClvdCaspase3', 'Vista','SARSCoV2']\n",
    "adata_lymphoid_2 = adata_lymphoid[:,lymphoid_markers].copy()\n",
    "\n",
    "epithelial_markers = ['PanCK','CD74','MHCII','MHCI','CD107a','GranzymeB','Ki67','ClvdCaspase3','SARSCoV2']\n",
    "adata_epithelial_2 = adata_epithelial[:,epithelial_markers].copy()\n",
    "\n",
    "stromal_markers = ['Collagen1','SMA', 'Ki67','ClvdCaspase3','SARSCoV2']\n",
    "adata_stromal = adata_stromal[:,stromal_markers].copy()\n",
    "\n",
    "endothelial_markers = ['CD31','ICAM1','vWF','CD74','MHCII','MHCI','CD107a','GranzymeB','Ki67','ClvdCaspase3','SARSCoV2']\n",
    "adata_endothelium_2 = adata_endothelium[:,endothelial_markers].copy()\n",
    "\n",
    "RBC_markers = ['CD235ab','SARSCoV2']\n",
    "adata_RBC_2 = adata_RBC[:,RBC_markers].copy()"
   ]
  },
  {
   "cell_type": "markdown",
   "id": "fc8de72d",
   "metadata": {},
   "source": [
    "# Analysis of Neutrophils"
   ]
  },
  {
   "cell_type": "code",
   "execution_count": null,
   "id": "18ee5c0c",
   "metadata": {
    "scrolled": false
   },
   "outputs": [],
   "source": [
    "adata_neutrophil_2 = ad.read_h5ad('./2_h5ad files/adata_neutrophil_2')"
   ]
  },
  {
   "cell_type": "code",
   "execution_count": null,
   "id": "454f3e6e",
   "metadata": {},
   "outputs": [],
   "source": [
    "adata_neutrophil_2"
   ]
  },
  {
   "cell_type": "code",
   "execution_count": null,
   "id": "f2c7c0d0",
   "metadata": {},
   "outputs": [],
   "source": [
    "#Use BBKNN integration instead of calculating neighbors \n",
    "# Define the number of PCA dimensions to work with - one less than number of markers. Without this, it usually defaults to 50, which we don't have enough markers for.\n",
    "n_for_pca = len(adata_neutrophil_2.var_names)-1\n",
    "\n",
    "# Define the 'obs' which defines the different cases\n",
    "batch_correction_obs = 'Group'\n",
    "\n",
    "# Calculate PCA, this must be done before BBKNN\n",
    "sc.tl.pca(adata_neutrophil_2, n_comps=n_for_pca)\n",
    "\n",
    "# BBKNN - it is used in place of the scanpy 'neighbors' command that calculates nearest neighbours in the feature space\n",
    "sc.external.pp.bbknn(adata_neutrophil_2, batch_key='Group', n_pcs=n_for_pca)"
   ]
  },
  {
   "cell_type": "code",
   "execution_count": null,
   "id": "9033e629",
   "metadata": {
    "scrolled": false
   },
   "outputs": [],
   "source": [
    "#Calculate neighbors - use harmony here instead\n",
    "#sc.pp.neighbors(adata_neutrophil_2, n_neighbors=100)"
   ]
  },
  {
   "cell_type": "code",
   "execution_count": null,
   "id": "0ee17dde",
   "metadata": {
    "scrolled": true
   },
   "outputs": [],
   "source": [
    "#Calculate UMAP - changed after running paga - see below\n",
    "sc.tl.umap(adata_neutrophil_2)"
   ]
  },
  {
   "cell_type": "code",
   "execution_count": null,
   "id": "ee16e8a8",
   "metadata": {
    "scrolled": true
   },
   "outputs": [],
   "source": [
    "#Plot UMAP\n",
    "sc.pl.umap(adata_neutrophil_2, size=5, color=['TMAID'], save='_neutrophil_TMAID.png')"
   ]
  },
  {
   "cell_type": "code",
   "execution_count": null,
   "id": "cd9fdc22",
   "metadata": {
    "scrolled": true
   },
   "outputs": [],
   "source": [
    "#Plot UMAP for each marker\n",
    "sc.pl.umap(adata_neutrophil_2, size=5, cmap='viridis', color=['Arginase1','CD11b', 'CD11c', 'CD14', 'CD16', 'CD163', 'CD206', 'CD45', 'CD66b', 'CD68', 'Iba1', 'CD74', 'MHCII', 'MHCI', 'Vista', \n",
    "                   'iNOS', 'CD38','CD107a', 'GranzymeB', 'Ki67', 'ClvdCaspase3', 'SARSCoV2'], save='_neutrophil_Markers.png')"
   ]
  },
  {
   "cell_type": "code",
   "execution_count": null,
   "id": "323ebfd3",
   "metadata": {
    "scrolled": true
   },
   "outputs": [],
   "source": [
    "#Run PCA\n",
    "#sc.tl.pca(adata_neutrophil_2)\n",
    "\n",
    "#Calculate tSNE\n",
    "#sc.tl.tsne(adata_neutrophil_2)"
   ]
  },
  {
   "cell_type": "code",
   "execution_count": null,
   "id": "041f633b",
   "metadata": {
    "scrolled": true
   },
   "outputs": [],
   "source": [
    "#Run PhenoGraph\n",
    "sce.tl.phenograph(adata_neutrophil_2, clustering_algo=\"louvain\", k=200, seed=1234)"
   ]
  },
  {
   "cell_type": "code",
   "execution_count": null,
   "id": "7092ebab",
   "metadata": {
    "scrolled": true
   },
   "outputs": [],
   "source": [
    "#Plot PhenoGraph on UMAP\n",
    "sc.pl.umap(adata_neutrophil_2, color = \"pheno_louvain\", legend_fontsize = 10, size=5, save='_neutrophil_PhenoLouvain.png')"
   ]
  },
  {
   "cell_type": "code",
   "execution_count": null,
   "id": "edda24fe",
   "metadata": {
    "scrolled": true
   },
   "outputs": [],
   "source": [
    "#Plot heatmap of myeloid clusters\n",
    "sc.tl.dendrogram(adata_neutrophil_2, groupby = 'pheno_louvain')\n",
    "sc.pl.heatmap(adata_neutrophil_2, adata_neutrophil_2.var_names, cmap=\"viridis\", groupby='pheno_louvain', swap_axes=True, dendrogram=True, save='_neutrophil_PhenoLouvain_clustered.png')"
   ]
  },
  {
   "cell_type": "code",
   "execution_count": null,
   "id": "117b1867",
   "metadata": {
    "scrolled": true
   },
   "outputs": [],
   "source": [
    "#Plot scaled heatmap\n",
    "adata_neutrophil_norm = adata_neutrophil_2.copy()\n",
    "sc.pp.scale(adata_neutrophil_norm, max_value=2,  zero_center=True)\n",
    "sc.tl.dendrogram(adata_neutrophil_norm, groupby = 'pheno_louvain')\n",
    "sc.pl.heatmap(adata_neutrophil_norm, adata_neutrophil_norm.var_names, groupby='pheno_louvain', swap_axes=True, dendrogram=True, save='_scaled_neutrophil_PhenoLouvain_clustered.png')"
   ]
  },
  {
   "cell_type": "code",
   "execution_count": null,
   "id": "c1153158",
   "metadata": {
    "scrolled": false
   },
   "outputs": [],
   "source": [
    "#Compute a ranking for the highly differential markers in each cluster\n",
    "#differential testing using t-test,  Wilcoxon rank-sum (Mann-Whitney-U) or logistic regression \n",
    "#The essential difference is that here, we use a multi-variate approach whereas conventional differential tests are uni-variate. \n",
    "sc.tl.rank_genes_groups(adata_neutrophil_2, 'pheno_louvain', reference='rest', method='wilcoxon', corr_method='benjamini-hochberg', pts=True)\n",
    "sc.pl.rank_genes_groups(adata_neutrophil_2, n_genes=10, sharey=False, save='rank_markers_neutrophil_PhenoLouvain.png')"
   ]
  },
  {
   "cell_type": "code",
   "execution_count": null,
   "id": "ba59e91b",
   "metadata": {
    "scrolled": true
   },
   "outputs": [],
   "source": [
    "#Get a table with the scores and groups. see p-values\n",
    "result = adata_neutrophil_2.uns['rank_genes_groups']\n",
    "groups = result['names'].dtype.names\n",
    "pd.DataFrame(\n",
    "    {group + '_' + key[:1]: result[key][group]\n",
    "    for group in groups for key in ['names', 'pvals']}).head(10)"
   ]
  },
  {
   "cell_type": "markdown",
   "id": "bccb7112",
   "metadata": {},
   "source": [
    "# Mapping neutrophil clusters after annotation and merging"
   ]
  },
  {
   "cell_type": "code",
   "execution_count": null,
   "id": "077b0f9e",
   "metadata": {
    "scrolled": false
   },
   "outputs": [],
   "source": [
    "adata_neutrophil_2"
   ]
  },
  {
   "cell_type": "code",
   "execution_count": null,
   "id": "81f2a104",
   "metadata": {
    "scrolled": false
   },
   "outputs": [],
   "source": [
    "#Annotate clusters in a dictionary file\n",
    "#Load the merged clusters and map to the anndata file\n",
    "\n",
    "# Mapping the phenograph populations onto the new/merged population labels\n",
    "\n",
    "neutrophil_dict = pd.read_csv('mikeimc_approach/Dictionaries/covid_neutrophil_dict.csv')\n",
    "n = neutrophil_dict.set_index('pheno_louvain').to_dict()\n",
    "\n",
    "adata_neutrophil_2.obs['neutrophil_pop']=adata_neutrophil_2.obs['pheno_louvain'].map(n['Neutrophil_Class'])\n",
    "adata_neutrophil_2.obs['neutrophil_pop']=adata_neutrophil_2.obs['neutrophil_pop'].astype('category')"
   ]
  },
  {
   "cell_type": "code",
   "execution_count": null,
   "id": "e61631a5",
   "metadata": {},
   "outputs": [],
   "source": [
    "#Plot heatmap of all clusters\n",
    "sc.tl.dendrogram(adata_neutrophil_2, groupby = 'neutrophil_pop')"
   ]
  },
  {
   "cell_type": "code",
   "execution_count": null,
   "id": "c48a9a66",
   "metadata": {},
   "outputs": [],
   "source": [
    "sc.pl.matrixplot(adata_neutrophil_2, adata_neutrophil_2.var_names, groupby='neutrophil_pop', vmax=0.75, dendrogram=True, save=True)\n"
   ]
  },
  {
   "cell_type": "code",
   "execution_count": null,
   "id": "ad395402",
   "metadata": {
    "scrolled": true
   },
   "outputs": [],
   "source": [
    "#Spatial mapping of the annotated neutrophil clusters\n",
    "graph = sb.lmplot(data = adata_neutrophil_2.obs, x = 'X_loc',y='Y_loc',hue ='neutrophil_pop',palette = 'bright',height = 8,col = 'ROI',col_wrap = 10,fit_reg = False)\n",
    "graph.savefig(\"MappedPlots_neutrophil_clusters.png\")"
   ]
  },
  {
   "cell_type": "code",
   "execution_count": null,
   "id": "0f735bc3",
   "metadata": {
    "scrolled": true
   },
   "outputs": [],
   "source": [
    "#Plot heatmap of neutrophil clusters\n",
    "sc.tl.dendrogram(adata_neutrophil_2, groupby = 'neutrophil_pop')\n",
    "sc.pl.heatmap(adata_neutrophil_2, adata_neutrophil_2.var_names, groupby='neutrophil_pop', cmap='viridis', swap_axes=False, dendrogram=True, save='_neutrophil_annotated_clustered.png')"
   ]
  },
  {
   "cell_type": "code",
   "execution_count": null,
   "id": "cb133dc9",
   "metadata": {
    "scrolled": true
   },
   "outputs": [],
   "source": [
    "#Plot scaled heatmap\n",
    "adata_myeloid_norm3 = adata_neutrophil_2.copy()\n",
    "sc.pp.scale(adata_myeloid_norm3, max_value=2,  zero_center=True)\n",
    "sc.tl.dendrogram(adata_myeloid_norm3, groupby = 'neutrophil_pop')\n",
    "sc.pl.heatmap(adata_myeloid_norm3, adata_myeloid_norm3.var_names, groupby='neutrophil_pop', swap_axes=False, dendrogram=True, save='_scaled_neutrophil_annotated_clustered.png')\n"
   ]
  },
  {
   "cell_type": "code",
   "execution_count": null,
   "id": "6672fcc0",
   "metadata": {
    "scrolled": true
   },
   "outputs": [],
   "source": [
    "#Compute a ranking for the highly differential markers in each cluster\n",
    "#To identify differentially expressed genes we run sc.tl.rank_genes_groups. \n",
    "#This function will take each group of cells and compare the distribution of each gene in a group against the distribution in all other cells not in the group. \n",
    "sc.tl.rank_genes_groups(adata_neutrophil_2, 'neutrophil_pop', reference='rest', method='wilcoxon', corr_method='benjamini-hochberg', pts=True)"
   ]
  },
  {
   "cell_type": "code",
   "execution_count": null,
   "id": "31895eab",
   "metadata": {
    "scrolled": true
   },
   "outputs": [],
   "source": [
    "sc.pl.rank_genes_groups(adata_neutrophil_2, n_genes=10, sharey=False, save='neutrophil_annotated_wilcoxon.png')"
   ]
  },
  {
   "cell_type": "code",
   "execution_count": null,
   "id": "02c22b3f",
   "metadata": {
    "scrolled": true
   },
   "outputs": [],
   "source": [
    "adata_neutrophil_2.uns['rank_genes_groups']"
   ]
  },
  {
   "cell_type": "code",
   "execution_count": null,
   "id": "98da42ba",
   "metadata": {
    "scrolled": true
   },
   "outputs": [],
   "source": [
    "#Get a table with the scores and groups. see p-values\n",
    "result = adata_neutrophil_2.uns['rank_genes_groups']\n",
    "groups = result['names'].dtype.names\n",
    "df = pd.DataFrame(\n",
    "    {group + '_' + key[:1]: result[key][group]\n",
    "    for group in groups for key in ['names', 'pvals_adj', 'scores','logfoldchanges']}).head(20)\n",
    "df"
   ]
  },
  {
   "cell_type": "code",
   "execution_count": null,
   "id": "615cc605",
   "metadata": {
    "scrolled": true
   },
   "outputs": [],
   "source": [
    "compression_opts = dict(method='zip',\n",
    "                         archive_name='Rank_markers_neutrophil_annotated_clusters.csv') \n",
    "df.to_csv('Rank_markers_neutrophil_annotated_clusters.zip', index=True, compression=compression_opts)"
   ]
  },
  {
   "cell_type": "code",
   "execution_count": null,
   "id": "92c24b19",
   "metadata": {
    "scrolled": true
   },
   "outputs": [],
   "source": [
    "sc.pl.rank_genes_groups_violin(adata_neutrophil_2, n_genes=5, save='top5_DE_markers_wilcoxon.png')"
   ]
  },
  {
   "cell_type": "code",
   "execution_count": null,
   "id": "b35a9214",
   "metadata": {
    "scrolled": true
   },
   "outputs": [],
   "source": [
    "sc.pl.rank_genes_groups_violin(adata_neutrophil_2, split=False, groups=['SARSCoV2+ ArginaseHighVISTAHigh Activated Neutrophil'], gene_names=['ClvdCaspase3'], save='ClvdCaspase3_expression_wilcoxon.png')"
   ]
  },
  {
   "cell_type": "code",
   "execution_count": null,
   "id": "4a6b768d",
   "metadata": {
    "scrolled": true
   },
   "outputs": [],
   "source": [
    "sc.pl.rank_genes_groups_violin(adata_neutrophil_2, groups=['Virus-infected Alveolar Macrophage'], split=True, gene_names=['SARSCoV2','MHCI', 'MHCII', 'CD74', 'CD107a', 'GranzymeB', 'Arginase1', 'iNOS']) "
   ]
  },
  {
   "cell_type": "code",
   "execution_count": null,
   "id": "ded0a6c3",
   "metadata": {
    "scrolled": true
   },
   "outputs": [],
   "source": [
    "sc.pl.rank_genes_groups_heatmap(adata_neutrophil_2, n_genes=5,use_raw=False, swap_axes=True, show_gene_labels=True,\n",
    "                                cmap='bwr', save='neutrophil_heatmap_wilcoxon.png')"
   ]
  },
  {
   "cell_type": "code",
   "execution_count": null,
   "id": "423801af",
   "metadata": {
    "scrolled": false
   },
   "outputs": [],
   "source": [
    "sc.pl.rank_genes_groups_matrixplot(adata_neutrophil_2, n_genes=5, values_to_plot='logfoldchanges', swap_axes=True, cmap='bwr', save='neutrophil_logFC_wilcoxon.png')\n",
    "\n"
   ]
  },
  {
   "cell_type": "code",
   "execution_count": null,
   "id": "92c8dfb3",
   "metadata": {
    "scrolled": true
   },
   "outputs": [],
   "source": [
    "sc.pl.rank_genes_groups_dotplot(adata_neutrophil_2, n_genes=5, values_to_plot='logfoldchanges', swap_axes=True, cmap='bwr', save='neutrophil_logFC_wilcoxon.png')\n",
    "\n"
   ]
  },
  {
   "cell_type": "code",
   "execution_count": null,
   "id": "21759cce",
   "metadata": {
    "scrolled": true
   },
   "outputs": [],
   "source": [
    "sc.pl.rank_genes_groups_dotplot(adata_neutrophil_2, groups=['SARSCoV2+ ArginaseHighVISTAHigh Activated Neutrophil', \n",
    "                                                 'ArginaseHighVISTAHigh Activated Neutrophil', 'ArginaseLowVISTALow Neutrophil'], n_genes=8, values_to_plot='logfoldchanges', swap_axes=False, cmap='bwr', save='neutrophil_logFC_wilcoxon.pdf')\n",
    "\n"
   ]
  },
  {
   "cell_type": "code",
   "execution_count": null,
   "id": "5c23e512",
   "metadata": {
    "scrolled": true
   },
   "outputs": [],
   "source": [
    "sc.pl.rank_genes_groups_dotplot(adata_neutrophil_2, var_names=['SARSCoV2','MHCI', 'MHCII', 'CD74', 'ClvdCaspase3','CD107a', 'GranzymeB', 'iNOS', 'Arginase1', 'Vista'], values_to_plot='logfoldchanges', swap_axes=True, cmap='bwr', save='neutrophil_specificmarkers_logFC_wilcoxon.pdf')\n",
    "\n"
   ]
  },
  {
   "cell_type": "code",
   "execution_count": null,
   "id": "d5fcddb8",
   "metadata": {
    "scrolled": true
   },
   "outputs": [],
   "source": [
    "#virus_mac = sc.tl.rank_genes_groups(adata_myeloid_2, 'myeloid_pop', groups=['Virus-infected Alveolar Macrophage'], reference='Alveolar Macrophage', method='wilcoxon')\n",
    "#sc.pl.rank_genes_groups_violin(virus_mac, groups=['Virus-infected Alveolar Macrophage'], n_genes=6)"
   ]
  },
  {
   "cell_type": "code",
   "execution_count": null,
   "id": "1c868e11",
   "metadata": {
    "scrolled": true
   },
   "outputs": [],
   "source": [
    "sc.pl.violin(adata_neutrophil_2, ['MHCI','iNOS', 'CD38', 'CD107a', 'GranzymeB', 'ClvdCaspase3'], groupby='neutrophil_pop', rotation=90, save='neutrophil_specificmarkers_wilcoxon.pdf')\n",
    "\n"
   ]
  },
  {
   "cell_type": "code",
   "execution_count": null,
   "id": "5f0ca5b5",
   "metadata": {},
   "outputs": [],
   "source": [
    "sc.pl.violin(adata_neutrophil_2, ['Ki67', 'ClvdCaspase3', 'iNOS', 'Arginase1', 'Vista'], groupby='neutrophil_pop', rotation=90, save='neutrophil_specificmarkers_wilcoxon_2.pdf')\n",
    "\n"
   ]
  },
  {
   "cell_type": "code",
   "execution_count": null,
   "id": "137e3ba4",
   "metadata": {
    "scrolled": true
   },
   "outputs": [],
   "source": [
    "sc.pl.dotplot(adata_neutrophil_2, adata_neutrophil_2.var_names, groupby='neutrophil_pop', cmap='bwr', vmax=0.75, dendrogram=True)"
   ]
  },
  {
   "cell_type": "code",
   "execution_count": null,
   "id": "2219f8d3",
   "metadata": {
    "scrolled": false
   },
   "outputs": [],
   "source": [
    "#Plot PhenoGraph on UMAP\n",
    "sc.pl.umap(adata_neutrophil_2, color = \"neutrophil_pop\", legend_fontsize=12, legend_fontweight='semibold',legend_loc='right margin', frameon=True, save='_neutrophil_annotated.png')\n",
    "\n",
    "#Plot PhenoGraph on tSNE\n",
    "#sc.pl.tsne(adata_myeloid_2, color = \"myeloid_pop\", legend_fontsize = 6, legend_fontweight='semibold',legend_loc='on data', frameon=True, save='_myeloid_annotated.png')"
   ]
  },
  {
   "cell_type": "markdown",
   "id": "ef6bff33",
   "metadata": {},
   "source": [
    "# Frequency and absolute count graphs"
   ]
  },
  {
   "cell_type": "raw",
   "id": "e9d6dd9a",
   "metadata": {},
   "source": [
    "Extraction of cluster compositions and absolute numbers of cells/cluster per ROI"
   ]
  },
  {
   "cell_type": "code",
   "execution_count": null,
   "id": "ea87f5e5",
   "metadata": {
    "scrolled": true
   },
   "outputs": [],
   "source": [
    "adata_neutrophil_2"
   ]
  },
  {
   "cell_type": "code",
   "execution_count": null,
   "id": "14f21fe5",
   "metadata": {
    "scrolled": true
   },
   "outputs": [],
   "source": [
    "#stack bar code and extracting number of cells, distribution of each cluster per case or the cluster composition per case\n",
    "#for number of cells - don't use normalize\n",
    "#for distribution of each case per cluster - use normalize = \"index\"\n",
    "#for cluster composition per case - use normalize = \"columns\"\n",
    "tmp = pd.crosstab(adata_neutrophil_2.obs['neutrophil_pop'], adata_neutrophil_2.obs['HIV'], margins=False, margins_name='Total', normalize=\"columns\")"
   ]
  },
  {
   "cell_type": "code",
   "execution_count": null,
   "id": "2e23ce9c",
   "metadata": {
    "scrolled": true
   },
   "outputs": [],
   "source": [
    "tmp"
   ]
  },
  {
   "cell_type": "code",
   "execution_count": null,
   "id": "5930e2a8",
   "metadata": {
    "scrolled": true
   },
   "outputs": [],
   "source": [
    "tmp2 = tmp.reindex(['ArginaseLowVISTALow Neutrophil', 'GrBLowArginaseLowVISTALow Activated Neutrophil',\n",
    "                    'GrBHighArginaseLowVISTALow Activated Neutrophil', \n",
    "                    'GrBHighArginaseHighVISTAHigh Activated Neutrophil',\n",
    "                    'SARSCoV2+ ArginaseHighVISTAHigh Activated Neutrophil'])"
   ]
  },
  {
   "cell_type": "code",
   "execution_count": null,
   "id": "b84cc43f",
   "metadata": {
    "scrolled": true
   },
   "outputs": [],
   "source": [
    "tmp2"
   ]
  },
  {
   "cell_type": "code",
   "execution_count": null,
   "id": "da24ba7f",
   "metadata": {
    "scrolled": true
   },
   "outputs": [],
   "source": [
    "tmp3 = pd.DataFrame.transpose(tmp2)"
   ]
  },
  {
   "cell_type": "code",
   "execution_count": null,
   "id": "90fc5804",
   "metadata": {
    "scrolled": false
   },
   "outputs": [],
   "source": [
    "#color for stack bars for the disease groups matching the other bar graphs\n",
    "#F08080 - light coral\n",
    "#87CEFA - lightskyblue\n",
    "#D3D3D3 - lightgrey\n",
    "\n",
    "pretty_colors = ['#F08080','#87CEFA','#D3D3D3']\n",
    "color_pal = sb.color_palette('Paired', 8)\n",
    "\n",
    "tmp3.plot.bar(stacked=True,color=color_pal, figsize=(4, 4)).legend(bbox_to_anchor=(1, 1))"
   ]
  },
  {
   "cell_type": "code",
   "execution_count": null,
   "id": "c5320fb0",
   "metadata": {
    "scrolled": true
   },
   "outputs": [],
   "source": [
    "compression_opts = dict(method='zip',\n",
    "                         archive_name='Neutrophil_cluster_composition_per_ROI.csv') \n",
    "tmp3.to_csv('Neutrophil_cluster_composition_per_ROI.zip', index=True, compression=compression_opts)"
   ]
  },
  {
   "cell_type": "markdown",
   "id": "cd03377e",
   "metadata": {},
   "source": [
    "Abundances graphs with stats Example of case averaging abundance stats"
   ]
  },
  {
   "cell_type": "code",
   "execution_count": null,
   "id": "9f58fdd6",
   "metadata": {
    "scrolled": true
   },
   "outputs": [],
   "source": [
    "# Alter this list with adata.obs variables that you want to plot against the resulting leiden population\n",
    "image_var = 'ROI'\n",
    "\n",
    "for i in ['Group']:\n",
    "\n",
    "    mikeimc_v2.grouped_graph(adata_neutrophil_2,\n",
    "                             ROI_id=image_var,\n",
    "                             group_by_obs=i,\n",
    "                             x_axis='neutrophil_pop',\n",
    "                             fig_size=(4,4),\n",
    "                             log_scale=False, scale_factor=True,\n",
    "                            display_tables=True) #If you change display_tables to True, will also do stats on the groups\n",
    "    plt.show()"
   ]
  },
  {
   "cell_type": "code",
   "execution_count": null,
   "id": "06ad93a6",
   "metadata": {
    "scrolled": true
   },
   "outputs": [],
   "source": [
    "mikeimc_v2.pop_stats(adata_neutrophil_2,\n",
    "          groups='Group', #The adata.obs we want to use to compare between\n",
    "          Case_id='Patient', #The adata.obs that defines case\n",
    "          ROI_id='ROI',\n",
    "          x_axis='neutrophil_pop',\n",
    "          display_tables=True,\n",
    "          fig_size=(4,4),\n",
    "          save='pop_stats_Group.png',\n",
    "           log_scale=False\n",
    "         )"
   ]
  },
  {
   "cell_type": "raw",
   "id": "13c4bcba",
   "metadata": {},
   "source": [
    "Export everything except the data using `.write_csvs`."
   ]
  },
  {
   "cell_type": "code",
   "execution_count": null,
   "id": "34eac4a8",
   "metadata": {
    "scrolled": true
   },
   "outputs": [],
   "source": [
    "# Set `skip_data=False` if you also want to export the data.\n",
    "adata_neutrophil_2.write_csvs(dirname='./Analysis/SCANPY/Neutrophil/Annotated clusters', skip_data=False)"
   ]
  },
  {
   "cell_type": "code",
   "execution_count": null,
   "id": "05032854",
   "metadata": {},
   "outputs": [],
   "source": [
    "# Adding HIV status \n",
    "anno = pd.read_csv(filepath_or_buffer='./Analysis/SCANPY/Neutrophil/Annotated clusters/obs.csv', index_col=1)"
   ]
  },
  {
   "cell_type": "code",
   "execution_count": null,
   "id": "aace6166",
   "metadata": {},
   "outputs": [],
   "source": [
    "anno.index"
   ]
  },
  {
   "cell_type": "code",
   "execution_count": null,
   "id": "ee88e4e9",
   "metadata": {
    "scrolled": false
   },
   "outputs": [],
   "source": [
    "anno['HIV'].values"
   ]
  },
  {
   "cell_type": "code",
   "execution_count": null,
   "id": "786d8bb7",
   "metadata": {
    "scrolled": true
   },
   "outputs": [],
   "source": [
    "adata_neutrophil_2.obs.index"
   ]
  },
  {
   "cell_type": "code",
   "execution_count": null,
   "id": "aeb6d4b3",
   "metadata": {},
   "outputs": [],
   "source": [
    "adata_neutrophil_2.obs['HIV'] = anno['HIV'].values"
   ]
  },
  {
   "cell_type": "code",
   "execution_count": null,
   "id": "914bedeb",
   "metadata": {},
   "outputs": [],
   "source": [
    "adata_neutrophil_2.obs['HIV']"
   ]
  },
  {
   "cell_type": "code",
   "execution_count": null,
   "id": "0a902c99",
   "metadata": {},
   "outputs": [],
   "source": []
  },
  {
   "cell_type": "markdown",
   "id": "705ffa1f",
   "metadata": {},
   "source": [
    "# Analysis of Macrophages"
   ]
  },
  {
   "cell_type": "code",
   "execution_count": null,
   "id": "fd9a6d11",
   "metadata": {},
   "outputs": [],
   "source": [
    "adata_macrophage_2.obs['hierarchy']"
   ]
  },
  {
   "cell_type": "code",
   "execution_count": null,
   "id": "53170b85",
   "metadata": {},
   "outputs": [],
   "source": [
    "#Use BBKNN integration instead of calculating neighbors \n",
    "# Define the number of PCA dimensions to work with - one less than number of markers. Without this, it usually defaults to 50, which we don't have enough markers for.\n",
    "n_for_pca = len(adata_macrophage_2.var_names)-1\n",
    "\n",
    "# Define the 'obs' which defines the different cases\n",
    "batch_correction_obs = 'Group'\n",
    "\n",
    "# Calculate PCA, this must be done before BBKNN\n",
    "sc.tl.pca(adata_macrophage_2, n_comps=n_for_pca)\n",
    "\n",
    "# BBKNN - it is used in place of the scanpy 'neighbors' command that calculates nearest neighbours in the feature space\n",
    "sc.external.pp.bbknn(adata_macrophage_2, batch_key='Group', n_pcs=n_for_pca)"
   ]
  },
  {
   "cell_type": "code",
   "execution_count": null,
   "id": "da3aa4d4",
   "metadata": {},
   "outputs": [],
   "source": [
    "#Calculate UMAP - changed after running paga - see below\n",
    "sc.tl.umap(adata_macrophage_2)"
   ]
  },
  {
   "cell_type": "code",
   "execution_count": null,
   "id": "94ca8e09",
   "metadata": {},
   "outputs": [],
   "source": [
    "#Plot UMAP\n",
    "sc.pl.umap(adata_macrophage_2, size=5, color=['TMAID'], save='_macrophage_TMAID.png')"
   ]
  },
  {
   "cell_type": "code",
   "execution_count": null,
   "id": "7d224210",
   "metadata": {},
   "outputs": [],
   "source": [
    "#Plot UMAP for each marker\n",
    "sc.pl.umap(adata_macrophage_2, size=5, cmap='viridis', color=['Arginase1','CD11b', 'CD11c', 'CD14', 'CD16', 'CD163', 'CD206', 'CD45', 'CD66b', 'CD68', 'Iba1', 'CD74', 'MHCII', 'MHCI', 'Vista', \n",
    "                   'iNOS', 'CD38','CD107a', 'GranzymeB', 'Ki67', 'ClvdCaspase3', 'SARSCoV2'], save='_macrophage_Markers.png')"
   ]
  },
  {
   "cell_type": "code",
   "execution_count": null,
   "id": "fb6d116c",
   "metadata": {},
   "outputs": [],
   "source": [
    "#Run PCA\n",
    "#sc.tl.pca(adata_macrophage_2)\n",
    "\n",
    "#Calculate tSNE\n",
    "#sc.tl.tsne(adata_macrophage_2)"
   ]
  },
  {
   "cell_type": "code",
   "execution_count": null,
   "id": "1beb4703",
   "metadata": {},
   "outputs": [],
   "source": [
    "#Run PhenoGraph\n",
    "sce.tl.phenograph(adata_macrophage_2, clustering_algo=\"louvain\", k=200, seed=1234)"
   ]
  },
  {
   "cell_type": "code",
   "execution_count": null,
   "id": "590c0e3e",
   "metadata": {},
   "outputs": [],
   "source": [
    "#Plot PhenoGraph on UMAP\n",
    "sc.pl.umap(adata_macrophage_2, color = \"pheno_louvain\", legend_fontsize = 10, size=5, save='_macrophage_PhenoLouvain.png')"
   ]
  },
  {
   "cell_type": "code",
   "execution_count": null,
   "id": "36184e19",
   "metadata": {},
   "outputs": [],
   "source": [
    "#Plot heatmap of myeloid clusters\n",
    "sc.tl.dendrogram(adata_macrophage_2, groupby = 'pheno_louvain')\n",
    "sc.pl.heatmap(adata_macrophage_2, adata_macrophage_2.var_names, cmap=\"viridis\", groupby='pheno_louvain', swap_axes=True, dendrogram=True, save='_macrophage_PhenoLouvain_clustered.png')"
   ]
  },
  {
   "cell_type": "code",
   "execution_count": null,
   "id": "2d1e7362",
   "metadata": {},
   "outputs": [],
   "source": [
    "#Plot scaled heatmap\n",
    "adata_neutrophil_norm = adata_macrophage_2.copy()\n",
    "sc.pp.scale(adata_neutrophil_norm, max_value=2,  zero_center=True)\n",
    "sc.tl.dendrogram(adata_neutrophil_norm, groupby = 'pheno_louvain')\n",
    "sc.pl.heatmap(adata_neutrophil_norm, adata_neutrophil_norm.var_names, groupby='pheno_louvain', swap_axes=True, dendrogram=True, save='_scaled_macrophage_PhenoLouvain_clustered.png')"
   ]
  },
  {
   "cell_type": "code",
   "execution_count": null,
   "id": "d2da0cc7",
   "metadata": {},
   "outputs": [],
   "source": [
    "#Compute a ranking for the highly differential markers in each cluster\n",
    "#differential testing using t-test,  Wilcoxon rank-sum (Mann-Whitney-U) or logistic regression \n",
    "#The essential difference is that here, we use a multi-variate approach whereas conventional differential tests are uni-variate. \n",
    "sc.tl.rank_genes_groups(adata_macrophage_2, 'pheno_louvain', reference='rest', method='wilcoxon', corr_method='benjamini-hochberg', pts=True)\n",
    "sc.pl.rank_genes_groups(adata_macrophage_2, n_genes=10, sharey=False, save='rank_markers_macrophage_PhenoLouvain.png')"
   ]
  },
  {
   "cell_type": "code",
   "execution_count": null,
   "id": "9ace9043",
   "metadata": {},
   "outputs": [],
   "source": [
    "#Get a table with the scores and groups. see p-values\n",
    "result = adata_macrophage_2.uns['rank_genes_groups']\n",
    "groups = result['names'].dtype.names\n",
    "pd.DataFrame(\n",
    "    {group + '_' + key[:1]: result[key][group]\n",
    "    for group in groups for key in ['names', 'pvals']}).head(10)"
   ]
  },
  {
   "cell_type": "markdown",
   "id": "fe6a6bed",
   "metadata": {},
   "source": [
    "# Mapping macrophage clusters after annotation and merging"
   ]
  },
  {
   "cell_type": "code",
   "execution_count": null,
   "id": "15e3c3f9",
   "metadata": {},
   "outputs": [],
   "source": [
    "#Annotate clusters in a dictionary file\n",
    "#Load the merged clusters and map to the anndata file\n",
    "\n",
    "# Mapping the phenograph populations onto the new/merged population labels\n",
    "\n",
    "myeloid_dict = pd.read_csv('mikeimc_approach/Dictionaries/covid_macrophage_dict.csv')\n",
    "m = myeloid_dict.set_index('pheno_louvain').to_dict()\n",
    "\n",
    "adata_macrophage_2.obs['macrophage_pop']=adata_macrophage_2.obs['pheno_louvain'].map(m['Myeloid_Class'])\n",
    "adata_macrophage_2.obs['macrophage_pop']=adata_macrophage_2.obs['macrophage_pop'].astype('category')"
   ]
  },
  {
   "cell_type": "code",
   "execution_count": null,
   "id": "06a48469",
   "metadata": {},
   "outputs": [],
   "source": [
    "#Plot heatmap of all clusters\n",
    "sc.tl.dendrogram(adata_macrophage_2, groupby = 'macrophage_pop')"
   ]
  },
  {
   "cell_type": "code",
   "execution_count": null,
   "id": "a6fd97d6",
   "metadata": {},
   "outputs": [],
   "source": [
    "sc.pl.matrixplot(adata_macrophage_2, adata_macrophage_2.var_names, groupby='macrophage_pop', vmax=0.75, dendrogram=True, save=True)\n"
   ]
  },
  {
   "cell_type": "code",
   "execution_count": null,
   "id": "8fda8f26",
   "metadata": {},
   "outputs": [],
   "source": [
    "#Spatial mapping of the annotated myeloid clusters\n",
    "graph = sb.lmplot(data = adata_macrophage_2.obs, x = 'X_loc',y='Y_loc',hue ='macrophage_pop',palette = 'bright',height = 8,col = 'ROI',col_wrap = 10,fit_reg = False)\n",
    "graph.savefig(\"MappedPlots_macrophage_clusters.png\")"
   ]
  },
  {
   "cell_type": "code",
   "execution_count": null,
   "id": "6bef6e4b",
   "metadata": {},
   "outputs": [],
   "source": [
    "#Plot heatmap of myeloid clusters\n",
    "sc.tl.dendrogram(adata_macrophage_2, groupby = 'macrophage_pop')\n",
    "sc.pl.heatmap(adata_macrophage_2, adata_macrophage_2.var_names, groupby='macrophage_pop', cmap='viridis', swap_axes=False, dendrogram=True, save='_macrophage_annotated_clustered.png')"
   ]
  },
  {
   "cell_type": "code",
   "execution_count": null,
   "id": "d7c0545d",
   "metadata": {},
   "outputs": [],
   "source": [
    "#Compute a ranking for the highly differential markers in each cluster\n",
    "#To identify differentially expressed genes we run sc.tl.rank_genes_groups. \n",
    "#This function will take each group of cells and compare the distribution of each gene in a group against the distribution in all other cells not in the group. \n",
    "sc.tl.rank_genes_groups(adata_macrophage_2, 'macrophage_pop', reference='rest', method='wilcoxon', corr_method='benjamini-hochberg', pts=True)"
   ]
  },
  {
   "cell_type": "code",
   "execution_count": null,
   "id": "6d4da899",
   "metadata": {},
   "outputs": [],
   "source": [
    "sc.pl.rank_genes_groups(adata_macrophage_2, n_genes=10, sharey=False, save='macrophage_annotated_wilcoxon.png')"
   ]
  },
  {
   "cell_type": "code",
   "execution_count": null,
   "id": "3af5d97f",
   "metadata": {},
   "outputs": [],
   "source": [
    "#sc.tl.rank_genes_groups(adata_myeloid_3, 'Type', reference='Non_COVID', method='wilcoxon', corr_method='benjamini-hochberg', pts=True, )"
   ]
  },
  {
   "cell_type": "code",
   "execution_count": null,
   "id": "59ffe813",
   "metadata": {},
   "outputs": [],
   "source": [
    "sc.pl.rank_genes_groups(adata_adata_macrophage_2, n_genes=10, sharey=False)"
   ]
  },
  {
   "cell_type": "code",
   "execution_count": null,
   "id": "e450093f",
   "metadata": {},
   "outputs": [],
   "source": [
    "adata_macrophage_2.uns['rank_genes_groups']"
   ]
  },
  {
   "cell_type": "code",
   "execution_count": null,
   "id": "969e567b",
   "metadata": {},
   "outputs": [],
   "source": [
    "#Get a table with the scores and groups. see p-values\n",
    "result = adata_myeloid_2.uns['rank_genes_groups']\n",
    "groups = result['names'].dtype.names\n",
    "df = pd.DataFrame(\n",
    "    {group + '_' + key[:1]: result[key][group]\n",
    "    for group in groups for key in ['names', 'pvals_adj', 'scores','logfoldchanges']}).head(20)\n",
    "df"
   ]
  },
  {
   "cell_type": "code",
   "execution_count": null,
   "id": "ed73a65f",
   "metadata": {},
   "outputs": [],
   "source": [
    "compression_opts = dict(method='zip',\n",
    "                         archive_name='Rank_markers_myeloid_annotated_clusters.csv') \n",
    "df.to_csv('Rank_markers_myeloid_annotated_clusters.zip', index=True, compression=compression_opts)"
   ]
  },
  {
   "cell_type": "code",
   "execution_count": null,
   "id": "60ebba57",
   "metadata": {},
   "outputs": [],
   "source": [
    "sc.pl.rank_genes_groups_violin(adata_myeloid_2, n_genes=5, save='top5_DE_markers_wilcoxon.png')"
   ]
  },
  {
   "cell_type": "code",
   "execution_count": null,
   "id": "67b698e4",
   "metadata": {},
   "outputs": [],
   "source": [
    "sc.pl.rank_genes_groups_violin(adata_myeloid_2, split=False, groups=['Virus-infected Alveolar Macrophage'], gene_names=['ClvdCaspase3'], save='ClvdCaspase3_expression_wilcoxon.png')"
   ]
  },
  {
   "cell_type": "code",
   "execution_count": null,
   "id": "661cfb46",
   "metadata": {},
   "outputs": [],
   "source": [
    "sc.pl.rank_genes_groups_violin(adata_myeloid_2, groups=['Virus-infected Alveolar Macrophage'], split=True, gene_names=['SARSCoV2','MHCI', 'MHCII', 'CD74', 'CD107a', 'GranzymeB', 'Arginase1', 'iNOS']) "
   ]
  },
  {
   "cell_type": "code",
   "execution_count": null,
   "id": "cb11bee2",
   "metadata": {},
   "outputs": [],
   "source": [
    "sc.pl.rank_genes_groups_heatmap(adata_myeloid_2, n_genes=5,use_raw=False, swap_axes=True, show_gene_labels=True,\n",
    "                                cmap='bwr', save='myeloid_heatmap_wilcoxon.png')"
   ]
  },
  {
   "cell_type": "code",
   "execution_count": null,
   "id": "913993e1",
   "metadata": {},
   "outputs": [],
   "source": [
    "sc.pl.rank_genes_groups_matrixplot(adata_myeloid_2, n_genes=5, values_to_plot='logfoldchanges', swap_axes=True, cmap='bwr', save='myeloid_logFC_wilcoxon.png' )"
   ]
  },
  {
   "cell_type": "code",
   "execution_count": null,
   "id": "726bf6f7",
   "metadata": {},
   "outputs": [],
   "source": [
    "sc.pl.rank_genes_groups_dotplot(adata_myeloid_2, n_genes=5, values_to_plot='logfoldchanges', swap_axes=True, cmap='bwr', save='myeloid_logFC_wilcoxon.png')"
   ]
  },
  {
   "cell_type": "code",
   "execution_count": null,
   "id": "1118057f",
   "metadata": {},
   "outputs": [],
   "source": [
    "sc.pl.rank_genes_groups_dotplot(adata_myeloid_2, groups=['Alveolar Macrophage', \n",
    "                                                 'Virus-infected Alveolar Macrophage', 'Interstitial Macrophage', 'Classical Monocyte'], n_genes=8, values_to_plot='logfoldchanges', swap_axes=True, cmap='bwr', save='macrophage_logFC_wilcoxon.pdf')"
   ]
  },
  {
   "cell_type": "code",
   "execution_count": null,
   "id": "9cef320c",
   "metadata": {},
   "outputs": [],
   "source": [
    "sc.pl.dotplot(adata_myeloid_2, adata_myeloid_2.var_names, groupby='myeloid_pop', cmap='bwr', vmax=0.75, dendrogram=True)"
   ]
  },
  {
   "cell_type": "code",
   "execution_count": null,
   "id": "1201396a",
   "metadata": {},
   "outputs": [],
   "source": [
    "sc.pl.violin(adata_macrophage_2, ['MHCI', 'MHCII','iNOS', 'CD38', 'CD107a', 'GranzymeB', 'ClvdCaspase3'], groupby='macrophage_pop', rotation=90, save='macrophage_specificmarkers_wilcoxon.pdf')\n",
    "\n"
   ]
  },
  {
   "cell_type": "code",
   "execution_count": null,
   "id": "e70e0705",
   "metadata": {},
   "outputs": [],
   "source": [
    "#Plot PhenoGraph on UMAP\n",
    "sc.pl.umap(adata_macrophage_2, color = \"macrophage_pop\", legend_fontsize=12, legend_fontweight='semibold',legend_loc='right margin', frameon=True, save='_macrophage_annotated.png')\n",
    "\n",
    "#Plot PhenoGraph on tSNE\n",
    "#sc.pl.tsne(adata_myeloid_2, color = \"myeloid_pop\", legend_fontsize = 6, legend_fontweight='semibold',legend_loc='on data', frameon=True, save='_myeloid_annotated.png')"
   ]
  },
  {
   "cell_type": "code",
   "execution_count": null,
   "id": "fc5f8818",
   "metadata": {},
   "outputs": [],
   "source": [
    "#Plot UMAP for each marker\n",
    "sc.pl.umap(adata_macrophage_2, color=adata_myeloid_2.var_names,size=5, cmap='viridis', vmax=1, save='_macrophage_Markers_v2.pdf')"
   ]
  },
  {
   "cell_type": "markdown",
   "id": "fac7c0b6",
   "metadata": {},
   "source": [
    "# Frequency and absolute count graphs"
   ]
  },
  {
   "cell_type": "code",
   "execution_count": null,
   "id": "8f9c116d",
   "metadata": {},
   "outputs": [],
   "source": [
    "#stack bar code and extracting number of cells, distribution of each cluster per case or the cluster composition per case\n",
    "#for number of cells - don't use normalize\n",
    "#for distribution of each case per cluster - use normalize = \"index\"\n",
    "#for cluster composition per case - use normalize = \"columns\"\n",
    "tmp = pd.crosstab(adata_macrophage_2.obs['macrophage_pop'], adata_macrophage_2.obs['HIV'], margins=False, margins_name='Total', normalize=\"columns\")"
   ]
  },
  {
   "cell_type": "code",
   "execution_count": null,
   "id": "87c2ff1b",
   "metadata": {},
   "outputs": [],
   "source": [
    "tmp"
   ]
  },
  {
   "cell_type": "code",
   "execution_count": null,
   "id": "c6398fee",
   "metadata": {},
   "outputs": [],
   "source": [
    "tmp2 = pd.DataFrame.transpose(tmp)"
   ]
  },
  {
   "cell_type": "code",
   "execution_count": null,
   "id": "ba54624a",
   "metadata": {},
   "outputs": [],
   "source": [
    "#color for stack bars for the disease groups matching the other bar graphs\n",
    "#F08080 - light coral\n",
    "#87CEFA - lightskyblue\n",
    "#D3D3D3 - lightgrey\n",
    "\n",
    "pretty_colors = ['#F08080','#87CEFA','#D3D3D3']\n",
    "color_pal = sb.color_palette('Paired', 8)\n",
    "\n",
    "tmp2.plot.bar(stacked=True,color=color_pal, figsize=(4, 4)).legend(bbox_to_anchor=(1, 1))"
   ]
  },
  {
   "cell_type": "code",
   "execution_count": null,
   "id": "934afa23",
   "metadata": {},
   "outputs": [],
   "source": [
    "compression_opts = dict(method='zip',\n",
    "                         archive_name='Neutrophil_cluster_composition_per_ROI.csv') \n",
    "tmp3.to_csv('Neutrophil_cluster_composition_per_ROI.zip', index=True, compression=compression_opts)"
   ]
  },
  {
   "cell_type": "code",
   "execution_count": null,
   "id": "e79dba04",
   "metadata": {},
   "outputs": [],
   "source": [
    "# Alter this list with adata.obs variables that you want to plot against the resulting leiden population\n",
    "image_var = 'ROI'\n",
    "\n",
    "for i in ['Group']:\n",
    "\n",
    "    mikeimc_v2.grouped_graph(adata_macrophage_2,\n",
    "                             ROI_id=image_var,\n",
    "                             group_by_obs=i,\n",
    "                             x_axis='macrophage_pop',\n",
    "                             fig_size=(4,4),\n",
    "                             log_scale=False, scale_factor=True,\n",
    "                            display_tables=True) #If you change display_tables to True, will also do stats on the groups\n",
    "    plt.show()"
   ]
  },
  {
   "cell_type": "code",
   "execution_count": null,
   "id": "826a6801",
   "metadata": {},
   "outputs": [],
   "source": [
    "mikeimc_v2.pop_stats(adata_macrophage_2,\n",
    "          groups='Group', #The adata.obs we want to use to compare between\n",
    "          Case_id='Patient', #The adata.obs that defines case\n",
    "          ROI_id='ROI',\n",
    "          x_axis='macrophage_pop',\n",
    "          display_tables=True,\n",
    "          fig_size=(4,4),\n",
    "          save='pop_stats_Group.png',\n",
    "           log_scale=False\n",
    "         )"
   ]
  },
  {
   "cell_type": "code",
   "execution_count": null,
   "id": "67732368",
   "metadata": {},
   "outputs": [],
   "source": [
    "# Set `skip_data=False` if you also want to export the data.\n",
    "adata_macrophage_2.write_csvs(dirname='./Analysis/SCANPY/Macrophage/Annotated clusters', skip_data=False)"
   ]
  },
  {
   "cell_type": "code",
   "execution_count": null,
   "id": "63fc9ffe",
   "metadata": {},
   "outputs": [],
   "source": [
    "# Adding HIV status \n",
    "anno = pd.read_csv(filepath_or_buffer='./Analysis/SCANPY/Macrophage/Annotated clusters/obs.csv', index_col=1)"
   ]
  },
  {
   "cell_type": "code",
   "execution_count": null,
   "id": "86781951",
   "metadata": {},
   "outputs": [],
   "source": [
    "anno.index"
   ]
  },
  {
   "cell_type": "code",
   "execution_count": null,
   "id": "92b39c67",
   "metadata": {},
   "outputs": [],
   "source": [
    "anno['HIV'].values"
   ]
  },
  {
   "cell_type": "code",
   "execution_count": null,
   "id": "63f8bbbc",
   "metadata": {},
   "outputs": [],
   "source": [
    "adata_macrophage_2.obs.index"
   ]
  },
  {
   "cell_type": "code",
   "execution_count": null,
   "id": "cee1acc2",
   "metadata": {},
   "outputs": [],
   "source": [
    "adata_macrophage_2.obs['HIV'] = anno['HIV'].values"
   ]
  },
  {
   "cell_type": "code",
   "execution_count": null,
   "id": "6f8aa308",
   "metadata": {},
   "outputs": [],
   "source": [
    "adata_macrophage_2.obs['HIV']"
   ]
  },
  {
   "cell_type": "markdown",
   "id": "0ea53456",
   "metadata": {},
   "source": [
    "# Analysis of Lymhoid cells"
   ]
  },
  {
   "cell_type": "code",
   "execution_count": null,
   "id": "2d98da33",
   "metadata": {
    "scrolled": true
   },
   "outputs": [],
   "source": [
    "adata_lymphoid_2.obs['hierarchy']"
   ]
  },
  {
   "cell_type": "code",
   "execution_count": null,
   "id": "8a03bc9d",
   "metadata": {
    "scrolled": true
   },
   "outputs": [],
   "source": [
    "#Use BBKNN integration instead of calculating neighbors \n",
    "# Define the number of PCA dimensions to work with - one less than number of markers. Without this, it usually defaults to 50, which we don't have enough markers for.\n",
    "n_for_pca = len(adata_lymphoid_2.var_names)-1\n",
    "\n",
    "# Define the 'obs' which defines the different cases\n",
    "batch_correction_obs = 'Group'\n",
    "\n",
    "# Calculate PCA, this must be done before BBKNN\n",
    "sc.tl.pca(adata_lymphoid_2, n_comps=n_for_pca)\n",
    "\n",
    "# BBKNN - it is used in place of the scanpy 'neighbors' command that calculates nearest neighbours in the feature space\n",
    "sc.external.pp.bbknn(adata_lymphoid_2, batch_key='Group', n_pcs=n_for_pca)\n",
    "\n",
    "#Calculate UMAP\n",
    "sc.tl.umap(adata_lymphoid_2)"
   ]
  },
  {
   "cell_type": "code",
   "execution_count": null,
   "id": "b51c98ba",
   "metadata": {
    "scrolled": true
   },
   "outputs": [],
   "source": [
    "#Plot UMAP\n",
    "sc.pl.umap(adata_lymphoid_2, size=5, color=['TMAID'], save='_lymphoid_TMAID.png')"
   ]
  },
  {
   "cell_type": "code",
   "execution_count": null,
   "id": "f3c536b4",
   "metadata": {
    "scrolled": true
   },
   "outputs": [],
   "source": [
    "#Plot UMAP for each marker\n",
    "sc.pl.umap(adata_lymphoid_2, color=adata_lymphoid_2.var_names, save='_lymphoid_Markers.png')"
   ]
  },
  {
   "cell_type": "code",
   "execution_count": null,
   "id": "cc3f2fbf",
   "metadata": {
    "scrolled": true
   },
   "outputs": [],
   "source": [
    "#Run PCA\n",
    "#sc.tl.pca(adata_lymphoid_2)\n",
    "\n",
    "#Calculate tSNE\n",
    "#sc.tl.tsne(adata_lymphoid_2)"
   ]
  },
  {
   "cell_type": "code",
   "execution_count": null,
   "id": "011b7176",
   "metadata": {
    "scrolled": true
   },
   "outputs": [],
   "source": [
    "#Run PhenoGraph\n",
    "sce.tl.phenograph(adata_lymphoid_2, clustering_algo=\"louvain\", k=200, seed=1)"
   ]
  },
  {
   "cell_type": "code",
   "execution_count": null,
   "id": "83bfa88b",
   "metadata": {
    "scrolled": true
   },
   "outputs": [],
   "source": [
    "#Plot PhenoGraph on UMAP\n",
    "sc.pl.umap(adata_lymphoid_2, color = \"pheno_louvain\", legend_fontsize = 10, save='_lymphoid_PhenoLouvain.png')"
   ]
  },
  {
   "cell_type": "code",
   "execution_count": null,
   "id": "f2bb9c91",
   "metadata": {
    "scrolled": true
   },
   "outputs": [],
   "source": [
    "#Plot heatmap of lymphoidclusters\n",
    "sc.tl.dendrogram(adata_lymphoid_2, groupby = 'pheno_louvain')\n",
    "sc.pl.heatmap(adata_lymphoid_2, adata_lymphoid_2.var_names, groupby='pheno_louvain', swap_axes=True, dendrogram=True, save='_lymphoid_PhenoLouvain_clustered.png')"
   ]
  },
  {
   "cell_type": "code",
   "execution_count": null,
   "id": "0358865e",
   "metadata": {
    "scrolled": true
   },
   "outputs": [],
   "source": [
    "#Plot scaled heatmap\n",
    "adata_lymphoid_norm2 = adata_lymphoid_2.copy()\n",
    "sc.pp.scale(adata_lymphoid_norm2, max_value=2,  zero_center=True)\n",
    "sc.tl.dendrogram(adata_lymphoid_norm2, groupby = 'pheno_louvain')\n",
    "sc.pl.heatmap(adata_lymphoid_norm2, adata_lymphoid_norm2.var_names, groupby='pheno_louvain', swap_axes=True, dendrogram=True, save='_scaled_lymphoid_PhenoLouvain_clustered.png')"
   ]
  },
  {
   "cell_type": "code",
   "execution_count": null,
   "id": "755541ea",
   "metadata": {
    "scrolled": true
   },
   "outputs": [],
   "source": [
    "#Compute a ranking for the highly differential markers in each cluster\n",
    "sc.tl.rank_genes_groups(adata_lymphoid_2, 'pheno_louvain', method='t-test')\n",
    "sc.pl.rank_genes_groups(adata_lymphoid_2, n_genes=10, sharey=False, save='rank_markers_lymphoid_PhenoLouvain.png')"
   ]
  },
  {
   "cell_type": "code",
   "execution_count": null,
   "id": "ede6c10b",
   "metadata": {
    "scrolled": true
   },
   "outputs": [],
   "source": [
    "#Population distribution\n",
    "\n",
    "from importlib import reload\n",
    "\n",
    "mimc = reload(mimc)\n",
    "mimc.pop_distribution(adata_lymphoid_2,'pheno_louvain',['ROI'])"
   ]
  },
  {
   "cell_type": "markdown",
   "id": "05cce98d",
   "metadata": {},
   "source": [
    "# Mapping lymphoid clusters after annotation and merging"
   ]
  },
  {
   "cell_type": "code",
   "execution_count": null,
   "id": "f37b6d2d",
   "metadata": {
    "scrolled": true
   },
   "outputs": [],
   "source": [
    "#Annotate clusters in a dictionary file\n",
    "#Load the merged clusters and map to the anndata file\n",
    "\n",
    "# Mapping the phenograph populations onto the new/merged population labels\n",
    "\n",
    "lymphoid_dict = pd.read_csv('mikeimc_approach/Dictionaries/covid_lymphoid_dict.csv')\n",
    "l = lymphoid_dict.set_index('pheno_louvain').to_dict()\n",
    "\n",
    "adata_lymphoid_2.obs['lymphoid_pop']=adata_lymphoid_2.obs['pheno_louvain'].map(l['Lymphoid_Class'])\n",
    "\n",
    "adata_lymphoid_2.obs['lymphoid_pop']=adata_lymphoid_2.obs['lymphoid_pop'].astype('category')"
   ]
  },
  {
   "cell_type": "code",
   "execution_count": null,
   "id": "c2e3edce",
   "metadata": {
    "scrolled": true
   },
   "outputs": [],
   "source": [
    "#Spatial mapping of the annotated myeloid clusters\n",
    "graph = sb.lmplot(data = adata_lymphoid_2.obs, x = 'X_loc',y='Y_loc',hue ='lymphoid_pop',palette = 'bright',height = 8,col = 'ROI',col_wrap = 10,fit_reg = False)\n",
    "graph.savefig(\"MappedPlots_lymphoid_clusters.png\")"
   ]
  },
  {
   "cell_type": "code",
   "execution_count": null,
   "id": "14688133",
   "metadata": {
    "scrolled": true
   },
   "outputs": [],
   "source": [
    "#Plot heatmap of lymphoid clusters\n",
    "sc.tl.dendrogram(adata_lymphoid_2, groupby = 'lymphoid_pop')\n",
    "sc.pl.heatmap(adata_lymphoid_2, adata_lymphoid_2.var_names, groupby='lymphoid_pop', swap_axes=False, dendrogram=True, save='_lymphoid_annotated_clustered.png')"
   ]
  },
  {
   "cell_type": "code",
   "execution_count": null,
   "id": "922b9979",
   "metadata": {
    "scrolled": true
   },
   "outputs": [],
   "source": [
    "#Plot scaled heatmap\n",
    "adata_lymphoid_norm3 = adata_lymphoid_2.copy()\n",
    "sc.pp.scale(adata_lymphoid_norm3, max_value=2,  zero_center=True)\n",
    "sc.tl.dendrogram(adata_lymphoid_norm3, groupby = 'lymphoid_pop')\n",
    "sc.pl.heatmap(adata_lymphoid_norm3, adata_lymphoid_norm3.var_names, groupby='lymphoid_pop', swap_axes=False, dendrogram=True, save='_scaled_lymphoid_annotated_clustered.png')"
   ]
  },
  {
   "cell_type": "code",
   "execution_count": null,
   "id": "1189eea8",
   "metadata": {
    "scrolled": true
   },
   "outputs": [],
   "source": [
    "#Compute a ranking for the highly differential markers in each cluster\n",
    "sc.tl.rank_genes_groups(adata_lymphoid_2, 'lymphoid_pop', reference='rest', method='wilcoxon', corr_method='benjamini-hochberg', pts=True)\n",
    "sc.pl.rank_genes_groups(adata_lymphoid_2, n_genes=10, sharey=False, save='rank_markers_lymphoid_annotated.png')"
   ]
  },
  {
   "cell_type": "code",
   "execution_count": null,
   "id": "255cb5dd",
   "metadata": {
    "scrolled": true
   },
   "outputs": [],
   "source": [
    "#Get a table with the scores and groups. see p-values\n",
    "result = adata_lymphoid_2.uns['rank_genes_groups']\n",
    "groups = result['names'].dtype.names\n",
    "df = pd.DataFrame(\n",
    "    {group + '_' + key[:1]: result[key][group]\n",
    "    for group in groups for key in ['names', 'pvals_adj', 'scores','logfoldchanges']}).head(10)\n",
    "df\n",
    "\n",
    "compression_opts = dict(method='zip',\n",
    "                         archive_name='Rank_markers_lymphoid_annotated_clusters.csv') \n",
    "df.to_csv('Rank_markers_lymphoid_annotated_clusters.zip', index=True, compression=compression_opts)"
   ]
  },
  {
   "cell_type": "code",
   "execution_count": null,
   "id": "bd328898",
   "metadata": {
    "scrolled": true
   },
   "outputs": [],
   "source": [
    "sc.pl.rank_genes_groups_violin(adata_lymphoid_2, n_genes=5, save='top5_DE_markers_wilcoxon.png')"
   ]
  },
  {
   "cell_type": "code",
   "execution_count": null,
   "id": "b0de58f3",
   "metadata": {
    "scrolled": true
   },
   "outputs": [],
   "source": [
    "sc.pl.rank_genes_groups_matrixplot(adata_lymphoid_2, n_genes=6, values_to_plot='logfoldchanges', swap_axes=True, cmap='bwr', save='lymphoid_logFC_wilcoxon.pdf' )"
   ]
  },
  {
   "cell_type": "code",
   "execution_count": null,
   "id": "58f7f3e7",
   "metadata": {},
   "outputs": [],
   "source": [
    "sc.pl.violin(adata_lymphoid_2, ['CD11c', 'CD16','CD38', 'Vista', 'CD107a', 'GranzymeB'], groupby='lymphoid_pop', rotation=90, save='lymphoid_specificmarkers_wilcoxon.pdf')\n",
    "\n"
   ]
  },
  {
   "cell_type": "code",
   "execution_count": null,
   "id": "d5dbc057",
   "metadata": {},
   "outputs": [],
   "source": [
    "sc.pl.violin(adata_lymphoid_2, ['ClvdCaspase3', \"Foxp3\", \"CD74\", \"MHCI\", \"MHCII\"], groupby='lymphoid_pop', rotation=90, save='lymphoid_specificmarkers_wilcoxon2.pdf')\n",
    "\n"
   ]
  },
  {
   "cell_type": "code",
   "execution_count": null,
   "id": "af041036",
   "metadata": {
    "scrolled": true
   },
   "outputs": [],
   "source": [
    "#Plot PhenoGraph on UMAP\n",
    "sc.pl.umap(adata_lymphoid_2, color = \"lymphoid_pop\", legend_fontsize = 12, legend_fontweight='semibold',legend_loc='right margin', save='_lymphoid_annotated.png')\n",
    "\n",
    "#Plot PhenoGraph on tSNE\n",
    "#sc.pl.tsne(adata_lymphoid_2, color = \"lymphoid_pop\", s = 100, legend_fontsize = 8, legend_fontweight='semibold',legend_loc='on data', size=5, save='_lymphoid_annotated.pdf')"
   ]
  },
  {
   "cell_type": "markdown",
   "id": "ac5c05f5",
   "metadata": {},
   "source": [
    "# Frequency and absolute count graphs"
   ]
  },
  {
   "cell_type": "code",
   "execution_count": null,
   "id": "6f17ae6f",
   "metadata": {
    "scrolled": true
   },
   "outputs": [],
   "source": [
    "#stack bar code and extracting number of cells, distribution of each cluster per case or the cluster composition per case\n",
    "#for number of cells - don't use normalize\n",
    "#for distribution of each case per cluster - use normalize = \"index\"\n",
    "#for cluster composition per case - use normalize = \"columns\"\n",
    "#tmp1 = pd.crosstab(adata_lymphoid_2.obs['lymphoid_pop'],adata_lymphoid_2.obs['ROI'], margins=False, margins_name='Total', normalize=\"index\")\n",
    "tmp = pd.crosstab(adata_lymphoid_2.obs['lymphoid_pop'],adata_lymphoid_2.obs['HIV'], margins=False, margins_name='Total', normalize=\"columns\")\n",
    "#tmp3 = pd.crosstab(adata_lymphoid_2.obs['lymphoid_pop'],adata_lymphoid_2.obs['ROI'], margins=True, margins_name='Total')"
   ]
  },
  {
   "cell_type": "code",
   "execution_count": null,
   "id": "5d3b1111",
   "metadata": {
    "scrolled": true
   },
   "outputs": [],
   "source": [
    "tmp"
   ]
  },
  {
   "cell_type": "code",
   "execution_count": null,
   "id": "7bc6d174",
   "metadata": {
    "scrolled": true
   },
   "outputs": [],
   "source": [
    "#tmp1 = tmp1.reindex(['CD8 T cell','CD38+ CD4 T cell','CD3+ cell','CD4 T cell'])\n",
    "#tmp2 = tmp2.reindex(['CD8 T cell','CD38+ CD4 T cell','CD3+ cell','CD4 T cell'])\n",
    "#tmp3 = tmp3.reindex(['CD8 T cell','CD38+ CD4 T cell','CD3+ cell','CD4 T cell']) "
   ]
  },
  {
   "cell_type": "code",
   "execution_count": null,
   "id": "10e3d9d2",
   "metadata": {
    "scrolled": true
   },
   "outputs": [],
   "source": [
    "#compression_opts = dict(method='zip',\n",
    "                         #archive_name='Lymphoid_ROI_composition_per_cluster.csv') \n",
    "#tmp1.to_csv('Lymphoid_ROI_composition_per_cluster.zip', index=False, compression=compression_opts)"
   ]
  },
  {
   "cell_type": "code",
   "execution_count": null,
   "id": "7c78059e",
   "metadata": {
    "scrolled": true
   },
   "outputs": [],
   "source": [
    "#compression_opts = dict(method='zip',\n",
    "                         #archive_name='Lymphoid_cluster_composition_per_ROI.csv') \n",
    "#tmp2.to_csv('Lymphoid_cluster_composition_per_ROI.zip', index=False, compression=compression_opts)"
   ]
  },
  {
   "cell_type": "code",
   "execution_count": null,
   "id": "ac0bfe98",
   "metadata": {
    "scrolled": true
   },
   "outputs": [],
   "source": [
    "#compression_opts = dict(method='zip',\n",
    "                         #archive_name='Lymphoid_number_cells_per_ROI.csv') \n",
    "#tmp3.to_csv('Lymphoid_number_cells_per_ROI.zip', index=False, compression=compression_opts)"
   ]
  },
  {
   "cell_type": "code",
   "execution_count": null,
   "id": "32137919",
   "metadata": {
    "scrolled": true
   },
   "outputs": [],
   "source": [
    "tmp2 = pd.DataFrame.transpose(tmp)"
   ]
  },
  {
   "cell_type": "code",
   "execution_count": null,
   "id": "56b1faf9",
   "metadata": {
    "scrolled": true
   },
   "outputs": [],
   "source": [
    "#color for stack bars for the disease groups matching the other bar graphs\n",
    "#F08080 - light coral\n",
    "#87CEFA - lightskyblue\n",
    "#D3D3D3 - lightgrey\n",
    "\n",
    "pretty_colors = ['#F08080','#87CEFA','#D3D3D3']\n",
    "color_pal = sb.color_palette('Paired', 8)\n",
    "\n",
    "tmp2.plot.bar(stacked=True,color=color_pal, figsize=(4, 4)).legend(bbox_to_anchor=(1, 1))"
   ]
  },
  {
   "cell_type": "code",
   "execution_count": null,
   "id": "c805e58c",
   "metadata": {
    "scrolled": true
   },
   "outputs": [],
   "source": [
    "# Alter this list with adata.obs variables that you want to plot against the resulting leiden population\n",
    "image_var = 'ROI'\n",
    "\n",
    "for i in ['Group']:\n",
    "\n",
    "    mikeimc_v2.grouped_graph(adata_lymphoid_2,\n",
    "                             ROI_id=image_var,\n",
    "                             group_by_obs=i,\n",
    "                             x_axis='lymphoid_pop',\n",
    "                             fig_size=(8,4),\n",
    "                             log_scale=False, scale_factor=True,\n",
    "                            display_tables=True) #If you change display_tables to True, will also do stats on the groups\n",
    "    plt.show()"
   ]
  },
  {
   "cell_type": "code",
   "execution_count": null,
   "id": "53dd6c5b",
   "metadata": {
    "scrolled": true
   },
   "outputs": [],
   "source": [
    "# export everything except the data using `.write_csvs`.\n",
    "# Set `skip_data=False` if you also want to export the data.\n",
    "adata_lymphoid_2.write_csvs(dirname='./Analysis/SCANPY/Lymphoid/Annotated clusters/CSV files', skip_data=False)"
   ]
  },
  {
   "cell_type": "code",
   "execution_count": null,
   "id": "84db4dd3",
   "metadata": {},
   "outputs": [],
   "source": [
    "# Adding HIV status \n",
    "anno = pd.read_csv(filepath_or_buffer='./Analysis/SCANPY/Lymphoid/Annotated clusters/CSV files/obs.csv', index_col=1)"
   ]
  },
  {
   "cell_type": "code",
   "execution_count": null,
   "id": "614d512d",
   "metadata": {},
   "outputs": [],
   "source": [
    "adata_lymphoid_2.obs['HIV'] = anno['HIV'].values"
   ]
  },
  {
   "cell_type": "markdown",
   "id": "06da1e94",
   "metadata": {},
   "source": [
    "# Analysis of Endothelial cells"
   ]
  },
  {
   "cell_type": "code",
   "execution_count": null,
   "id": "1ecdf564",
   "metadata": {},
   "outputs": [],
   "source": [
    "adata_endothelium_2.obs['hierarchy']"
   ]
  },
  {
   "cell_type": "code",
   "execution_count": null,
   "id": "6c82bcf2",
   "metadata": {
    "scrolled": true
   },
   "outputs": [],
   "source": [
    "#Use BBKNN integration instead of calculating neighbors \n",
    "# Define the number of PCA dimensions to work with - one less than number of markers. Without this, it usually defaults to 50, which we don't have enough markers for.\n",
    "n_for_pca = len(adata_endothelium_2.var_names)-1\n",
    "\n",
    "# Define the 'obs' which defines the different cases\n",
    "batch_correction_obs = 'Group'\n",
    "\n",
    "# Calculate PCA, this must be done before BBKNN\n",
    "sc.tl.pca(adata_endothelium_2, n_comps=n_for_pca)\n",
    "\n",
    "# BBKNN - it is used in place of the scanpy 'neighbors' command that calculates nearest neighbours in the feature space\n",
    "sc.external.pp.bbknn(adata_endothelium_2, batch_key='Group', n_pcs=n_for_pca)\n",
    "\n",
    "#Calculate UMAP\n",
    "sc.tl.umap(adata_endothelium_2)"
   ]
  },
  {
   "cell_type": "code",
   "execution_count": null,
   "id": "a3303401",
   "metadata": {
    "scrolled": true
   },
   "outputs": [],
   "source": [
    "#Plot UMAP\n",
    "sc.pl.umap(adata_endothelium_2, color=['CaseID'], size=10, save='_endothelium_CaseID.png')"
   ]
  },
  {
   "cell_type": "code",
   "execution_count": null,
   "id": "e8a095dd",
   "metadata": {
    "scrolled": false
   },
   "outputs": [],
   "source": [
    "#Plot UMAP for each marker\n",
    "sc.pl.umap(adata_endothelium_2, color=adata_endothelium_2.var_names, save='_endothelium_Markers.png')"
   ]
  },
  {
   "cell_type": "code",
   "execution_count": null,
   "id": "964ebc60",
   "metadata": {
    "scrolled": true
   },
   "outputs": [],
   "source": [
    "#Run PCA\n",
    "sc.tl.pca(adata_endothelium_2)\n",
    "\n",
    "#Calculate tSNE\n",
    "sc.tl.tsne(adata_endothelium_2)"
   ]
  },
  {
   "cell_type": "code",
   "execution_count": null,
   "id": "f22d281a",
   "metadata": {
    "scrolled": true
   },
   "outputs": [],
   "source": [
    "#Run PhenoGraph\n",
    "sce.tl.phenograph(adata_endothelium_2, clustering_algo=\"louvain\", k=200, seed=1)"
   ]
  },
  {
   "cell_type": "code",
   "execution_count": null,
   "id": "bd2efd0e",
   "metadata": {
    "scrolled": true
   },
   "outputs": [],
   "source": [
    "#Plot PhenoGraph on UMAP\n",
    "sc.pl.umap(adata_endothelium_2, color = \"pheno_louvain\", legend_fontsize = 10, save='_endothelium_PhenoLouvain.png')"
   ]
  },
  {
   "cell_type": "code",
   "execution_count": null,
   "id": "41b440cf",
   "metadata": {
    "scrolled": true
   },
   "outputs": [],
   "source": [
    "#Plot heatmap of EC clusters\n",
    "sc.tl.dendrogram(adata_endothelium_2, groupby = 'pheno_louvain')\n",
    "sc.pl.heatmap(adata_endothelium_2, adata_endothelium_2.var_names, groupby='pheno_louvain', swap_axes=True, dendrogram=True, save='_endothelium_PhenoLouvain_clustered.png')"
   ]
  },
  {
   "cell_type": "code",
   "execution_count": null,
   "id": "cfdbff28",
   "metadata": {
    "scrolled": true
   },
   "outputs": [],
   "source": [
    "#Plot scaled heatmap\n",
    "adata_endothelium_norm2 = adata_endothelium_2.copy()\n",
    "sc.pp.scale(adata_endothelium_norm2, max_value=2,  zero_center=True)\n",
    "sc.tl.dendrogram(adata_endothelium_norm2, groupby = 'pheno_louvain')\n",
    "sc.pl.heatmap(adata_endothelium_norm2, adata_endothelium_norm2.var_names, groupby='pheno_louvain', swap_axes=True, dendrogram=True, save='_scaled_endothelium_PhenoLouvain_clustered.png')"
   ]
  },
  {
   "cell_type": "code",
   "execution_count": null,
   "id": "c2970df8",
   "metadata": {
    "scrolled": true
   },
   "outputs": [],
   "source": [
    "#Compute a ranking for the highly differential markers in each cluster\n",
    "sc.tl.rank_genes_groups(adata_endothelium_2, 'pheno_louvain', reference='rest', method='wilcoxon', corr_method='benjamini-hochberg', pts=True)\n",
    "sc.pl.rank_genes_groups(adata_endothelium_2, n_genes=10, sharey=False, save='rank_markers_endothelium_PhenoLouvain.png')"
   ]
  },
  {
   "cell_type": "code",
   "execution_count": null,
   "id": "e40122f4",
   "metadata": {
    "scrolled": false
   },
   "outputs": [],
   "source": [
    "#Population distribution\n",
    "\n",
    "from importlib import reload\n",
    "\n",
    "mimc = reload(mimc)\n",
    "mimc.pop_distribution(adata_endothelium_2,'pheno_louvain',['ROI'])"
   ]
  },
  {
   "cell_type": "markdown",
   "id": "68cc39d7",
   "metadata": {},
   "source": [
    "# Mapping endothelial clusters after annotation and merging"
   ]
  },
  {
   "cell_type": "code",
   "execution_count": null,
   "id": "028d8800",
   "metadata": {
    "scrolled": true
   },
   "outputs": [],
   "source": [
    "#Annotate clusters in a dictionary file\n",
    "#Load the merged clusters and map to the anndata file\n",
    "\n",
    "# Mapping the phenograph populations onto the new/merged population labels\n",
    "\n",
    "endothelial_dict = pd.read_csv('mikeimc_approach/Dictionaries/covid_endothelial_dict.csv')\n",
    "e = endothelial_dict.set_index('pheno_louvain').to_dict()\n",
    "\n",
    "adata_endothelium_2.obs['endothelial_pop']=adata_endothelium_2.obs['pheno_louvain'].map(e['Endothelial_Class'])\n",
    "adata_endothelium_2.obs['endothelial_pop']=adata_endothelium_2.obs['endothelial_pop'].astype('category')"
   ]
  },
  {
   "cell_type": "code",
   "execution_count": null,
   "id": "3a3ba4a2",
   "metadata": {
    "scrolled": true
   },
   "outputs": [],
   "source": [
    "#Spatial mapping of the annotated myeloid clusters\n",
    "graph = sb.lmplot(data = adata_endothelium_2.obs, x = 'X_loc',y='Y_loc',hue ='endothelial_pop',palette = 'bright',height = 8,col = 'ROI',col_wrap = 10,fit_reg = False)\n",
    "graph.savefig(\"MappedPlots_endothelial_clusters.png\")"
   ]
  },
  {
   "cell_type": "code",
   "execution_count": null,
   "id": "32cc457e",
   "metadata": {
    "scrolled": true
   },
   "outputs": [],
   "source": [
    "#Plot heatmap of lymphoid clusters\n",
    "sc.tl.dendrogram(adata_endothelium_2, groupby = 'endothelial_pop')\n",
    "sc.pl.heatmap(adata_endothelium_2, adata_endothelium_2.var_names, groupby='endothelial_pop', swap_axes=False, dendrogram=True, save='_endothelial_annotated_clustered.png')"
   ]
  },
  {
   "cell_type": "code",
   "execution_count": null,
   "id": "27727567",
   "metadata": {
    "scrolled": true
   },
   "outputs": [],
   "source": [
    "#Plot scaled heatmap\n",
    "adata_endothelium_norm3 = adata_endothelium_2.copy()\n",
    "sc.pp.scale(adata_endothelium_norm3, max_value=2,  zero_center=True)\n",
    "sc.tl.dendrogram(adata_endothelium_norm3, groupby = 'endothelial_pop')\n",
    "sc.pl.heatmap(adata_endothelium_norm3, adata_endothelium_norm3.var_names, groupby='endothelial_pop', swap_axes=False, dendrogram=True, save='_scaled_endothelial_annotated_clustered.png')"
   ]
  },
  {
   "cell_type": "code",
   "execution_count": null,
   "id": "3790f4ec",
   "metadata": {
    "scrolled": true
   },
   "outputs": [],
   "source": [
    "#Compute a ranking for the highly differential markers in each cluster\n",
    "#To identify differentially expressed genes we run sc.tl.rank_genes_groups. \n",
    "#This function will take each group of cells and compare the distribution of each gene in a group against the distribution in all other cells not in the group. \n",
    "sc.tl.rank_genes_groups(adata_endothelium_2, 'endothelial_pop', reference='rest', method='wilcoxon', corr_method='benjamini-hochberg', pts=True)"
   ]
  },
  {
   "cell_type": "code",
   "execution_count": null,
   "id": "ed6d5019",
   "metadata": {
    "scrolled": true
   },
   "outputs": [],
   "source": [
    "sc.pl.rank_genes_groups(adata_endothelium_2, n_genes=10, sharey=False, save='rank_markers_endothelial_annotated.png')"
   ]
  },
  {
   "cell_type": "code",
   "execution_count": null,
   "id": "a7630c10",
   "metadata": {
    "scrolled": true
   },
   "outputs": [],
   "source": [
    "#Get a table with the scores and groups. see p-values\n",
    "result = adata_endothelium_2.uns['rank_genes_groups']\n",
    "groups = result['names'].dtype.names\n",
    "df_ec = pd.DataFrame(\n",
    "    {group + '_' + key[:1]: result[key][group]\n",
    "    for group in groups for key in ['names', 'pvals_adj', 'scores','logfoldchanges']}).head(10)\n",
    "df_ec"
   ]
  },
  {
   "cell_type": "code",
   "execution_count": null,
   "id": "cce10890",
   "metadata": {
    "scrolled": true
   },
   "outputs": [],
   "source": [
    "compression_opts = dict(method='zip',\n",
    "                         archive_name='Rank_markers_EC_annotated_clusters.csv') \n",
    "df_ec.to_csv('Rank_markers_EC_annotated_clusters.zip', index=True, compression=compression_opts)"
   ]
  },
  {
   "cell_type": "code",
   "execution_count": null,
   "id": "9f4a819c",
   "metadata": {
    "scrolled": false
   },
   "outputs": [],
   "source": [
    "sc.pl.rank_genes_groups_violin(adata_endothelium_2, n_genes=5, save='top5_DE_markers_wilcoxon.png')"
   ]
  },
  {
   "cell_type": "code",
   "execution_count": null,
   "id": "76c053c8",
   "metadata": {
    "scrolled": true
   },
   "outputs": [],
   "source": [
    "sc.pl.rank_genes_groups_violin(adata_endothelium_2, split=False, groups = ['Activated Endothelial cell'], gene_names=['ClvdCaspase3'], save='ClvdCaspase3_expression_wilcoxon.png')"
   ]
  },
  {
   "cell_type": "code",
   "execution_count": null,
   "id": "1e8a95ff",
   "metadata": {
    "scrolled": true
   },
   "outputs": [],
   "source": [
    "sc.pl.rank_genes_groups_matrixplot(adata_endothelium_2, n_genes=6, values_to_plot='logfoldchanges', swap_axes=True, cmap='bwr', save='EC_logFC_wilcoxon.pdf')"
   ]
  },
  {
   "cell_type": "code",
   "execution_count": null,
   "id": "3637c734",
   "metadata": {
    "scrolled": true
   },
   "outputs": [],
   "source": [
    "sc.pl.rank_genes_groups_dotplot(adata_endothelium_2, var_names=['ICAM1', 'vWF','SARSCoV2','MHCI', 'MHCII', 'CD74', 'CD107a', 'GranzymeB'], values_to_plot='logfoldchanges', swap_axes=True, cmap='bwr', save='EC_specificmarkers_logFC_wilcoxon.png')"
   ]
  },
  {
   "cell_type": "code",
   "execution_count": null,
   "id": "9e7cd76a",
   "metadata": {},
   "outputs": [],
   "source": [
    "sc.pl.violin(adata_endothelium_2, ['ICAM1', 'vWF','CD74', 'MHCI', 'MHCII', 'CD107a','GranzymeB'], groupby='endothelial_pop', rotation=90, save='endothelium_specificmarkers_wilcoxon.pdf')\n",
    "\n"
   ]
  },
  {
   "cell_type": "code",
   "execution_count": null,
   "id": "9d2a8116",
   "metadata": {
    "scrolled": true
   },
   "outputs": [],
   "source": [
    "#Plot PhenoGraph on UMAP\n",
    "sc.pl.umap(adata_endothelium_2, color = \"endothelial_pop\", legend_fontsize = 12, legend_fontweight='semibold', legend_loc='right margin', save='_endothelial_annotated.png')\n",
    "\n",
    "#Plot PhenoGraph on tSNE\n",
    "#sc.pl.tsne(adata_endothelium_2, color = \"endothelial_pop\", s = 100, legend_fontsize = 8, legend_fontweight='semibold',legend_loc='on data', size=5, save='_endothelial_annotated.pdf')"
   ]
  },
  {
   "cell_type": "markdown",
   "id": "44e67fa3",
   "metadata": {},
   "source": [
    "# Frequency and absolute count graphs"
   ]
  },
  {
   "cell_type": "code",
   "execution_count": null,
   "id": "c391f17e",
   "metadata": {
    "scrolled": true
   },
   "outputs": [],
   "source": [
    "#stack bar code and extracting number of cells, distribution of each cluster per case or the cluster composition per case\n",
    "#for number of cells - don't use normalize\n",
    "#for distribution of each case per cluster - use normalize = \"index\"\n",
    "#for cluster composition per case - use normalize = \"columns\"\n",
    "#tmp1 = pd.crosstab(adata_endothelium_2.obs['endothelial_pop'],adata_endothelium_2.obs['ROI'], margins=False, margins_name='Total', normalize=\"index\")\n",
    "tmp2 = pd.crosstab(adata_endothelium_2.obs['endothelial_pop'],adata_endothelium_2.obs['HIV'], margins=False, margins_name='Total', normalize=\"columns\")\n",
    "#tmp3 = pd.crosstab(adata_endothelium_2.obs['endothelial_pop'],adata_endothelium_2.obs['ROI'], margins=True, margins_name='Total')"
   ]
  },
  {
   "cell_type": "code",
   "execution_count": null,
   "id": "b8ba0571",
   "metadata": {
    "scrolled": true
   },
   "outputs": [],
   "source": [
    "tmp2"
   ]
  },
  {
   "cell_type": "code",
   "execution_count": null,
   "id": "d5fcbc67",
   "metadata": {
    "scrolled": true
   },
   "outputs": [],
   "source": [
    "tmp3"
   ]
  },
  {
   "cell_type": "code",
   "execution_count": null,
   "id": "913d6279",
   "metadata": {
    "scrolled": true
   },
   "outputs": [],
   "source": [
    "compression_opts = dict(method='zip',\n",
    "                         archive_name='EC_ROI_composition_per_cluster.csv') \n",
    "tmp1.to_csv('EC_ROI_composition_per_cluster.zip', index=True, compression=compression_opts)\n",
    "\n",
    "compression_opts = dict(method='zip',\n",
    "                         archive_name='EC_cluster_composition_per_ROI.csv') \n",
    "tmp2.to_csv('EC_cluster_composition_per_ROI.zip', index=True, compression=compression_opts)\n",
    "\n",
    "compression_opts = dict(method='zip',\n",
    "                         archive_name='EC_number_per_cluster.csv') \n",
    "tmp3.to_csv('EC_number_per_cluster.zip', index=True, compression=compression_opts)"
   ]
  },
  {
   "cell_type": "code",
   "execution_count": null,
   "id": "9e7a66cf",
   "metadata": {
    "scrolled": true
   },
   "outputs": [],
   "source": [
    "tmp4 = pd.DataFrame.transpose(tmp2)"
   ]
  },
  {
   "cell_type": "code",
   "execution_count": null,
   "id": "9fae09d9",
   "metadata": {
    "scrolled": true
   },
   "outputs": [],
   "source": [
    "#color for stack bars for the disease groups matching the other bar graphs\n",
    "#F08080 - light coral\n",
    "#87CEFA - lightskyblue\n",
    "#D3D3D3 - lightgrey\n",
    "\n",
    "pretty_colors = ['#F08080','#87CEFA','#D3D3D3']\n",
    "color_pal = sb.color_palette('Paired', 4)\n",
    "\n",
    "tmp4.plot.bar(stacked=True,color=color_pal, figsize=(4, 4)).legend(bbox_to_anchor=(1, 1))"
   ]
  },
  {
   "cell_type": "code",
   "execution_count": null,
   "id": "ad07c35f",
   "metadata": {
    "scrolled": true
   },
   "outputs": [],
   "source": [
    "# Alter this list with adata.obs variables that you want to plot against the resulting leiden population\n",
    "image_var = 'ROI'\n",
    "\n",
    "for i in ['Group']:\n",
    "\n",
    "    mikeimc_v2.grouped_graph(adata_endothelium_2,\n",
    "                             ROI_id=image_var,\n",
    "                             group_by_obs=i,\n",
    "                             x_axis='endothelial_pop',\n",
    "                             fig_size=(8,4),\n",
    "                             log_scale=False, scale_factor=True,\n",
    "                            display_tables=True) #If you change display_tables to True, will also do stats on the groups\n",
    "    plt.show()"
   ]
  },
  {
   "cell_type": "code",
   "execution_count": null,
   "id": "54402f8f",
   "metadata": {
    "scrolled": true
   },
   "outputs": [],
   "source": [
    "# export everything except the data using `.write_csvs`.\n",
    "# Set `skip_data=False` if you also want to export the data.\n",
    "adata_endothelium_2.write_csvs(dirname='./Analysis/SCANPY/Endothelium/Annotated clusters/CSV files', skip_data=False)"
   ]
  },
  {
   "cell_type": "code",
   "execution_count": null,
   "id": "325b4b59",
   "metadata": {},
   "outputs": [],
   "source": [
    "# Adding HIV status \n",
    "anno = pd.read_csv(filepath_or_buffer='./Analysis/SCANPY/Endothelium/Annotated clusters/CSV files/obs.csv', index_col=1)"
   ]
  },
  {
   "cell_type": "code",
   "execution_count": null,
   "id": "8a0b264d",
   "metadata": {},
   "outputs": [],
   "source": [
    "adata_endothelium_2.obs['HIV'] = anno['HIV'].values"
   ]
  },
  {
   "cell_type": "markdown",
   "id": "db87c324",
   "metadata": {},
   "source": [
    "# Analysis of Epithelial cells"
   ]
  },
  {
   "cell_type": "code",
   "execution_count": null,
   "id": "ba86245a",
   "metadata": {},
   "outputs": [],
   "source": [
    "adata_epithelial_2.obs['hierarchy']"
   ]
  },
  {
   "cell_type": "code",
   "execution_count": null,
   "id": "95a2f926",
   "metadata": {
    "scrolled": true
   },
   "outputs": [],
   "source": [
    "#Use BBKNN integration instead of calculating neighbors \n",
    "# Define the number of PCA dimensions to work with - one less than number of markers. Without this, it usually defaults to 50, which we don't have enough markers for.\n",
    "n_for_pca = len(adata_epithelial_2.var_names)-1\n",
    "\n",
    "# Define the 'obs' which defines the different cases\n",
    "batch_correction_obs = 'Group'\n",
    "\n",
    "# Calculate PCA, this must be done before BBKNN\n",
    "sc.tl.pca(adata_epithelial_2, n_comps=n_for_pca)\n",
    "\n",
    "# BBKNN - it is used in place of the scanpy 'neighbors' command that calculates nearest neighbours in the feature space\n",
    "sc.external.pp.bbknn(adata_epithelial_2, batch_key='Group', n_pcs=n_for_pca)\n",
    "\n",
    "#Calculate UMAP\n",
    "sc.tl.umap(adata_epithelial_2)"
   ]
  },
  {
   "cell_type": "code",
   "execution_count": null,
   "id": "71fd4609",
   "metadata": {
    "scrolled": true
   },
   "outputs": [],
   "source": [
    "#Plot UMAP\n",
    "sc.pl.umap(adata_epithelial_2, color=['CaseID'], size=10, save='_epithelial_CaseID.png')"
   ]
  },
  {
   "cell_type": "code",
   "execution_count": null,
   "id": "4bf297f1",
   "metadata": {
    "scrolled": true
   },
   "outputs": [],
   "source": [
    "#Plot UMAP for each marker\n",
    "sc.pl.umap(adata_epithelial_2, color=adata_epithelial_2.var_names, size=20, save='_epithelial_Markers.png')"
   ]
  },
  {
   "cell_type": "code",
   "execution_count": null,
   "id": "ca922134",
   "metadata": {
    "scrolled": true
   },
   "outputs": [],
   "source": [
    "#Run PCA\n",
    "sc.tl.pca(adata_epithelial_2)\n",
    "\n",
    "#Calculate tSNE\n",
    "sc.tl.tsne(adata_epithelial_2)"
   ]
  },
  {
   "cell_type": "code",
   "execution_count": null,
   "id": "3f23f320",
   "metadata": {
    "scrolled": true
   },
   "outputs": [],
   "source": [
    "#Run PhenoGraph\n",
    "sce.tl.phenograph(adata_epithelial_2, clustering_algo=\"louvain\", k=200, seed=1234)"
   ]
  },
  {
   "cell_type": "code",
   "execution_count": null,
   "id": "3210007f",
   "metadata": {
    "scrolled": true
   },
   "outputs": [],
   "source": [
    "#Plot PhenoGraph on UMAP\n",
    "sc.pl.umap(adata_epithelial_2, color = \"pheno_louvain\", legend_fontsize = 10, save='_epithelial_PhenoLouvain.png')"
   ]
  },
  {
   "cell_type": "code",
   "execution_count": null,
   "id": "6943bc41",
   "metadata": {
    "scrolled": true
   },
   "outputs": [],
   "source": [
    "#Plot heatmap of epithelial clusters\n",
    "sc.tl.dendrogram(adata_epithelial_2, groupby = 'pheno_louvain')\n",
    "sc.pl.heatmap(adata_epithelial_2, adata_epithelial_2.var_names, groupby='pheno_louvain', vmax=0.75, swap_axes=True, dendrogram=True, save='_epithelial_PhenoLouvain_clustered.png')"
   ]
  },
  {
   "cell_type": "code",
   "execution_count": null,
   "id": "ccdb9dd1",
   "metadata": {
    "scrolled": true
   },
   "outputs": [],
   "source": [
    "#Plot scaled heatmap\n",
    "adata_epithelial_norm2 = adata_epithelial_2.copy()\n",
    "sc.pp.scale(adata_epithelial_norm2, max_value=2,  zero_center=True)\n",
    "sc.tl.dendrogram(adata_epithelial_norm2, groupby = 'pheno_louvain')\n",
    "sc.pl.heatmap(adata_epithelial_norm2, adata_epithelial_norm2.var_names, groupby='pheno_louvain', swap_axes=True, dendrogram=True, save='_scaled_epithelial_PhenoLouvain_clustered.png')"
   ]
  },
  {
   "cell_type": "code",
   "execution_count": null,
   "id": "729af393",
   "metadata": {
    "scrolled": true
   },
   "outputs": [],
   "source": [
    "#Compute a ranking for the highly differential markers in each cluster\n",
    "sc.tl.rank_genes_groups(adata_epithelial_2, 'pheno_louvain', reference='rest', method='wilcoxon', corr_method='benjamini-hochberg', pts=True)\n",
    "sc.pl.rank_genes_groups(adata_epithelial_2, n_genes=10, sharey=False, save='rank_markers_epithelial_PhenoLouvain.png')"
   ]
  },
  {
   "cell_type": "code",
   "execution_count": null,
   "id": "6e3e9ddb",
   "metadata": {
    "scrolled": true
   },
   "outputs": [],
   "source": [
    "#Population distribution\n",
    "\n",
    "from importlib import reload\n",
    "\n",
    "mimc = reload(mimc)\n",
    "mimc.pop_distribution(adata_epithelial_2,'pheno_louvain',['ROI'])"
   ]
  },
  {
   "cell_type": "code",
   "execution_count": null,
   "id": "18239e76",
   "metadata": {
    "scrolled": true
   },
   "outputs": [],
   "source": [
    "adata_epithelial_2"
   ]
  },
  {
   "cell_type": "markdown",
   "id": "f9fc5a26",
   "metadata": {},
   "source": [
    "# Mapping new epithelial clusters after annotation and merging"
   ]
  },
  {
   "cell_type": "code",
   "execution_count": null,
   "id": "98c65843",
   "metadata": {
    "scrolled": true
   },
   "outputs": [],
   "source": [
    "#Annotate clusters in a dictionary file\n",
    "#Load the merged clusters and map to the anndata file\n",
    "\n",
    "# Mapping the phenograph populations onto the new/merged population labels\n",
    "\n",
    "epithelial_dict = pd.read_csv('mikeimc_approach/Dictionaries/covid_epithelial_dict.csv')\n",
    "ep = epithelial_dict.set_index('pheno_louvain').to_dict()\n",
    "\n",
    "adata_epithelial_2.obs['epithelial_pop']=adata_epithelial_2.obs['pheno_louvain'].map(ep['Epithelial_Class'])\n",
    "\n",
    "adata_epithelial_2.obs['epithelial_pop']=adata_epithelial_2.obs['epithelial_pop'].astype('category')"
   ]
  },
  {
   "cell_type": "code",
   "execution_count": null,
   "id": "973e534e",
   "metadata": {
    "scrolled": true
   },
   "outputs": [],
   "source": [
    "#Spatial mapping of the annotated myeloid clusters\n",
    "graph = sb.lmplot(data = adata_epithelial_2.obs, x = 'X_loc',y='Y_loc',hue ='epithelial_pop',palette = 'bright',height = 8,col = 'ROI',col_wrap = 10,fit_reg = False)\n",
    "graph.savefig(\"MappedPlots_epithelial_clusters.png\")"
   ]
  },
  {
   "cell_type": "code",
   "execution_count": null,
   "id": "38a71969",
   "metadata": {
    "scrolled": true
   },
   "outputs": [],
   "source": [
    "#Plot heatmap of epithelial clusters\n",
    "sc.tl.dendrogram(adata_epithelial_2, groupby = 'epithelial_pop')\n",
    "sc.pl.heatmap(adata_epithelial_2, adata_epithelial_2.var_names, vmax=0.75, groupby='epithelial_pop', swap_axes=False, dendrogram=False, save='_epithelial_annotated_clustered.png')"
   ]
  },
  {
   "cell_type": "code",
   "execution_count": null,
   "id": "2c79043d",
   "metadata": {
    "scrolled": true
   },
   "outputs": [],
   "source": [
    "#Plot scaled heatmap\n",
    "adata_epithelial_norm3 = adata_epithelial_2.copy()\n",
    "sc.pp.scale(adata_epithelial_norm3, max_value=2,  zero_center=True)\n",
    "sc.tl.dendrogram(adata_epithelial_norm3, groupby = 'epithelial_pop')\n",
    "sc.pl.heatmap(adata_epithelial_norm3, adata_epithelial_norm3.var_names, groupby='epithelial_pop', swap_axes=False, dendrogram=True, save='_scaled_epithelial_annotated_clustered.png')"
   ]
  },
  {
   "cell_type": "code",
   "execution_count": null,
   "id": "be348c45",
   "metadata": {
    "scrolled": true
   },
   "outputs": [],
   "source": [
    "#Compute a ranking for the highly differential markers in each cluster\n",
    "sc.tl.rank_genes_groups(adata_epithelial_2, 'epithelial_pop', reference='rest', method='wilcoxon', corr_method='benjamini-hochberg', pts=True)\n",
    "sc.pl.rank_genes_groups(adata_epithelial_2, n_genes=10, sharey=False, save='rank_markers_epithelial_annotated.png')"
   ]
  },
  {
   "cell_type": "code",
   "execution_count": null,
   "id": "f0e5259b",
   "metadata": {
    "scrolled": true
   },
   "outputs": [],
   "source": [
    "#Get a table with the scores and groups. see p-values\n",
    "result = adata_epithelial_2.uns['rank_genes_groups']\n",
    "groups = result['names'].dtype.names\n",
    "df_ec = pd.DataFrame(\n",
    "    {group + '_' + key[:1]: result[key][group]\n",
    "    for group in groups for key in ['names', 'pvals_adj', 'scores','logfoldchanges']}).head(10)\n",
    "df_ec"
   ]
  },
  {
   "cell_type": "code",
   "execution_count": null,
   "id": "3bbf8502",
   "metadata": {
    "scrolled": true
   },
   "outputs": [],
   "source": [
    "compression_opts = dict(method='zip',\n",
    "                         archive_name='Rank_markers_epithelial_annotated_clusters.csv') \n",
    "df_ec.to_csv('Rank_markers_epithelial_annotated_clusters.zip', index=True, compression=compression_opts)"
   ]
  },
  {
   "cell_type": "code",
   "execution_count": null,
   "id": "8b3057ad",
   "metadata": {
    "scrolled": true
   },
   "outputs": [],
   "source": [
    "sc.pl.rank_genes_groups_violin(adata_epithelial_2, n_genes=9, save='top5_DE_markers_wilcoxon.png')"
   ]
  },
  {
   "cell_type": "code",
   "execution_count": null,
   "id": "a1f2b076",
   "metadata": {
    "scrolled": false
   },
   "outputs": [],
   "source": [
    "sc.pl.rank_genes_groups_violin(adata_epithelial_2, groups=['Virus-infected Epithelial cell'], split=False, gene_names=['GranzymeB'], save='GranzymeB_expression_wilcoxon.pdf')"
   ]
  },
  {
   "cell_type": "code",
   "execution_count": null,
   "id": "522b2009",
   "metadata": {
    "scrolled": true
   },
   "outputs": [],
   "source": [
    "sc.pl.rank_genes_groups_violin(adata_epithelial_2, groups=['MHCII Virus-infected Epithelial cell'], split=False, gene_names=['CD107a'], save='CD107a_expression_wilcoxon.pdf')"
   ]
  },
  {
   "cell_type": "code",
   "execution_count": null,
   "id": "7d51cd31",
   "metadata": {
    "scrolled": true
   },
   "outputs": [],
   "source": [
    "sc.pl.rank_genes_groups_matrixplot(adata_epithelial_2, n_genes=6, values_to_plot='logfoldchanges', swap_axes=True, cmap='bwr', save='epithelial_logFC_wilcoxon.png')"
   ]
  },
  {
   "cell_type": "code",
   "execution_count": null,
   "id": "59860123",
   "metadata": {
    "scrolled": true
   },
   "outputs": [],
   "source": [
    "sc.pl.rank_genes_groups_dotplot(adata_epithelial_2, n_genes=6, values_to_plot='logfoldchanges', swap_axes=True, cmap='bwr', save='epithelial_logFC_wilcoxon.png')"
   ]
  },
  {
   "cell_type": "code",
   "execution_count": null,
   "id": "3a68fb7d",
   "metadata": {
    "scrolled": false
   },
   "outputs": [],
   "source": [
    "sc.pl.rank_genes_groups_dotplot(adata_epithelial_2, var_names=['SARSCoV2','MHCI', 'MHCII', 'CD74', 'CD107a', 'GranzymeB', 'ClvdCaspase3'], values_to_plot='logfoldchanges', swap_axes=True, cmap='bwr', save='epithelial_specificmarkers_logFC_wilcoxon.pdf')"
   ]
  },
  {
   "cell_type": "code",
   "execution_count": null,
   "id": "747c63b4",
   "metadata": {},
   "outputs": [],
   "source": [
    "sc.pl.violin(adata_epithelial_2, ['CD74', 'MHCI', 'MHCII', 'CD107a','GranzymeB', 'ClvdCaspase3'], groupby='epithelial_pop', rotation=90, save='epithelial_specificmarkers_wilcoxon.pdf')\n",
    "\n"
   ]
  },
  {
   "cell_type": "code",
   "execution_count": null,
   "id": "d7ce3169",
   "metadata": {
    "scrolled": true
   },
   "outputs": [],
   "source": [
    "#Plot PhenoGraph on UMAP\n",
    "sc.pl.umap(adata_epithelial_2, color = \"epithelial_pop\", legend_fontsize = 12, legend_fontweight='semibold',legend_loc='right margin', save='_epithelial_annotated.png')\n",
    "\n",
    "#Plot henoGraph on tSNE\n",
    "#sc.pl.tsne(adata_epithelial_2, color = \"epithelial_pop\", s = 100, legend_fontsize = 6, legend_fontweight='semibold',legend_loc='on data', size=2, save='_epithelial_annotated.pdf')"
   ]
  },
  {
   "cell_type": "markdown",
   "id": "a1b60780",
   "metadata": {},
   "source": [
    "# Frequency and absolute count graphs"
   ]
  },
  {
   "cell_type": "code",
   "execution_count": null,
   "id": "feb45b6b",
   "metadata": {
    "scrolled": true
   },
   "outputs": [],
   "source": [
    "#stack bar code and extracting number of cells, distribution of each cluster per case or the cluster composition per case\n",
    "#for number of cells - don't use normalize\n",
    "#for distribution of each case per cluster - use normalize = \"index\"\n",
    "#for cluster composition per case - use normalize = \"columns\"\n",
    "#tmp1 = pd.crosstab(adata_epithelial_2.obs['epithelial_pop'],adata_epithelial_2.obs['ROI'], margins=False, margins_name='Total', normalize=\"index\")\n",
    "tmp2 = pd.crosstab(adata_epithelial_2.obs['epithelial_pop'],adata_epithelial_2.obs['HIV'], margins=False, margins_name='Total', normalize=\"columns\")\n",
    "#tmp3 = pd.crosstab(adata_epithelial_2.obs['epithelial_pop'],adata_epithelial_2.obs['ROI'], margins=True, margins_name='Total')"
   ]
  },
  {
   "cell_type": "code",
   "execution_count": null,
   "id": "f61566bc",
   "metadata": {
    "scrolled": true
   },
   "outputs": [],
   "source": [
    "compression_opts = dict(method='zip',\n",
    "                         archive_name='Epithelial_ROI_composition_cluster.csv') \n",
    "tmp1.to_csv('Epithelial_ROI_composition_cluster.zip', index=True, compression=compression_opts)\n",
    "\n",
    "compression_opts = dict(method='zip',\n",
    "                         archive_name='Epithelial_cluster_composition_ROI.csv') \n",
    "tmp2.to_csv('Epithelial_cluster_composition_ROI.zip', index=True, compression=compression_opts)\n",
    "\n",
    "compression_opts = dict(method='zip',\n",
    "                         archive_name='Epithelial_number_epithelial_cell_per_ROI.csv') \n",
    "tmp3.to_csv('Epithelial_number_epithelial_cell_per_ROI.zip', index=True, compression=compression_opts)"
   ]
  },
  {
   "cell_type": "code",
   "execution_count": null,
   "id": "0902f2ad",
   "metadata": {
    "scrolled": true
   },
   "outputs": [],
   "source": [
    "#tmp4 = tmp2.reindex(['MHCII Virus-infected Epithelial cell','Virus-infected Epithelial cell','Epithelial cell','MHCII Epithelial cell','Proliferative Epithelial cell'])"
   ]
  },
  {
   "cell_type": "code",
   "execution_count": null,
   "id": "0fe24b56",
   "metadata": {
    "scrolled": true
   },
   "outputs": [],
   "source": [
    "tmp4 = pd.DataFrame.transpose(tmp2)"
   ]
  },
  {
   "cell_type": "code",
   "execution_count": null,
   "id": "d30783c4",
   "metadata": {
    "scrolled": true
   },
   "outputs": [],
   "source": [
    "#color for stack bars for the disease groups matching the other bar graphs\n",
    "#F08080 - light coral\n",
    "#87CEFA - lightskyblue\n",
    "#D3D3D3 - lightgrey\n",
    "\n",
    "pretty_colors = ['#F08080','#87CEFA','#D3D3D3']\n",
    "color_pal = sb.color_palette('Paired', 5)\n",
    "\n",
    "tmp4.plot.bar(stacked=True,color=color_pal, figsize=(4, 4)).legend(bbox_to_anchor=(1, 1))"
   ]
  },
  {
   "cell_type": "code",
   "execution_count": null,
   "id": "fa867ef4",
   "metadata": {
    "scrolled": true
   },
   "outputs": [],
   "source": [
    "# Alter this list with adata.obs variables that you want to plot against the resulting leiden population\n",
    "image_var = 'ROI'\n",
    "\n",
    "for i in ['Group']:\n",
    "\n",
    "    mikeimc_v2.grouped_graph(adata_epithelial_2,\n",
    "                             ROI_id=image_var,\n",
    "                             group_by_obs=i,\n",
    "                             x_axis='epithelial_pop',\n",
    "                             fig_size=(8,4),\n",
    "                             log_scale=False, scale_factor=True,\n",
    "                            display_tables=True) #If you change display_tables to True, will also do stats on the groups\n",
    "    plt.show()"
   ]
  },
  {
   "cell_type": "code",
   "execution_count": null,
   "id": "e7e8d646",
   "metadata": {
    "scrolled": true
   },
   "outputs": [],
   "source": [
    "# export everything except the data using `.write_csvs`.\n",
    "# Set `skip_data=False` if you also want to export the data.\n",
    "adata_epithelial_2.write_csvs(dirname='./Analysis/SCANPY/Epithelial/Annotated clusters/CSV files', skip_data=False)"
   ]
  },
  {
   "cell_type": "code",
   "execution_count": null,
   "id": "871e41a9",
   "metadata": {},
   "outputs": [],
   "source": [
    "# Adding HIV status \n",
    "anno = pd.read_csv(filepath_or_buffer='./Analysis/SCANPY/Epithelial/Annotated clusters/CSV files/obs.csv', index_col=1)"
   ]
  },
  {
   "cell_type": "code",
   "execution_count": null,
   "id": "314071b3",
   "metadata": {},
   "outputs": [],
   "source": [
    "adata_epithelial_2.obs['HIV'] = anno['HIV'].values"
   ]
  },
  {
   "cell_type": "markdown",
   "id": "64843c57",
   "metadata": {},
   "source": [
    "# Analysis of Stromal cell"
   ]
  },
  {
   "cell_type": "code",
   "execution_count": null,
   "id": "ac6b60ba",
   "metadata": {},
   "outputs": [],
   "source": [
    "adata_fibroblast"
   ]
  },
  {
   "cell_type": "code",
   "execution_count": null,
   "id": "cc6a3879",
   "metadata": {
    "scrolled": true
   },
   "outputs": [],
   "source": [
    "#Use BBKNN integration instead of calculating neighbors \n",
    "# Define the number of PCA dimensions to work with - one less than number of markers. Without this, it usually defaults to 50, which we don't have enough markers for.\n",
    "n_for_pca = len(adata_fibroblast.var_names)-1\n",
    "\n",
    "# Define the 'obs' which defines the different cases\n",
    "batch_correction_obs = 'Group'\n",
    "\n",
    "# Calculate PCA, this must be done before BBKNN\n",
    "sc.tl.pca(adata_fibroblast, n_comps=n_for_pca)\n",
    "\n",
    "# BBKNN - it is used in place of the scanpy 'neighbors' command that calculates nearest neighbours in the feature space\n",
    "sc.external.pp.bbknn(adata_fibroblast, batch_key='Group', n_pcs=n_for_pca)\n",
    "\n",
    "#Calculate UMAP\n",
    "sc.tl.umap(adata_fibroblast)"
   ]
  },
  {
   "cell_type": "code",
   "execution_count": null,
   "id": "18509d35",
   "metadata": {
    "scrolled": true
   },
   "outputs": [],
   "source": [
    "#Plot UMAP\n",
    "sc.pl.umap(adata_fibroblast, color=['Group'], size=5, save='_stromal_Group.png')"
   ]
  },
  {
   "cell_type": "code",
   "execution_count": null,
   "id": "bcd96435",
   "metadata": {
    "scrolled": true
   },
   "outputs": [],
   "source": [
    "#Plot UMAP for each marker\n",
    "sc.pl.umap(adata_fibroblast, color=adata_fibroblast.var_names, size=5, save='_stromal_Markers.png')"
   ]
  },
  {
   "cell_type": "code",
   "execution_count": null,
   "id": "54f44c8e",
   "metadata": {
    "scrolled": true
   },
   "outputs": [],
   "source": [
    "#Run PhenoGraph\n",
    "sce.tl.phenograph(adata_fibroblast, clustering_algo=\"louvain\", k=200, seed=1)"
   ]
  },
  {
   "cell_type": "code",
   "execution_count": null,
   "id": "a7168f6b",
   "metadata": {
    "scrolled": true
   },
   "outputs": [],
   "source": [
    "#Plot PhenoGraph on UMAP\n",
    "sc.pl.umap(adata_fibroblast, color = \"pheno_louvain\", legend_fontsize = 10, save='_stromal_PhenoLouvain.png')"
   ]
  },
  {
   "cell_type": "code",
   "execution_count": null,
   "id": "91e58f7c",
   "metadata": {
    "scrolled": true
   },
   "outputs": [],
   "source": [
    "#Plot heatmap of fibroblast clusters\n",
    "sc.tl.dendrogram(adata_fibroblast, groupby = 'pheno_louvain')\n",
    "sc.pl.heatmap(adata_fibroblast, adata_fibroblast.var_names, groupby='pheno_louvain', vmax=0.75, swap_axes=True, dendrogram=True, save='_stromal_PhenoLouvain_clustered.png')"
   ]
  },
  {
   "cell_type": "code",
   "execution_count": null,
   "id": "5f502b9d",
   "metadata": {
    "scrolled": true
   },
   "outputs": [],
   "source": [
    "#Plot scaled heatmap\n",
    "adata_fibroblast_norm2 = adata_fibroblast.copy()\n",
    "sc.pp.scale(adata_fibroblast_norm2, max_value=2,  zero_center=True)\n",
    "sc.tl.dendrogram(adata_fibroblast_norm2, groupby = 'pheno_louvain')\n",
    "sc.pl.heatmap(adata_fibroblast_norm2, adata_fibroblast_norm2.var_names, groupby='pheno_louvain', swap_axes=True, dendrogram=True, save='_scaled_stromal_PhenoLouvain_clustered.png')"
   ]
  },
  {
   "cell_type": "code",
   "execution_count": null,
   "id": "92976e78",
   "metadata": {
    "scrolled": true
   },
   "outputs": [],
   "source": [
    "#Compute a ranking for the highly differential markers in each cluster\n",
    "sc.tl.rank_genes_groups(adata_fibroblast, 'pheno_louvain', reference='rest', method='wilcoxon', corr_method='benjamini-hochberg', pts=True)\n",
    "sc.pl.rank_genes_groups(adata_fibroblast, n_genes=10, sharey=False, save='rank_markers_stromal_PhenoLouvain.png')"
   ]
  },
  {
   "cell_type": "markdown",
   "id": "c326f877",
   "metadata": {},
   "source": [
    "# Mapping fibroblasts clusters after annotation and merging"
   ]
  },
  {
   "cell_type": "code",
   "execution_count": null,
   "id": "5a1d6f50",
   "metadata": {
    "scrolled": true
   },
   "outputs": [],
   "source": [
    "#Annotate clusters in a dictionary file\n",
    "#Load the merged clusters and map to the anndata file\n",
    "# Mapping the phenograph populations onto the new/merged population labels\n",
    "fibroblast_dict = pd.read_csv('mikeimc_approach/Dictionaries/covid_fibroblast_dict.csv')\n",
    "f = fibroblast_dict.set_index('pheno_louvain').to_dict()\n",
    "\n",
    "adata_fibroblast.obs['fibroblast_pop']=adata_fibroblast.obs['pheno_louvain'].map(f['Fibroblast_Class'])\n",
    "adata_fibroblast.obs['fibroblast_pop']=adata_fibroblast.obs['fibroblast_pop'].astype('category')"
   ]
  },
  {
   "cell_type": "code",
   "execution_count": null,
   "id": "df3efcdb",
   "metadata": {
    "scrolled": true
   },
   "outputs": [],
   "source": [
    "#Spatial mapping of the annotated myeloid clusters\n",
    "graph = sb.lmplot(data = adata_fibroblast.obs, x = 'X_loc',y='Y_loc',hue ='fibroblast_pop',palette = 'bright',height = 8,col = 'ROI',col_wrap = 10,fit_reg = False)\n",
    "graph.savefig(\"MappedPlots_fibroblast_clusters.png\")"
   ]
  },
  {
   "cell_type": "code",
   "execution_count": null,
   "id": "5ba0ff35",
   "metadata": {
    "scrolled": true
   },
   "outputs": [],
   "source": [
    "#Plot heatmap of fibroblast clusters\n",
    "sc.tl.dendrogram(adata_fibroblast, groupby = 'fibroblast_pop')\n",
    "sc.pl.heatmap(adata_fibroblast, adata_fibroblast.var_names, groupby='fibroblast_pop', swap_axes=False, dendrogram=True, save='_fibroblast_annotated_clustered.png')"
   ]
  },
  {
   "cell_type": "code",
   "execution_count": null,
   "id": "19c2beba",
   "metadata": {
    "scrolled": true
   },
   "outputs": [],
   "source": [
    "#Plot scaled heatmap\n",
    "adata_fibroblast_norm3 = adata_fibroblast.copy()\n",
    "sc.pp.scale(adata_fibroblast_norm3, max_value=2,  zero_center=True)\n",
    "sc.tl.dendrogram(adata_fibroblast_norm3, groupby = 'fibroblast_pop')\n",
    "sc.pl.heatmap(adata_fibroblast_norm3, adata_fibroblast_norm3.var_names, groupby='fibroblast_pop', swap_axes=False, dendrogram=True, save='_scaled_fibroblast_annotated_clustered.png')"
   ]
  },
  {
   "cell_type": "code",
   "execution_count": null,
   "id": "e5e8873a",
   "metadata": {
    "scrolled": true
   },
   "outputs": [],
   "source": [
    "#Compute a ranking for the highly differential markers in each cluster\n",
    "sc.tl.rank_genes_groups(adata_fibroblast, 'fibroblast_pop', reference='rest', method='wilcoxon', corr_method='benjamini-hochberg', pts=True)\n",
    "sc.pl.rank_genes_groups(adata_fibroblast, n_genes=10, sharey=False, save='rank_markers_fibroblast_annotated.png')"
   ]
  },
  {
   "cell_type": "code",
   "execution_count": null,
   "id": "8a633d45",
   "metadata": {
    "scrolled": true
   },
   "outputs": [],
   "source": [
    "#Get a table with the scores and groups. see p-values\n",
    "result = adata_fibroblast.uns['rank_genes_groups']\n",
    "groups = result['names'].dtype.names\n",
    "df_fb = pd.DataFrame(\n",
    "    {group + '_' + key[:1]: result[key][group]\n",
    "    for group in groups for key in ['names', 'pvals_adj', 'scores','logfoldchanges']}).head(10)\n",
    "df_fb"
   ]
  },
  {
   "cell_type": "code",
   "execution_count": null,
   "id": "32905292",
   "metadata": {
    "scrolled": true
   },
   "outputs": [],
   "source": [
    "compression_opts = dict(method='zip',\n",
    "                         archive_name='Rank_markers_fibroblast_annotated_clusters.csv') \n",
    "df_ec.to_csv('Rank_markers_fibroblast_annotated_clusters.zip', index=True, compression=compression_opts)"
   ]
  },
  {
   "cell_type": "code",
   "execution_count": null,
   "id": "84977461",
   "metadata": {
    "scrolled": true
   },
   "outputs": [],
   "source": [
    "sc.pl.rank_genes_groups_violin(adata_fibroblast, n_genes=5, save='top5_DE_markers_wilcoxon.png')"
   ]
  },
  {
   "cell_type": "code",
   "execution_count": null,
   "id": "38c6e4ad",
   "metadata": {
    "scrolled": true
   },
   "outputs": [],
   "source": [
    "sc.pl.rank_genes_groups_violin(adata_fibroblast_2, split=False, gene_names=['SARSCoV2'], save='SARSCoV2_expression_wilcoxon.pdf')"
   ]
  },
  {
   "cell_type": "code",
   "execution_count": null,
   "id": "012a4553",
   "metadata": {
    "scrolled": true
   },
   "outputs": [],
   "source": [
    "sc.pl.rank_genes_groups_matrixplot(adata_fibroblast_2, n_genes=6, values_to_plot='logfoldchanges', swap_axes=True, cmap='bwr', save='fibroblast_logFC_wilcoxon.pdf')"
   ]
  },
  {
   "cell_type": "code",
   "execution_count": null,
   "id": "62c5faea",
   "metadata": {
    "scrolled": true
   },
   "outputs": [],
   "source": [
    "sc.pl.rank_genes_groups_dotplot(adata_fibroblast, var_names=['Collagen1', 'SMA','SARSCoV2', 'ClvdCaspase3'], values_to_plot='logfoldchanges', swap_axes=True, cmap='bwr', save='fibroblast_specificmarkers_logFC_wilcoxon.pdf')"
   ]
  },
  {
   "cell_type": "code",
   "execution_count": null,
   "id": "7e51bd1a",
   "metadata": {},
   "outputs": [],
   "source": [
    "sc.pl.violin(adata_endothelium_2, ['ICAM1', 'vWF','CD74', 'MHCI', 'MHCII', 'CD107a','GranzymeB'], groupby='endothelial_pop', rotation=90, save='endothelium_specificmarkers_wilcoxon.pdf')\n",
    "\n"
   ]
  },
  {
   "cell_type": "code",
   "execution_count": null,
   "id": "b77166bc",
   "metadata": {
    "scrolled": true
   },
   "outputs": [],
   "source": [
    "#Plot PhenoGraph on UMAP\n",
    "sc.pl.umap(adata_stromal, color = \"fibroblast_pop\", legend_fontsize = 12, legend_fontweight='semibold',legend_loc='right margin', save='_fibroblast_annotated.png')\n",
    "\n",
    "#Plot PhenoGraph on tSNE\n",
    "#sc.pl.tsne(adata_fibroblast_2, color = \"fibroblast_pop\", s = 100, legend_fontsize = 8, legend_fontweight='semibold',legend_loc='on data', size=3, save='_fibroblast_annotated.pdf')"
   ]
  },
  {
   "cell_type": "markdown",
   "id": "a68b28d1",
   "metadata": {},
   "source": [
    "# Frequency and absolute count graphs"
   ]
  },
  {
   "cell_type": "code",
   "execution_count": null,
   "id": "d9011b6c",
   "metadata": {
    "scrolled": true
   },
   "outputs": [],
   "source": [
    "#stack bar code and extracting number of cells, distribution of each cluster per case or the cluster composition per case\n",
    "#for number of cells - don't use normalize\n",
    "#for distribution of each case per cluster - use normalize = \"index\"\n",
    "#for cluster composition per case - use normalize = \"columns\"\n",
    "#tmp1 = pd.crosstab(adata_fibroblast_2.obs['fibroblast_pop'],adata_fibroblast_2.obs['ROI'], margins=False, margins_name='Total', normalize=\"index\")\n",
    "tmp2 = pd.crosstab(adata_fibroblast.obs['fibroblast_pop'],adata_fibroblast.obs['ROI'], margins=False, margins_name='Total', normalize=\"columns\")\n",
    "#tmp3 = pd.crosstab(adata_fibroblast_2.obs['fibroblast_pop'],adata_fibroblast_2.obs['ROI'], margins=True, margins_name='Total')"
   ]
  },
  {
   "cell_type": "code",
   "execution_count": null,
   "id": "ca33e5b6",
   "metadata": {
    "scrolled": true
   },
   "outputs": [],
   "source": [
    "tmp1 = tmp1.reindex(['ColHigh Fibroblast','ColLow Fibroblast','Proliferative ColHigh Fibroblast', 'Myofibroblast'])\n",
    "tmp2 = tmp2.reindex(['ColHigh Fibroblast','ColLow Fibroblast','Proliferative ColHigh Fibroblast', 'Myofibroblast'])\n",
    "tmp3 = tmp3.reindex(['ColHigh Fibroblast','ColLow Fibroblast','Proliferative ColHigh Fibroblast', 'Myofibroblast']) "
   ]
  },
  {
   "cell_type": "code",
   "execution_count": null,
   "id": "abba2248",
   "metadata": {
    "scrolled": true
   },
   "outputs": [],
   "source": [
    "compression_opts = dict(method='zip',\n",
    "                         archive_name='Fibroblast_ROI_composition_per_cluster.csv') \n",
    "tmp1.to_csv('Fibroblast_ROI_composition_per_cluster.zip', index=False, compression=compression_opts)"
   ]
  },
  {
   "cell_type": "code",
   "execution_count": null,
   "id": "625addd7",
   "metadata": {
    "scrolled": true
   },
   "outputs": [],
   "source": [
    "compression_opts = dict(method='zip',\n",
    "                         archive_name='Fibroblast_cluster_composition_per_ROI.csv') \n",
    "tmp2.to_csv('Fibroblast_cluster_composition_per_ROI.zip', index=False, compression=compression_opts)"
   ]
  },
  {
   "cell_type": "code",
   "execution_count": null,
   "id": "87ee6f89",
   "metadata": {
    "scrolled": true
   },
   "outputs": [],
   "source": [
    "compression_opts = dict(method='zip',\n",
    "                         archive_name='Fibroblast_number_per_cluster.csv') \n",
    "tmp3.to_csv('Fibroblast_number_per_cluster.zip', index=False, compression=compression_opts)"
   ]
  },
  {
   "cell_type": "code",
   "execution_count": null,
   "id": "241b06e8",
   "metadata": {
    "scrolled": true
   },
   "outputs": [],
   "source": [
    "tmp4 = pd.DataFrame.transpose(tmp2)"
   ]
  },
  {
   "cell_type": "code",
   "execution_count": null,
   "id": "a1d3fd17",
   "metadata": {
    "scrolled": true
   },
   "outputs": [],
   "source": [
    "#color for stack bars for the disease groups matching the other bar graphs\n",
    "#F08080 - light coral\n",
    "#87CEFA - lightskyblue\n",
    "#D3D3D3 - lightgrey\n",
    "\n",
    "pretty_colors = ['#F08080','#87CEFA','#D3D3D3']\n",
    "color_pal = sb.color_palette('Paired', 5)\n",
    "\n",
    "tmp4.plot.bar(stacked=True,color=color_pal, figsize=(32, 8)).legend(bbox_to_anchor=(1, 1))"
   ]
  },
  {
   "cell_type": "code",
   "execution_count": null,
   "id": "883956b8",
   "metadata": {},
   "outputs": [],
   "source": [
    "# Alter this list with adata.obs variables that you want to plot against the resulting leiden population\n",
    "image_var = 'ROI'\n",
    "\n",
    "for i in ['Group']:\n",
    "\n",
    "    mikeimc_v2.grouped_graph(adata_stromal,\n",
    "                             ROI_id=image_var,\n",
    "                             group_by_obs=i,\n",
    "                             x_axis='fibroblast_pop',\n",
    "                             fig_size=(8,4),\n",
    "                             log_scale=False, scale_factor=True,\n",
    "                            display_tables=True) #If you change display_tables to True, will also do stats on the groups\n",
    "    plt.show()"
   ]
  },
  {
   "cell_type": "code",
   "execution_count": null,
   "id": "9503d287",
   "metadata": {
    "scrolled": true
   },
   "outputs": [],
   "source": [
    "# export everything except the data using `.write_csvs`.\n",
    "# Set `skip_data=False` if you also want to export the data.\n",
    "adata_fibroblast.write_csvs(dirname='./Analysis/SCANPY/Stromal/Annotated clusters/CSV files', skip_data=False)"
   ]
  },
  {
   "cell_type": "code",
   "execution_count": null,
   "id": "30c54b96",
   "metadata": {},
   "outputs": [],
   "source": [
    "# Adding HIV status \n",
    "anno = pd.read_csv(filepath_or_buffer='./Analysis/SCANPY/Stromal/Annotated clusters/CSV files/obs.csv', index_col=1)"
   ]
  },
  {
   "cell_type": "code",
   "execution_count": null,
   "id": "8fb06c0e",
   "metadata": {},
   "outputs": [],
   "source": [
    "adata_fibroblast.obs['HIV'] = anno['HIV'].values"
   ]
  },
  {
   "cell_type": "markdown",
   "id": "b9650222",
   "metadata": {},
   "source": [
    "# Analysis of RBCs"
   ]
  },
  {
   "cell_type": "code",
   "execution_count": null,
   "id": "46c9782a",
   "metadata": {},
   "outputs": [],
   "source": [
    "adata_RBC_2.obs['hierarchy']"
   ]
  },
  {
   "cell_type": "code",
   "execution_count": null,
   "id": "d7888b9c",
   "metadata": {
    "scrolled": true
   },
   "outputs": [],
   "source": [
    "#Use BBKNN integration instead of calculating neighbors \n",
    "# Define the number of PCA dimensions to work with - one less than number of markers. Without this, it usually defaults to 50, which we don't have enough markers for.\n",
    "n_for_pca = len(adata_RBC_2.var_names)-1\n",
    "\n",
    "# Define the 'obs' which defines the different cases\n",
    "batch_correction_obs = 'Group'\n",
    "\n",
    "# Calculate PCA, this must be done before BBKNN\n",
    "sc.tl.pca(adata_stromal, n_comps=n_for_pca)\n",
    "\n",
    "# BBKNN - it is used in place of the scanpy 'neighbors' command that calculates nearest neighbours in the feature space\n",
    "sc.external.pp.bbknn(adata_RBC_2, batch_key='Group', n_pcs=n_for_pca)\n",
    "\n",
    "\n",
    "#Calculate UMAP\n",
    "sc.tl.umap(adata_RBC_2)"
   ]
  },
  {
   "cell_type": "code",
   "execution_count": null,
   "id": "3da3f30c",
   "metadata": {
    "scrolled": true
   },
   "outputs": [],
   "source": [
    "#Plot UMAP\n",
    "sc.pl.umap(adata_RBC_2, color=['Region'], save='_RBC_Region.pdf')\n",
    "#Plot UMAP\n",
    "sc.pl.umap(adata_RBC_2, color=['Group'], save='_RBC_Group.pdf')\n",
    "#Plot UMAP for each marker\n",
    "sc.pl.umap(adata_RBC_2, color=adata_RBC_2.var_names, save='_RBC_Markers.pdf')"
   ]
  },
  {
   "cell_type": "code",
   "execution_count": null,
   "id": "d39ce90e",
   "metadata": {
    "scrolled": true
   },
   "outputs": [],
   "source": [
    "#Run PCA\n",
    "sc.tl.pca(adata_RBC_2)\n"
   ]
  },
  {
   "cell_type": "code",
   "execution_count": null,
   "id": "319c13cb",
   "metadata": {
    "scrolled": true
   },
   "outputs": [],
   "source": [
    "#Run PhenoGraph\n",
    "sce.tl.phenograph(adata_RBC_2, clustering_algo=\"louvain\", k=200, seed=1)"
   ]
  },
  {
   "cell_type": "code",
   "execution_count": null,
   "id": "83327fbd",
   "metadata": {
    "scrolled": true
   },
   "outputs": [],
   "source": [
    "#Plot heatmap of RBC clusters\n",
    "sc.pl.heatmap(adata_RBC_2, adata_RBC_2.var_names, groupby='pheno_louvain', vmax=0.75, swap_axes=True, dendrogram=False, save='_RBC_PhenoLouvain_clustered.png')"
   ]
  },
  {
   "cell_type": "code",
   "execution_count": null,
   "id": "f2f582dc",
   "metadata": {
    "scrolled": true
   },
   "outputs": [],
   "source": [
    "#Annotate clusters in a dictionary file\n",
    "#Load the merged clusters and map to the anndata file\n",
    "\n",
    "# Mapping the phenograph populations onto the new/merged population labels\n",
    "\n",
    "RBC_dict = pd.read_csv('mikeimc_approach/Dictionaries/covid_RBC_dict.csv')\n",
    "r = RBC_dict.set_index('pheno_louvain').to_dict()\n",
    "\n",
    "adata_RBC_2.obs['RBC_pop']=adata_RBC_2.obs['pheno_louvain'].map(r['RBC_Class'])\n",
    "\n",
    "adata_RBC_2.obs['RBC_pop']=adata_RBC_2.obs['RBC_pop'].astype('category')"
   ]
  },
  {
   "cell_type": "code",
   "execution_count": null,
   "id": "de7da6a1",
   "metadata": {},
   "outputs": [],
   "source": [
    "# export everything except the data using `.write_csvs`.\n",
    "# Set `skip_data=False` if you also want to export the data.\n",
    "adata_RBC_2.write_csvs(dirname='./Analysis/SCANPY/RBC/Annotated clusters/CSV files', skip_data=False)"
   ]
  },
  {
   "cell_type": "code",
   "execution_count": null,
   "id": "48768ef7",
   "metadata": {},
   "outputs": [],
   "source": [
    "# Adding HIV status \n",
    "anno = pd.read_csv(filepath_or_buffer='./Analysis/SCANPY/RBC/CSV files/obs.csv', index_col=1)"
   ]
  },
  {
   "cell_type": "code",
   "execution_count": null,
   "id": "30b93286",
   "metadata": {},
   "outputs": [],
   "source": [
    "adata_RBC_2.obs['HIV'] = anno['HIV'].values"
   ]
  },
  {
   "cell_type": "markdown",
   "id": "1d5fccbe",
   "metadata": {},
   "source": [
    "# Mapping all clusters back onto entire adata_subset and combining them all"
   ]
  },
  {
   "cell_type": "markdown",
   "id": "cd91a412",
   "metadata": {},
   "source": [
    "Extract the phenograph data from each cell type, and add on 'm' r 't' to distinguish them"
   ]
  },
  {
   "cell_type": "code",
   "execution_count": null,
   "id": "35de6458",
   "metadata": {
    "scrolled": true
   },
   "outputs": [],
   "source": [
    "adata_neutrophil_2.obs['final_cluster'] = adata_neutrophil_2.obs['neutrophil_pop'].astype(\"string\")\n",
    "adata_macrophage_2.obs['final_cluster'] = adata_macrophage_2.obs['macrophage_pop'].astype(\"string\")\n",
    "adata_lymphoid_2.obs['final_cluster'] = adata_lymphoid_2.obs['lymphoid_pop'].astype(\"string\")\n",
    "adata_endothelium_2.obs['final_cluster']=adata_endothelium_2.obs['endothelial_pop'].astype(\"string\")\n",
    "adata_epithelial_2.obs['final_cluster']=adata_epithelial_2.obs['epithelial_pop'].astype(\"string\")\n",
    "adata_fibroblast.obs['final_cluster']=adata_fibroblast.obs['fibroblast_pop'].astype(\"string\")\n",
    "adata_RBC_2.obs['final_cluster']=adata_RBC_2.obs['RBC_pop'].astype(\"string\")"
   ]
  },
  {
   "cell_type": "markdown",
   "id": "3b974cb9",
   "metadata": {},
   "source": [
    "Add in the clusters to the original anndata"
   ]
  },
  {
   "cell_type": "code",
   "execution_count": null,
   "id": "64124efb",
   "metadata": {
    "scrolled": true
   },
   "outputs": [],
   "source": [
    "#Combine the cell clusters lists\n",
    "phenograph_ids = pd.concat([adata_neutrophil_2.obs[['Master_Index','final_cluster']], adata_macrophage_2.obs[['Master_Index','final_cluster']], adata_lymphoid_2.obs[['Master_Index','final_cluster']],\n",
    "                            adata_endothelium_2.obs[['Master_Index','final_cluster']], adata_epithelial_2.obs[['Master_Index','final_cluster']],\n",
    "                            adata_fibroblast.obs[['Master_Index','final_cluster']], adata_RBC_2.obs[['Master_Index','final_cluster']]])"
   ]
  },
  {
   "cell_type": "code",
   "execution_count": null,
   "id": "f0b41dc1",
   "metadata": {},
   "outputs": [],
   "source": [
    "#Combine the HIV lists\n",
    "HIV_ids = pd.concat([adata_neutrophil_2.obs[['Master_Index','HIV']], adata_macrophage_2.obs[['Master_Index','HIV']], adata_lymphoid_2.obs[['Master_Index','HIV']],\n",
    "                            adata_endothelium_2.obs[['Master_Index','HIV']], adata_epithelial_2.obs[['Master_Index','HIV']],\n",
    "                            adata_fibroblast.obs[['Master_Index','HIV']], adata_RBC_2.obs[['Master_Index','HIV']]])"
   ]
  },
  {
   "cell_type": "code",
   "execution_count": null,
   "id": "78608c9b",
   "metadata": {
    "scrolled": true
   },
   "outputs": [],
   "source": [
    "#Map the list back onto the original cell list - some cell in original list may may not appear in these? E.g. other/unknown?\n",
    "phenograph_final = pd.merge(adata_subset2.obs['Master_Index'],phenograph_ids,how='left')"
   ]
  },
  {
   "cell_type": "code",
   "execution_count": null,
   "id": "63b3497b",
   "metadata": {},
   "outputs": [],
   "source": [
    "#Map the list back onto the original cell list - some cell in original list may may not appear in these? E.g. other/unknown?\n",
    "HIV_final = pd.merge(adata_subset2.obs['Master_Index'],HIV_ids,how='left')"
   ]
  },
  {
   "cell_type": "code",
   "execution_count": null,
   "id": "af58e00e",
   "metadata": {},
   "outputs": [],
   "source": [
    "phenograph_final"
   ]
  },
  {
   "cell_type": "code",
   "execution_count": null,
   "id": "27d48646",
   "metadata": {},
   "outputs": [],
   "source": [
    "adata_subset2"
   ]
  },
  {
   "cell_type": "code",
   "execution_count": null,
   "id": "998212d1",
   "metadata": {
    "scrolled": false
   },
   "outputs": [],
   "source": [
    "#Add in the new observation\n",
    "adata_subset2.obs['pheno_cluster']=phenograph_final['final_cluster'].tolist()"
   ]
  },
  {
   "cell_type": "code",
   "execution_count": null,
   "id": "7213ff95",
   "metadata": {},
   "outputs": [],
   "source": [
    "#Add in the new observation\n",
    "adata_subset2.obs['HIV']=HIV_final['HIV'].tolist()"
   ]
  },
  {
   "cell_type": "code",
   "execution_count": null,
   "id": "1f9b476d",
   "metadata": {
    "scrolled": true
   },
   "outputs": [],
   "source": [
    "#Change type to categorical\n",
    "adata_subset2.obs['pheno_cluster']=adata_subset2.obs['pheno_cluster'].astype('category')"
   ]
  },
  {
   "cell_type": "code",
   "execution_count": null,
   "id": "4faa0b8d",
   "metadata": {},
   "outputs": [],
   "source": [
    "#Change type to categorical\n",
    "adata_subset2.obs['HIV']=adata_subset2.obs['HIV'].astype('category')"
   ]
  },
  {
   "cell_type": "code",
   "execution_count": null,
   "id": "c7695937",
   "metadata": {
    "scrolled": true
   },
   "outputs": [],
   "source": [
    "adata_subset2"
   ]
  },
  {
   "cell_type": "code",
   "execution_count": null,
   "id": "1d2c6b48",
   "metadata": {
    "scrolled": true
   },
   "outputs": [],
   "source": [
    "#rename x and y observations\n",
    "#adata_subset3.obs.rename(columns={\"X\": \"X_loc\", \"Y\": \"Y_loc\"},inplace=True)"
   ]
  },
  {
   "cell_type": "code",
   "execution_count": null,
   "id": "3e5ca9de",
   "metadata": {
    "scrolled": false
   },
   "outputs": [],
   "source": [
    "#Plot heatmap of all clusters\n",
    "sc.tl.dendrogram(adata_subset2, groupby = 'pheno_cluster')"
   ]
  },
  {
   "cell_type": "code",
   "execution_count": null,
   "id": "a88a52ef",
   "metadata": {
    "scrolled": true
   },
   "outputs": [],
   "source": [
    "sc.pl.heatmap(adata_subset2, adata_subset2.var_names, figsize=(32,16), groupby='pheno_cluster_new', swap_axes=False, dendrogram=True, cmap=\"viridis\", save='_all_clusters_clustered.pdf')"
   ]
  },
  {
   "cell_type": "code",
   "execution_count": null,
   "id": "72cdac1c",
   "metadata": {
    "scrolled": true
   },
   "outputs": [],
   "source": [
    "sc.pl.matrixplot(adata_subset2, adata_subset2.var_names, groupby='pheno_cluster_new', vmax=0.75, dendrogram=True, save=True)"
   ]
  },
  {
   "cell_type": "code",
   "execution_count": null,
   "id": "5bfc1654",
   "metadata": {
    "scrolled": true
   },
   "outputs": [],
   "source": [
    "#Calculate neighbors\n",
    "sc.pp.neighbors(adata_subset2, n_neighbors=100)"
   ]
  },
  {
   "cell_type": "code",
   "execution_count": null,
   "id": "d94f15b2",
   "metadata": {
    "scrolled": true
   },
   "outputs": [],
   "source": [
    "#Calculate UMAP\n",
    "sc.tl.umap(adata_subset2)"
   ]
  },
  {
   "cell_type": "code",
   "execution_count": null,
   "id": "6be81de9",
   "metadata": {
    "scrolled": true
   },
   "outputs": [],
   "source": [
    "#Run PCA\n",
    "sc.tl.pca(adata_subset2)"
   ]
  },
  {
   "cell_type": "markdown",
   "id": "6b8e5acf",
   "metadata": {},
   "source": [
    "# Redefine neutrophil clusters and colors"
   ]
  },
  {
   "cell_type": "code",
   "execution_count": null,
   "id": "b868fb22",
   "metadata": {},
   "outputs": [],
   "source": [
    "adata_subset2.obs['pheno_cluster']"
   ]
  },
  {
   "cell_type": "code",
   "execution_count": null,
   "id": "6381a230",
   "metadata": {},
   "outputs": [],
   "source": [
    "#Re-annotation of the clusters in a dictionary file\n",
    "\n",
    "covid_dict = pd.read_csv('mikeimc_approach/Dictionaries/covid_pheno_cluster_new_dict.csv')\n",
    "ep = covid_dict.set_index('pheno_cluster').to_dict()\n",
    "\n",
    "adata_subset2.obs['pheno_cluster_new']=adata_subset2.obs['pheno_cluster'].map(ep['pheno_cluster_new'])\n",
    "\n",
    "adata_subset2.obs['pheno_cluster_new']=adata_subset2.obs['pheno_cluster_new'].astype('category')\n"
   ]
  },
  {
   "cell_type": "code",
   "execution_count": null,
   "id": "fd940b22",
   "metadata": {
    "scrolled": true
   },
   "outputs": [],
   "source": [
    "col_df = pd.read_csv('mikeimc_approach/colours/pheno_colours2.csv')\n",
    "colour_palette = col_df.set_index('pheno_cluster_new').to_dict()\n",
    "colour_palette['colour']"
   ]
  },
  {
   "cell_type": "code",
   "execution_count": null,
   "id": "22f95bec",
   "metadata": {
    "scrolled": true
   },
   "outputs": [],
   "source": [
    "#Plot PhenoGraph on UMAP\n",
    "sc.pl.umap(adata_subset2, color = \"pheno_cluster_new\", palette = colour_palette['colour'], legend_fontsize = 10, save='_all_clusters.pdf')\n"
   ]
  },
  {
   "cell_type": "markdown",
   "id": "5103a2c0",
   "metadata": {},
   "source": [
    "# Cell frequencies and visualisation in spatial coordinates"
   ]
  },
  {
   "cell_type": "code",
   "execution_count": null,
   "id": "5b559e38",
   "metadata": {},
   "outputs": [],
   "source": [
    "# Exclude RBCs\n",
    "ad_subset2 = adata_subset2[~adata_subset2.obs['cell_type'].isin(['RBCs']),:].copy()"
   ]
  },
  {
   "cell_type": "code",
   "execution_count": null,
   "id": "906444dd",
   "metadata": {},
   "outputs": [],
   "source": [
    "ad_subset2"
   ]
  },
  {
   "cell_type": "markdown",
   "id": "f4bd2795",
   "metadata": {},
   "source": [
    "Add SARSCoV2 variant info in adata covid"
   ]
  },
  {
   "cell_type": "code",
   "execution_count": null,
   "id": "736c1f70",
   "metadata": {},
   "outputs": [],
   "source": [
    "#To plot HIVPos vs HIVneg or SARSCOV2 variant info within the covid group\n",
    "adata_COVID = ad.read_h5ad('./2_h5ad files/adata_COVID')"
   ]
  },
  {
   "cell_type": "code",
   "execution_count": null,
   "id": "b770890b",
   "metadata": {},
   "outputs": [],
   "source": [
    "#Re-annotation of the clusters in a dictionary file\n",
    "\n",
    "covid_dict = pd.read_csv('mikeimc_approach/Dictionaries/covid_pheno_cluster_new_dict.csv')\n",
    "ep = covid_dict.set_index('pheno_cluster').to_dict()\n",
    "\n",
    "adata_COVID.obs['pheno_cluster_new']=adata_COVID.obs['pheno_cluster'].map(ep['pheno_cluster_new'])\n",
    "\n",
    "adata_COVID.obs['pheno_cluster_new']=adata_COVID.obs['pheno_cluster_new'].astype('category')\n"
   ]
  },
  {
   "cell_type": "code",
   "execution_count": null,
   "id": "06fe286f",
   "metadata": {},
   "outputs": [],
   "source": [
    "# save\n",
    "adata_COVID.write('./2_h5ad files/adata_COVID')"
   ]
  },
  {
   "cell_type": "code",
   "execution_count": null,
   "id": "2fc86965",
   "metadata": {},
   "outputs": [],
   "source": [
    "adata_COVID.obs['Group']"
   ]
  },
  {
   "cell_type": "code",
   "execution_count": null,
   "id": "e92dd353",
   "metadata": {},
   "outputs": [],
   "source": [
    "# Adding HIV status \n",
    "anno = pd.read_csv(filepath_or_buffer='./1_CSV files/adata_COVID/obs.csv', index_col=1)"
   ]
  },
  {
   "cell_type": "code",
   "execution_count": null,
   "id": "37603b9f",
   "metadata": {},
   "outputs": [],
   "source": [
    "anno"
   ]
  },
  {
   "cell_type": "code",
   "execution_count": null,
   "id": "3bbae6c2",
   "metadata": {},
   "outputs": [],
   "source": [
    "adata_COVID.obs['Variant'] = anno['Variant'].values"
   ]
  },
  {
   "cell_type": "code",
   "execution_count": null,
   "id": "647e2a38",
   "metadata": {},
   "outputs": [],
   "source": [
    "# Exclude RBCs\n",
    "ad_covid = adata_COVID[~adata_COVID.obs['cell_type'].isin(['RBCs']),:].copy()"
   ]
  },
  {
   "cell_type": "markdown",
   "id": "b95d91e5",
   "metadata": {},
   "source": [
    "Split the composition plot per lesion into immune and stromal compartments."
   ]
  },
  {
   "cell_type": "code",
   "execution_count": null,
   "id": "46545590",
   "metadata": {},
   "outputs": [],
   "source": [
    "adata_subset2.obs['hierarchy']\n",
    "ad_subset2_immune = ad_subset2[ad_subset2.obs['hierarchy'].isin(['Lymphoid', 'Myeloid']),:].copy()\n",
    "ad_subset2_stromal = ad_subset2[ad_subset2.obs['hierarchy'].isin(['Stromal', 'Vascular']),:].copy()"
   ]
  },
  {
   "cell_type": "code",
   "execution_count": null,
   "id": "91c7652c",
   "metadata": {},
   "outputs": [],
   "source": [
    "ad_covid.obs['hierarchy']\n",
    "ad_covid_immune = ad_covid[ad_covid.obs['hierarchy'].isin(['Lymphoid', 'Myeloid']),:].copy()\n",
    "ad_covid_stromal = ad_covid[ad_covid.obs['hierarchy'].isin(['Stromal', 'Vascular']),:].copy()"
   ]
  },
  {
   "cell_type": "code",
   "execution_count": null,
   "id": "a8f89713",
   "metadata": {},
   "outputs": [],
   "source": [
    "ad_subset2_immune = ad.read_h5ad('./2_h5ad files/ad_subset2_immune')\n",
    "ad_subset2_stromal = ad.read_h5ad('./2_h5ad files/ad_subset2_stromal')\n",
    "ad_covid_immune = ad.read_h5ad('./2_h5ad files/ad_covid_immune')\n",
    "ad_covid_stromal = ad.read_h5ad('./2_h5ad files/ad_covid_stromal')"
   ]
  },
  {
   "cell_type": "code",
   "execution_count": null,
   "id": "3ab9a8c2",
   "metadata": {},
   "outputs": [],
   "source": [
    "ad_subset2_immune.write('./2_h5ad files/ad_subset2_immune')\n",
    "ad_subset2_stromal.write('./2_h5ad files/ad_subset2_stromal')\n",
    "ad_covid_immune.write('./2_h5ad files/ad_covid_immune')\n",
    "ad_covid_stromal.write('./2_h5ad files/ad_covid_stromal')"
   ]
  },
  {
   "cell_type": "code",
   "execution_count": null,
   "id": "c41ef296",
   "metadata": {},
   "outputs": [],
   "source": [
    "# Compare the total proportions of SARSCoV2 cells between HIVpos and HIVneg.\n",
    "ad_covid_virus = ad_covid[ad_covid.obs['pheno_cluster'].isin(['SARSCoV2+ Interstitial Macrophage', 'Apoptotic SARSCoV2+  Alveolar Macrophage', \n",
    "                                                              'SARSCoV2+ ArginaseHighVISTAHigh Activated Neutrophil', 'SARSCoV2+ Epithelial cell', 'SARSCoV2+ AT2 cell']),:].copy()\n"
   ]
  },
  {
   "cell_type": "code",
   "execution_count": null,
   "id": "40e4f7bc",
   "metadata": {},
   "outputs": [],
   "source": [
    "ad_subset2_immune"
   ]
  },
  {
   "cell_type": "code",
   "execution_count": null,
   "id": "4d09a432",
   "metadata": {},
   "outputs": [],
   "source": [
    "ad_subset2_stromal"
   ]
  },
  {
   "cell_type": "code",
   "execution_count": null,
   "id": "3d0d4b81",
   "metadata": {},
   "outputs": [],
   "source": [
    "ad_covid_immune"
   ]
  },
  {
   "cell_type": "code",
   "execution_count": null,
   "id": "f2bd0156",
   "metadata": {},
   "outputs": [],
   "source": [
    "ad_covid_stromal"
   ]
  },
  {
   "cell_type": "markdown",
   "id": "355e04e9",
   "metadata": {},
   "source": [
    "Plot based on the pheno clusters."
   ]
  },
  {
   "cell_type": "code",
   "execution_count": null,
   "id": "39db476b",
   "metadata": {
    "scrolled": true
   },
   "outputs": [],
   "source": [
    "#stack bar code and extracting number of cells, distribution of each cluster per case or the cluster composition per case\n",
    "#for number of cells - don't use normalize\n",
    "#for distribution of each case per cluster - use normalize = \"index\"\n",
    "#for cluster composition per case - use normalize = \"columns\"\n",
    "tmp = pd.crosstab(ad_subset2_immune.obs['pheno_cluster_new'],ad_subset2_immune.obs['Group'], margins=False, margins_name='Total', normalize='columns')"
   ]
  },
  {
   "cell_type": "code",
   "execution_count": null,
   "id": "06f4b952",
   "metadata": {},
   "outputs": [],
   "source": [
    "tmp = pd.crosstab(ad_covid_immune.obs['pheno_cluster_new'],ad_covid_immune.obs['HIV'], margins=False, margins_name='Total', normalize='columns')"
   ]
  },
  {
   "cell_type": "code",
   "execution_count": null,
   "id": "18b5f513",
   "metadata": {},
   "outputs": [],
   "source": [
    "tmp = pd.crosstab(ad_covid_virus.obs['pheno_cluster'], ad_covid_virus.obs['HIV'], margins=False, margins_name='Total')\n",
    "\n",
    "#normalize='columns'"
   ]
  },
  {
   "cell_type": "code",
   "execution_count": null,
   "id": "53fc179e",
   "metadata": {
    "scrolled": true
   },
   "outputs": [],
   "source": [
    "tmp"
   ]
  },
  {
   "cell_type": "code",
   "execution_count": null,
   "id": "8b066265",
   "metadata": {
    "scrolled": true
   },
   "outputs": [],
   "source": [
    "tmp2 = tmp.reindex([ 'B cell', 'CD11c+ cell', 'EM CD4 T cell', 'Proliferative CD4 T cell', 'CD4 Treg cell',\n",
    "                    'CD8 T cell', 'EM CD8 T cell', 'Proliferative CD8 T cell' , 'CD3+ cell',  \n",
    "                    'SARSCoV2+ ArginaseHighVISTAHigh Activated Neutrophil', \n",
    "                    'ArginaseHighVISTAHigh Activated Neutrophil', 'ArginaseLowVISTALow Activated Neutrophil', \n",
    "                    'ArginaseLowVISTALow Neutrophil', \n",
    "                    'Classical Monocyte', 'SARSCoV2+ Interstitial Macrophage', 'Proliferating Interstitial Macrophage', 'Interstitial Macrophage', \n",
    "                    'Apoptotic SARSCoV2+  Alveolar Macrophage', 'Apoptotic Alveolar Macrophage', 'Alveolar Macrophage', \n",
    "                    ])"
   ]
  },
  {
   "cell_type": "code",
   "execution_count": null,
   "id": "41a309e9",
   "metadata": {},
   "outputs": [],
   "source": [
    "tmp2 = tmp.reindex(['Activated Endothelial cell', 'Endothelial cell', 'Proliferative Endothelial cell', 'Fibroblast', 'Proliferative Fibroblast', 'Apoptotic Fibroblast',  \n",
    "                     'Smooth Muscle cell', 'SARSCoV2+ Epithelial cell', 'Epithelial cell' , 'Proliferative Epithelial cell', 'SARSCoV2+ AT2 cell', 'AT2 cell'])"
   ]
  },
  {
   "cell_type": "code",
   "execution_count": null,
   "id": "3d33ca02",
   "metadata": {},
   "outputs": [],
   "source": [
    "tmp2 = tmp.reindex(['SARSCoV2+ Epithelial cell', 'SARSCoV2+ AT2 cell',\n",
    "                    'SARSCoV2+ Interstitial Macrophage', 'Apoptotic SARSCoV2+  Alveolar Macrophage', 'SARSCoV2+ ArginaseHighVISTAHigh Activated Neutrophil'])\n"
   ]
  },
  {
   "cell_type": "code",
   "execution_count": null,
   "id": "4ccd9333",
   "metadata": {},
   "outputs": [],
   "source": [
    "tmp3 = tmp2.reindex(index=tmp2.index[::-1])"
   ]
  },
  {
   "cell_type": "code",
   "execution_count": null,
   "id": "4a00d018",
   "metadata": {
    "scrolled": true
   },
   "outputs": [],
   "source": [
    "tmp4 = pd.DataFrame.transpose(tmp3)"
   ]
  },
  {
   "cell_type": "code",
   "execution_count": null,
   "id": "0c7e1a0f",
   "metadata": {},
   "outputs": [],
   "source": [
    "tmp5 = tmp4.reindex(['Non_Pneumonia', 'COVID-19', 'Pneumonia'])"
   ]
  },
  {
   "cell_type": "code",
   "execution_count": null,
   "id": "dd061c02",
   "metadata": {
    "scrolled": true
   },
   "outputs": [],
   "source": [
    "tmp5"
   ]
  },
  {
   "cell_type": "code",
   "execution_count": null,
   "id": "1bccd537",
   "metadata": {
    "scrolled": false
   },
   "outputs": [],
   "source": [
    "#color for stack bars for the disease groups matching the other bar graphs\n",
    "#F08080 - light coral\n",
    "#87CEFA - lightskyblue\n",
    "#D3D3D3 - lightgrey\n",
    "\n",
    "pretty_colors = ['#F08080','#87CEFA','#D3D3D3']\n",
    "color_pal = sb.color_palette('Paired')\n",
    "\n",
    "#sb.set_style(\"whitegrid\", {'axes.grid' : True})\n",
    "tmp4.plot.bar(stacked=True, color=colour_palette['colour'], figsize=(4, 4), rot=45).legend(bbox_to_anchor=(1, 1))\n",
    "plt.savefig(\"Frequency_immune_celltypes_HIV_reversed.pdf\", format=\"pdf\", bbox_inches=\"tight\")"
   ]
  },
  {
   "cell_type": "code",
   "execution_count": null,
   "id": "251d2d34",
   "metadata": {},
   "outputs": [],
   "source": [
    "# Alter this list with adata.obs variables that you want to plot against the resulting leiden population\n",
    "image_var = 'ROI'\n",
    "\n",
    "for i in ['Group']:\n",
    "\n",
    "    mikeimc_v2.grouped_graph(adata_subset2,\n",
    "                             ROI_id=image_var,\n",
    "                             group_by_obs=i,\n",
    "                             x_axis='pheno_cluster',\n",
    "                             fig_size=(16,4),\n",
    "                             log_scale=False, scale_factor=True,\n",
    "                            display_tables=True) #If you change display_tables to True, will also do stats on the groups\n",
    "    plt.show()"
   ]
  },
  {
   "cell_type": "code",
   "execution_count": null,
   "id": "7908fe7a",
   "metadata": {
    "scrolled": true
   },
   "outputs": [],
   "source": [
    "compression_opts = dict(method='zip',\n",
    "                         archive_name='All_clusters_number_per_ROI.csv') \n",
    "tmp.to_csv('out.zip', index=False, compression=compression_opts)"
   ]
  },
  {
   "cell_type": "code",
   "execution_count": null,
   "id": "ab817629",
   "metadata": {
    "scrolled": true
   },
   "outputs": [],
   "source": [
    "#see how to increase the size of the dots\n",
    "#edit dict colour\n",
    "sb.set_style(\"white\", {'axes.grid' : False})\n",
    "graph = sb.lmplot(data = adata_subset2.obs, x = 'X_loc',y='Y_loc',hue ='pheno_cluster', palette = colour_palette['colour'], height = 8, col = 'ROI', col_wrap = 10,fit_reg = False)\n",
    "graph.savefig('Mapped_all_clusters.png')"
   ]
  },
  {
   "cell_type": "markdown",
   "id": "310b2881",
   "metadata": {},
   "source": [
    "# Proportion comparisons analysis - scanpro"
   ]
  },
  {
   "cell_type": "code",
   "execution_count": null,
   "id": "1e480606",
   "metadata": {},
   "outputs": [],
   "source": [
    "from scanpro import scanpro"
   ]
  },
  {
   "cell_type": "code",
   "execution_count": null,
   "id": "15a3fcbf",
   "metadata": {},
   "outputs": [],
   "source": [
    "ad_subset2_immune.obs['pheno_cluster_new']"
   ]
  },
  {
   "cell_type": "code",
   "execution_count": null,
   "id": "a739d915",
   "metadata": {},
   "outputs": [],
   "source": [
    "out = scanpro(ad_covid_immune, clusters_col='pheno_cluster_new', conds_col='HIV', samples_col='ROI')"
   ]
  },
  {
   "cell_type": "code",
   "execution_count": null,
   "id": "9d95becb",
   "metadata": {
    "scrolled": false
   },
   "outputs": [],
   "source": [
    "out.results"
   ]
  },
  {
   "cell_type": "code",
   "execution_count": null,
   "id": "cf6b186e",
   "metadata": {},
   "outputs": [],
   "source": [
    "out.plot()"
   ]
  },
  {
   "cell_type": "code",
   "execution_count": null,
   "id": "55ae4744",
   "metadata": {},
   "outputs": [],
   "source": []
  },
  {
   "cell_type": "markdown",
   "id": "a8af5d14",
   "metadata": {},
   "source": [
    "# Subset anndata to plot specfic cell types in COVID+ HIVneg vs COVID+ HIVpos"
   ]
  },
  {
   "cell_type": "code",
   "execution_count": null,
   "id": "50b5af4f",
   "metadata": {
    "scrolled": false
   },
   "outputs": [],
   "source": [
    "adata_subset2.obs['cell_type']"
   ]
  },
  {
   "cell_type": "code",
   "execution_count": null,
   "id": "7d02dbba",
   "metadata": {},
   "outputs": [],
   "source": [
    "adata_subset2.obs['hierarchy']"
   ]
  },
  {
   "cell_type": "code",
   "execution_count": null,
   "id": "c7770801",
   "metadata": {},
   "outputs": [],
   "source": [
    "#Subset anndata object according to the HIV status in the COVID+ group\n",
    "ad_HIV_POS = adata_subset2[adata_subset2.obs['Patient'].isin(['COS-03', 'COS-05', 'COS-06', 'COS-07', 'COS-08']),:].copy()\n",
    "ad_HIV_NEG = adata_subset2[adata_subset2.obs['Patient'].isin(['COS-09',  'COS-012', 'COS-013', 'COS-015']),:].copy()"
   ]
  },
  {
   "cell_type": "code",
   "execution_count": null,
   "id": "7128a118",
   "metadata": {},
   "outputs": [],
   "source": [
    "ad_HIV_POS.write('./2_h5ad files/ad_HIV_POS')\n",
    "ad_HIV_NEG.write('./2_h5ad files/ad_HIV_NEG')"
   ]
  },
  {
   "cell_type": "markdown",
   "id": "864ac311",
   "metadata": {},
   "source": [
    "Subset anndata object according to cell types"
   ]
  },
  {
   "cell_type": "code",
   "execution_count": null,
   "id": "3a1cb160",
   "metadata": {},
   "outputs": [],
   "source": [
    "# neutrophils\n",
    "ad_neutro = adata_subset2[adata_subset2.obs['cell_type'].isin(['Neutrophil']),:].copy()\n",
    "\n",
    "# macrophages\n",
    "ad_macro = adata_subset2[adata_subset2.obs['cell_type'].isin(['Macrophage']),:].copy()\n",
    "\n",
    "# lymphoid\n",
    "ad_lymphoid = adata_subset2[adata_subset2.obs['hierarchy'].isin(['Lymphoid']),:].copy()\n",
    "\n",
    "# epithelial\n",
    "ad_epithelial = adata_subset2[adata_subset2.obs['cell_type'].isin(['Epithelial']),:].copy()\n",
    "\n",
    "# stromal cells\n",
    "ad_stromal = adata_subset2[adata_subset2.obs['cell_type'].isin(['Fibroblast', 'Smooth Muscle Cell'])].copy()\n",
    "\n",
    "# endothelial cells\n",
    "ad_endothelium = adata_subset2[adata_subset2.obs['cell_type'].isin(['Endothelium'])].copy()\n",
    "\n",
    "#RBCs\n",
    "ad_RBC = adata_subset2[adata_subset2.obs['cell_type'].isin(['RBCs'])].copy()"
   ]
  },
  {
   "cell_type": "code",
   "execution_count": null,
   "id": "2cc01d4d",
   "metadata": {},
   "outputs": [],
   "source": [
    "ad_neutro.write('./2_h5ad files/adata_subset2_neutrophil')\n",
    "ad_macro.write('./2_h5ad files/adata_subset2_macrophage')\n",
    "ad_lymphoid.write('./2_h5ad files/adata_subset2_lymphoid')\n",
    "ad_epithelial.write('./2_h5ad files/adata_subset2_epithelial')\n",
    "ad_stromal.write('./2_h5ad files/adata_subset2_stromal')\n",
    "ad_endothelium.write('./2_h5ad files/adata_subset2_endothelium')\n",
    "ad_RBC.write('./2_h5ad files/adata_subset2_RBC')\n"
   ]
  },
  {
   "cell_type": "code",
   "execution_count": null,
   "id": "26cb393f",
   "metadata": {},
   "outputs": [],
   "source": [
    "adata_COVID.write('./2_h5ad files/adata_COVID')"
   ]
  },
  {
   "cell_type": "markdown",
   "id": "53e88b5c",
   "metadata": {},
   "source": [
    "# Export data"
   ]
  },
  {
   "cell_type": "code",
   "execution_count": null,
   "id": "97b5f432",
   "metadata": {
    "scrolled": true
   },
   "outputs": [],
   "source": [
    "#Make a simplified dataframe to export\n",
    "adata_export = adata_subset3.obs[['Case','ROI','Type','hierarchy','pheno_cluster']].copy()"
   ]
  },
  {
   "cell_type": "code",
   "execution_count": null,
   "id": "f8d8e9d6",
   "metadata": {
    "scrolled": true
   },
   "outputs": [],
   "source": [
    "#Split up the X and Y columns from the adata\n",
    "adata_export['X'], adata_export['Y'] = np.split(adata_subset3.obsm['spatial'],[-1],axis=1)\n",
    "#Save to file\n",
    "adata_export.to_csv('adata_cluster_export.csv')"
   ]
  },
  {
   "cell_type": "code",
   "execution_count": null,
   "id": "21b1d157",
   "metadata": {
    "scrolled": true
   },
   "outputs": [],
   "source": [
    "# export everything except the data using `.write_csvs`.\n",
    "# Set `skip_data=False` if you also want to export the data.\n",
    "adata_subset3.write_csvs(dirname='./', skip_data=False)"
   ]
  }
 ],
 "metadata": {
  "kernelspec": {
   "display_name": "Python 3 (ipykernel)",
   "language": "python",
   "name": "python3"
  },
  "language_info": {
   "codemirror_mode": {
    "name": "ipython",
    "version": 3
   },
   "file_extension": ".py",
   "mimetype": "text/x-python",
   "name": "python",
   "nbconvert_exporter": "python",
   "pygments_lexer": "ipython3",
   "version": "3.9.13"
  }
 },
 "nbformat": 4,
 "nbformat_minor": 5
}
