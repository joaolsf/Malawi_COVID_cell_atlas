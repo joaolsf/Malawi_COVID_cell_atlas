{
 "cells": [
  {
   "cell_type": "markdown",
   "id": "f93400a9",
   "metadata": {},
   "source": [
    "# Import libraries and setup"
   ]
  },
  {
   "cell_type": "code",
   "execution_count": null,
   "id": "389cfa0b",
   "metadata": {},
   "outputs": [],
   "source": [
    "# Import libraries we may need\n",
    "import scanpy as sc\n",
    "import numpy as np\n",
    "import scipy as sp\n",
    "import squidpy as sq\n",
    "import pandas as pd\n",
    "import matplotlib.pyplot as plt\n",
    "from matplotlib import rcParams\n",
    "from matplotlib import colors\n",
    "import seaborn as sb\n",
    "import scanpy.external as sce\n",
    "import wget\n",
    "import yaml\n",
    "import wget\n",
    "import astir\n",
    "import dill\n",
    "import umap\n",
    "reducer = umap.UMAP()\n",
    "\n",
    "#My module for importing IMC data into AnnData format\n",
    "import mikeimc as mimc\n",
    "import mikeimc_v2 as mikeimc_v2"
   ]
  },
  {
   "cell_type": "code",
   "execution_count": null,
   "id": "26a8b227",
   "metadata": {},
   "outputs": [],
   "source": [
    "# Set up output figure settings\n",
    "plt.rcParams['figure.figsize']=(64,64) #rescale figures, increase sizehere\n",
    "\n",
    "# Set up scanpy settings\n",
    "sc.settings.verbosity = 3\n",
    "sc.set_figure_params(dpi=100, dpi_save=300) #Increase DPI for better resolution figures\n",
    "#sc.logging.print_versions()"
   ]
  },
  {
   "cell_type": "markdown",
   "id": "dc0281c4",
   "metadata": {},
   "source": [
    "# Save / restore environemnt\n",
    "Use these functions to either save or load the environmental variables, otherwise you will lose all the objects between opening/closing Jupyter sessions!"
   ]
  },
  {
   "cell_type": "code",
   "execution_count": null,
   "id": "ecfe3dc8",
   "metadata": {},
   "outputs": [],
   "source": [
    "#load the session\n",
    "dill.load_session('DC_ASTIR.db')"
   ]
  },
  {
   "cell_type": "code",
   "execution_count": null,
   "id": "591176c1",
   "metadata": {},
   "outputs": [],
   "source": [
    "#save the session\n",
    "dill.dump_session('DC_ASTIR.db')"
   ]
  },
  {
   "cell_type": "markdown",
   "id": "3fd9c78d",
   "metadata": {},
   "source": [
    "Save adata object\n",
    "This will save the adata object in the current directory as a file called 'adata'"
   ]
  },
  {
   "cell_type": "code",
   "execution_count": null,
   "id": "8ac0abfe",
   "metadata": {},
   "outputs": [],
   "source": [
    "adata.write('adata_subset')"
   ]
  },
  {
   "cell_type": "code",
   "execution_count": null,
   "id": "38d50269",
   "metadata": {},
   "outputs": [],
   "source": [
    "adata.write('adata_subset2')"
   ]
  },
  {
   "cell_type": "markdown",
   "id": "a8ee0a75",
   "metadata": {},
   "source": [
    "Load adata\n",
    "This will open up a stored adata object (from the 'raw' directory)"
   ]
  },
  {
   "cell_type": "code",
   "execution_count": null,
   "id": "7added01",
   "metadata": {},
   "outputs": [],
   "source": [
    "adata = ad.read_h5ad('adata_subset2')"
   ]
  },
  {
   "cell_type": "markdown",
   "id": "b0d100f2",
   "metadata": {},
   "source": [
    "# Importing data and setup"
   ]
  },
  {
   "cell_type": "code",
   "execution_count": null,
   "id": "e282b3f1",
   "metadata": {},
   "outputs": [],
   "source": [
    "#This approach of generating adata is different from the approach below and it uses different input files.\n",
    "\n",
    "from importlib import reload\n",
    "mimc = reload(mimc)\n",
    "\n",
    "adata, df_misc = mimc.celltable_to_adata(column_properties='mikeimc_approach/Original_files/DC_columns_final.csv', #Contents define how the columns in the cell table should be handled\n",
    "                                                cell_table='mikeimc_approach/Original_files/Denoise_DC_cells_final_edited.csv', #The full cell table as exported by whatever cell segmentation pipeline\n",
    "                                                dictionary='mikeimc_approach/Original_files/dictionary_edited.csv', #If this is specified, it will add extra observations based upon the ROI, e.g. what group/patient/treatment it came from\n",
    "                                                marker_normalisation='99th', #Marker normalisation, by default will be None\n",
    "                                                misc_table=True) #Whether or not a second dataframe of 'misc' findings will be imported"
   ]
  },
  {
   "cell_type": "code",
   "execution_count": null,
   "id": "7fb651fe",
   "metadata": {},
   "outputs": [],
   "source": [
    "adata.uns"
   ]
  },
  {
   "cell_type": "code",
   "execution_count": null,
   "id": "c0d45899",
   "metadata": {},
   "outputs": [],
   "source": [
    "all_markers = adata.var_names.tolist()\n",
    "print ('List of all markers found:')\n",
    "print (all_markers,end= '\\n\\n')\n",
    "\n",
    "#skipe this step: Change this with a list of the markers you'd like to be remove entirely from the dataset, e.g. DNA stains\n",
    "markers_to_remove = ['DNA1', 'DNA2']\n",
    "\n",
    "#Remove markers from list\n",
    "markers_limited = [m for m in all_markers if m not in markers_to_remove]\n",
    "\n",
    "#print ('List of all markers with removed items:')\n",
    "print (markers_limited)"
   ]
  },
  {
   "cell_type": "code",
   "execution_count": null,
   "id": "21388b19",
   "metadata": {},
   "outputs": [],
   "source": [
    "#Filter to only markers specified above\n",
    "adata_filtered = adata[:,markers_limited]\n",
    "#The .copy() makes a completely seperate copy\n",
    "adata_subset = adata_filtered.copy()\n",
    "#This code further filters the data by removing cells from C10, C31 ROIs and C21_ROI3\n",
    "#adata_subset = adata_filtered[~adata_filtered.obs['ROI'].isin(['C10_ROI1','C10_ROI2','C10_ROI3', 'C10_ROI4', 'C21_ROI3', 'C31_ROI1', 'C31_ROI2', 'C31_ROI3', 'C31_ROI4']),:].copy()\n",
    "\n",
    "adata_subset.var_names"
   ]
  },
  {
   "cell_type": "markdown",
   "id": "22c33341",
   "metadata": {},
   "source": [
    "# QC Checking data"
   ]
  },
  {
   "cell_type": "code",
   "execution_count": null,
   "id": "6e08426f",
   "metadata": {},
   "outputs": [],
   "source": [
    "sc.pl.matrixplot(adata_subset, adata_subset.var_names, groupby='TMAID', swap_axes=True, save='QC_TMAID.png')\n",
    "\n",
    "#Number of cells per ROI\n",
    "#print(adata_subset.obs['ROI'].value_counts())"
   ]
  },
  {
   "cell_type": "code",
   "execution_count": null,
   "id": "e506dcc7",
   "metadata": {},
   "outputs": [],
   "source": [
    "sc.pl.matrixplot(adata_subset, adata_subset.var_names, groupby='ROI', swap_axes=True, save='QC_ROI.png')"
   ]
  },
  {
   "cell_type": "code",
   "execution_count": null,
   "id": "30abd070",
   "metadata": {},
   "outputs": [],
   "source": [
    "sc.pl.matrixplot(adata_subset, adata_subset.var_names, groupby='Region', swap_axes=True, save='QC_Region.png')"
   ]
  },
  {
   "cell_type": "markdown",
   "id": "9e6a311a",
   "metadata": {},
   "source": [
    "# PCA analyses"
   ]
  },
  {
   "cell_type": "code",
   "execution_count": null,
   "id": "31f19dc8",
   "metadata": {},
   "outputs": [],
   "source": [
    "#Show those markers that yield the highest fraction of counts in each single cell, across all cells.\\\n",
    "sc.pl.highest_expr_genes(adata_subset, n_top=20, )\n",
    "\n",
    "#Identify highly-variable markers:\n",
    "sc.pp.highly_variable_genes(adata_subset, min_mean=0.0125, max_mean=3, min_disp=0.5)\n",
    "sc.pl.highly_variable_genes(adata_subset)    "
   ]
  },
  {
   "cell_type": "code",
   "execution_count": null,
   "id": "e1a22cbb",
   "metadata": {},
   "outputs": [],
   "source": [
    "#Calculate PCA - this must be done first\n",
    "#sc.tl.pca(adata_subset, svd_solver='arpack')\n",
    "\n",
    "#Inspect the contribution of single PCs to the total variance in the data. \n",
    "#This gives us information about how many PCs we should consider in order to compute the neighborhood relations of cells,\n",
    "#e.g. used in the clustering function \n",
    "sc.pl.pca_variance_ratio(adata_subset, log=False, save='DC_PCA.pdf')"
   ]
  },
  {
   "cell_type": "code",
   "execution_count": null,
   "id": "ffbdf61d",
   "metadata": {},
   "outputs": [],
   "source": [
    "#Visualise all PCAs\n",
    "sc.pl.pca(adata_subset, color='Region', components = ['1,2', '3,4', '5,6', '7,8'], ncols=1, size=0.2, save='DC_PCA_Region.pdf')"
   ]
  },
  {
   "cell_type": "code",
   "execution_count": null,
   "id": "e9a0feec",
   "metadata": {},
   "outputs": [],
   "source": [
    "#Plot loadings of PCA to figure out what is contributing to variability\n",
    "sc.pl.pca_loadings(adata_subset, components=[1,2,3,4,5,6,7,8], save = '.pdf')"
   ]
  },
  {
   "cell_type": "markdown",
   "id": "fa7614a6",
   "metadata": {},
   "source": [
    "# Batch integration using BBKNN\n",
    "This will batch correct using BBKNN. There are other options batch correction, such as Harmony, but I found this the easiest to implement. Read more here: https://bodenmillergroup.github.io/IMCDataAnalysis/batch-effects.html"
   ]
  },
  {
   "cell_type": "markdown",
   "id": "68a839b0",
   "metadata": {},
   "source": [
    "Run PCA and BBKNN\n",
    "batch_correction_obs -This defines which .obs should be used to identify the different batches, in the example here it is 'Case'"
   ]
  },
  {
   "cell_type": "code",
   "execution_count": null,
   "id": "7ba75e22",
   "metadata": {},
   "outputs": [],
   "source": [
    "# Define the number of PCA dimensions to work with - one less than number of markers. Without this, it usually defaults to 50, which we don't have enough markers for.\n",
    "n_for_pca = len(adata_subset.var_names)-1\n",
    "\n",
    "# Define the 'obs' which defines the different cases\n",
    "batch_correction_obs = 'Group'\n",
    "\n",
    "# Calculate PCA, this must be done before BBKNN\n",
    "sc.tl.pca(adata_subset, n_comps=n_for_pca)\n",
    "\n",
    "# BBKNN - it is used in place of the scanpy 'neighbors' command that calculates nearest neighbours in the feature space\n",
    "sc.external.pp.bbknn(adata_subset, batch_key='Group', n_pcs=n_for_pca)"
   ]
  },
  {
   "cell_type": "code",
   "execution_count": null,
   "id": "3ae7e477",
   "metadata": {},
   "outputs": [],
   "source": [
    "#Calculate UMAP\n",
    "sc.tl.umap(adata_subset)"
   ]
  },
  {
   "cell_type": "markdown",
   "id": "b2f2c92d",
   "metadata": {},
   "source": [
    "Plot UMAPs\n",
    "You can add extra .obs to UMAP_groups to colour the UMAPs by, e.g. treatment"
   ]
  },
  {
   "cell_type": "code",
   "execution_count": null,
   "id": "780f3ef3",
   "metadata": {},
   "outputs": [],
   "source": [
    "#Define a list of .obs to colour the UMAP by\n",
    "UMAP_groups = ['Patient', 'CaseID', 'Group', 'Region'] \n",
    "\n",
    "# Plot UMAPs coloured by list above\n",
    "sc.pl.umap(adata_subset, color=UMAP_groups, ncols=1, size=3, save='UMAP_categories.png')"
   ]
  },
  {
   "cell_type": "code",
   "execution_count": null,
   "id": "4f0cddf0",
   "metadata": {},
   "outputs": [],
   "source": [
    "# This will plot a UMAP for each of the individual markers\n",
    "sc.pl.umap(adata_subset, color=adata_subset.var_names.tolist(), color_map='viridis', vmax=0.75, ncols=4, save='UMAP_markers.png')"
   ]
  },
  {
   "cell_type": "markdown",
   "id": "7c75647b",
   "metadata": {},
   "source": [
    "Visualizing distributions across batches"
   ]
  },
  {
   "cell_type": "markdown",
   "id": "4b3255ae",
   "metadata": {},
   "source": [
    "Often, batches correspond to experiments that one wants to compare. Scanpy offers to convenient visualization possibilities for this.\n",
    "\n",
    "a density plot\n",
    "a partial visualization of a subset of categories/groups in an emnbedding"
   ]
  },
  {
   "cell_type": "code",
   "execution_count": null,
   "id": "01bcd1cb",
   "metadata": {},
   "outputs": [],
   "source": [
    "#Density plot - it can be calculated for different columns in adata.obs\n",
    "sc.tl.embedding_density(adata_subset, groupby='Group')"
   ]
  },
  {
   "cell_type": "code",
   "execution_count": null,
   "id": "de0437af",
   "metadata": {},
   "outputs": [],
   "source": [
    "sc.pl.embedding_density(adata_subset, groupby='Group', save='UMAP_density_group.png')"
   ]
  },
  {
   "cell_type": "markdown",
   "id": "b76d383a",
   "metadata": {},
   "source": [
    "Partial visualizaton of a subset of groups in embedding"
   ]
  },
  {
   "cell_type": "code",
   "execution_count": null,
   "id": "d27c9994",
   "metadata": {},
   "outputs": [],
   "source": [
    "adata_subset.obs['CaseID']"
   ]
  },
  {
   "cell_type": "code",
   "execution_count": null,
   "id": "f471addf",
   "metadata": {},
   "outputs": [],
   "source": [
    "adata_query = adata_subset[adata_subset.obs['CaseID'].isin(['COS-002-05-J1', 'COS-004-05-J1', 'COS-006-05-J1'])]\n",
    "\n",
    "for batch in ['COS-002-05-J1', 'COS-004-05-J1', 'COS-006-05-J1']:\n",
    "    sc.pl.umap(adata_query, color='CaseID', groups=[batch])"
   ]
  },
  {
   "cell_type": "markdown",
   "id": "246053e1",
   "metadata": {},
   "source": [
    "# Supervised cell type identification using Astir\n",
    "\n",
    "This uses Astir (https://github.com/camlab-bioml/astir) to do 'semi-supervised' cell identification using a neural network. You specify the populations and markers in hte 'markers.yml' file - see the Astir documentation for full details"
   ]
  },
  {
   "cell_type": "markdown",
   "id": "51da2903",
   "metadata": {},
   "source": [
    "Import markers file and data file"
   ]
  },
  {
   "cell_type": "code",
   "execution_count": null,
   "id": "7abe715a",
   "metadata": {
    "scrolled": true
   },
   "outputs": [],
   "source": [
    "# Read in the YAML file with a list of the expected marker pairs\n",
    "with open(r'markers.yml') as file:\n",
    "  cell_types = yaml.load(file, Loader=yaml.FullLoader)\n",
    "\n",
    "#View the contents of the YML file\n",
    "!head markers.yml\n",
    "print(cell_types['cell_types'])"
   ]
  },
  {
   "cell_type": "code",
   "execution_count": null,
   "id": "7a944f07",
   "metadata": {},
   "outputs": [],
   "source": [
    "adata_subset.write(filename='adata_subset_DC_astir')\n",
    "\n",
    "import os\n",
    "import warnings\n",
    "from typing import Any\n",
    "\n",
    "import anndata\n",
    "import loompy\n",
    "import matplotlib.cbook\n",
    "import numpy as np\n",
    "import pandas as pd\n",
    "import torch\n",
    "import yaml\n",
    "from sklearn.preprocessing import OneHotEncoder"
   ]
  },
  {
   "cell_type": "code",
   "execution_count": null,
   "id": "84c6e435",
   "metadata": {},
   "outputs": [],
   "source": [
    "from astir.data import from_anndata_yaml\n",
    "#the name of the anndata file below has to be as saved above!!\n",
    "\n",
    "ast = from_anndata_yaml(\"adata_subset_DC_astir\", \"markers.yml\", batch_name=None)\n",
    "ast"
   ]
  },
  {
   "cell_type": "markdown",
   "id": "e7b79fa9",
   "metadata": {},
   "source": [
    "Set training parameters\n",
    "\n",
    "I've left these all as the default for now"
   ]
  },
  {
   "cell_type": "code",
   "execution_count": null,
   "id": "31fe6e30",
   "metadata": {},
   "outputs": [],
   "source": [
    "# Create batch size proportional to the number of cells\n",
    "N = ast.get_type_dataset().get_exprs_df().shape[0]\n",
    "batch_size = int(N/100)\n",
    "\n",
    "# Number of training epochs\n",
    "max_epochs = 1000\n",
    "\n",
    "# Set learning rate\n",
    "learning_rate = 2e-3\n",
    "\n",
    "# Set initial epochs\n",
    "initial_epochs = 3"
   ]
  },
  {
   "cell_type": "code",
   "execution_count": null,
   "id": "f61c6250",
   "metadata": {
    "scrolled": true
   },
   "outputs": [],
   "source": [
    "#Run the cell type identification\n",
    "ast.fit_type(max_epochs = max_epochs,\n",
    "             batch_size = batch_size,\n",
    "             learning_rate = learning_rate,\n",
    "             n_init_epochs = initial_epochs,\n",
    "             delta_loss=0.001)"
   ]
  },
  {
   "cell_type": "markdown",
   "id": "2654458c",
   "metadata": {},
   "source": [
    "Number of cells of each type found"
   ]
  },
  {
   "cell_type": "code",
   "execution_count": null,
   "id": "2016ddfa",
   "metadata": {},
   "outputs": [],
   "source": [
    "ast.get_celltypes().value_counts()"
   ]
  },
  {
   "cell_type": "code",
   "execution_count": null,
   "id": "9eacab34",
   "metadata": {},
   "outputs": [],
   "source": [
    "df = ast.diagnostics_celltype().head(n=20)\n",
    "df"
   ]
  },
  {
   "cell_type": "code",
   "execution_count": null,
   "id": "f7228c74",
   "metadata": {},
   "outputs": [],
   "source": [
    "#plot the losses to assess convergence\n",
    "plt.figure(figsize=(5,4))\n",
    "plt.plot(np.arange(len(ast.get_type_losses())), ast.get_type_losses())\n",
    "plt.ylabel(\"Loss\")\n",
    "plt.xlabel(\"Epoch\")"
   ]
  },
  {
   "cell_type": "code",
   "execution_count": null,
   "id": "75b44e14",
   "metadata": {},
   "outputs": [],
   "source": [
    "#get cell type assignment probabilities\n",
    "assignments = ast.get_celltype_probabilities()\n",
    "assignments"
   ]
  },
  {
   "cell_type": "code",
   "execution_count": null,
   "id": "e6c28b28",
   "metadata": {},
   "outputs": [],
   "source": [
    "assignments.to_csv(\"../assignments_probabilities.csv\")"
   ]
  },
  {
   "cell_type": "code",
   "execution_count": null,
   "id": "8be8a2d2",
   "metadata": {},
   "outputs": [],
   "source": [
    "sb.heatmap(assignments, annot=False, xticklabels=1, yticklabels=False)"
   ]
  },
  {
   "cell_type": "code",
   "execution_count": null,
   "id": "44dfe070",
   "metadata": {
    "scrolled": true
   },
   "outputs": [],
   "source": [
    "ast.get_celltypes()"
   ]
  },
  {
   "cell_type": "code",
   "execution_count": null,
   "id": "87b0493f",
   "metadata": {},
   "outputs": [],
   "source": [
    "ast.type_to_csv(\"../cell-types.csv\")"
   ]
  },
  {
   "cell_type": "markdown",
   "id": "d615efcc",
   "metadata": {},
   "source": [
    "Add hierarchy and cell type data to original Adata"
   ]
  },
  {
   "cell_type": "code",
   "execution_count": null,
   "id": "13a52d20",
   "metadata": {},
   "outputs": [],
   "source": [
    "# Check that the hierarchy dictionary have been loaded correctly\n",
    "ast.get_hierarchy_dict()"
   ]
  },
  {
   "cell_type": "code",
   "execution_count": null,
   "id": "5b582fc4",
   "metadata": {},
   "outputs": [],
   "source": [
    "#Retrieve the table of probabilites\n",
    "hierarchy_table =  ast.assign_celltype_hierarchy(depth = 1)\n",
    "\n",
    "cell_types = hierarchy_table.columns.tolist()\n",
    "\n",
    "#This is  the threshold as above - probably best to keep the same!\n",
    "threshold_for_classification = 0.55 #increased this slightly because several cells were classified as SMA when = 0.5\n",
    "\n",
    "#Start a new list that will store the hierarchy data\n",
    "hierarchy = []\n",
    "\n",
    "#This will work down each row and figure out which hierarchy type have the highest probability\n",
    "for index, row in hierarchy_table.iterrows():\n",
    "    row_values = row.values\n",
    "    max_prob = np.max(row_values)\n",
    "    \n",
    "    if max_prob < threshold_for_classification:\n",
    "        #If the cell doesn't fit into any category, return Unknown\n",
    "        hierarchy.append('Other')\n",
    "    else:\n",
    "        #Add to the list the \n",
    "        hierarchy.append(cell_types[np.argmax(row_values)])\n",
    "\n",
    "adata_subset.obs[\"cell_type\"] = ast.get_celltypes(threshold=threshold_for_classification)['cell_type']\n",
    "adata_subset.obs[\"hierarchy\"] = hierarchy"
   ]
  },
  {
   "cell_type": "code",
   "execution_count": null,
   "id": "e458f2af",
   "metadata": {},
   "outputs": [],
   "source": [
    "adata_subset"
   ]
  },
  {
   "cell_type": "code",
   "execution_count": null,
   "id": "59f092c3",
   "metadata": {},
   "outputs": [],
   "source": [
    "#Plot a heatmap grouped by hierarchy\n",
    "sc.pl.heatmap(adata_subset, adata_subset.var_names, groupby='hierarchy', cmap='viridis', vmax=0.75, swap_axes=False, save='_hierarchy_unknown.png')"
   ]
  },
  {
   "cell_type": "code",
   "execution_count": null,
   "id": "696ef770",
   "metadata": {},
   "outputs": [],
   "source": [
    "#Plot a heatmap grouped by hierarchy\n",
    "sc.pl.heatmap(adata_subset, adata_subset.var_names, groupby='cell_type', cmap='viridis', vmax=0.75, swap_axes=False, save='_cell_type_unknown.png')"
   ]
  },
  {
   "cell_type": "code",
   "execution_count": null,
   "id": "384e5be3",
   "metadata": {},
   "outputs": [],
   "source": [
    "#Plot a heatmap grouped by ASTIR\n",
    "sc.pl.matrixplot(adata_subset, adata_subset.var_names, groupby='cell_type', swap_axes=False, cmap='viridis', save='_ASTIR_cell_type_unknown.png')"
   ]
  },
  {
   "cell_type": "code",
   "execution_count": null,
   "id": "3fc67cdc",
   "metadata": {},
   "outputs": [],
   "source": [
    "#This code further filters the data by removing cells from C10, C31 ROIs and C21_ROI3\n",
    "#The .copy() makes a completely seperate copy\n",
    "adata_subset2 = adata_subset.copy()\n",
    "adata_subset2 = adata_subset2[~adata_subset2.obs['cell_type'].isin(['Other','Unknown']),:].copy()\n",
    "adata_subset2"
   ]
  },
  {
   "cell_type": "code",
   "execution_count": null,
   "id": "6fe21271",
   "metadata": {},
   "outputs": [],
   "source": [
    "adata_subset2"
   ]
  },
  {
   "cell_type": "code",
   "execution_count": null,
   "id": "5215d0f0",
   "metadata": {},
   "outputs": [],
   "source": [
    "# Define the number of PCA dimensions to work with - one less than number of markers. Without this, it usually defaults to 50, which we don't have enough markers for.\n",
    "n_for_pca = len(adata_subset.var_names)-1\n",
    "\n",
    "# Define the 'obs' which defines the different cases\n",
    "batch_correction_obs = 'Group'\n",
    "\n",
    "# Calculate PCA, this must be done before BBKNN\n",
    "sc.tl.pca(adata_subset, n_comps=n_for_pca)\n",
    "\n",
    "# BBKNN - it is used in place of the scanpy 'neighbors' command that calculates nearest neighbours in the feature space\n",
    "sc.external.pp.bbknn(adata_subset, batch_key='Group', n_pcs=n_for_pca)"
   ]
  },
  {
   "cell_type": "code",
   "execution_count": null,
   "id": "dc55d24c",
   "metadata": {},
   "outputs": [],
   "source": [
    "#Calculate UMAP\n",
    "sc.tl.umap(adata_subset)"
   ]
  },
  {
   "cell_type": "code",
   "execution_count": null,
   "id": "9b5a73a1",
   "metadata": {
    "scrolled": true
   },
   "outputs": [],
   "source": [
    "#Plot PhenoGraph on UMAP\n",
    "sc.pl.umap(adata_subset, color = \"cell_type\", s = 2, legend_loc='on data', title='', legend_fontsize = 10, size=2, save='_cell_type_unknown.png')"
   ]
  },
  {
   "cell_type": "markdown",
   "id": "236768c1",
   "metadata": {},
   "source": [
    "# Filtering Unknown population out"
   ]
  },
  {
   "cell_type": "code",
   "execution_count": null,
   "id": "010b6cf5",
   "metadata": {
    "scrolled": true
   },
   "outputs": [],
   "source": [
    "#Plot a heatmap grouped by hierarchy\n",
    "sc.pl.heatmap(adata_subset2, adata_subset2.var_names, groupby='cell_type', cmap='viridis', vmax=0.75, swap_axes=False, save='_cell_type.png')"
   ]
  },
  {
   "cell_type": "code",
   "execution_count": null,
   "id": "62546736",
   "metadata": {},
   "outputs": [],
   "source": [
    "#Plot a heatmap grouped by cell types\n",
    "sc.pl.heatmap(adata_subset2, adata_subset2.var_names, groupby='cell_type', vmax=0.75, swap_axes=True) #save='_ASTIR_celltype.pdf')"
   ]
  },
  {
   "cell_type": "code",
   "execution_count": null,
   "id": "cbfb0d15",
   "metadata": {},
   "outputs": [],
   "source": [
    "#Plot a heatmap grouped by ASTIR\n",
    "sc.pl.matrixplot(adata_subset2, adata_subset2.var_names, groupby='cell_type', swap_axes=False, vmax=0.7, cmap='viridis', save='_ASTIR_cell_type.png')"
   ]
  },
  {
   "cell_type": "code",
   "execution_count": null,
   "id": "6f8e7271",
   "metadata": {},
   "outputs": [],
   "source": [
    "#Calculate neighbors\n",
    "#sc.pp.neighbors(adata_subset2, n_neighbors=100)"
   ]
  },
  {
   "cell_type": "code",
   "execution_count": null,
   "id": "1187fa4c",
   "metadata": {},
   "outputs": [],
   "source": [
    "#Use BBKNN integration instead of calculating neighbors \n",
    "# Define the number of PCA dimensions to work with - one less than number of markers. Without this, it usually defaults to 50, which we don't have enough markers for.\n",
    "n_for_pca = len(adata_subset2.var_names)-1\n",
    "\n",
    "# Define the 'obs' which defines the different cases\n",
    "batch_correction_obs = 'Group'\n",
    "\n",
    "# Calculate PCA, this must be done before BBKNN\n",
    "sc.tl.pca(adata_subset2, n_comps=n_for_pca)\n",
    "\n",
    "# BBKNN - it is used in place of the scanpy 'neighbors' command that calculates nearest neighbours in the feature space\n",
    "sc.external.pp.bbknn(adata_subset2, batch_key='Group', n_pcs=n_for_pca)"
   ]
  },
  {
   "cell_type": "code",
   "execution_count": null,
   "id": "9c813331",
   "metadata": {
    "scrolled": true
   },
   "outputs": [],
   "source": [
    "#Calculate UMAP\n",
    "sc.tl.umap(adata_subset2)"
   ]
  },
  {
   "cell_type": "code",
   "execution_count": null,
   "id": "a9ceb88c",
   "metadata": {},
   "outputs": [],
   "source": [
    "#Plot PhenoGraph on UMAP\n",
    "sc.pl.umap(adata_subset2, color = \"cell_type\", s = 2, legend_loc='on data', title='', legend_fontsize = 10, size=2, save='_cell_type.png')"
   ]
  },
  {
   "cell_type": "code",
   "execution_count": null,
   "id": "241e05ca",
   "metadata": {},
   "outputs": [],
   "source": [
    "sc.pl.umap(adata_subset2, color = \"hierarchy\", s = 2, legend_loc='on data', title='', legend_fontsize = 10, size=2, save='_hierarchy.png')"
   ]
  },
  {
   "cell_type": "code",
   "execution_count": null,
   "id": "25a70d39",
   "metadata": {},
   "outputs": [],
   "source": [
    "#Define a list of .obs to colour the UMAP by\n",
    "UMAP_groups = ['Group'] \n",
    "\n",
    "# Plot UMAPs coloured by list above\n",
    "sc.pl.umap(adata_subset2, color=UMAP_groups, ncols=1, size=3)"
   ]
  },
  {
   "cell_type": "code",
   "execution_count": null,
   "id": "c0816e02",
   "metadata": {},
   "outputs": [],
   "source": [
    "#Spatial mapping\n",
    "sb.set_style(\"darkgrid\", {'axes.grid' : False})\n",
    "\n",
    "graph = sb.lmplot(data = adata_subset2.obs, x = 'X_loc',y='Y_loc',hue ='cell_type',palette = 'bright',height = 8,col = 'ROI',col_wrap = 10,fit_reg = False, aspect=1)\n",
    "graph.savefig(\"MappedPlots_cell_type.png\")"
   ]
  },
  {
   "cell_type": "markdown",
   "id": "790264b0",
   "metadata": {},
   "source": [
    "# Abundance graphs"
   ]
  },
  {
   "cell_type": "code",
   "execution_count": null,
   "id": "98de264a",
   "metadata": {},
   "outputs": [],
   "source": [
    "#stack bar code and extracting number of cells, distribution of each cluster per case or the cluster composition per case\n",
    "#for number of cells - don't use normalize\n",
    "#for distribution of each case per cluster - use normalize = \"index\"\n",
    "#for cluster composition per case - use normalize = \"columns\"\n",
    "tmp = pd.crosstab(adata_subset2.obs['cell_type'], adata_subset2.obs['TMAID'], margins=False, normalize = \"columns\")"
   ]
  },
  {
   "cell_type": "code",
   "execution_count": null,
   "id": "a5ab9f4a",
   "metadata": {},
   "outputs": [],
   "source": [
    "tmp"
   ]
  },
  {
   "cell_type": "code",
   "execution_count": null,
   "id": "3089111d",
   "metadata": {},
   "outputs": [],
   "source": [
    "compression_opts = dict(method='zip',\n",
    "                         archive_name='Celltype_TMAID.csv') \n",
    "tmp.to_csv('Celltype_TMAID.zip', index=True, compression=compression_opts)"
   ]
  },
  {
   "cell_type": "code",
   "execution_count": null,
   "id": "47322a55",
   "metadata": {},
   "outputs": [],
   "source": [
    "tmp2 = pd.DataFrame.transpose(tmp)"
   ]
  },
  {
   "cell_type": "code",
   "execution_count": null,
   "id": "adca0e44",
   "metadata": {},
   "outputs": [],
   "source": [
    "tmp2"
   ]
  },
  {
   "cell_type": "code",
   "execution_count": null,
   "id": "d489aceb",
   "metadata": {},
   "outputs": [],
   "source": [
    "#color for stack bars for the disease groups matching the other bar graphs\n",
    "#F08080 - light coral\n",
    "#87CEFA - lightskyblue\n",
    "#D3D3D3 - lightgrey\n",
    "\n",
    "sb.set_style(\"whitegrid\", {'axes.grid' : True})\n",
    "pretty_colors = ['#F08080','#87CEFA','#D3D3D3']\n",
    "color_pal = sb.color_palette('Paired')\n",
    "\n",
    "#colour_palette['colour']\n",
    "tmp2.plot.bar(stacked=True, color=color_pal, figsize=(4, 4)).legend(bbox_to_anchor=(1, 1))"
   ]
  },
  {
   "cell_type": "markdown",
   "id": "4dc54d45",
   "metadata": {},
   "source": [
    "Example breakdown of populations per case\n",
    "Here, break down the myeloid and tumour populations per case"
   ]
  },
  {
   "cell_type": "code",
   "execution_count": null,
   "id": "cf61a7a4",
   "metadata": {},
   "outputs": [],
   "source": [
    "#Example breakdown of populations per case\n",
    "#Here, break down the myeloid and lymphoid populations per case\n",
    "\n",
    "adata_m = adata_subset2[adata_subset2.obs['hierarchy'].isin(['Myeloid'])].copy()\n",
    "adata_l = adata_subset2[adata_subset2.obs['hierarchy'].isin(['Lymphoid'])].copy()\n",
    "adata_v = adata_subset2[adata_subset2.obs['hierarchy'].isin(['Vascular'])].copy()\n",
    "\n",
    "fig, axs = plt.subplots(1,3,figsize=(11, 6),constrained_layout=True)\n",
    "\n",
    "tmp = pd.crosstab(adata_m.obs['Group'],adata_subset2.obs['cell_type'], normalize='index')\n",
    "tmp.plot.bar(color=color_pal,ax=axs[0],stacked=True).legend(bbox_to_anchor=(0.75, -0.5))#.legend(bbox_to_anchor=(1.1, 1))\n",
    "\n",
    "tmp = pd.crosstab(adata_l.obs['Group'],adata_subset2.obs['cell_type'], normalize='index')\n",
    "tmp.plot.bar(color=color_pal,ax=axs[1],stacked=True).legend(bbox_to_anchor=(0.75, -0.5))#.legend(bbox_to_anchor=(1.1, 1))\n",
    "\n",
    "tmp = pd.crosstab(adata_v.obs['Group'],adata_subset2.obs['cell_type'], normalize='index')\n",
    "tmp.plot.bar(color=color_pal,ax=axs[2],stacked=True).legend(bbox_to_anchor=(0.75, -0.5))#.legend(bbox_to_anchor=(1.1, 1))\n",
    "\n",
    "fig.savefig('population_breakdowns_Group.png')"
   ]
  },
  {
   "cell_type": "code",
   "execution_count": null,
   "id": "de3a1d30",
   "metadata": {},
   "outputs": [],
   "source": [
    "adata_subset2"
   ]
  },
  {
   "cell_type": "markdown",
   "id": "c1687392",
   "metadata": {},
   "source": [
    "Abundances graphs with stats\n",
    "Example of case averaging abundance stats"
   ]
  },
  {
   "cell_type": "code",
   "execution_count": null,
   "id": "5c7205a1",
   "metadata": {},
   "outputs": [],
   "source": [
    "# Alter this list with adata.obs variables that you want to plot against the resulting leiden population\n",
    "image_var = 'ROI'\n",
    "\n",
    "for i in ['Patient']:\n",
    "\n",
    "    mikeimc_v2.grouped_graph(adata_subset2,\n",
    "                             ROI_id=image_var,\n",
    "                             group_by_obs=i,\n",
    "                             x_axis='cell_type',\n",
    "                             fig_size=(16,4),\n",
    "                             log_scale=False,\n",
    "                            display_tables=True) #If you change display_tables to True, will also do stats on the groups\n",
    "    plt.show()"
   ]
  },
  {
   "cell_type": "code",
   "execution_count": null,
   "id": "430c74c8",
   "metadata": {},
   "outputs": [],
   "source": [
    "mikeimc_v2.pop_stats(adata_subset2,\n",
    "          groups='Region', #The adata.obs we want to use to compare between\n",
    "          Case_id='Patient', #The adata.obs that defines case\n",
    "          ROI_id='ROI',\n",
    "          x_axis='cell_type',\n",
    "          display_tables=True,\n",
    "          fig_size=(8,3),\n",
    "          save='pop_stats_Group.png',\n",
    "           log_scale=False\n",
    "         )"
   ]
  },
  {
   "cell_type": "markdown",
   "id": "83f322b4",
   "metadata": {},
   "source": [
    "# Categorise samples using UMAP for cell abundance"
   ]
  },
  {
   "cell_type": "markdown",
   "id": "47b32c4b",
   "metadata": {},
   "source": [
    "This will use the abundance of the different populations to create a UMAP, then colour it by an adata.obs"
   ]
  },
  {
   "cell_type": "code",
   "execution_count": null,
   "id": "7869fa78",
   "metadata": {},
   "outputs": [],
   "source": [
    "mikeimc_v2.cellabundance_UMAP(adata_subset2,\n",
    "                              ROI_id='Patient',\n",
    "                              population='cell_type',\n",
    "                              colour_by='Group',\n",
    "                              annotate=True,\n",
    "                              normalize=False,\n",
    "                              dim_red='UMAP',\n",
    "                              save='abundance_umap.svg')"
   ]
  },
  {
   "cell_type": "markdown",
   "id": "021ecd17",
   "metadata": {},
   "source": [
    "# Create new adatas for all cell types for unsupervised analyses"
   ]
  },
  {
   "cell_type": "markdown",
   "id": "e369daf7",
   "metadata": {},
   "source": [
    "# Myeloid cells"
   ]
  },
  {
   "cell_type": "code",
   "execution_count": null,
   "id": "3ecd48a2",
   "metadata": {
    "scrolled": true
   },
   "outputs": [],
   "source": [
    "adata_myeloid = adata_subset2[adata_subset2.obs['hierarchy'].isin(['Myeloid'])].copy()\n",
    "sc.pl.heatmap(adata_myeloid, adata_myeloid.var_names, groupby='cell_type', vmax=0.75, cmap = 'viridis', swap_axes=True, save='_ASTIR_myeloid.png')"
   ]
  },
  {
   "cell_type": "code",
   "execution_count": null,
   "id": "1d959c40",
   "metadata": {
    "scrolled": true
   },
   "outputs": [],
   "source": [
    "#Plot clustered heatmap\n",
    "sc.tl.dendrogram(adata_myeloid, groupby = 'cell_type')\n",
    "sc.pl.heatmap(adata_myeloid, adata_myeloid.var_names, groupby='cell_type', cmap = 'viridis', vmax=0.75, swap_axes=True,dendrogram=True, save='_ASTIR_myeloid_clustered.png')"
   ]
  },
  {
   "cell_type": "code",
   "execution_count": null,
   "id": "663b62e4",
   "metadata": {},
   "outputs": [],
   "source": [
    "adata_neutrophil = adata_subset2[adata_subset2.obs['cell_type'].isin(['Neutrophil'])].copy()\n",
    "adata_macrophage = adata_subset2[adata_subset2.obs['cell_type'].isin(['Macrophage'])].copy()"
   ]
  },
  {
   "cell_type": "markdown",
   "id": "6ba5cc6a",
   "metadata": {},
   "source": [
    "# Lymphoid cells"
   ]
  },
  {
   "cell_type": "code",
   "execution_count": null,
   "id": "ed4ed319",
   "metadata": {},
   "outputs": [],
   "source": [
    "#Plot heatmap\n",
    "adata_lymphoid = adata_subset2[adata_subset2.obs['hierarchy'].isin(['Lymphoid'])].copy()\n",
    "sc.pl.heatmap(adata_lymphoid, adata_lymphoid.var_names, groupby='cell_type', vmax=0.75, cmap='viridis',swap_axes=True, save='_ASTIR_lymphoid.png')"
   ]
  },
  {
   "cell_type": "code",
   "execution_count": null,
   "id": "339e39c6",
   "metadata": {},
   "outputs": [],
   "source": [
    "#Plot scaled heatmap\n",
    "adata_lymphoid_norm = adata_lymphoid.copy()\n",
    "sc.pp.scale(adata_lymphoid_norm, max_value=1.5,  zero_center=True)\n",
    "sc.pl.heatmap(adata_lymphoid_norm, adata_lymphoid_norm.var_names, groupby='cell_type', swap_axes=True, save='_scaled_ASTIR_lymphoid.pdf')"
   ]
  },
  {
   "cell_type": "markdown",
   "id": "044959b0",
   "metadata": {},
   "source": [
    "# Vascular and Stromal cells"
   ]
  },
  {
   "cell_type": "markdown",
   "id": "d5692f97",
   "metadata": {},
   "source": []
  },
  {
   "cell_type": "code",
   "execution_count": null,
   "id": "6f385bcb",
   "metadata": {
    "scrolled": true
   },
   "outputs": [],
   "source": [
    "adata_vascular = adata_subset2[adata_subset2.obs['hierarchy'].isin(['Vascular'])].copy()\n",
    "sc.pl.heatmap(adata_vascular, adata_vascular.var_names, groupby='cell_type', vmax=0.75, cmap='viridis', swap_axes=True, save='_ASTIR_vascular.png')\n",
    "\n",
    "adata_endothelium = adata_subset2[adata_subset2.obs['cell_type'].isin(['Endothelium'])].copy()\n",
    "sc.pl.heatmap(adata_endothelium, adata_endothelium.var_names, groupby='cell_type', cmap='viridis', swap_axes=True, vmax=0.75, save='_ASTIR_endothelium.png')\n",
    "\n",
    "adata_RBC = adata_subset2[adata_subset2.obs['cell_type'].isin(['RBCs'])].copy()\n",
    "sc.pl.heatmap(adata_RBC, adata_RBC.var_names, groupby='cell_type', swap_axes=True, vmax=0.75, cmap='viridis', save='_ASTIR_RBC.png')\n",
    "\n",
    "#Plot scaled heatmap\n",
    "adata_vascular_norm = adata_vascular.copy()\n",
    "sc.pp.scale(adata_vascular_norm, max_value=0.5,  zero_center=True)\n",
    "sc.pl.heatmap(adata_vascular_norm, adata_vascular_norm.var_names, groupby='cell_type', cmap='viridis', swap_axes=True, save='_scaled_ASTIR_vascular.png')"
   ]
  },
  {
   "cell_type": "code",
   "execution_count": null,
   "id": "ad7c9cf3",
   "metadata": {},
   "outputs": [],
   "source": [
    "adata_stromal = adata_subset2[adata_subset2.obs['hierarchy'].isin(['Stromal'])].copy()\n",
    "sc.pl.heatmap(adata_stromal, adata_stromal.var_names, groupby='cell_type', cmap='viridis', swap_axes=True, vmax=0.75, save='_ASTIR_stromal.png' )\n",
    "\n",
    "adata_epithelial = adata_subset2[adata_subset2.obs['cell_type'].isin(['Epithelial'])].copy()\n",
    "sc.pl.heatmap(adata_epithelial, adata_epithelial.var_names, groupby='cell_type', cmap='viridis', swap_axes=True, vmax=0.75, save='_ASTIR_epithelial.png')\n",
    "\n",
    "adata_fibroblast = adata_subset2[adata_subset2.obs['cell_type'].isin(['Fibroblast', 'Smooth Muscle Cell'])].copy()\n",
    "sc.pl.heatmap(adata_fibroblast, adata_fibroblast.var_names, groupby='cell_type', cmap='viridis', swap_axes=True, vmax=0.75, save='_ASTIR_fibroblast.png')"
   ]
  },
  {
   "cell_type": "markdown",
   "id": "1971e1cf",
   "metadata": {},
   "source": [
    "# Unsupervised analyses on cellular types - ASTIR output"
   ]
  },
  {
   "cell_type": "markdown",
   "id": "932c3560",
   "metadata": {},
   "source": [
    "# ASTIR - clustering analysis including functional markers"
   ]
  },
  {
   "cell_type": "code",
   "execution_count": null,
   "id": "7459f77c",
   "metadata": {},
   "outputs": [],
   "source": [
    "#including functional markers\n",
    "neutrophil_markers = ['Arginase1','CD11b', 'CD11c', 'CD14', 'CD16', 'CD163', 'CD206', 'CD45', 'CD66b', 'CD68', 'Iba1', 'CD74', 'MHCII', 'MHCI', 'Vista', \n",
    "                   'iNOS', 'CD107a', 'GranzymeB', 'Ki67', 'ClvdCaspase3', 'SARSCoV2']\n",
    "adata_neutrophil_2 = adata_neutrophil[:,neutrophil_markers].copy()\n",
    "\n",
    "macrophage_markers = ['Arginase1','CD11b', 'CD11c', 'CD14', 'CD16', 'CD163', 'CD206', 'CD45', 'CD66b', 'CD68', 'Iba1', 'CD74', 'MHCII', 'MHCI', 'Vista', \n",
    "                   'iNOS', 'CD107a', 'GranzymeB', 'Ki67', 'ClvdCaspase3', 'SARSCoV2']\n",
    "adata_macrophage_2 = adata_macrophage[:,macrophage_markers].copy()\n",
    "\n",
    "lymphoid_markers = ['CD3','CD4','CD8', 'CD11c', 'CD16','CD20','CD38', 'CD45RO', 'CD74','MHCI','MHCII','Foxp3','CD107a','GranzymeB','Ki67','ClvdCaspase3','SARSCoV2']\n",
    "adata_lymphoid_2 = adata_lymphoid[:,lymphoid_markers].copy()\n",
    "\n",
    "epithelial_markers = ['PanCK','CD74','MHCII','MHCI','CD107a','GranzymeB','Ki67','ClvdCaspase3','SARSCoV2']\n",
    "adata_epithelial_2 = adata_epithelial[:,epithelial_markers].copy()\n",
    "\n",
    "stromal_markers = ['Collagen1','SMA', 'Fibrinogen','Ki67','ClvdCaspase3','SARSCoV2']\n",
    "adata_stromal = adata_stromal[:,stromal_markers].copy()\n",
    "\n",
    "endothelial_markers = ['CD31','ICAM1','vWF','CD74','MHCII','MHCI','CD107a','GranzymeB','Ki67','ClvdCaspase3','SARSCoV2']\n",
    "adata_endothelium_2 = adata_endothelium[:,endothelial_markers].copy()\n",
    "\n",
    "RBC_markers = ['CD235ab','SARSCoV2']\n",
    "adata_RBC_2 = adata_RBC[:,RBC_markers].copy()"
   ]
  },
  {
   "cell_type": "markdown",
   "id": "2c16a8b8",
   "metadata": {},
   "source": [
    "# Export data"
   ]
  },
  {
   "cell_type": "code",
   "execution_count": null,
   "id": "e8754588",
   "metadata": {},
   "outputs": [],
   "source": [
    "#Make a simplified dataframe to export\n",
    "adata_export = adata_subset.obs[['Case','ROI','Type','hierarchy','pheno_cluster']].copy()"
   ]
  },
  {
   "cell_type": "code",
   "execution_count": null,
   "id": "e4ee783c",
   "metadata": {},
   "outputs": [],
   "source": [
    "#Split up the X and Y columns from the adata\n",
    "adata_export['X'], adata_export['Y'] = np.split(adata_subset.obsm['spatial'],[-1],axis=1)\n",
    "#Save to file\n",
    "adata_export.to_csv('adata_cluster_export.csv')"
   ]
  },
  {
   "cell_type": "code",
   "execution_count": null,
   "id": "b145c56d",
   "metadata": {},
   "outputs": [],
   "source": [
    "# export everything except the data using `.write_csvs`.\n",
    "# Set `skip_data=False` if you also want to export the data.\n",
    "adata_subset.write_csvs(dirname='./', skip_data=False)"
   ]
  },
  {
   "cell_type": "markdown",
   "id": "b6faa759",
   "metadata": {},
   "source": [
    "# Loading images to anndata"
   ]
  },
  {
   "cell_type": "code",
   "execution_count": null,
   "id": "f653bc94",
   "metadata": {},
   "outputs": [],
   "source": [
    "pwd"
   ]
  },
  {
   "cell_type": "code",
   "execution_count": null,
   "id": "6966bdda",
   "metadata": {},
   "outputs": [],
   "source": [
    "#Method 1 to import the tif file to python and convert it to a numpy array\n",
    "from PIL import Image\n",
    "from pathlib import Path\n",
    "import glob  \n",
    "root = Path('./Images/').expanduser()\n",
    "\n",
    "im = Image.open(root / '0205_1_A.tif')\n",
    "im.show()\n",
    "\n",
    "import numpy\n",
    "imarray = numpy.array(im)\n",
    "\n",
    "plt.imshow(im)"
   ]
  },
  {
   "cell_type": "code",
   "execution_count": null,
   "id": "3e937495",
   "metadata": {},
   "outputs": [],
   "source": [
    "#ROI_list = glob.glob(\"*.tif\")\n",
    "#ROI_list\n",
    "#for i in ROI_list:\n",
    " #       print('Loading image for '+i)\n",
    "  #      i = plt.imread(i)"
   ]
  },
  {
   "cell_type": "code",
   "execution_count": null,
   "id": "30c6ff61",
   "metadata": {},
   "outputs": [],
   "source": [
    "import matplotlib.pyplot as plt\n",
    "Image_0205_1_A = plt.imread(root / '0205_1_A.tif')\n",
    "Image_0205_2_A = plt.imread(root / '0205_2_A.tif')\n",
    "Image_0305_1_A = plt.imread(root / '0305_1_A.tif')\n",
    "Image_0305_2_A = plt.imread(root / '0305_2_A.tif')\n",
    "Image_0307_1_A = plt.imread(root / '0307_1_A.tif')\n",
    "Image_0307_2_A = plt.imread(root / '0307_2_A.tif')\n",
    "Image_0405_1_A = plt.imread(root / '0405_1_A.tif')\n",
    "Image_0405_2_A = plt.imread(root / '0405_2_A.tif')\n",
    "Image_0407_1_A = plt.imread(root / '0407_1_A.tif')\n",
    "Image_0407_2_A = plt.imread(root / '0407_2_A.tif')\n",
    "Image_0505_1_A = plt.imread(root / '0505_1_A.tif')\n",
    "Image_0507_2_A = plt.imread(root / '0507_2_A.tif')\n",
    "\n",
    "Image_0605_1_A = plt.imread(root / '0605_1_A.tif')\n",
    "Image_0605_2_A = plt.imread(root / '0605_2_A.tif')\n",
    "Image_0607_1_A = plt.imread(root / '0607_1_A.tif')\n",
    "Image_0607_2_A = plt.imread(root / '0607_2_A.tif')\n",
    "Image_0307_1_A = plt.imread(root / '0307_1_A.tif')\n",
    "Image_0307_2_A = plt.imread(root / '0307_2_A.tif')\n",
    "Image_0405_1_A = plt.imread(root / '0405_1_A.tif')\n",
    "Image_0405_2_A = plt.imread(root / '0405_2_A.tif')\n",
    "Image_0407_1_A = plt.imread(root / '0407_1_A.tif')\n",
    "Image_0407_2_A = plt.imread(root / '0407_2_A.tif')\n",
    "Image_0505_1_A = plt.imread(root / '0505_1_A.tif')\n",
    "Image_0507_2_A = plt.imread(root / '0507_2_A.tif')\n"
   ]
  },
  {
   "cell_type": "code",
   "execution_count": null,
   "id": "360031bb",
   "metadata": {},
   "outputs": [],
   "source": [
    "Image_0205_1_B = plt.imread(root / '0205_1_B.tif')\n",
    "Image_0307_1_B = plt.imread(root / '0307_1_B.tif')\n",
    "Image_0407_1_B = plt.imread(root / '0407_1_B.tif')\n",
    "Image_0407_2_B = plt.imread(root / '0407_2_B.tif')\n",
    "Image_0507_1_B = plt.imread(root / '0507_1_B.tif')\n",
    "Image_0507_2_B = plt.imread(root / '0507_2_B.tif')\n"
   ]
  },
  {
   "cell_type": "code",
   "execution_count": null,
   "id": "63060cee",
   "metadata": {},
   "outputs": [],
   "source": [
    "Image_0205_1_C = plt.imread(root / '0205_1_C.tif')\n",
    "Image_0305_1_C = plt.imread(root / '0305_1_C.tif')\n",
    "Image_0307_1_C = plt.imread(root / '0307_1_C.tif')\n",
    "Image_0307_2_C = plt.imread(root / '0307_2_C.tif')\n",
    "Image_0405_1_C = plt.imread(root / '0405_1_C.tif')\n",
    "Image_0405_2_C = plt.imread(root / '0405_2_C.tif')\n",
    "Image_0407_1_C = plt.imread(root / '0407_1_C.tif')\n",
    "Image_0407_2_C = plt.imread(root / '0407_2_C.tif')\n",
    "Image_0505_1_C = plt.imread(root / '0505_1_C.tif')\n",
    "Image_0505_2_C = plt.imread(root / '0505_2_C.tif')\n",
    "Image_0507_1_C = plt.imread(root / '0507_1_C.tif')\n",
    "Image_0507_2_C = plt.imread(root / '0507_2_C.tif')\n"
   ]
  },
  {
   "cell_type": "code",
   "execution_count": null,
   "id": "607072eb",
   "metadata": {},
   "outputs": [],
   "source": [
    "Image_0205_1_A = plt.imread('0205_1_A.tif')\n",
    "Image_0205_2_A = plt.imread('0205_2_A.tif')"
   ]
  },
  {
   "cell_type": "code",
   "execution_count": null,
   "id": "aaf8998b",
   "metadata": {},
   "outputs": [],
   "source": [
    "from PIL import Image\n",
    "im = Image.open('0205_1_A.tif')\n",
    "im.show()"
   ]
  },
  {
   "cell_type": "code",
   "execution_count": null,
   "id": "543f21bb",
   "metadata": {},
   "outputs": [],
   "source": [
    "import tifffile as tp\n",
    "Image_0205_1_A = tp.imread('0205_1_A.tif')\n",
    "\n",
    "import numpy\n",
    "imarray = numpy.array(Image_0205_1_A)\n",
    "imarray"
   ]
  },
  {
   "cell_type": "code",
   "execution_count": null,
   "id": "9dd2c0f8",
   "metadata": {},
   "outputs": [],
   "source": [
    "import cv2 as cv\n",
    "from matplotlib import pyplot as plt\n",
    "import pytesseract\n",
    "\n",
    "img = cv.imread(\"0205_1_A.tif\")\n",
    "#.astype(np.float32)\n",
    "#cv.rectangle(img,(29,2496),(604,2992),(255,0,0),5)\n",
    "plt.imshow(img)"
   ]
  },
  {
   "cell_type": "code",
   "execution_count": null,
   "id": "a4d23201",
   "metadata": {},
   "outputs": [],
   "source": [
    "from PIL import Image\n",
    "from numpy import asarray\n",
    "# load the image\n",
    "image = Image.open('0205_1_A.tif')\n",
    "# convert image to numpy array\n",
    "img2 = asarray(image)\n",
    "print(type(img2))\n",
    "# summarize shape\n",
    "print(img2)"
   ]
  },
  {
   "cell_type": "code",
   "execution_count": null,
   "id": "d77f218e",
   "metadata": {},
   "outputs": [],
   "source": [
    "adata_subset3 = adata_subset2[adata_subset2.obs['ROI'].isin(['0205_1_A'])].copy()"
   ]
  },
  {
   "cell_type": "code",
   "execution_count": null,
   "id": "fce541c0",
   "metadata": {},
   "outputs": [],
   "source": [
    "adata_subset3"
   ]
  },
  {
   "cell_type": "code",
   "execution_count": null,
   "id": "d5de9f9c",
   "metadata": {},
   "outputs": [],
   "source": [
    "import squidpy as sq\n",
    "spatial_key = \"spatial\"\n",
    "library_id = '0205_1_A'\n",
    "adata_subset3.uns[spatial_key] = {library_id: {}}\n",
    "adata_subset3.uns[spatial_key][library_id][\"images\"] = {}\n",
    "adata_subset3.uns[spatial_key][library_id][\"images\"] = {\"hires\": img}\n",
    "adata_subset3.uns[spatial_key][library_id][\"scalefactors\"] = {\"tissue_hires_scalef\": 1, \"spot_diameter_fullres\": 0.5}"
   ]
  },
  {
   "cell_type": "code",
   "execution_count": null,
   "id": "0e71384a",
   "metadata": {
    "scrolled": true
   },
   "outputs": [],
   "source": [
    "adata_subset3.uns"
   ]
  },
  {
   "cell_type": "code",
   "execution_count": null,
   "id": "75f64120",
   "metadata": {},
   "outputs": [],
   "source": [
    "img.shape"
   ]
  },
  {
   "cell_type": "code",
   "execution_count": null,
   "id": "f2116937",
   "metadata": {},
   "outputs": [],
   "source": [
    " adata_subset3.uns[spatial_key][library_id]['images']['hires']"
   ]
  },
  {
   "cell_type": "code",
   "execution_count": null,
   "id": "82927f24",
   "metadata": {
    "scrolled": true
   },
   "outputs": [],
   "source": [
    "adata_subset3.uns['spatial'][library_id]"
   ]
  },
  {
   "cell_type": "code",
   "execution_count": null,
   "id": "9bfa2376",
   "metadata": {
    "scrolled": true
   },
   "outputs": [],
   "source": [
    "adata_subset3.uns[spatial_key][library_id][\"scalefactors\"]['tissue_hires_scalef']"
   ]
  },
  {
   "cell_type": "code",
   "execution_count": null,
   "id": "c42f593a",
   "metadata": {},
   "outputs": [],
   "source": [
    "img = sq.im.ImageContainer(adata_subset3.uns['spatial'][library_id]['images']['hires'],\n",
    "                   scale=adata_subset3.uns['spatial'][library_id][\"scalefactors\"]['tissue_hires_scalef'])"
   ]
  },
  {
   "cell_type": "code",
   "execution_count": null,
   "id": "429e4cb5",
   "metadata": {},
   "outputs": [],
   "source": [
    "img.show()"
   ]
  },
  {
   "cell_type": "code",
   "execution_count": null,
   "id": "ac26d4a0",
   "metadata": {
    "scrolled": false
   },
   "outputs": [],
   "source": [
    "sq.gr.spatial_neighbors(adata_subset3, radius=3.0)"
   ]
  },
  {
   "cell_type": "code",
   "execution_count": null,
   "id": "2b0171f6",
   "metadata": {},
   "outputs": [],
   "source": [
    "sq.pl.spatial_scatter(adata_subset3, color=\"cell_type\", size=100, library_id='0205_1_A', spatial_key='spatial', img=True, img_cmap='gray', img_channel=0, palette=None, alpha=1.0, shape=None,connectivity_key=\"spatial_connectivities\", edges_width=0.3)"
   ]
  },
  {
   "cell_type": "code",
   "execution_count": null,
   "id": "23645164",
   "metadata": {
    "scrolled": true
   },
   "outputs": [],
   "source": [
    "sc.pl.spatial(adata_subset3, color ='cell_type', neighbors_key=\"spatial_neighbors\", spot_size=20, edges=True, edges_width=1, edges_color='black', library_id = '0205_1_A', img='images', img_key='hires', return_fig=True)"
   ]
  },
  {
   "cell_type": "code",
   "execution_count": null,
   "id": "8c3fb8c6",
   "metadata": {},
   "outputs": [],
   "source": [
    "sc.pl.spatial(adata_subset[adata_subset.obs.library_id ==\"'0205_1_A'\"], color=\"cell_type\", library_id = \"0205_1_A\")"
   ]
  },
  {
   "cell_type": "code",
   "execution_count": null,
   "id": "bc263ce7",
   "metadata": {},
   "outputs": [],
   "source": [
    "adata_subset.obs"
   ]
  },
  {
   "cell_type": "code",
   "execution_count": null,
   "id": "754d9ea4",
   "metadata": {},
   "outputs": [],
   "source": [
    "adata_subset.uns[\"spatial\"][\"0205_1_A\"] "
   ]
  },
  {
   "cell_type": "code",
   "execution_count": null,
   "id": "41bb3a87",
   "metadata": {},
   "outputs": [],
   "source": [
    "spatial_key = \"spatial\"\n",
    "library_id = '0205_2_A'\n",
    "adata_subset.uns[spatial_key] = {library_id: {}}\n",
    "adata_subset.uns[spatial_key][library_id] = {\"hires\": Image_0205_2_A}\n",
    "adata_subset.uns[spatial_key][library_id][\"scalefactors\"] = {\"tissue_hires_scalef\": 1, \"spot_diameter_fullres\": 0.5}"
   ]
  },
  {
   "cell_type": "code",
   "execution_count": null,
   "id": "9fbe369d",
   "metadata": {},
   "outputs": [],
   "source": [
    "import stlearn\n",
    "stlearn.add.image(adata_subset2, '0205_1_A.tif', library_id = '0205_1_A', quality = 'hires')"
   ]
  }
 ],
 "metadata": {
  "kernelspec": {
   "display_name": "Python 3 (ipykernel)",
   "language": "python",
   "name": "python3"
  },
  "language_info": {
   "codemirror_mode": {
    "name": "ipython",
    "version": 3
   },
   "file_extension": ".py",
   "mimetype": "text/x-python",
   "name": "python",
   "nbconvert_exporter": "python",
   "pygments_lexer": "ipython3",
   "version": "3.9.13"
  }
 },
 "nbformat": 4,
 "nbformat_minor": 5
}
