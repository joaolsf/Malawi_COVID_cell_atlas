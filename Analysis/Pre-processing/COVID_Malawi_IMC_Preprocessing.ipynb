{
 "cells": [
  {
   "cell_type": "code",
   "execution_count": null,
   "id": "6df251db",
   "metadata": {},
   "outputs": [],
   "source": [
    "# import sys\n",
    "\n",
    "# from pathlib import Path\n",
    "\n",
    "# !{sys.executable} -m pip install -e {Path.cwd().parent}"
   ]
  },
  {
   "cell_type": "code",
   "execution_count": 1,
   "id": "70edc343",
   "metadata": {},
   "outputs": [],
   "source": [
    "import shutil\n",
    "from pathlib import Path\n",
    "from tempfile import TemporaryDirectory\n",
    "from typing import List\n",
    "\n",
    "import pandas as pd\n",
    "\n",
    "import imcsegpipe\n",
    "from imcsegpipe.utils import sort_channels_by_mass"
   ]
  },
  {
   "cell_type": "markdown",
   "id": "2d7e5475",
   "metadata": {},
   "source": [
    "\n",
    "# Preprocessing of IMC data for image segmentation\n"
   ]
  },
  {
   "cell_type": "markdown",
   "id": "52e09020",
   "metadata": {},
   "source": [
    "This script presents the first step of the IMC segmentation pipeline.\n",
    " \n",
    "To get started, please refer to the [Get started guide](https://bodenmillergroup.github.io/ImcSegmentationPipeline/) and to download example data you can run the script `scripts/download_examples.ipynb`.\n",
    " \n",
    "**Requirements for the input data:**\n",
    " \n",
    "We recommend to supply the raw data in form of **one zip archive per acquisition session**.\n",
    "This zip archive should contain the `.mcd` file and all `.txt` files corresponding to individual acquisitions.\n",
    " \n",
    "To understand the output format, please refer to the [Output](https://bodenmillergroup.github.io/ImcSegmentationPipeline/output.html) documentation.\n",
    " \n",
    "Please raise an issue [here](https://github.com/BodenmillerGroup/ImcSegmentationPipeline/issues) for feedback, bug fixes and feature requests."
   ]
  },
  {
   "cell_type": "markdown",
   "id": "46bc907c",
   "metadata": {},
   "source": [
    "## Specify the inputs\n",
    "\n",
    "Here, you will need to specify where the IMC raw data (in form of `.zip` archives) are stored.\n",
    "The `raw_dirs` variable describes the path (one or multiple) where the `.zip` archives are located.\n",
    "Here, we use the example data (located in the `raw` folder) to run the pre-processing part of the pipeline.\n",
    "The `file_regex` variable specifies a [glob](https://towardsdatascience.com/the-python-glob-module-47d82f4cbd2d) entry to select all files of interest from the input directory.\n",
    "As an example: if you want to select all files that contain the word \"Patient\", you would use the glob expression `\"*Patient*.zip\"`.\n",
    " \n",
    "You will also need to specify the location of the panel file (`panel_file`) that contains information regarding the column that contains the metal/channel name (`panel_channel_col`), the column that contains an identifier if the channel should be used for ilastik training (`panel_ilastik_col`), and the column that contains an identifier if the channel should be used to generate the final stack of channels (`panel_keep_col`). The latter two arguments specify columns which contain 0s or 1s, 1 meaning the indicated channel is used and 0 meaning the channel is not used."
   ]
  },
  {
   "cell_type": "code",
   "execution_count": null,
   "id": "6c87d41a",
   "metadata": {},
   "outputs": [],
   "source": [
    "pwd"
   ]
  },
  {
   "cell_type": "code",
   "execution_count": 2,
   "id": "59626637",
   "metadata": {},
   "outputs": [],
   "source": [
    "# the paths with the ziped acquisition files\n",
    "raw_dirs = [\"/Users/joaoluizsfilho/COVID_Malawi_v2/Zipped_MCD_files\"]\n",
    "raw_dirs = [Path(raw_dir) for raw_dir in raw_dirs]\n",
    "\n",
    "# panel information\n",
    "panel_file = \"/Users/joaoluizsfilho/COVID_Malawi_v2/panel/panel.csv\"\n",
    "panel_channel_col = \"Metal Tag\"\n",
    "panel_keep_col = \"full\"\n",
    "panel_ilastik_col = \"ilastik\""
   ]
  },
  {
   "cell_type": "code",
   "execution_count": 3,
   "id": "ab159da1",
   "metadata": {},
   "outputs": [],
   "source": [
    "# regular expression to select files\n",
    "file_regex = \"*COSMIC_*.zip\""
   ]
  },
  {
   "cell_type": "markdown",
   "id": "25e18243",
   "metadata": {},
   "source": [
    "## Specify the outputs\n",
    "\n",
    "You will need to specify a single folder where the output files of the pipeline are written out to (`work_dir`).\n",
    "Within the working directory, the following sub-folder will be created:\n",
    "\n",
    "* `acquisitions_dir`: storing individual acquisitions as `.ome.tiff` files, panoramas as `.png` and acquisition metadata (default `analysis/ometiff`)\n",
    "* `ilastik_dir`: storing multi-channel images in `.tiff` format for ilastik training. The channel order for each image is written out in `.csv` format (default `analysis/ilastik`). Following the CellProfiler pipelines, all files related to the ilastik segmentation approach will be stored here. \n",
    "* `crops_dir`: stores image crops for ilastik training after running the first CellProfiler pipeline (default `analysis/crops`)\n",
    "* `cellprofiler_input_dir`: all files needed for CellProfiler input (default `analysis/cpinp`)\n",
    "* `cellprofiler_output_dir`: all files written out by CellProfiler (default `analysis/cpout`)\n",
    "* `histocat_dir`: folders containing single-channel images for histoCAT upload (default `analysis/histocat`)\n",
    "\n",
    "Within the `cellprofiler_output_dir` three subfolders are created storing the final images:\n",
    "\n",
    "* `final_images_dir`: stores the hot pixel filtered multi-channel images containing selected channels (default `analysis/cpout/images`)\n",
    "* `final_masks_dir`: stores the final cell segmentation masks (default `analysis/cpout/masks`)\n",
    "* `final_probabilities_dir`: stores the downscaled pixel probabilities after ilastik classification (default `analysis/cpout/probabilities`)"
   ]
  },
  {
   "cell_type": "code",
   "execution_count": 7,
   "id": "281ad642",
   "metadata": {},
   "outputs": [],
   "source": [
    "# working directory storing all outputs\n",
    "work_dir = \"/Users/joaoluizsfilho/COVID_Malawi_v2/analysis\"\n",
    "work_dir = Path(work_dir)\n",
    "work_dir.mkdir(exist_ok=True)"
   ]
  },
  {
   "cell_type": "code",
   "execution_count": 8,
   "id": "349cd63a",
   "metadata": {},
   "outputs": [],
   "source": [
    "# general output directories\n",
    "acquisitions_dir = work_dir / \"ometiff\"\n",
    "ilastik_dir = work_dir / \"ilastik\"\n",
    "crops_dir = work_dir / \"crops\"\n",
    "cellprofiler_input_dir = work_dir / \"cpinp\"\n",
    "cellprofiler_output_dir = work_dir / \"cpout\"\n",
    "histocat_dir = work_dir / \"histocat\"\n",
    "\n",
    "# Final output directories\n",
    "final_images_dir = cellprofiler_output_dir / \"images\"\n",
    "final_masks_dir = cellprofiler_output_dir / \"masks\"\n",
    "final_probabilities_dir = cellprofiler_output_dir / \"probabilities\""
   ]
  },
  {
   "cell_type": "markdown",
   "id": "0c57361d",
   "metadata": {},
   "source": [
    "The specified folder will now be created."
   ]
  },
  {
   "cell_type": "code",
   "execution_count": 9,
   "id": "0ac63953",
   "metadata": {},
   "outputs": [],
   "source": [
    "acquisitions_dir.mkdir(exist_ok=True)\n",
    "crops_dir.mkdir(exist_ok=True)\n",
    "ilastik_dir.mkdir(exist_ok=True)\n",
    "cellprofiler_input_dir.mkdir(exist_ok=True)\n",
    "cellprofiler_output_dir.mkdir(exist_ok=True)\n",
    "histocat_dir.mkdir(exist_ok=True)\n",
    "\n",
    "final_images_dir.mkdir(exist_ok=True)\n",
    "final_masks_dir.mkdir(exist_ok=True)\n",
    "final_probabilities_dir.mkdir(exist_ok=True)"
   ]
  },
  {
   "cell_type": "markdown",
   "id": "7b80dc4b",
   "metadata": {},
   "source": [
    "## Convert `.mcd` files to `.ome.tiff` files\n",
    "\n",
    "In the first step, the `.zip` archives containing `.mcd` files are converted to folders, which contain `.ome.tiff` files, channel metadata files, panoramas and slide overviews. The `.ome.tiff` files can be read in by commercial and open-source software such as `ImageJ` using the BioFormats importer. The `.csv` files contain the order of the channels as well as the antibody names. The `_pano.png` contain the acquired panoramas; the `_slide.png` contains the slide overview. The `_schema.xml` contains metadata regarding the acquisition session.  \n",
    "At this stage, only `.zip` files specified by `file_regex` will be processed.\n",
    "\n",
    "In the following chunk, individual acquisition metadata are written out as `acquisition_metadata.csv` file in the `cellprofiler_output_dir` folder. "
   ]
  },
  {
   "cell_type": "code",
   "execution_count": null,
   "id": "1169391e",
   "metadata": {},
   "outputs": [],
   "source": [
    "temp_dirs: List[TemporaryDirectory] = []\n",
    "\n",
    "try:\n",
    "    for raw_dir in raw_dirs:\n",
    "        zip_files = list(raw_dir.rglob(file_regex))\n",
    "        if len(zip_files) > 0:\n",
    "            temp_dir = TemporaryDirectory()\n",
    "            temp_dirs.append(temp_dir)\n",
    "            for zip_file in sorted(zip_files):\n",
    "                imcsegpipe.extract_zip_file(zip_file, temp_dir.name)\n",
    "    acquisition_metadatas = []\n",
    "    for raw_dir in raw_dirs + [Path(temp_dir.name) for temp_dir in temp_dirs]:\n",
    "        mcd_files = list(raw_dir.rglob(\"*.mcd\"))\n",
    "        if len(mcd_files) > 0:\n",
    "            txt_files = list(raw_dir.rglob(\"*.txt\"))\n",
    "            matched_txt_files = imcsegpipe.match_txt_files(mcd_files, txt_files)\n",
    "            for mcd_file in mcd_files:\n",
    "                acquisition_metadata = imcsegpipe.extract_mcd_file(\n",
    "                    mcd_file,\n",
    "                    acquisitions_dir / mcd_file.stem,\n",
    "                    txt_files=matched_txt_files[mcd_file],\n",
    "                )\n",
    "                acquisition_metadatas.append(acquisition_metadata)\n",
    "    acquisition_metadata = pd.concat(acquisition_metadatas, copy=False)\n",
    "    acquisition_metadata.to_csv(cellprofiler_input_dir / \"acquisition_metadata.csv\")\n",
    "finally:\n",
    "    for temp_dir in temp_dirs:\n",
    "        temp_dir.cleanup()\n",
    "    del temp_dirs"
   ]
  },
  {
   "cell_type": "markdown",
   "id": "a17734dd-4681-482f-ae1e-cdb3c8eb18bf",
   "metadata": {},
   "source": [
    "Here, a copy of the panel file is transferred to the `cellprofiler_output_dir`. "
   ]
  },
  {
   "cell_type": "code",
   "execution_count": 10,
   "id": "ce4a4040",
   "metadata": {},
   "outputs": [
    {
     "data": {
      "text/plain": [
       "PosixPath('/Users/joaoluizsfilho/COVID_Malawi_v2/analysis/cpout/panel.csv')"
      ]
     },
     "execution_count": 10,
     "metadata": {},
     "output_type": "execute_result"
    }
   ],
   "source": [
    "shutil.copy2(panel_file, cellprofiler_output_dir / \"panel.csv\")"
   ]
  },
  {
   "cell_type": "markdown",
   "id": "1a304e00",
   "metadata": {},
   "source": [
    "## Convert `.ome.tiff` files to `histoCAT` compatible format\n",
    "\n",
    "In the next step, we will convert the generated `.ome.tiff` files to a format that [histoCAT](https://bodenmillergroup.github.io/histoCAT/) can read.\n",
    "For each acquistion (each `.ome.tiff` file), the `export_to_histocat` function call produces one folder that contains single channel tiff files. All channels contained in the `.ome.tiff` files are written out."
   ]
  },
  {
   "cell_type": "code",
   "execution_count": 19,
   "id": "0dc3d319",
   "metadata": {},
   "outputs": [
    {
     "ename": "TypeError",
     "evalue": "expected string or bytes-like object",
     "output_type": "error",
     "traceback": [
      "\u001b[0;31m---------------------------------------------------------------------------\u001b[0m",
      "\u001b[0;31mTypeError\u001b[0m                                 Traceback (most recent call last)",
      "Cell \u001b[0;32mIn [19], line 3\u001b[0m\n\u001b[1;32m      1\u001b[0m \u001b[38;5;28;01mfor\u001b[39;00m acquisition_dir \u001b[38;5;129;01min\u001b[39;00m acquisitions_dir\u001b[38;5;241m.\u001b[39mglob(\u001b[38;5;124m\"\u001b[39m\u001b[38;5;124m*\u001b[39m\u001b[38;5;124m\"\u001b[39m):\n\u001b[1;32m      2\u001b[0m     \u001b[38;5;28;01mif\u001b[39;00m acquisition_dir\u001b[38;5;241m.\u001b[39mis_dir():\n\u001b[0;32m----> 3\u001b[0m         imcsegpipe\u001b[38;5;241m.\u001b[39mexport_to_histocat(acquisition_dir, histocat_dir)\n",
      "File \u001b[0;32m~/Python_packages/IMC/ImcSegmentationPipeline/src/imcsegpipe/_imcsegpipe.py:176\u001b[0m, in \u001b[0;36mexport_to_histocat\u001b[0;34m(acquisition_dir, histocat_dir, mask_dir)\u001b[0m\n\u001b[1;32m    174\u001b[0m \u001b[38;5;28;01mfor\u001b[39;00m channel_index, row \u001b[38;5;129;01min\u001b[39;00m acquisition_channels\u001b[38;5;241m.\u001b[39miterrows():\n\u001b[1;32m    175\u001b[0m     acquisition_channel_img: np\u001b[38;5;241m.\u001b[39mndarray \u001b[38;5;241m=\u001b[39m acquisition_img[channel_index]\n\u001b[0;32m--> 176\u001b[0m     channel_label \u001b[38;5;241m=\u001b[39m \u001b[43mre\u001b[49m\u001b[38;5;241;43m.\u001b[39;49m\u001b[43msub\u001b[49m\u001b[43m(\u001b[49m\u001b[38;5;124;43m\"\u001b[39;49m\u001b[38;5;124;43m[^a-zA-Z0-9()]\u001b[39;49m\u001b[38;5;124;43m\"\u001b[39;49m\u001b[43m,\u001b[49m\u001b[43m \u001b[49m\u001b[38;5;124;43m\"\u001b[39;49m\u001b[38;5;124;43m-\u001b[39;49m\u001b[38;5;124;43m\"\u001b[39;49m\u001b[43m,\u001b[49m\u001b[43m \u001b[49m\u001b[43mrow\u001b[49m\u001b[43m[\u001b[49m\u001b[38;5;124;43m\"\u001b[39;49m\u001b[38;5;124;43mchannel_label\u001b[39;49m\u001b[38;5;124;43m\"\u001b[39;49m\u001b[43m]\u001b[49m\u001b[43m)\u001b[49m\n\u001b[1;32m    177\u001b[0m     channel_name \u001b[38;5;241m=\u001b[39m row[\u001b[38;5;124m\"\u001b[39m\u001b[38;5;124mchannel_name\u001b[39m\u001b[38;5;124m\"\u001b[39m]\n\u001b[1;32m    178\u001b[0m     tifffile\u001b[38;5;241m.\u001b[39mimwrite(\n\u001b[1;32m    179\u001b[0m         histocat_img_dir \u001b[38;5;241m/\u001b[39m \u001b[38;5;124mf\u001b[39m\u001b[38;5;124m\"\u001b[39m\u001b[38;5;132;01m{\u001b[39;00mchannel_label\u001b[38;5;132;01m}\u001b[39;00m\u001b[38;5;124m_\u001b[39m\u001b[38;5;132;01m{\u001b[39;00mchannel_name\u001b[38;5;132;01m}\u001b[39;00m\u001b[38;5;124m.tiff\u001b[39m\u001b[38;5;124m\"\u001b[39m,\n\u001b[1;32m    180\u001b[0m         data\u001b[38;5;241m=\u001b[39macquisition_channel_img,\n\u001b[1;32m    181\u001b[0m         imagej\u001b[38;5;241m=\u001b[39m\u001b[38;5;28;01mTrue\u001b[39;00m,\n\u001b[1;32m    182\u001b[0m     )\n",
      "File \u001b[0;32m~/opt/anaconda3/envs/imcsegpipe/lib/python3.9/re.py:210\u001b[0m, in \u001b[0;36msub\u001b[0;34m(pattern, repl, string, count, flags)\u001b[0m\n\u001b[1;32m    203\u001b[0m \u001b[38;5;28;01mdef\u001b[39;00m \u001b[38;5;21msub\u001b[39m(pattern, repl, string, count\u001b[38;5;241m=\u001b[39m\u001b[38;5;241m0\u001b[39m, flags\u001b[38;5;241m=\u001b[39m\u001b[38;5;241m0\u001b[39m):\n\u001b[1;32m    204\u001b[0m     \u001b[38;5;124;03m\"\"\"Return the string obtained by replacing the leftmost\u001b[39;00m\n\u001b[1;32m    205\u001b[0m \u001b[38;5;124;03m    non-overlapping occurrences of the pattern in string by the\u001b[39;00m\n\u001b[1;32m    206\u001b[0m \u001b[38;5;124;03m    replacement repl.  repl can be either a string or a callable;\u001b[39;00m\n\u001b[1;32m    207\u001b[0m \u001b[38;5;124;03m    if a string, backslash escapes in it are processed.  If it is\u001b[39;00m\n\u001b[1;32m    208\u001b[0m \u001b[38;5;124;03m    a callable, it's passed the Match object and must return\u001b[39;00m\n\u001b[1;32m    209\u001b[0m \u001b[38;5;124;03m    a replacement string to be used.\"\"\"\u001b[39;00m\n\u001b[0;32m--> 210\u001b[0m     \u001b[38;5;28;01mreturn\u001b[39;00m \u001b[43m_compile\u001b[49m\u001b[43m(\u001b[49m\u001b[43mpattern\u001b[49m\u001b[43m,\u001b[49m\u001b[43m \u001b[49m\u001b[43mflags\u001b[49m\u001b[43m)\u001b[49m\u001b[38;5;241;43m.\u001b[39;49m\u001b[43msub\u001b[49m\u001b[43m(\u001b[49m\u001b[43mrepl\u001b[49m\u001b[43m,\u001b[49m\u001b[43m \u001b[49m\u001b[43mstring\u001b[49m\u001b[43m,\u001b[49m\u001b[43m \u001b[49m\u001b[43mcount\u001b[49m\u001b[43m)\u001b[49m\n",
      "\u001b[0;31mTypeError\u001b[0m: expected string or bytes-like object"
     ]
    }
   ],
   "source": [
    "for acquisition_dir in acquisitions_dir.glob(\"*\"):\n",
    "    if acquisition_dir.is_dir():\n",
    "        imcsegpipe.export_to_histocat(acquisition_dir, histocat_dir)"
   ]
  },
  {
   "cell_type": "markdown",
   "id": "78e3c843",
   "metadata": {},
   "source": [
    "## Generate image stacks for downstream analyses\n",
    "\n",
    "Next, we will generate two stacks of multi-channel `.tiff` images:\n",
    "\n",
    "**1. Full stack:** The full stack contains all channels specified by the \"1\" entries in the `panel_keep_col` column of the panel file. This stack will be later used to measure cell-specific expression features of the selected channels.\n",
    "\n",
    "**2. Ilastik stack:** The ilastik stack contains all channels specified by the \"1\" entries in the `panel_ilastik_col` column of the panel file. This stack will be used to perform the ilastik training to generate cell, cytoplasm and background probability masks (see [Ilastik training](https://bodenmillergroup.github.io/ImcSegmentationPipeline/ilastik.html)).\n",
    "\n",
    "**Of note:** Both image stacks are now by default hot pixel filtered (see below). To write out the raw image data without filtering set `hpf=None`.\n",
    "\n",
    "The `create_analysis_stacks` function takes several arguments:\n",
    "\n",
    "* `acquisition_dir`: specifies the folder containing the `.ome.tiff` files.  \n",
    "* `analysis_dir`: specifies the folder where the `.tiff` stacks should be stored.  \n",
    "* `analysis_channels`: specifies the channel names used for the specific image stack.  \n",
    "* `suffix`: the suffix to be added at the end of the file name.\n",
    "* `hpf`: single number indicating the threshold for hot pixel filtering (see below). Setting `hpf=None` disables hot pixel filtering. \n",
    "\n",
    "**Hot pixel filtering:** Each pixel intensity is compared against the maximum intensity of the 3x3 neighboring pixels. If the difference is larger than `hpf`, the pixel intensity is clipped to the maximum intensity in the 3x3 neighborhood. "
   ]
  },
  {
   "cell_type": "code",
   "execution_count": 20,
   "id": "320202b6",
   "metadata": {},
   "outputs": [
    {
     "name": "stderr",
     "output_type": "stream",
     "text": [
      "/var/folders/0m/4rwt_z816mlcps48xsc34jvc0000gn/T/ipykernel_62460/2902315133.py:1: DtypeWarning: Columns (23,31,39,47,55,63,71,79,87,95,103,111,119,127,135,143,151,159,167,175,183,191,199,207,215,223,231,239,247,255,263,271,279,287,295,303,311,319,327,335,343,351,359,367,375,383,391,399,407,415,423,431,439,447,455,463,471,479,487,495,503,511,519,527,535,543,551,559,567,575,583,591,599,607,615,623,631,639,647,655,663,671,679,687,695,703,711,719,727,735,743,751,759,767,775,783,791,799,807,815,823,831,839,847,855,863,871,879,887,895,903,911,919,927,935,943,951,959,967,975,983,991,999,1007,1015,1023,1031,1039,1047,1055,1063,1071,1079,1087,1095,1103,1111,1119,1127,1135,1143,1151,1159,1167,1175,1183,1191,1199,1207,1215,1223,1231,1239,1247,1255,1263,1271,1279,1287,1295,1303,1311,1319,1327,1335,1343,1351,1359,1367,1375,1383,1391,1399,1407,1415,1423,1431,1439,1447,1455,1463,1471,1479,1487,1495,1503,1511,1519,1527,1535,1543,1551,1559,1567,1575,1583,1591,1599,1607,1615,1623,1631,1639,1647,1655,1663,1671,1679,1687,1695,1703,1711,1719,1727,1735,1743,1751,1759,1767,1775,1783,1791,1799,1807,1815,1823,1831,1839,1847,1855,1863,1871,1879,1887,1895,1903,1911,1919,1927,1935,1943,1951,1959,1967,1975,1983,1991,1999,2007,2015,2023,2031,2039,2047,2055,2063,2071,2079,2087,2095,2103,2111,2119,2127,2135,2143,2151,2159,2167,2175,2183,2191,2199,2207,2215,2223,2231,2239,2247,2255,2263,2271,2279,2287,2295,2303,2311,2319,2327,2335,2343,2351,2359,2367,2375,2383,2391,2399,2407,2415,2423,2431,2439,2447,2455,2463,2471,2479,2487,2495,2503,2511,2519,2527,2535,2543,2551,2559,2567,2575,2583,2591,2599,2607,2615,2623,2631,2639,2647,2655,2663,2671,2679,2687,2695,2703,2711,2719,2727,2735,2743,2751,2759,2767,2775,2783,2791,2799,2807,2815,2823,2831,2839,2847,2855,2863,2871,2879,2887,2895,2903,2911,2919,2927,2935,2943,2951,2959,2967,2975,2983,2991,2999,3007,3015,3023,3031,3039,3047,3055,3063,3071,3079,3087,3095,3103,3111,3119,3127,3135,3143,3151,3159,3167,3175,3183,3191,3199,3207,3215,3223,3231,3239,3247,3255,3263,3271,3279,3287,3295,3303,3311,3319,3327,3335,3343,3351,3359,3367,3375,3383,3391,3399,3407,3415,3423,3431,3439,3447,3455,3463,3471,3479,3487,3495,3503,3511,3519,3527,3535,3543,3551,3559,3567,3575,3583,3591,3599,3607,3615,3623,3631,3639,3647,3655,3663,3671,3679,3687,3695,3703,3711,3719,3727,3735,3743,3751,3759,3767,3775,3783,3791,3799,3807,3815,3823,3831,3839,3847,3855,3863,3871,3879,3887,3895,3903,3911,3919,3927,3935,3943,3951,3959,3967,3975,3983,3991,3999,4007,4015,4023,4031,4039,4047,4055,4063,4071,4079,4087,4095,4103,4111,4119,4127,4135,4143,4151,4159,4167,4175,4183,4191,4199,4207,4215,4223,4231,4239,4247,4255,4263,4271,4279,4287,4295,4303,4311,4319,4327,4335,4343,4351,4359,4367,4375,4383,4391,4399,4407,4415,4423,4431,4439,4447,4455,4463,4471,4479,4487,4495,4503,4511,4519,4527,4535,4543,4551,4559,4567,4575,4583,4591,4599,4607,4615,4623,4631,4639,4647,4655,4663,4671,4679,4687,4695,4703,4711,4719,4727,4735,4743,4751,4759,4767,4775,4783,4791,4799,4807,4815,4823,4831,4839,4847,4855,4863,4871,4879,4887,4895,4903,4911,4919,4927,4935,4943,4951,4959,4967,4975,4983,4991,4999,5007,5015,5023,5031,5039,5047,5055,5063,5071,5079,5087,5095,5103,5111,5119,5127,5135,5143,5151,5159,5167,5175,5183,5191,5199,5207,5215,5223,5231,5239,5247,5255,5263,5271,5279,5287,5295,5303,5311,5319,5327,5335,5343,5351,5359,5367,5375,5383,5391,5399,5407,5415,5423,5431,5439,5447,5455,5463,5471,5479,5487,5495,5503,5511,5519,5527,5535,5543,5551,5559,5567,5575,5583,5591,5599,5607,5615,5623,5631,5639,5647,5655,5663,5671,5679,5687,5695,5703,5711,5719,5727,5735,5743,5751,5759,5767,5775,5783,5791,5799,5807,5815,5823,5831,5839,5847,5855,5863,5871,5879,5887,5895,5903,5911,5919,5927,5935,5943,5951,5959,5967,5975,5983,5991,5999,6007,6015,6023,6031,6039,6047,6055,6063,6071,6079,6087,6095,6103,6111,6119,6127,6135,6143,6151,6159,6167,6175,6183,6191,6199,6207,6215,6223,6231,6239,6247,6255,6263,6271,6279,6287,6295,6303,6311,6319,6327,6335,6343,6351,6359,6367,6375,6383,6391,6399,6407,6415,6423,6431,6439,6447,6455,6463,6471,6479,6487,6495,6503,6511,6519,6527,6535,6543,6551,6559,6567,6575,6583,6591,6599,6607,6615,6623,6631,6639,6647,6655,6663,6671,6679,6687,6695,6703,6711,6719,6727,6735,6743,6751,6759,6767,6775,6783,6791,6799,6807,6815,6823,6831,6839,6847,6855,6863,6871,6879,6887,6895,6903,6911,6919,6927,6935,6943,6951,6959,6967,6975,6983,6991,6999,7007,7015,7023,7031,7039,7047,7055,7063,7071,7079,7087,7095,7103,7111,7119,7127,7135,7143,7151,7159,7167,7175,7183,7191,7199,7207,7215,7223,7231,7239,7247,7255,7263,7271,7279,7287,7295,7303,7311,7319,7327,7335,7343,7351,7359,7367,7375,7383,7391,7399,7407,7415,7423,7431,7439,7447,7455,7463,7471,7479,7487,7495,7503,7511,7519,7527,7535,7543,7551,7559,7567,7575,7583,7591,7599,7607,7615,7623,7631,7639,7647,7655,7663,7671,7679,7687,7695,7703,7711,7719,7727,7735,7743,7751,7759,7767,7775,7783,7791,7799,7807,7815,7823,7831,7839,7847,7855,7863,7871,7879,7887,7895,7903,7911,7919,7927,7935,7943,7951,7959,7967,7975,7983,7991,7999,8007,8015,8023,8031,8039,8047,8055,8063,8071,8079,8087,8095,8103,8111,8119,8127,8135,8143,8151,8159,8167,8175,8183,8191,8199,8207,8215,8223,8231,8239,8247,8255,8263,8271,8279,8287,8295,8303,8311,8319,8327,8335,8343,8351,8359,8367,8375,8383,8391,8399,8407,8415,8423,8431,8439,8447,8455,8463,8471,8479,8487,8495,8503,8511,8519,8527,8535,8543,8551,8559,8567,8575,8583,8591,8599,8607,8615,8623,8631,8639,8647,8655,8663,8671,8679,8687,8695,8703,8711,8719,8727,8735,8743,8751,8759,8767,8775,8783,8791,8799,8807,8815,8823,8831,8839,8847,8855,8863,8871,8879,8887,8895,8903,8911,8919,8927,8935,8943,8951,8959,8967,8975,8983,8991,8999,9007,9015,9023,9031,9039,9047,9055,9063,9071,9079,9087,9095,9103,9111,9119,9127,9135,9143,9151,9159,9167,9175,9183,9191,9199,9207,9215,9223,9231,9239,9247,9255,9263,9271,9279,9287,9295,9303,9311,9319,9327,9335,9343,9351,9359,9367,9375,9383,9391,9399,9407,9415,9423,9431,9439,9447,9455,9463,9471,9479,9487,9495,9503,9511,9519,9527,9535,9543,9551,9559,9567,9575,9583,9591,9599,9607,9615,9623,9631,9639,9647,9655,9663,9671,9679,9687,9695,9703,9711,9719,9727,9735,9743,9751,9759,9767,9775,9783,9791,9799,9807,9815,9823,9831,9839,9847,9855,9863,9871,9879,9887,9895,9903,9911,9919,9927,9935,9943,9951,9959,9967,9975,9983,9991,9999,10007,10015,10023,10031,10039,10047,10055,10063,10071,10079,10087,10095,10103,10111,10119,10127,10135,10143,10151,10159,10167,10175,10183,10191,10199,10207,10215,10223,10231,10239,10247,10255,10263,10271,10279,10287,10295,10303,10311,10319,10327,10335,10343,10351,10359,10367,10375,10383,10391,10399,10407,10415,10423,10431,10439,10447,10455,10463,10471,10479,10487,10495,10503,10511,10519,10527,10535,10543,10551,10559,10567,10575,10583,10591,10599,10607,10615,10623,10631,10639,10647,10655,10663,10671,10679,10687,10695,10703,10711,10719,10727,10735,10743,10751,10759,10767,10775,10783,10791,10799,10807,10815,10823,10831,10839,10847,10855,10863,10871,10879,10887,10895,10903,10911,10919,10927,10935,10943,10951,10959,10967,10975,10983,10991,10999,11007,11015,11023,11031,11039,11047,11055,11063,11071,11079,11087,11095,11103,11111,11119,11127,11135,11143,11151,11159,11167,11175,11183,11191,11199,11207,11215,11223,11231,11239,11247,11255,11263,11271,11279,11287,11295,11303,11311,11319,11327,11335,11343,11351,11359,11367,11375,11383,11391,11399,11407,11415,11423,11431,11439,11447,11455,11463,11471,11479,11487,11495,11503,11511,11519,11527,11535,11543,11551,11559,11567,11575,11583,11591,11599,11607,11615,11623,11631,11639,11647,11655,11663,11671,11679,11687,11695,11703,11711,11719,11727,11735,11743,11751,11759,11767,11775,11783,11791,11799,11807,11815,11823,11831,11839,11847,11855,11863,11871,11879,11887,11895,11903,11911,11919,11927,11935,11943,11951,11959,11967,11975,11983,11991,11999,12007,12015,12023,12031,12039,12047,12055,12063,12071,12079,12087,12095,12103,12111,12119,12127,12135,12143,12151,12159,12167,12175,12183,12191,12199,12207,12215,12223,12231,12239,12247,12255,12263,12271,12279,12287,12295,12303,12311,12319,12327,12335,12343,12351,12359,12367,12375,12383,12391,12399,12407,12415,12423,12431,12439,12447,12455,12463,12471,12479,12487,12495,12503,12511,12519,12527,12535,12543,12551,12559,12567,12575,12583,12591,12599,12607,12615,12623,12631,12639,12647,12655,12663,12671,12679,12687,12695,12703,12711,12719,12727,12735,12743,12751,12759,12767,12775,12783,12791,12799,12807,12815,12823,12831,12839,12847,12855,12863,12871,12879,12887,12895,12903,12911,12919,12927,12935,12943,12951,12959,12967,12975,12983,12991,12999,13007,13015,13023,13031,13039,13047,13055,13063,13071,13079,13087,13095,13103,13111,13119,13127,13135,13143,13151,13159,13167,13175,13183,13191,13199,13207,13215,13223,13231,13239,13247,13255,13263,13271,13279,13287,13295,13303,13311,13319,13327,13335,13343,13351,13359,13367,13375,13383,13391,13399,13407,13415,13423,13431,13439,13447,13455,13463,13471,13479,13487,13495,13503,13511,13519,13527,13535,13543,13551,13559,13567,13575,13583,13591,13599,13607,13615,13623,13631,13639,13647,13655,13663,13671,13679,13687,13695,13703,13711,13719,13727,13735,13743,13751,13759,13767,13775,13783,13791,13799,13807,13815,13823,13831,13839,13847,13855,13863,13871,13879,13887,13895,13903,13911,13919,13927,13935,13943,13951,13959,13967,13975,13983,13991,13999,14007,14015,14023,14031,14039,14047,14055,14063,14071,14079,14087,14095,14103,14111,14119,14127,14135,14143,14151,14159,14167,14175,14183,14191,14199,14207,14215,14223,14231,14239,14247,14255,14263,14271,14279,14287,14295,14303,14311,14319,14327,14335,14343,14351,14359,14367,14375,14383,14391,14399,14407,14415,14423,14431,14439,14447,14455,14463,14471,14479,14487,14495,14503,14511,14519,14527,14535,14543,14551,14559,14567,14575,14583,14591,14599,14607,14615,14623,14631,14639,14647,14655,14663,14671,14679,14687,14695,14703,14711,14719,14727,14735,14743,14751,14759,14767,14775,14783,14791,14799,14807,14815,14823,14831,14839,14847,14855,14863,14871,14879,14887,14895,14903,14911,14919,14927,14935,14943,14951,14959,14967,14975,14983,14991,14999,15007,15015,15023,15031,15039,15047,15055,15063,15071,15079,15087,15095,15103,15111,15119,15127,15135,15143,15151,15159,15167,15175,15183,15191,15199,15207,15215,15223,15231,15239,15247,15255,15263,15271,15279,15287,15295,15303,15311,15319,15327,15335,15343,15351,15359,15367,15375,15383,15391,15399,15407,15415,15423,15431,15439,15447,15455,15463,15471,15479,15487,15495,15503,15511,15519,15527,15535,15543,15551,15559,15567,15575,15583,15591,15599,15607,15615,15623,15631,15639,15647,15655,15663,15671,15679,15687,15695,15703,15711,15719,15727,15735,15743,15751,15759,15767,15775,15783,15791,15799,15807,15815,15823,15831,15839,15847,15855,15863,15871,15879,15887,15895,15903,15911,15919,15927,15935,15943,15951,15959,15967,15975,15983,15991,15999,16007,16015,16023,16031,16039,16047,16055,16063,16071,16079,16087,16095,16103,16111,16119,16127,16135,16143,16151,16159,16167,16175,16183,16191,16199,16207,16215,16223,16231,16239,16247,16255,16263,16271,16279,16287,16295,16303,16311,16319,16327,16335,16343,16351,16359,16367,16375) have mixed types. Specify dtype option on import or set low_memory=False.\n",
      "  panel: pd.DataFrame = pd.read_csv(panel_file)\n"
     ]
    }
   ],
   "source": [
    "panel: pd.DataFrame = pd.read_csv(panel_file)\n",
    "\n",
    "for acquisition_dir in acquisitions_dir.glob(\"*\"):\n",
    "    if acquisition_dir.is_dir():\n",
    "        # Write full stack\n",
    "        imcsegpipe.create_analysis_stacks(\n",
    "            acquisition_dir=acquisition_dir,\n",
    "            analysis_dir=final_images_dir,\n",
    "            analysis_channels=sort_channels_by_mass(\n",
    "                panel.loc[panel[panel_keep_col] == 1, panel_channel_col].tolist()\n",
    "            ),\n",
    "            suffix=\"_full\",\n",
    "            hpf=50.0,\n",
    "        )\n",
    "        # Write ilastik stack\n",
    "        imcsegpipe.create_analysis_stacks(\n",
    "            acquisition_dir=acquisition_dir,\n",
    "            analysis_dir=ilastik_dir,\n",
    "            analysis_channels=sort_channels_by_mass(\n",
    "                panel.loc[panel[panel_ilastik_col] == 1, panel_channel_col].tolist()\n",
    "            ),\n",
    "            suffix=\"_ilastik\",\n",
    "            hpf=50.0,\n",
    "        )"
   ]
  },
  {
   "cell_type": "markdown",
   "id": "5ab99527",
   "metadata": {},
   "source": [
    "## Export additional metadata\n",
    "\n",
    "Finally, we will copy a file that contains the correct order of channels for the exported full stacks to the `cellprofiler_input_dir`."
   ]
  },
  {
   "cell_type": "code",
   "execution_count": null,
   "id": "ece67368",
   "metadata": {},
   "outputs": [],
   "source": [
    "first_channel_order_file = next(final_images_dir.glob(\"*_full.csv\"))\n",
    "shutil.copy2(first_channel_order_file, cellprofiler_input_dir / \"full_channelmeta.csv\")"
   ]
  },
  {
   "cell_type": "markdown",
   "id": "0b65ffd8",
   "metadata": {},
   "source": [
    "We will also generate channel metadata for the probability stack (see [Ilastik training](https://bodenmillergroup.github.io/ImcSegmentationPipeline/ilastik.html))."
   ]
  },
  {
   "cell_type": "code",
   "execution_count": null,
   "id": "d7a25f2b",
   "metadata": {},
   "outputs": [],
   "source": [
    "probab_meta = [\"CellCenter\", \"CellBorder\", \"Background\"]\n",
    "with open(cellprofiler_input_dir / \"probab_channelmeta_manual.csv\", \"w\") as f:\n",
    "    f.write(\"\\n\".join(probab_meta))"
   ]
  },
  {
   "cell_type": "markdown",
   "id": "f5d4cb54",
   "metadata": {},
   "source": [
    "This concludes the pre-processing of the raw image files. In [the next step](https://bodenmillergroup.github.io/ImcSegmentationPipeline/ilastik.html), we will prepare the images for ilastik pixel classification."
   ]
  },
  {
   "cell_type": "markdown",
   "id": "79e364ec",
   "metadata": {},
   "source": [
    "## Generate the histocat folder with masks (optional)\n",
    "\n",
    "This function can be used to convert the `.ome.tiff` files together with the mask files, which are generated in the [segmentation step](https://bodenmillergroup.github.io/ImcSegmentationPipeline/segmentation.html) to a format that is recognized by the `histoCAT` software. To use the function you will need to remove `#` from the following code chunk."
   ]
  },
  {
   "cell_type": "code",
   "execution_count": null,
   "id": "83673a33",
   "metadata": {},
   "outputs": [],
   "source": [
    "for acquisition_dir in acquisitions_dir.glob(\"*\"):\n",
    "    if acquisition_dir.is_dir():\n",
    "        imcsegpipe.export_to_histocat(\n",
    "            acquisition_dir, histocat_dir, mask_dir=final_masks_dir\n",
    "        )"
   ]
  },
  {
   "cell_type": "code",
   "execution_count": null,
   "id": "e6cb34d5",
   "metadata": {},
   "outputs": [],
   "source": [
    "!conda list"
   ]
  },
  {
   "cell_type": "code",
   "execution_count": null,
   "id": "688e2f34-8852-49b1-9c67-5e711414f7bf",
   "metadata": {},
   "outputs": [],
   "source": []
  }
 ],
 "metadata": {
  "jupytext": {
   "cell_metadata_filter": "-all",
   "formats": "auto:percent,ipynb",
   "notebook_metadata_filter": "-all"
  },
  "kernelspec": {
   "display_name": "Python 3 (ipykernel)",
   "language": "python",
   "name": "python3"
  },
  "language_info": {
   "codemirror_mode": {
    "name": "ipython",
    "version": 3
   },
   "file_extension": ".py",
   "mimetype": "text/x-python",
   "name": "python",
   "nbconvert_exporter": "python",
   "pygments_lexer": "ipython3",
   "version": "3.9.13"
  }
 },
 "nbformat": 4,
 "nbformat_minor": 5
}
