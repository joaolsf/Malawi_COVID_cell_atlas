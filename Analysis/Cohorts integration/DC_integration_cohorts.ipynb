{
 "cells": [
  {
   "cell_type": "markdown",
   "id": "f93400a9",
   "metadata": {},
   "source": [
    "# Import libraries and setup"
   ]
  },
  {
   "cell_type": "code",
   "execution_count": 1,
   "id": "389cfa0b",
   "metadata": {
    "scrolled": true
   },
   "outputs": [
    {
     "name": "stderr",
     "output_type": "stream",
     "text": [
      "/Users/joaoluizsfilho/opt/anaconda3/envs/Squidpy/lib/python3.9/site-packages/umap/distances.py:1063: NumbaDeprecationWarning: \u001b[1mThe 'nopython' keyword argument was not supplied to the 'numba.jit' decorator. The implicit default value for this argument is currently False, but it will be changed to True in Numba 0.59.0. See https://numba.readthedocs.io/en/stable/reference/deprecation.html#deprecation-of-object-mode-fall-back-behaviour-when-using-jit for details.\u001b[0m\n",
      "  @numba.jit()\n",
      "/Users/joaoluizsfilho/opt/anaconda3/envs/Squidpy/lib/python3.9/site-packages/umap/distances.py:1071: NumbaDeprecationWarning: \u001b[1mThe 'nopython' keyword argument was not supplied to the 'numba.jit' decorator. The implicit default value for this argument is currently False, but it will be changed to True in Numba 0.59.0. See https://numba.readthedocs.io/en/stable/reference/deprecation.html#deprecation-of-object-mode-fall-back-behaviour-when-using-jit for details.\u001b[0m\n",
      "  @numba.jit()\n",
      "/Users/joaoluizsfilho/opt/anaconda3/envs/Squidpy/lib/python3.9/site-packages/umap/distances.py:1086: NumbaDeprecationWarning: \u001b[1mThe 'nopython' keyword argument was not supplied to the 'numba.jit' decorator. The implicit default value for this argument is currently False, but it will be changed to True in Numba 0.59.0. See https://numba.readthedocs.io/en/stable/reference/deprecation.html#deprecation-of-object-mode-fall-back-behaviour-when-using-jit for details.\u001b[0m\n",
      "  @numba.jit()\n",
      "/Users/joaoluizsfilho/opt/anaconda3/envs/Squidpy/lib/python3.9/site-packages/umap/umap_.py:660: NumbaDeprecationWarning: \u001b[1mThe 'nopython' keyword argument was not supplied to the 'numba.jit' decorator. The implicit default value for this argument is currently False, but it will be changed to True in Numba 0.59.0. See https://numba.readthedocs.io/en/stable/reference/deprecation.html#deprecation-of-object-mode-fall-back-behaviour-when-using-jit for details.\u001b[0m\n",
      "  @numba.jit()\n"
     ]
    }
   ],
   "source": [
    "# Import libraries we may need\n",
    "import scanpy as sc\n",
    "import numpy as np\n",
    "import scipy as sp\n",
    "import pandas as pd\n",
    "import matplotlib.pyplot as plt\n",
    "from matplotlib import rcParams\n",
    "from matplotlib import colors\n",
    "import seaborn as sb\n",
    "import scanpy.external as sce\n",
    "import wget\n",
    "import yaml\n",
    "import wget\n",
    "import astir\n",
    "import dill\n",
    "import umap\n",
    "reducer = umap.UMAP()\n",
    "import statsmodels as sm\n",
    "import anndata as ad\n",
    "\n",
    "#Packages to do Elbow analysis\n",
    "from sklearn.cluster import KMeans\n",
    "from yellowbrick.cluster import KElbowVisualizer\n",
    "\n",
    "#To display multiple dataframes in same output\n",
    "from IPython.display import display\n",
    "\n",
    "#Loading bar functionality for long tasks\n",
    "from tqdm import tqdm\n",
    "\n",
    "#For multiprocessing\n",
    "from functools import partial\n",
    "from multiprocessing import Pool\n",
    "\n",
    "#My module for importing IMC data into AnnData format\n",
    "import mikeimc as mimc\n",
    "import mikeimc_v2 as mikeimc_v2\n",
    "\n",
    "#import imc_import\n",
    "#import utils\n",
    "#import pop_id\n"
   ]
  },
  {
   "cell_type": "code",
   "execution_count": 2,
   "id": "26a8b227",
   "metadata": {},
   "outputs": [],
   "source": [
    "# Set up output figure settings\n",
    "plt.rcParams['figure.figsize']=(64,64) #rescale figures, increase sizehere\n",
    "\n",
    "# Set up scanpy settings\n",
    "sc.settings.verbosity = 3\n",
    "sc.set_figure_params(dpi=100, dpi_save=300) #Increase DPI for better resolution figures\n",
    "#sc.logging.print_versions()"
   ]
  },
  {
   "cell_type": "markdown",
   "id": "dc0281c4",
   "metadata": {},
   "source": [
    "# Save / restore environemnt\n",
    "Use these functions to either save or load the environmental variables, otherwise you will lose all the objects between opening/closing Jupyter sessions!"
   ]
  },
  {
   "cell_type": "code",
   "execution_count": null,
   "id": "ecfe3dc8",
   "metadata": {},
   "outputs": [],
   "source": [
    "#load the session\n",
    "dill.load_session('DC_ASTIR_Pf_spleen_Malawi.db')"
   ]
  },
  {
   "cell_type": "code",
   "execution_count": null,
   "id": "591176c1",
   "metadata": {},
   "outputs": [],
   "source": [
    "#save the session\n",
    "dill.dump_session('DC_ASTIR_Pf_spleen_Malawi.db')"
   ]
  },
  {
   "cell_type": "markdown",
   "id": "200d775c",
   "metadata": {},
   "source": [
    "# Load/save anndata object"
   ]
  },
  {
   "cell_type": "markdown",
   "id": "1e67f8a3",
   "metadata": {},
   "source": [
    "Save adata object\n",
    "This will save the adata object in the current directory as a file called 'adata'"
   ]
  },
  {
   "cell_type": "markdown",
   "id": "38fbd8f0",
   "metadata": {},
   "source": [
    "Load adata\n",
    "This will open up a stored adata object (from the 'raw' directory)"
   ]
  },
  {
   "cell_type": "code",
   "execution_count": null,
   "id": "f5580631",
   "metadata": {},
   "outputs": [],
   "source": [
    "# Load the Malawi cohort - only covid cases\n",
    "adata_Malawi = ad.read_h5ad('./2_h5ad files/adata_COVID') #all cases included"
   ]
  },
  {
   "cell_type": "code",
   "execution_count": null,
   "id": "88da1ea4",
   "metadata": {
    "scrolled": true
   },
   "outputs": [],
   "source": [
    "adata_Malawi.obs['Group']"
   ]
  },
  {
   "cell_type": "code",
   "execution_count": null,
   "id": "8ad28d84",
   "metadata": {},
   "outputs": [],
   "source": [
    "# Load the Brazilian cohort - only covid cases\n",
    "adata_Brazil = ad.read_h5ad('./8_h5ad_files_Brazil_cohort/adata_subset4.h5ad') #control case removed"
   ]
  },
  {
   "cell_type": "code",
   "execution_count": null,
   "id": "befd5f60",
   "metadata": {},
   "outputs": [],
   "source": [
    "adata_Brazil.obs['Type']"
   ]
  },
  {
   "cell_type": "code",
   "execution_count": null,
   "id": "94f21fc3",
   "metadata": {},
   "outputs": [],
   "source": [
    "# Load the US cohort - only covid cases\n",
    "adata_US = ad.read_h5ad('./7_h5ad_files_US_cohort/adata_covid') #control cases included"
   ]
  },
  {
   "cell_type": "code",
   "execution_count": null,
   "id": "ba85eac8",
   "metadata": {},
   "outputs": [],
   "source": [
    "adata_US.obs['ROI']"
   ]
  },
  {
   "cell_type": "code",
   "execution_count": null,
   "id": "f2bf4f45",
   "metadata": {},
   "outputs": [],
   "source": [
    "#Add the cohort info as a column in .obs\n",
    "\n",
    "adata_Malawi.obs[\"Cohort\"] = \"Malawi\"\n",
    "adata_Brazil.obs[\"Cohort\"] = \"Brazil\"\n",
    "adata_US.obs[\"Cohort\"] = \"US\"\n"
   ]
  },
  {
   "cell_type": "markdown",
   "id": "5af8d52a",
   "metadata": {},
   "source": [
    "# Concatenate adatas\n",
    "\n",
    "https://anndata.readthedocs.io/en/latest/concatenation.html\n",
    "\n",
    "When the variables present in the objects to be concatenated aren’t exactly the same, you can choose to take either the intersection or union of these variables. This is otherwise called taking the \"inner\" (intersection) or \"outer\" (union) join."
   ]
  },
  {
   "cell_type": "code",
   "execution_count": null,
   "id": "4e12c784",
   "metadata": {},
   "outputs": [],
   "source": [
    "adata_list = adata_Malawi, adata_Brazil, adata_US"
   ]
  },
  {
   "cell_type": "code",
   "execution_count": null,
   "id": "323ddf2a",
   "metadata": {},
   "outputs": [],
   "source": [
    "adata_list"
   ]
  },
  {
   "cell_type": "code",
   "execution_count": null,
   "id": "479f8641",
   "metadata": {},
   "outputs": [],
   "source": [
    "#Try both methods\n",
    "adata = ad.concat(adata_list, join=\"inner\")\n",
    "#adata2 = ad.concat(adata_list, join=\"outer\")"
   ]
  },
  {
   "cell_type": "code",
   "execution_count": null,
   "id": "fe83c173",
   "metadata": {},
   "outputs": [],
   "source": [
    "adata.obs"
   ]
  },
  {
   "cell_type": "code",
   "execution_count": null,
   "id": "fc3f2db1",
   "metadata": {},
   "outputs": [],
   "source": [
    "# Save adatas\n",
    "adata.write('./2_h5ad files/adata_Malawi_Brazil_US_inner_integrated_covid')\n",
    "#adata2.write('./2_h5ad files/adata_Malawi_Brazil_US_outer_concatenated')"
   ]
  },
  {
   "cell_type": "code",
   "execution_count": null,
   "id": "f135cca3",
   "metadata": {
    "scrolled": true
   },
   "outputs": [],
   "source": [
    "adata = ad.read_h5ad('./2_h5ad files/adata_Malawi_Brazil_US_inner_integrated_covid') #all cases included\n",
    "#adata2 = ad.read_h5ad('./2_h5ad files/adata_Malawi_Brazil_US_outer_concatenated') #all cases included\n"
   ]
  },
  {
   "cell_type": "code",
   "execution_count": null,
   "id": "464c474b",
   "metadata": {},
   "outputs": [],
   "source": [
    "adata.obs"
   ]
  },
  {
   "cell_type": "code",
   "execution_count": null,
   "id": "c4d52960",
   "metadata": {},
   "outputs": [],
   "source": [
    "adata_scvi.write('./2_h5ad files/adata_Malawi_Brazil_US_inner_integrated_covid_scvi')\n"
   ]
  },
  {
   "cell_type": "code",
   "execution_count": 3,
   "id": "851b41e2",
   "metadata": {},
   "outputs": [
    {
     "name": "stderr",
     "output_type": "stream",
     "text": [
      "/Users/joaoluizsfilho/opt/anaconda3/envs/Squidpy/lib/python3.9/site-packages/anndata/_core/anndata.py:1838: UserWarning: Observation names are not unique. To make them unique, call `.obs_names_make_unique`.\n",
      "  utils.warn_names_duplicates(\"obs\")\n",
      "/Users/joaoluizsfilho/opt/anaconda3/envs/Squidpy/lib/python3.9/site-packages/anndata/_core/anndata.py:1838: UserWarning: Observation names are not unique. To make them unique, call `.obs_names_make_unique`.\n",
      "  utils.warn_names_duplicates(\"obs\")\n"
     ]
    }
   ],
   "source": [
    "adata_immune = ad.read_h5ad('./2_h5ad files/adata_Malawi_Brazil_US_inner_integrated_covid_immune') \n",
    "adata_stromal = ad.read_h5ad('./2_h5ad files/adata_Malawi_Brazil_US_inner_integrated_covid_stromal') "
   ]
  },
  {
   "cell_type": "code",
   "execution_count": null,
   "id": "fd662e04",
   "metadata": {},
   "outputs": [],
   "source": [
    "adata_immune.write('./2_h5ad files/adata_Malawi_Brazil_US_inner_integrated_covid_immune')\n",
    "adata_stromal.write('./2_h5ad files/adata_Malawi_Brazil_US_inner_integrated_covid_stromal')"
   ]
  },
  {
   "cell_type": "code",
   "execution_count": 4,
   "id": "c068ee18",
   "metadata": {},
   "outputs": [
    {
     "data": {
      "text/plain": [
       "AnnData object with n_obs × n_vars = 150251 × 17\n",
       "    obs: 'Master_Index', 'ROI', 'X_loc', 'Y_loc', 'cell_type', 'hierarchy', 'pheno_cluster', 'Cohort', 'pheno_cluster_edited2'\n",
       "    uns: 'Cohort_colors', 'neighbors', 'pca', 'umap'\n",
       "    obsm: 'X_pca', 'X_pca_harmony', 'X_umap', 'spatial'\n",
       "    varm: 'PCs'\n",
       "    obsp: 'connectivities', 'distances'"
      ]
     },
     "execution_count": 4,
     "metadata": {},
     "output_type": "execute_result"
    }
   ],
   "source": [
    "adata_immune"
   ]
  },
  {
   "cell_type": "markdown",
   "id": "368bdb63",
   "metadata": {},
   "source": [
    "# Integration"
   ]
  },
  {
   "cell_type": "markdown",
   "id": "8e0736ed",
   "metadata": {},
   "source": [
    "Harmony"
   ]
  },
  {
   "cell_type": "code",
   "execution_count": null,
   "id": "2fac023b",
   "metadata": {},
   "outputs": [],
   "source": [
    "#Calculate PCA for adata - this must be done first (adata2 already contains X_pca)\n",
    "sc.tl.pca(adata)\n",
    "sc.pp.neighbors(adata)\n",
    "sc.tl.umap(adata)\n",
    "adata"
   ]
  },
  {
   "cell_type": "code",
   "execution_count": null,
   "id": "e642d722",
   "metadata": {},
   "outputs": [],
   "source": [
    "sc.pl.umap(adata, size =1, color=\"Cohort\", save = \"unintegrated_inner_dataset.pdf\")"
   ]
  },
  {
   "cell_type": "code",
   "execution_count": null,
   "id": "ff18bdb8",
   "metadata": {
    "scrolled": false
   },
   "outputs": [],
   "source": [
    "import scanpy.external as sce\n",
    "sce.pp.harmony_integrate(adata, 'Cohort')"
   ]
  },
  {
   "cell_type": "code",
   "execution_count": null,
   "id": "efc8ecc5",
   "metadata": {
    "scrolled": false
   },
   "outputs": [],
   "source": [
    "#Calculate UMAP based on harmony integration\n",
    "sc.pp.neighbors(adata, use_rep='X_pca_harmony')\n",
    "sc.tl.umap(adata)"
   ]
  },
  {
   "cell_type": "code",
   "execution_count": null,
   "id": "38ecae37",
   "metadata": {},
   "outputs": [],
   "source": [
    "adata"
   ]
  },
  {
   "cell_type": "markdown",
   "id": "b2f2c92d",
   "metadata": {},
   "source": [
    "Plot UMAPs\n",
    "You can add extra .obs to UMAP_groups to colour the UMAPs by, e.g. treatment"
   ]
  },
  {
   "cell_type": "code",
   "execution_count": null,
   "id": "780f3ef3",
   "metadata": {
    "scrolled": true
   },
   "outputs": [],
   "source": [
    "# Plot UMAP\n",
    "sc.pl.umap(adata, s = 1, color=\"Cohort\", ncols=1, size=3, save='_harmony_inner_dataset.pdf')"
   ]
  },
  {
   "cell_type": "code",
   "execution_count": null,
   "id": "4b96c0b7",
   "metadata": {},
   "outputs": [],
   "source": [
    "# Harmonise some labels first - mainly the SARSCov2+ populations\n",
    "\n",
    "#Re-annotation of the clusters in a dictionary file\n",
    "\n",
    "covid_dict = pd.read_csv('mikeimc_approach/Dictionaries/covid_pheno_cluster_edited_dict2.csv')\n",
    "ep = covid_dict.set_index('pheno_cluster2').to_dict()\n",
    "\n",
    "adata.obs['pheno_cluster_edited2']=adata.obs['pheno_cluster'].map(ep['Cell_Class2'])\n",
    "\n",
    "adata.obs['pheno_cluster_edited2']=adata.obs['pheno_cluster_edited2'].astype('category')\n"
   ]
  },
  {
   "cell_type": "code",
   "execution_count": null,
   "id": "0171e2ff",
   "metadata": {
    "scrolled": true
   },
   "outputs": [],
   "source": [
    "adata"
   ]
  },
  {
   "cell_type": "markdown",
   "id": "70b22836",
   "metadata": {},
   "source": [
    "Visualizing distributions across batches"
   ]
  },
  {
   "cell_type": "markdown",
   "id": "86ce9422",
   "metadata": {},
   "source": [
    "Often, batches correspond to experiments that one wants to compare. Scanpy offers to convenient visualization possibilities for this.\n",
    "\n",
    "a density plot\n",
    "a partial visualization of a subset of categories/groups in an emnbedding"
   ]
  },
  {
   "cell_type": "code",
   "execution_count": null,
   "id": "db337633",
   "metadata": {},
   "outputs": [],
   "source": [
    "adata"
   ]
  },
  {
   "cell_type": "code",
   "execution_count": null,
   "id": "4bf1d577",
   "metadata": {},
   "outputs": [],
   "source": [
    "adata.obs_names_make_unique"
   ]
  },
  {
   "cell_type": "code",
   "execution_count": null,
   "id": "e680821d",
   "metadata": {},
   "outputs": [],
   "source": [
    "#Density plot - it can be calculated for different columns in adata.obs\n",
    "sc.tl.embedding_density(adata, groupby='Cohort')"
   ]
  },
  {
   "cell_type": "code",
   "execution_count": null,
   "id": "0031bce8",
   "metadata": {},
   "outputs": [],
   "source": [
    "sc.pl.embedding_density(adata, groupby='Cohort', save='_harmony_inner_dataset_density.pdf')"
   ]
  },
  {
   "cell_type": "markdown",
   "id": "b5461acd",
   "metadata": {},
   "source": [
    "Variational autoencoder (VAE) based integration"
   ]
  },
  {
   "cell_type": "markdown",
   "id": "96c6dadb",
   "metadata": {},
   "source": [
    "References: https://www.sc-best-practices.org/cellular_structure/integration.html#variational-autoencoder-vae-based-integration\n",
    "https://docs.scvi-tools.org/en/stable/tutorials/notebooks/api_overview.html"
   ]
  },
  {
   "cell_type": "code",
   "execution_count": null,
   "id": "745ffe9e",
   "metadata": {},
   "outputs": [],
   "source": [
    "#Use scvi-env environment for this part of the analysis\n",
    "# Python packages\n",
    "import scanpy as sc\n",
    "import scvi\n",
    "import scib\n",
    "import numpy as np\n",
    "import pandas as pd\n",
    "import matplotlib.pyplot as plt\n",
    "import matplotlib\n",
    "import anndata as ad"
   ]
  },
  {
   "cell_type": "code",
   "execution_count": null,
   "id": "66ab4d79",
   "metadata": {},
   "outputs": [],
   "source": [
    "adata_scvi = adata.copy()\n",
    "#adata_scvi2 = adata2.copy()"
   ]
  },
  {
   "cell_type": "code",
   "execution_count": null,
   "id": "65c33203",
   "metadata": {},
   "outputs": [],
   "source": [
    "adata_scvi"
   ]
  },
  {
   "cell_type": "code",
   "execution_count": null,
   "id": "c4872ec0",
   "metadata": {},
   "outputs": [],
   "source": [
    "# Create layer counts\n",
    "adata_scvi.layers[\"counts\"]=adata_scvi.X.copy()\n",
    "adata_scvi2.layers[\"counts\"]=adata_scvi2.X.copy()"
   ]
  },
  {
   "cell_type": "code",
   "execution_count": null,
   "id": "ac4a099c",
   "metadata": {},
   "outputs": [],
   "source": [
    "adata_scvi"
   ]
  },
  {
   "cell_type": "code",
   "execution_count": null,
   "id": "7e747d05",
   "metadata": {},
   "outputs": [],
   "source": [
    "# Define the expression matrix to use and what the batch key is.\n",
    "batch_key='Cohort'"
   ]
  },
  {
   "cell_type": "code",
   "execution_count": null,
   "id": "2e24441b",
   "metadata": {},
   "outputs": [],
   "source": [
    "# Data preparation\n",
    "# this creates fields marked with scvi\n",
    "scvi.model.SCVI.setup_anndata(adata_scvi, layer=\"counts\", batch_key=batch_key)\n",
    "adata_scvi\n",
    "\n",
    "#scvi.model.SCVI.setup_anndata(adata_scvi2, layer=\"counts\", batch_key=batch_key)\n",
    "#adata_scvi2"
   ]
  },
  {
   "cell_type": "code",
   "execution_count": null,
   "id": "e3553af4",
   "metadata": {},
   "outputs": [],
   "source": [
    "# Building the model\n",
    "# Construct the scVI model object\n",
    "# The scvi-tools package contains various other models - here we will use the scANVI model\n",
    "model_scvi = scvi.model.SCVI(adata_scvi)\n",
    "model_scvi"
   ]
  },
  {
   "cell_type": "code",
   "execution_count": null,
   "id": "47b8234d",
   "metadata": {},
   "outputs": [],
   "source": [
    "#model_scvi2 = scvi.model.SCVI(adata_scvi2)\n",
    "#model_scvi2"
   ]
  },
  {
   "cell_type": "code",
   "execution_count": null,
   "id": "06d112c5",
   "metadata": {},
   "outputs": [],
   "source": [
    "# We can also print a more detailed description of the model that shows us where things are stored in the associated AnnData object.\n",
    "\n",
    "model_scvi.view_anndata_setup()"
   ]
  },
  {
   "cell_type": "code",
   "execution_count": null,
   "id": "f7b56bb7",
   "metadata": {},
   "outputs": [],
   "source": [
    "#model_scvi2.view_anndata_setup()"
   ]
  },
  {
   "cell_type": "code",
   "execution_count": null,
   "id": "6ab1cfef",
   "metadata": {},
   "outputs": [],
   "source": [
    "# Training the model\n",
    "# The model will be trained for a given number of epochs, a training iteration where every cell is passed through the network. \n",
    "# By default scVI uses the following heuristic to set the number of epochs. \n",
    "# For datasets with fewer than 20,000 cells, 400 epochs will be used and as the number of cells grows above 20,000 the number of epochs is continuously reduced. \n",
    "# The reasoning behind this is that as the network sees more cells during each epoch it can learn the same amount of information as it would from more epochs with fewer cells.\n",
    "max_epochs_scvi = np.min([round((20000 / adata_scvi.n_obs) * 400), 400])\n",
    "max_epochs_scvi"
   ]
  },
  {
   "cell_type": "code",
   "execution_count": null,
   "id": "60344a24",
   "metadata": {},
   "outputs": [],
   "source": [
    "#max_epochs_scvi2 = np.min([round((20000 / adata_scvi2.n_obs) * 400), 400])\n",
    "#max_epochs_scvi2"
   ]
  },
  {
   "cell_type": "code",
   "execution_count": null,
   "id": "c698f258",
   "metadata": {},
   "outputs": [],
   "source": [
    "# We now train the model for the selected number of epochs (this will take ~20-40 minutes depending on the computer you are using).\n",
    "# Additionally to setting a target number of epochs, it is possible to also set early_stopping=True in the training function. This will let scVI decide to stop training early depending on the convergence of the model. \n",
    "# The exact conditions for stopping can be controlled by other parameters.\n",
    "model_scvi.train(max_epochs=26)"
   ]
  },
  {
   "cell_type": "code",
   "execution_count": null,
   "id": "04c9b36e",
   "metadata": {},
   "outputs": [],
   "source": [
    "# Extract the embedding\n",
    "\n",
    "# The main result we want to extract from the trained model is the latent representation for each cell. \n",
    "# This is a multi-dimensional embedding where the batch effects have been removed that can be used in a similar way to how we use PCA dimensions when analysing a single dataset. \n",
    "# We store this in obsm with the key X_scvi.\n",
    "\n",
    "adata_scvi.obsm[\"X_scVI\"] = model_scvi.get_latent_representation()"
   ]
  },
  {
   "cell_type": "code",
   "execution_count": null,
   "id": "561e3fcb",
   "metadata": {},
   "outputs": [],
   "source": [
    "# Calculate a batch-corrected UMAP\n",
    "\n",
    "#We calculate a new UMAP embedding but instead of finding nearest neighbors in PCA space, \n",
    "# we start with the corrected representation from scVI.\n",
    "\n",
    "sc.pp.neighbors(adata_scvi, use_rep=\"X_scVI\")\n",
    "sc.tl.umap(adata_scvi)\n",
    "adata_scvi"
   ]
  },
  {
   "cell_type": "code",
   "execution_count": null,
   "id": "27a79f23",
   "metadata": {},
   "outputs": [],
   "source": [
    "sc.pl.umap(adata_scvi, size =1, color=batch_key, save = \"scVI_inner_dataset.pdf\")"
   ]
  },
  {
   "cell_type": "code",
   "execution_count": null,
   "id": "25fb2225",
   "metadata": {},
   "outputs": [],
   "source": [
    "sc.tl.embedding_density(adata_scvi, groupby='Patient')"
   ]
  },
  {
   "cell_type": "code",
   "execution_count": null,
   "id": "4f4131d5",
   "metadata": {},
   "outputs": [],
   "source": [
    "sc.pl.embedding_density(adata_scvi, groupby='Patient', save='_scVI_density.pdf')"
   ]
  },
  {
   "cell_type": "markdown",
   "id": "2a75068f",
   "metadata": {},
   "source": [
    "VAE integration using cell labels"
   ]
  },
  {
   "cell_type": "markdown",
   "id": "3d291f13",
   "metadata": {},
   "source": [
    "When performing integration with scVI we pretended that we didn’t already have any cell labels (although we showed them in plots). While this scenario is common there are some cases where we do know something about cell identity in advance. Most often this is when we want to combine one or more publicly available datasets with data from a new study. When we have labels for at least some of the cells we can use scANVI (single-cell ANnotation using Variational Inference) [Xu et al., 2021]. This is an extension of the scVI model that can incorporate cell identity label information as well as batch information. Because it has this extra information it can try to keep the differences between cell labels while removing batch effects. Benchmarking suggests that scANVI tends to better preserve biological signals compared to scVI but sometimes it is not as effective at removing batch effects [Luecken et al., 2021]. While we have labels for all cells here it is also possible to use scANVI in a semi-supervised manner where labels are only provided for some cells.\n",
    "\n",
    "Label harmonization\n",
    "If you are using scANVI to integrate multiple datasets for which you already have labels it is important to first perform label harmonization. This refers to a process of checking that labels are consistent across the datasets that are being integrated. For example, a cell may be annotated as a “T cell” in one dataset, but a cell of the same type could have been given the label “CD8+ T cell” in another dataset. How best to harmonize labels is an open question but often requires input from subject-matter experts."
   ]
  },
  {
   "cell_type": "code",
   "execution_count": null,
   "id": "879dd5f7",
   "metadata": {},
   "outputs": [],
   "source": [
    "# VAE integration using cell labels\n",
    "# I will test this approach using the leiden0.3 as the cell label key\n",
    "label_key = \"pheno_cluster\"\n",
    "model_scanvi = scvi.model.SCANVI.from_scvi_model(model_scvi, labels_key=label_key, unlabeled_category=\"unlabelled\")\n",
    "print(model_scanvi)\n",
    "model_scanvi.view_anndata_setup()"
   ]
  },
  {
   "cell_type": "code",
   "execution_count": null,
   "id": "67d74b1c",
   "metadata": {},
   "outputs": [],
   "source": [
    "# Harmonise some labels first - mainly the SARSCov2+ populations\n",
    "\n",
    "#Re-annotation of the clusters in a dictionary file\n",
    "\n",
    "covid_dict = pd.read_csv('mikeimc_approach/Dictionaries/covid_pheno_cluster_edited_dict.csv')\n",
    "ep = covid_dict.set_index('pheno_cluster').to_dict()\n",
    "\n",
    "adata_scvi.obs['pheno_cluster_edited']=adata_scvi.obs['pheno_cluster'].map(ep['Cell_Class'])\n",
    "\n",
    "adata_scvi.obs['pheno_cluster_edited']=adata_scvi.obs['pheno_cluster_edited'].astype('category')\n"
   ]
  },
  {
   "cell_type": "code",
   "execution_count": null,
   "id": "85253d8c",
   "metadata": {},
   "outputs": [],
   "source": [
    "adata_scvi.obs"
   ]
  },
  {
   "cell_type": "code",
   "execution_count": null,
   "id": "4c4227cf",
   "metadata": {},
   "outputs": [],
   "source": [
    "label_key = \"pheno_cluster_edited2\"\n",
    "model_scanvi = scvi.model.SCANVI.from_scvi_model(model_scvi, labels_key=label_key, unlabeled_category=\"unlabelled\")\n",
    "print(model_scanvi)\n",
    "model_scanvi.view_anndata_setup()"
   ]
  },
  {
   "cell_type": "code",
   "execution_count": null,
   "id": "8744a102",
   "metadata": {},
   "outputs": [],
   "source": [
    "max_epochs_scanvi = int(np.min([10, np.max([2, round(max_epochs_scvi / 3.0)])]))\n",
    "model_scanvi.train(max_epochs=max_epochs_scanvi)"
   ]
  },
  {
   "cell_type": "code",
   "execution_count": null,
   "id": "fd991b2b",
   "metadata": {},
   "outputs": [],
   "source": [
    "# extract the new latent representation from the model and create a new UMAP embedding.\n",
    "adata_scvi.obsm[\"X_scANVI\"] = model_scanvi.get_latent_representation()\n",
    "sc.pp.neighbors(adata_scvi, use_rep=\"X_scANVI\")\n",
    "sc.tl.umap(adata_scvi)"
   ]
  },
  {
   "cell_type": "code",
   "execution_count": null,
   "id": "156aa7e3",
   "metadata": {
    "scrolled": true
   },
   "outputs": [],
   "source": [
    "sc.pl.umap(adata_scvi, color=[label_key], wspace=1)"
   ]
  },
  {
   "cell_type": "code",
   "execution_count": null,
   "id": "bb2e9bfa",
   "metadata": {},
   "outputs": [],
   "source": [
    "sc.pl.umap(adata_scvi, color=[batch_key], wspace=1, save = \"sANcVI_inner_dataset.pdf\")"
   ]
  },
  {
   "cell_type": "code",
   "execution_count": null,
   "id": "b9249b2c",
   "metadata": {},
   "outputs": [],
   "source": [
    "sc.pl.embedding_density(adata_scvi, groupby='Patient', save='_scANVI_density.pdf')"
   ]
  },
  {
   "cell_type": "code",
   "execution_count": null,
   "id": "96f5e39a",
   "metadata": {},
   "outputs": [],
   "source": [
    "adata_scvi"
   ]
  },
  {
   "cell_type": "markdown",
   "id": "f4397b5c",
   "metadata": {},
   "source": [
    "# Cell proportions across cohorts"
   ]
  },
  {
   "cell_type": "code",
   "execution_count": 5,
   "id": "f97bb826",
   "metadata": {},
   "outputs": [
    {
     "data": {
      "text/plain": [
       "{'Activated endothelial cell': '#0070C0',\n",
       " 'Alveolar macrophage': '#A381EF',\n",
       " 'Apoptotic alveolar macrophage': '#8595e1',\n",
       " 'Apoptotic epithelial cell': '#0fcfc0',\n",
       " 'Apoptotic fibroblast': '#FF7DA8',\n",
       " 'Apoptotic SMC': '#9cded6',\n",
       " 'Apoptotic neutrophil': '#8dd593',\n",
       " 'Neutrophil': '#11c638',\n",
       " 'B cell': '#000000',\n",
       " 'NK cell': '#d9d2e9',\n",
       " 'CD4 T cell': '#ff46a1',\n",
       " 'CD4 Treg cell': '#A64D79',\n",
       " 'CD8 T cell': '#6fa8dc',\n",
       " 'Dendritic cell': '#b5bbe3',\n",
       " 'Classical monocyte': '#b86cb9',\n",
       " 'SMC': '#FA8000',\n",
       " 'Fibroblast': '#b86cb9',\n",
       " 'Endothelial cell': '#e07b91',\n",
       " 'Epithelial cell': '#f0b98d',\n",
       " 'Interstitial macrophage': '#4a6fe3',\n",
       " 'Mast cell': '#d33f6a',\n",
       " 'Mesenchymal': '#ffe6f2',\n",
       " 'RBC': '#f71f0f',\n",
       " 'SARSCoV2+ epithelial cell': '#A53F02',\n",
       " 'SARSCoV2+ AM': '#FFD966',\n",
       " 'SARSCoV2+ NK cell': '#d9d2e9',\n",
       " 'SARSCoV2+ IM': '#00B0F0',\n",
       " 'SARSCoV2+ neutrophil': '#336600',\n",
       " 'SARSCoV2+ monocyte': '#FF7DA8',\n",
       " 'unlabelled': '#EBFFD5'}"
      ]
     },
     "execution_count": 5,
     "metadata": {},
     "output_type": "execute_result"
    }
   ],
   "source": [
    "col_df = pd.read_csv('mikeimc_approach/colours/pheno_colours_edited2.csv')\n",
    "colour_palette = col_df.set_index('pheno_cluster_edited2').to_dict()\n",
    "colour_palette['colour']"
   ]
  },
  {
   "cell_type": "code",
   "execution_count": null,
   "id": "7c18ad85",
   "metadata": {
    "scrolled": true
   },
   "outputs": [],
   "source": [
    "# Remove RBCs\n",
    "adata = adata[~adata.obs['pheno_cluster_edited2'].isin(['RBC']),:].copy()"
   ]
  },
  {
   "cell_type": "code",
   "execution_count": null,
   "id": "a12adeec",
   "metadata": {},
   "outputs": [],
   "source": [
    "adata_scvi = adata_scvi[~adata_scvi.obs['pheno_cluster_edited2'].isin(['RBC']),:].copy()"
   ]
  },
  {
   "cell_type": "code",
   "execution_count": null,
   "id": "7498feec",
   "metadata": {},
   "outputs": [],
   "source": [
    "adata_immune = adata[adata.obs['hierarchy'].isin(['Lymphoid', 'Myeloid']),:].copy()\n",
    "adata_stromal = adata[adata.obs['hierarchy'].isin(['Stromal', 'Vascular']),:].copy()"
   ]
  },
  {
   "cell_type": "code",
   "execution_count": null,
   "id": "8cd55131",
   "metadata": {},
   "outputs": [],
   "source": [
    "tmp = pd.crosstab(adata.obs['pheno_cluster_edited2'],adata.obs['Cohort'], margins=False, margins_name='Total', normalize='columns')"
   ]
  },
  {
   "cell_type": "code",
   "execution_count": null,
   "id": "1ce2bc3f",
   "metadata": {},
   "outputs": [],
   "source": [
    "tmp = pd.crosstab(adata_scvi.obs['pheno_cluster_edited2'],adata_scvi.obs['Cohort'], margins=False, margins_name='Total', normalize='columns')"
   ]
  },
  {
   "cell_type": "code",
   "execution_count": 6,
   "id": "532fdf69",
   "metadata": {},
   "outputs": [],
   "source": [
    "tmp = pd.crosstab(adata_immune.obs['pheno_cluster_edited2'],adata_immune.obs['Cohort'], margins=False, margins_name='Total', normalize='columns')"
   ]
  },
  {
   "cell_type": "code",
   "execution_count": 7,
   "id": "13b93768",
   "metadata": {},
   "outputs": [],
   "source": [
    "tmp2 = tmp.reindex(['B cell', \"CD4 T cell\", \"CD4 Treg cell\", \"CD8 T cell\",\n",
    "                    'Dendritic cell',  'Mast cell',\n",
    "                     \"SARSCoV2+ NK cell\",  'NK cell',\n",
    "                    'SARSCoV2+ neutrophil', \"Apoptotic neutrophil\", 'Neutrophil', \n",
    "                    'SARSCoV2+ monocyte', \"Classical monocyte\", 'SARSCoV2+ IM', 'Interstitial macrophage',\n",
    "                    'SARSCoV2+ AM', 'Apoptotic alveolar macrophage', 'Alveolar macrophage'])"
   ]
  },
  {
   "cell_type": "code",
   "execution_count": null,
   "id": "0b354f78",
   "metadata": {},
   "outputs": [],
   "source": [
    "tmp2 = tmp.reindex(['SARSCoV2+ epithelial cell', 'Apoptotic epithelial cell', 'Epithelial cell', \n",
    "                    'Activated endothelial cell', 'Endothelial cell', 'Fibroblast', 'Apoptotic fibroblast',\n",
    "                    'SMC', 'Apoptotic SMC', \"Mesenchymal\"])\n"
   ]
  },
  {
   "cell_type": "code",
   "execution_count": null,
   "id": "8c8e52e0",
   "metadata": {},
   "outputs": [],
   "source": []
  },
  {
   "cell_type": "code",
   "execution_count": null,
   "id": "b1ffc338",
   "metadata": {},
   "outputs": [],
   "source": [
    "tmp3 = tmp2.reindex(index=tmp2.index[::-1])"
   ]
  },
  {
   "cell_type": "code",
   "execution_count": 8,
   "id": "6b697be3",
   "metadata": {},
   "outputs": [],
   "source": [
    "tmp4 = pd.DataFrame.transpose(tmp2)"
   ]
  },
  {
   "cell_type": "code",
   "execution_count": 9,
   "id": "7a071ab7",
   "metadata": {},
   "outputs": [
    {
     "data": {
      "text/html": [
       "<div>\n",
       "<style scoped>\n",
       "    .dataframe tbody tr th:only-of-type {\n",
       "        vertical-align: middle;\n",
       "    }\n",
       "\n",
       "    .dataframe tbody tr th {\n",
       "        vertical-align: top;\n",
       "    }\n",
       "\n",
       "    .dataframe thead th {\n",
       "        text-align: right;\n",
       "    }\n",
       "</style>\n",
       "<table border=\"1\" class=\"dataframe\">\n",
       "  <thead>\n",
       "    <tr style=\"text-align: right;\">\n",
       "      <th>pheno_cluster_edited2</th>\n",
       "      <th>B cell</th>\n",
       "      <th>CD4 T cell</th>\n",
       "      <th>CD4 Treg cell</th>\n",
       "      <th>CD8 T cell</th>\n",
       "      <th>Dendritic cell</th>\n",
       "      <th>Mast cell</th>\n",
       "      <th>SARSCoV2+ NK cell</th>\n",
       "      <th>NK cell</th>\n",
       "      <th>SARSCoV2+ neutrophil</th>\n",
       "      <th>Apoptotic neutrophil</th>\n",
       "      <th>Neutrophil</th>\n",
       "      <th>SARSCoV2+ monocyte</th>\n",
       "      <th>Classical monocyte</th>\n",
       "      <th>SARSCoV2+ IM</th>\n",
       "      <th>Interstitial macrophage</th>\n",
       "      <th>SARSCoV2+ AM</th>\n",
       "      <th>Apoptotic alveolar macrophage</th>\n",
       "      <th>Alveolar macrophage</th>\n",
       "    </tr>\n",
       "    <tr>\n",
       "      <th>Cohort</th>\n",
       "      <th></th>\n",
       "      <th></th>\n",
       "      <th></th>\n",
       "      <th></th>\n",
       "      <th></th>\n",
       "      <th></th>\n",
       "      <th></th>\n",
       "      <th></th>\n",
       "      <th></th>\n",
       "      <th></th>\n",
       "      <th></th>\n",
       "      <th></th>\n",
       "      <th></th>\n",
       "      <th></th>\n",
       "      <th></th>\n",
       "      <th></th>\n",
       "      <th></th>\n",
       "      <th></th>\n",
       "    </tr>\n",
       "  </thead>\n",
       "  <tbody>\n",
       "    <tr>\n",
       "      <th>Brazil</th>\n",
       "      <td>0.000000</td>\n",
       "      <td>0.089765</td>\n",
       "      <td>0.000000</td>\n",
       "      <td>0.083716</td>\n",
       "      <td>0.000000</td>\n",
       "      <td>0.000000</td>\n",
       "      <td>0.000000</td>\n",
       "      <td>0.040208</td>\n",
       "      <td>0.000000</td>\n",
       "      <td>0.011379</td>\n",
       "      <td>0.189577</td>\n",
       "      <td>0.000000</td>\n",
       "      <td>0.051609</td>\n",
       "      <td>0.000000</td>\n",
       "      <td>0.319867</td>\n",
       "      <td>0.049049</td>\n",
       "      <td>0.000000</td>\n",
       "      <td>0.164830</td>\n",
       "    </tr>\n",
       "    <tr>\n",
       "      <th>Malawi</th>\n",
       "      <td>0.040732</td>\n",
       "      <td>0.040517</td>\n",
       "      <td>0.040302</td>\n",
       "      <td>0.125756</td>\n",
       "      <td>0.042174</td>\n",
       "      <td>0.000000</td>\n",
       "      <td>0.000000</td>\n",
       "      <td>0.030480</td>\n",
       "      <td>0.049817</td>\n",
       "      <td>0.000000</td>\n",
       "      <td>0.079438</td>\n",
       "      <td>0.000000</td>\n",
       "      <td>0.034409</td>\n",
       "      <td>0.020750</td>\n",
       "      <td>0.219743</td>\n",
       "      <td>0.068019</td>\n",
       "      <td>0.129194</td>\n",
       "      <td>0.078670</td>\n",
       "    </tr>\n",
       "    <tr>\n",
       "      <th>US</th>\n",
       "      <td>0.005981</td>\n",
       "      <td>0.098660</td>\n",
       "      <td>0.000000</td>\n",
       "      <td>0.100109</td>\n",
       "      <td>0.009774</td>\n",
       "      <td>0.024633</td>\n",
       "      <td>0.036225</td>\n",
       "      <td>0.037859</td>\n",
       "      <td>0.073402</td>\n",
       "      <td>0.000000</td>\n",
       "      <td>0.262810</td>\n",
       "      <td>0.084966</td>\n",
       "      <td>0.001065</td>\n",
       "      <td>0.024747</td>\n",
       "      <td>0.003026</td>\n",
       "      <td>0.037901</td>\n",
       "      <td>0.000000</td>\n",
       "      <td>0.198841</td>\n",
       "    </tr>\n",
       "  </tbody>\n",
       "</table>\n",
       "</div>"
      ],
      "text/plain": [
       "pheno_cluster_edited2    B cell  CD4 T cell  CD4 Treg cell  CD8 T cell  \\\n",
       "Cohort                                                                   \n",
       "Brazil                 0.000000    0.089765       0.000000    0.083716   \n",
       "Malawi                 0.040732    0.040517       0.040302    0.125756   \n",
       "US                     0.005981    0.098660       0.000000    0.100109   \n",
       "\n",
       "pheno_cluster_edited2  Dendritic cell  Mast cell  SARSCoV2+ NK cell   NK cell  \\\n",
       "Cohort                                                                          \n",
       "Brazil                       0.000000   0.000000           0.000000  0.040208   \n",
       "Malawi                       0.042174   0.000000           0.000000  0.030480   \n",
       "US                           0.009774   0.024633           0.036225  0.037859   \n",
       "\n",
       "pheno_cluster_edited2  SARSCoV2+ neutrophil  Apoptotic neutrophil  Neutrophil  \\\n",
       "Cohort                                                                          \n",
       "Brazil                             0.000000              0.011379    0.189577   \n",
       "Malawi                             0.049817              0.000000    0.079438   \n",
       "US                                 0.073402              0.000000    0.262810   \n",
       "\n",
       "pheno_cluster_edited2  SARSCoV2+ monocyte  Classical monocyte  SARSCoV2+ IM  \\\n",
       "Cohort                                                                        \n",
       "Brazil                           0.000000            0.051609      0.000000   \n",
       "Malawi                           0.000000            0.034409      0.020750   \n",
       "US                               0.084966            0.001065      0.024747   \n",
       "\n",
       "pheno_cluster_edited2  Interstitial macrophage  SARSCoV2+ AM  \\\n",
       "Cohort                                                         \n",
       "Brazil                                0.319867      0.049049   \n",
       "Malawi                                0.219743      0.068019   \n",
       "US                                    0.003026      0.037901   \n",
       "\n",
       "pheno_cluster_edited2  Apoptotic alveolar macrophage  Alveolar macrophage  \n",
       "Cohort                                                                     \n",
       "Brazil                                      0.000000             0.164830  \n",
       "Malawi                                      0.129194             0.078670  \n",
       "US                                          0.000000             0.198841  "
      ]
     },
     "execution_count": 9,
     "metadata": {},
     "output_type": "execute_result"
    }
   ],
   "source": [
    "tmp4"
   ]
  },
  {
   "cell_type": "code",
   "execution_count": 10,
   "id": "9a13b483",
   "metadata": {},
   "outputs": [
    {
     "data": {
      "text/plain": [
       "<matplotlib.legend.Legend at 0x2a8670e50>"
      ]
     },
     "execution_count": 10,
     "metadata": {},
     "output_type": "execute_result"
    },
    {
     "data": {
      "image/png": "[encoded data removed]",
      "text/plain": [
       "<Figure size 400x400 with 1 Axes>"
      ]
     },
     "metadata": {
      "image/png": {
       "height": 492,
       "width": 654
      }
     },
     "output_type": "display_data"
    }
   ],
   "source": [
    "#color for stack bars for the disease groups matching the other bar graphs\n",
    "#F08080 - light coral\n",
    "#87CEFA - lightskyblue\n",
    "#D3D3D3 - lightgrey\n",
    "\n",
    "import seaborn as sb\n",
    "\n",
    "pretty_colors = ['#F08080','#87CEFA','#D3D3D3']\n",
    "color_pal = sb.color_palette('Paired')\n",
    "\n",
    "#sb.set_style(\"whitegrid\", {'axes.grid' : True})\n",
    "tmp4.plot.bar(stacked=True, color=colour_palette['colour'], figsize=(4, 4), rot=0).legend(bbox_to_anchor=(1, 1))\n",
    "#plt.savefig(\"Frequency_celltypes_cohorts_stromal_reversed.pdf\", format=\"pdf\", bbox_inches=\"tight\")"
   ]
  },
  {
   "cell_type": "code",
   "execution_count": 19,
   "id": "e07ccb0f",
   "metadata": {},
   "outputs": [],
   "source": [
    "compression_opts = dict(method='zip',\n",
    "                         archive_name='Cell_proportions_Cohort.csv') \n",
    "tmp2.to_csv('Myeloid1.zip', index=True, compression=compression_opts)"
   ]
  },
  {
   "cell_type": "code",
   "execution_count": 21,
   "id": "bcf4925c",
   "metadata": {},
   "outputs": [
    {
     "name": "stdout",
     "output_type": "stream",
     "text": [
      "Raw data:\n"
     ]
    },
    {
     "name": "stderr",
     "output_type": "stream",
     "text": [
      "/Users/joaoluizsfilho/opt/anaconda3/envs/Squidpy/lib/python3.9/site-packages/statsmodels/stats/multitest.py:186: RuntimeWarning: divide by zero encountered in log1p\n",
      "  np.log1p(-pvals))\n"
     ]
    },
    {
     "data": {
      "text/html": [
       "<div>\n",
       "<style scoped>\n",
       "    .dataframe tbody tr th:only-of-type {\n",
       "        vertical-align: middle;\n",
       "    }\n",
       "\n",
       "    .dataframe tbody tr th {\n",
       "        vertical-align: top;\n",
       "    }\n",
       "\n",
       "    .dataframe thead th {\n",
       "        text-align: right;\n",
       "    }\n",
       "</style>\n",
       "<table border=\"1\" class=\"dataframe\">\n",
       "  <thead>\n",
       "    <tr style=\"text-align: right;\">\n",
       "      <th></th>\n",
       "      <th>pheno_cluster_edited2</th>\n",
       "      <th>Alveolar macrophage</th>\n",
       "      <th>Apoptotic alveolar macrophage</th>\n",
       "      <th>Apoptotic neutrophil</th>\n",
       "      <th>B cell</th>\n",
       "      <th>CD4 T cell</th>\n",
       "      <th>CD4 Treg cell</th>\n",
       "      <th>CD8 T cell</th>\n",
       "      <th>Classical monocyte</th>\n",
       "      <th>Dendritic cell</th>\n",
       "      <th>Interstitial macrophage</th>\n",
       "      <th>Mast cell</th>\n",
       "      <th>NK cell</th>\n",
       "      <th>Neutrophil</th>\n",
       "      <th>SARSCoV2+ AM</th>\n",
       "      <th>SARSCoV2+ IM</th>\n",
       "      <th>SARSCoV2+ NK cell</th>\n",
       "      <th>SARSCoV2+ monocyte</th>\n",
       "      <th>SARSCoV2+ neutrophil</th>\n",
       "    </tr>\n",
       "    <tr>\n",
       "      <th>Cohort</th>\n",
       "      <th>ROI</th>\n",
       "      <th></th>\n",
       "      <th></th>\n",
       "      <th></th>\n",
       "      <th></th>\n",
       "      <th></th>\n",
       "      <th></th>\n",
       "      <th></th>\n",
       "      <th></th>\n",
       "      <th></th>\n",
       "      <th></th>\n",
       "      <th></th>\n",
       "      <th></th>\n",
       "      <th></th>\n",
       "      <th></th>\n",
       "      <th></th>\n",
       "      <th></th>\n",
       "      <th></th>\n",
       "      <th></th>\n",
       "    </tr>\n",
       "  </thead>\n",
       "  <tbody>\n",
       "    <tr>\n",
       "      <th rowspan=\"5\" valign=\"top\">Brazil</th>\n",
       "      <th>C07_ROI1</th>\n",
       "      <td>0.010471</td>\n",
       "      <td>0.0</td>\n",
       "      <td>0.265799</td>\n",
       "      <td>0.000000</td>\n",
       "      <td>0.013270</td>\n",
       "      <td>0.0</td>\n",
       "      <td>0.016223</td>\n",
       "      <td>0.004125</td>\n",
       "      <td>0.000000</td>\n",
       "      <td>0.007335</td>\n",
       "      <td>0.000000</td>\n",
       "      <td>0.013132</td>\n",
       "      <td>0.002296</td>\n",
       "      <td>0.000139</td>\n",
       "      <td>0.000000</td>\n",
       "      <td>0.000000</td>\n",
       "      <td>0.000000</td>\n",
       "      <td>0.000000</td>\n",
       "    </tr>\n",
       "    <tr>\n",
       "      <th>C07_ROI2</th>\n",
       "      <td>0.011949</td>\n",
       "      <td>0.0</td>\n",
       "      <td>0.377323</td>\n",
       "      <td>0.000000</td>\n",
       "      <td>0.018946</td>\n",
       "      <td>0.0</td>\n",
       "      <td>0.019732</td>\n",
       "      <td>0.003025</td>\n",
       "      <td>0.000000</td>\n",
       "      <td>0.010936</td>\n",
       "      <td>0.000000</td>\n",
       "      <td>0.020148</td>\n",
       "      <td>0.006090</td>\n",
       "      <td>0.000000</td>\n",
       "      <td>0.000000</td>\n",
       "      <td>0.000000</td>\n",
       "      <td>0.000000</td>\n",
       "      <td>0.000000</td>\n",
       "    </tr>\n",
       "    <tr>\n",
       "      <th>C07_ROI3</th>\n",
       "      <td>0.009280</td>\n",
       "      <td>0.0</td>\n",
       "      <td>0.184015</td>\n",
       "      <td>0.000000</td>\n",
       "      <td>0.015109</td>\n",
       "      <td>0.0</td>\n",
       "      <td>0.017216</td>\n",
       "      <td>0.006051</td>\n",
       "      <td>0.000000</td>\n",
       "      <td>0.013025</td>\n",
       "      <td>0.000000</td>\n",
       "      <td>0.015830</td>\n",
       "      <td>0.002496</td>\n",
       "      <td>0.000000</td>\n",
       "      <td>0.000000</td>\n",
       "      <td>0.000000</td>\n",
       "      <td>0.000000</td>\n",
       "      <td>0.000000</td>\n",
       "    </tr>\n",
       "    <tr>\n",
       "      <th>C07_ROI4</th>\n",
       "      <td>0.004640</td>\n",
       "      <td>0.0</td>\n",
       "      <td>0.109665</td>\n",
       "      <td>0.000000</td>\n",
       "      <td>0.008474</td>\n",
       "      <td>0.0</td>\n",
       "      <td>0.012714</td>\n",
       "      <td>0.004675</td>\n",
       "      <td>0.000000</td>\n",
       "      <td>0.005201</td>\n",
       "      <td>0.000000</td>\n",
       "      <td>0.004317</td>\n",
       "      <td>0.004692</td>\n",
       "      <td>0.000000</td>\n",
       "      <td>0.000000</td>\n",
       "      <td>0.000000</td>\n",
       "      <td>0.000000</td>\n",
       "      <td>0.000000</td>\n",
       "    </tr>\n",
       "    <tr>\n",
       "      <th>C12_ROI1</th>\n",
       "      <td>0.023159</td>\n",
       "      <td>0.0</td>\n",
       "      <td>0.000000</td>\n",
       "      <td>0.000000</td>\n",
       "      <td>0.006555</td>\n",
       "      <td>0.0</td>\n",
       "      <td>0.000530</td>\n",
       "      <td>0.018427</td>\n",
       "      <td>0.000000</td>\n",
       "      <td>0.002489</td>\n",
       "      <td>0.000000</td>\n",
       "      <td>0.009354</td>\n",
       "      <td>0.002096</td>\n",
       "      <td>0.000694</td>\n",
       "      <td>0.000000</td>\n",
       "      <td>0.000000</td>\n",
       "      <td>0.000000</td>\n",
       "      <td>0.000000</td>\n",
       "    </tr>\n",
       "    <tr>\n",
       "      <th>...</th>\n",
       "      <th>...</th>\n",
       "      <td>...</td>\n",
       "      <td>...</td>\n",
       "      <td>...</td>\n",
       "      <td>...</td>\n",
       "      <td>...</td>\n",
       "      <td>...</td>\n",
       "      <td>...</td>\n",
       "      <td>...</td>\n",
       "      <td>...</td>\n",
       "      <td>...</td>\n",
       "      <td>...</td>\n",
       "      <td>...</td>\n",
       "      <td>...</td>\n",
       "      <td>...</td>\n",
       "      <td>...</td>\n",
       "      <td>...</td>\n",
       "      <td>...</td>\n",
       "      <td>...</td>\n",
       "    </tr>\n",
       "    <tr>\n",
       "      <th rowspan=\"5\" valign=\"top\">US</th>\n",
       "      <th>C24_ROI7</th>\n",
       "      <td>0.018684</td>\n",
       "      <td>0.0</td>\n",
       "      <td>0.000000</td>\n",
       "      <td>0.002288</td>\n",
       "      <td>0.008714</td>\n",
       "      <td>0.0</td>\n",
       "      <td>0.006291</td>\n",
       "      <td>0.000000</td>\n",
       "      <td>0.004365</td>\n",
       "      <td>0.000356</td>\n",
       "      <td>0.005190</td>\n",
       "      <td>0.004677</td>\n",
       "      <td>0.002829</td>\n",
       "      <td>0.015133</td>\n",
       "      <td>0.000414</td>\n",
       "      <td>0.001176</td>\n",
       "      <td>0.010535</td>\n",
       "      <td>0.000884</td>\n",
       "    </tr>\n",
       "    <tr>\n",
       "      <th>C24_ROI8</th>\n",
       "      <td>0.008377</td>\n",
       "      <td>0.0</td>\n",
       "      <td>0.000000</td>\n",
       "      <td>0.000572</td>\n",
       "      <td>0.004397</td>\n",
       "      <td>0.0</td>\n",
       "      <td>0.005231</td>\n",
       "      <td>0.000275</td>\n",
       "      <td>0.009699</td>\n",
       "      <td>0.000222</td>\n",
       "      <td>0.010957</td>\n",
       "      <td>0.002518</td>\n",
       "      <td>0.003328</td>\n",
       "      <td>0.008191</td>\n",
       "      <td>0.000414</td>\n",
       "      <td>0.000784</td>\n",
       "      <td>0.012876</td>\n",
       "      <td>0.000589</td>\n",
       "    </tr>\n",
       "    <tr>\n",
       "      <th>C24_ROI9</th>\n",
       "      <td>0.000903</td>\n",
       "      <td>0.0</td>\n",
       "      <td>0.000000</td>\n",
       "      <td>0.002288</td>\n",
       "      <td>0.001519</td>\n",
       "      <td>0.0</td>\n",
       "      <td>0.001192</td>\n",
       "      <td>0.000000</td>\n",
       "      <td>0.004365</td>\n",
       "      <td>0.000089</td>\n",
       "      <td>0.005190</td>\n",
       "      <td>0.001619</td>\n",
       "      <td>0.003627</td>\n",
       "      <td>0.000278</td>\n",
       "      <td>0.004136</td>\n",
       "      <td>0.000392</td>\n",
       "      <td>0.010201</td>\n",
       "      <td>0.000736</td>\n",
       "    </tr>\n",
       "    <tr>\n",
       "      <th>C24_ROI10</th>\n",
       "      <td>0.003490</td>\n",
       "      <td>0.0</td>\n",
       "      <td>0.000000</td>\n",
       "      <td>0.000572</td>\n",
       "      <td>0.008474</td>\n",
       "      <td>0.0</td>\n",
       "      <td>0.007019</td>\n",
       "      <td>0.000000</td>\n",
       "      <td>0.003395</td>\n",
       "      <td>0.000267</td>\n",
       "      <td>0.004037</td>\n",
       "      <td>0.004857</td>\n",
       "      <td>0.003128</td>\n",
       "      <td>0.005970</td>\n",
       "      <td>0.001654</td>\n",
       "      <td>0.000392</td>\n",
       "      <td>0.009866</td>\n",
       "      <td>0.000000</td>\n",
       "    </tr>\n",
       "    <tr>\n",
       "      <th>C24_ROI11</th>\n",
       "      <td>0.004558</td>\n",
       "      <td>0.0</td>\n",
       "      <td>0.000000</td>\n",
       "      <td>0.002288</td>\n",
       "      <td>0.004077</td>\n",
       "      <td>0.0</td>\n",
       "      <td>0.003841</td>\n",
       "      <td>0.001375</td>\n",
       "      <td>0.005335</td>\n",
       "      <td>0.000044</td>\n",
       "      <td>0.008651</td>\n",
       "      <td>0.001079</td>\n",
       "      <td>0.003494</td>\n",
       "      <td>0.000416</td>\n",
       "      <td>0.000414</td>\n",
       "      <td>0.000784</td>\n",
       "      <td>0.013545</td>\n",
       "      <td>0.000736</td>\n",
       "    </tr>\n",
       "  </tbody>\n",
       "</table>\n",
       "<p>192 rows × 18 columns</p>\n",
       "</div>"
      ],
      "text/plain": [
       "pheno_cluster_edited2  Alveolar macrophage  Apoptotic alveolar macrophage  \\\n",
       "Cohort ROI                                                                  \n",
       "Brazil C07_ROI1                   0.010471                            0.0   \n",
       "       C07_ROI2                   0.011949                            0.0   \n",
       "       C07_ROI3                   0.009280                            0.0   \n",
       "       C07_ROI4                   0.004640                            0.0   \n",
       "       C12_ROI1                   0.023159                            0.0   \n",
       "...                                    ...                            ...   \n",
       "US     C24_ROI7                   0.018684                            0.0   \n",
       "       C24_ROI8                   0.008377                            0.0   \n",
       "       C24_ROI9                   0.000903                            0.0   \n",
       "       C24_ROI10                  0.003490                            0.0   \n",
       "       C24_ROI11                  0.004558                            0.0   \n",
       "\n",
       "pheno_cluster_edited2  Apoptotic neutrophil    B cell  CD4 T cell  \\\n",
       "Cohort ROI                                                          \n",
       "Brazil C07_ROI1                    0.265799  0.000000    0.013270   \n",
       "       C07_ROI2                    0.377323  0.000000    0.018946   \n",
       "       C07_ROI3                    0.184015  0.000000    0.015109   \n",
       "       C07_ROI4                    0.109665  0.000000    0.008474   \n",
       "       C12_ROI1                    0.000000  0.000000    0.006555   \n",
       "...                                     ...       ...         ...   \n",
       "US     C24_ROI7                    0.000000  0.002288    0.008714   \n",
       "       C24_ROI8                    0.000000  0.000572    0.004397   \n",
       "       C24_ROI9                    0.000000  0.002288    0.001519   \n",
       "       C24_ROI10                   0.000000  0.000572    0.008474   \n",
       "       C24_ROI11                   0.000000  0.002288    0.004077   \n",
       "\n",
       "pheno_cluster_edited2  CD4 Treg cell  CD8 T cell  Classical monocyte  \\\n",
       "Cohort ROI                                                             \n",
       "Brazil C07_ROI1                  0.0    0.016223            0.004125   \n",
       "       C07_ROI2                  0.0    0.019732            0.003025   \n",
       "       C07_ROI3                  0.0    0.017216            0.006051   \n",
       "       C07_ROI4                  0.0    0.012714            0.004675   \n",
       "       C12_ROI1                  0.0    0.000530            0.018427   \n",
       "...                              ...         ...                 ...   \n",
       "US     C24_ROI7                  0.0    0.006291            0.000000   \n",
       "       C24_ROI8                  0.0    0.005231            0.000275   \n",
       "       C24_ROI9                  0.0    0.001192            0.000000   \n",
       "       C24_ROI10                 0.0    0.007019            0.000000   \n",
       "       C24_ROI11                 0.0    0.003841            0.001375   \n",
       "\n",
       "pheno_cluster_edited2  Dendritic cell  Interstitial macrophage  Mast cell  \\\n",
       "Cohort ROI                                                                  \n",
       "Brazil C07_ROI1              0.000000                 0.007335   0.000000   \n",
       "       C07_ROI2              0.000000                 0.010936   0.000000   \n",
       "       C07_ROI3              0.000000                 0.013025   0.000000   \n",
       "       C07_ROI4              0.000000                 0.005201   0.000000   \n",
       "       C12_ROI1              0.000000                 0.002489   0.000000   \n",
       "...                               ...                      ...        ...   \n",
       "US     C24_ROI7              0.004365                 0.000356   0.005190   \n",
       "       C24_ROI8              0.009699                 0.000222   0.010957   \n",
       "       C24_ROI9              0.004365                 0.000089   0.005190   \n",
       "       C24_ROI10             0.003395                 0.000267   0.004037   \n",
       "       C24_ROI11             0.005335                 0.000044   0.008651   \n",
       "\n",
       "pheno_cluster_edited2   NK cell  Neutrophil  SARSCoV2+ AM  SARSCoV2+ IM  \\\n",
       "Cohort ROI                                                                \n",
       "Brazil C07_ROI1        0.013132    0.002296      0.000139      0.000000   \n",
       "       C07_ROI2        0.020148    0.006090      0.000000      0.000000   \n",
       "       C07_ROI3        0.015830    0.002496      0.000000      0.000000   \n",
       "       C07_ROI4        0.004317    0.004692      0.000000      0.000000   \n",
       "       C12_ROI1        0.009354    0.002096      0.000694      0.000000   \n",
       "...                         ...         ...           ...           ...   \n",
       "US     C24_ROI7        0.004677    0.002829      0.015133      0.000414   \n",
       "       C24_ROI8        0.002518    0.003328      0.008191      0.000414   \n",
       "       C24_ROI9        0.001619    0.003627      0.000278      0.004136   \n",
       "       C24_ROI10       0.004857    0.003128      0.005970      0.001654   \n",
       "       C24_ROI11       0.001079    0.003494      0.000416      0.000414   \n",
       "\n",
       "pheno_cluster_edited2  SARSCoV2+ NK cell  SARSCoV2+ monocyte  \\\n",
       "Cohort ROI                                                     \n",
       "Brazil C07_ROI1                 0.000000            0.000000   \n",
       "       C07_ROI2                 0.000000            0.000000   \n",
       "       C07_ROI3                 0.000000            0.000000   \n",
       "       C07_ROI4                 0.000000            0.000000   \n",
       "       C12_ROI1                 0.000000            0.000000   \n",
       "...                                  ...                 ...   \n",
       "US     C24_ROI7                 0.001176            0.010535   \n",
       "       C24_ROI8                 0.000784            0.012876   \n",
       "       C24_ROI9                 0.000392            0.010201   \n",
       "       C24_ROI10                0.000392            0.009866   \n",
       "       C24_ROI11                0.000784            0.013545   \n",
       "\n",
       "pheno_cluster_edited2  SARSCoV2+ neutrophil  \n",
       "Cohort ROI                                   \n",
       "Brazil C07_ROI1                    0.000000  \n",
       "       C07_ROI2                    0.000000  \n",
       "       C07_ROI3                    0.000000  \n",
       "       C07_ROI4                    0.000000  \n",
       "       C12_ROI1                    0.000000  \n",
       "...                                     ...  \n",
       "US     C24_ROI7                    0.000884  \n",
       "       C24_ROI8                    0.000589  \n",
       "       C24_ROI9                    0.000736  \n",
       "       C24_ROI10                   0.000000  \n",
       "       C24_ROI11                   0.000736  \n",
       "\n",
       "[192 rows x 18 columns]"
      ]
     },
     "metadata": {},
     "output_type": "display_data"
    },
    {
     "name": "stdout",
     "output_type": "stream",
     "text": [
      "Statistics:\n"
     ]
    },
    {
     "data": {
      "text/html": [
       "<div>\n",
       "<style scoped>\n",
       "    .dataframe tbody tr th:only-of-type {\n",
       "        vertical-align: middle;\n",
       "    }\n",
       "\n",
       "    .dataframe tbody tr th {\n",
       "        vertical-align: top;\n",
       "    }\n",
       "\n",
       "    .dataframe thead th {\n",
       "        text-align: right;\n",
       "    }\n",
       "</style>\n",
       "<table border=\"1\" class=\"dataframe\">\n",
       "  <thead>\n",
       "    <tr style=\"text-align: right;\">\n",
       "      <th></th>\n",
       "      <th>Cell Type</th>\n",
       "      <th>T test</th>\n",
       "      <th>Mann-Whitney</th>\n",
       "      <th>T test Reject null?</th>\n",
       "      <th>T test Corrected Pval</th>\n",
       "      <th>Mann-Whitney Reject null?</th>\n",
       "      <th>Mann-Whitney Corrected Pval</th>\n",
       "    </tr>\n",
       "  </thead>\n",
       "  <tbody>\n",
       "    <tr>\n",
       "      <th>0</th>\n",
       "      <td>Alveolar macrophage</td>\n",
       "      <td>1.088353e-12</td>\n",
       "      <td>1.990888e-09</td>\n",
       "      <td>True</td>\n",
       "      <td>1.850200e-11</td>\n",
       "      <td>True</td>\n",
       "      <td>1.990888e-08</td>\n",
       "    </tr>\n",
       "    <tr>\n",
       "      <th>1</th>\n",
       "      <td>Apoptotic alveolar macrophage</td>\n",
       "      <td>2.546511e-04</td>\n",
       "      <td>1.138322e-11</td>\n",
       "      <td>True</td>\n",
       "      <td>2.543595e-03</td>\n",
       "      <td>True</td>\n",
       "      <td>1.707482e-10</td>\n",
       "    </tr>\n",
       "    <tr>\n",
       "      <th>2</th>\n",
       "      <td>Apoptotic neutrophil</td>\n",
       "      <td>6.972226e-04</td>\n",
       "      <td>2.011352e-10</td>\n",
       "      <td>True</td>\n",
       "      <td>6.257531e-03</td>\n",
       "      <td>True</td>\n",
       "      <td>2.614757e-09</td>\n",
       "    </tr>\n",
       "    <tr>\n",
       "      <th>3</th>\n",
       "      <td>B cell</td>\n",
       "      <td>2.725412e-07</td>\n",
       "      <td>5.753277e-16</td>\n",
       "      <td>True</td>\n",
       "      <td>3.543030e-06</td>\n",
       "      <td>True</td>\n",
       "      <td>1.035590e-14</td>\n",
       "    </tr>\n",
       "    <tr>\n",
       "      <th>4</th>\n",
       "      <td>CD4 T cell</td>\n",
       "      <td>7.519443e-15</td>\n",
       "      <td>1.247440e-11</td>\n",
       "      <td>True</td>\n",
       "      <td>1.353500e-13</td>\n",
       "      <td>True</td>\n",
       "      <td>1.746417e-10</td>\n",
       "    </tr>\n",
       "    <tr>\n",
       "      <th>5</th>\n",
       "      <td>CD4 Treg cell</td>\n",
       "      <td>1.822628e-03</td>\n",
       "      <td>9.006762e-10</td>\n",
       "      <td>True</td>\n",
       "      <td>1.448835e-02</td>\n",
       "      <td>True</td>\n",
       "      <td>1.080811e-08</td>\n",
       "    </tr>\n",
       "    <tr>\n",
       "      <th>6</th>\n",
       "      <td>CD8 T cell</td>\n",
       "      <td>7.691818e-06</td>\n",
       "      <td>2.346615e-04</td>\n",
       "      <td>True</td>\n",
       "      <td>8.460675e-05</td>\n",
       "      <td>True</td>\n",
       "      <td>1.407143e-03</td>\n",
       "    </tr>\n",
       "    <tr>\n",
       "      <th>7</th>\n",
       "      <td>Classical monocyte</td>\n",
       "      <td>5.217910e-09</td>\n",
       "      <td>1.657722e-09</td>\n",
       "      <td>True</td>\n",
       "      <td>7.826865e-08</td>\n",
       "      <td>True</td>\n",
       "      <td>1.823494e-08</td>\n",
       "    </tr>\n",
       "    <tr>\n",
       "      <th>8</th>\n",
       "      <td>Dendritic cell</td>\n",
       "      <td>3.784240e-02</td>\n",
       "      <td>1.581564e-07</td>\n",
       "      <td>False</td>\n",
       "      <td>2.366504e-01</td>\n",
       "      <td>True</td>\n",
       "      <td>1.265250e-06</td>\n",
       "    </tr>\n",
       "    <tr>\n",
       "      <th>9</th>\n",
       "      <td>Interstitial macrophage</td>\n",
       "      <td>1.509632e-06</td>\n",
       "      <td>6.327065e-04</td>\n",
       "      <td>True</td>\n",
       "      <td>1.811544e-05</td>\n",
       "      <td>True</td>\n",
       "      <td>3.159532e-03</td>\n",
       "    </tr>\n",
       "    <tr>\n",
       "      <th>10</th>\n",
       "      <td>Mast cell</td>\n",
       "      <td>NaN</td>\n",
       "      <td>1.000000e+00</td>\n",
       "      <td>False</td>\n",
       "      <td>NaN</td>\n",
       "      <td>False</td>\n",
       "      <td>1.000000e+00</td>\n",
       "    </tr>\n",
       "    <tr>\n",
       "      <th>11</th>\n",
       "      <td>NK cell</td>\n",
       "      <td>2.431167e-07</td>\n",
       "      <td>3.095685e-13</td>\n",
       "      <td>True</td>\n",
       "      <td>3.403628e-06</td>\n",
       "      <td>True</td>\n",
       "      <td>4.953096e-12</td>\n",
       "    </tr>\n",
       "    <tr>\n",
       "      <th>12</th>\n",
       "      <td>Neutrophil</td>\n",
       "      <td>1.098570e-12</td>\n",
       "      <td>1.550845e-13</td>\n",
       "      <td>True</td>\n",
       "      <td>1.850200e-11</td>\n",
       "      <td>True</td>\n",
       "      <td>2.636436e-12</td>\n",
       "    </tr>\n",
       "    <tr>\n",
       "      <th>13</th>\n",
       "      <td>SARSCoV2+ AM</td>\n",
       "      <td>4.487637e-02</td>\n",
       "      <td>5.525711e-01</td>\n",
       "      <td>False</td>\n",
       "      <td>2.366504e-01</td>\n",
       "      <td>False</td>\n",
       "      <td>9.599229e-01</td>\n",
       "    </tr>\n",
       "    <tr>\n",
       "      <th>14</th>\n",
       "      <td>SARSCoV2+ IM</td>\n",
       "      <td>1.628854e-01</td>\n",
       "      <td>1.345202e-04</td>\n",
       "      <td>False</td>\n",
       "      <td>5.089343e-01</td>\n",
       "      <td>True</td>\n",
       "      <td>9.412615e-04</td>\n",
       "    </tr>\n",
       "    <tr>\n",
       "      <th>15</th>\n",
       "      <td>SARSCoV2+ NK cell</td>\n",
       "      <td>NaN</td>\n",
       "      <td>1.000000e+00</td>\n",
       "      <td>False</td>\n",
       "      <td>NaN</td>\n",
       "      <td>False</td>\n",
       "      <td>1.000000e+00</td>\n",
       "    </tr>\n",
       "    <tr>\n",
       "      <th>16</th>\n",
       "      <td>SARSCoV2+ monocyte</td>\n",
       "      <td>NaN</td>\n",
       "      <td>1.000000e+00</td>\n",
       "      <td>False</td>\n",
       "      <td>NaN</td>\n",
       "      <td>False</td>\n",
       "      <td>1.000000e+00</td>\n",
       "    </tr>\n",
       "    <tr>\n",
       "      <th>17</th>\n",
       "      <td>SARSCoV2+ neutrophil</td>\n",
       "      <td>4.099937e-02</td>\n",
       "      <td>4.012862e-09</td>\n",
       "      <td>False</td>\n",
       "      <td>2.366504e-01</td>\n",
       "      <td>True</td>\n",
       "      <td>3.611576e-08</td>\n",
       "    </tr>\n",
       "  </tbody>\n",
       "</table>\n",
       "</div>"
      ],
      "text/plain": [
       "                        Cell Type        T test  Mann-Whitney  \\\n",
       "0             Alveolar macrophage  1.088353e-12  1.990888e-09   \n",
       "1   Apoptotic alveolar macrophage  2.546511e-04  1.138322e-11   \n",
       "2            Apoptotic neutrophil  6.972226e-04  2.011352e-10   \n",
       "3                          B cell  2.725412e-07  5.753277e-16   \n",
       "4                      CD4 T cell  7.519443e-15  1.247440e-11   \n",
       "5                   CD4 Treg cell  1.822628e-03  9.006762e-10   \n",
       "6                      CD8 T cell  7.691818e-06  2.346615e-04   \n",
       "7              Classical monocyte  5.217910e-09  1.657722e-09   \n",
       "8                  Dendritic cell  3.784240e-02  1.581564e-07   \n",
       "9         Interstitial macrophage  1.509632e-06  6.327065e-04   \n",
       "10                      Mast cell           NaN  1.000000e+00   \n",
       "11                        NK cell  2.431167e-07  3.095685e-13   \n",
       "12                     Neutrophil  1.098570e-12  1.550845e-13   \n",
       "13                   SARSCoV2+ AM  4.487637e-02  5.525711e-01   \n",
       "14                   SARSCoV2+ IM  1.628854e-01  1.345202e-04   \n",
       "15              SARSCoV2+ NK cell           NaN  1.000000e+00   \n",
       "16             SARSCoV2+ monocyte           NaN  1.000000e+00   \n",
       "17           SARSCoV2+ neutrophil  4.099937e-02  4.012862e-09   \n",
       "\n",
       "    T test Reject null?  T test Corrected Pval  Mann-Whitney Reject null?  \\\n",
       "0                  True           1.850200e-11                       True   \n",
       "1                  True           2.543595e-03                       True   \n",
       "2                  True           6.257531e-03                       True   \n",
       "3                  True           3.543030e-06                       True   \n",
       "4                  True           1.353500e-13                       True   \n",
       "5                  True           1.448835e-02                       True   \n",
       "6                  True           8.460675e-05                       True   \n",
       "7                  True           7.826865e-08                       True   \n",
       "8                 False           2.366504e-01                       True   \n",
       "9                  True           1.811544e-05                       True   \n",
       "10                False                    NaN                      False   \n",
       "11                 True           3.403628e-06                       True   \n",
       "12                 True           1.850200e-11                       True   \n",
       "13                False           2.366504e-01                      False   \n",
       "14                False           5.089343e-01                       True   \n",
       "15                False                    NaN                      False   \n",
       "16                False                    NaN                      False   \n",
       "17                False           2.366504e-01                       True   \n",
       "\n",
       "    Mann-Whitney Corrected Pval  \n",
       "0                  1.990888e-08  \n",
       "1                  1.707482e-10  \n",
       "2                  2.614757e-09  \n",
       "3                  1.035590e-14  \n",
       "4                  1.746417e-10  \n",
       "5                  1.080811e-08  \n",
       "6                  1.407143e-03  \n",
       "7                  1.823494e-08  \n",
       "8                  1.265250e-06  \n",
       "9                  3.159532e-03  \n",
       "10                 1.000000e+00  \n",
       "11                 4.953096e-12  \n",
       "12                 2.636436e-12  \n",
       "13                 9.599229e-01  \n",
       "14                 9.412615e-04  \n",
       "15                 1.000000e+00  \n",
       "16                 1.000000e+00  \n",
       "17                 3.611576e-08  "
      ]
     },
     "metadata": {},
     "output_type": "display_data"
    },
    {
     "data": {
      "image/png": "[encoded data removed]",
      "text/plain": [
       "<Figure size 800x400 with 1 Axes>"
      ]
     },
     "metadata": {
      "image/png": {
       "height": 548,
       "width": 715
      }
     },
     "output_type": "display_data"
    }
   ],
   "source": [
    "# Alter this list with adata.obs variables that you want to plot against the resulting leiden population\n",
    "image_var = 'ROI'\n",
    "\n",
    "for i in ['Cohort']:\n",
    "\n",
    "    mikeimc_v2.grouped_graph(adata_immune,\n",
    "                             ROI_id=image_var,\n",
    "                             group_by_obs=i,\n",
    "                             x_axis='pheno_cluster_edited2',\n",
    "                             fig_size=(8, 4),\n",
    "                             log_scale=False, scale_factor=True,\n",
    "                            display_tables=True, crosstab_norm='columns') #If you change display_tables to True, will also do stats on the groups\n",
    "    # use crosstab_norm='columns' to plot and do statistics based on cell frequencies per group\n",
    "    plt.show()"
   ]
  },
  {
   "cell_type": "markdown",
   "id": "a5e24812",
   "metadata": {},
   "source": [
    "# Proportion comparisons analysis - scanpro"
   ]
  },
  {
   "cell_type": "code",
   "execution_count": 11,
   "id": "df21cd22",
   "metadata": {},
   "outputs": [],
   "source": [
    "from scanpro import scanpro"
   ]
  },
  {
   "cell_type": "code",
   "execution_count": 18,
   "id": "8f07676b",
   "metadata": {},
   "outputs": [
    {
     "data": {
      "text/plain": [
       "2358       0305_1_A\n",
       "2360       0305_1_A\n",
       "2361       0305_1_A\n",
       "2362       0305_1_A\n",
       "2363       0305_1_A\n",
       "            ...    \n",
       "285065    C24_ROI11\n",
       "285072    C24_ROI11\n",
       "285074    C24_ROI11\n",
       "285086    C24_ROI11\n",
       "285088    C24_ROI11\n",
       "Name: ROI, Length: 150251, dtype: category\n",
       "Categories (185, object): ['0305_1_A', '0305_1_C', '0305_2_A', '0307_1_A', ..., 'C27_ROI4', 'C29_ROI2', 'C29_ROI3', 'C29_ROI4']"
      ]
     },
     "execution_count": 18,
     "metadata": {},
     "output_type": "execute_result"
    }
   ],
   "source": [
    "adata_immune.obs['ROI']"
   ]
  },
  {
   "cell_type": "code",
   "execution_count": 17,
   "id": "aee6ce81",
   "metadata": {},
   "outputs": [
    {
     "name": "stdout",
     "output_type": "stream",
     "text": [
      "[WARNING] Sample names are not unique across conditions! Changing sample names to <condition>_<sample>.\n",
      "[INFO] There are more than 2 conditions. ANOVA will be performed...\n",
      "[INFO] Done!\n"
     ]
    }
   ],
   "source": [
    "out = scanpro(adata_immune, clusters_col='pheno_cluster_edited2', conds_col='Cohort', samples_col='ROI')"
   ]
  },
  {
   "cell_type": "code",
   "execution_count": 13,
   "id": "b9e98e39",
   "metadata": {
    "scrolled": true
   },
   "outputs": [
    {
     "data": {
      "text/html": [
       "<div>\n",
       "<style scoped>\n",
       "    .dataframe tbody tr th:only-of-type {\n",
       "        vertical-align: middle;\n",
       "    }\n",
       "\n",
       "    .dataframe tbody tr th {\n",
       "        vertical-align: top;\n",
       "    }\n",
       "\n",
       "    .dataframe thead th {\n",
       "        text-align: right;\n",
       "    }\n",
       "</style>\n",
       "<table border=\"1\" class=\"dataframe\">\n",
       "  <thead>\n",
       "    <tr style=\"text-align: right;\">\n",
       "      <th></th>\n",
       "      <th>baseline_props</th>\n",
       "      <th>mean_props_Malawi</th>\n",
       "      <th>mean_props_Brazil</th>\n",
       "      <th>mean_props_US</th>\n",
       "      <th>f_statistics</th>\n",
       "      <th>p_values</th>\n",
       "      <th>adjusted_p_values</th>\n",
       "    </tr>\n",
       "    <tr>\n",
       "      <th>clusters</th>\n",
       "      <th></th>\n",
       "      <th></th>\n",
       "      <th></th>\n",
       "      <th></th>\n",
       "      <th></th>\n",
       "      <th></th>\n",
       "      <th></th>\n",
       "    </tr>\n",
       "  </thead>\n",
       "  <tbody>\n",
       "    <tr>\n",
       "      <th>Alveolar macrophage</th>\n",
       "      <td>0.162082</td>\n",
       "      <td>0.115260</td>\n",
       "      <td>0.229970</td>\n",
       "      <td>0.196174</td>\n",
       "      <td>4.333413</td>\n",
       "      <td>1.435397e-02</td>\n",
       "      <td>1.519832e-02</td>\n",
       "    </tr>\n",
       "    <tr>\n",
       "      <th>Apoptotic alveolar macrophage</th>\n",
       "      <td>0.028013</td>\n",
       "      <td>0.097701</td>\n",
       "      <td>0.000000</td>\n",
       "      <td>0.000000</td>\n",
       "      <td>378.805894</td>\n",
       "      <td>1.110223e-16</td>\n",
       "      <td>1.816729e-16</td>\n",
       "    </tr>\n",
       "    <tr>\n",
       "      <th>Apoptotic neutrophil</th>\n",
       "      <td>0.003581</td>\n",
       "      <td>0.000000</td>\n",
       "      <td>0.014487</td>\n",
       "      <td>0.000000</td>\n",
       "      <td>24.689913</td>\n",
       "      <td>2.507863e-10</td>\n",
       "      <td>3.472425e-10</td>\n",
       "    </tr>\n",
       "    <tr>\n",
       "      <th>B cell</th>\n",
       "      <td>0.011634</td>\n",
       "      <td>0.064733</td>\n",
       "      <td>0.000000</td>\n",
       "      <td>0.006987</td>\n",
       "      <td>274.380326</td>\n",
       "      <td>1.110223e-16</td>\n",
       "      <td>1.816729e-16</td>\n",
       "    </tr>\n",
       "    <tr>\n",
       "      <th>CD4 T cell</th>\n",
       "      <td>0.083254</td>\n",
       "      <td>0.032237</td>\n",
       "      <td>0.085446</td>\n",
       "      <td>0.099253</td>\n",
       "      <td>38.448527</td>\n",
       "      <td>6.772360e-15</td>\n",
       "      <td>1.015854e-14</td>\n",
       "    </tr>\n",
       "    <tr>\n",
       "      <th>CD4 Treg cell</th>\n",
       "      <td>0.008739</td>\n",
       "      <td>0.033143</td>\n",
       "      <td>0.000000</td>\n",
       "      <td>0.000000</td>\n",
       "      <td>228.640400</td>\n",
       "      <td>1.110223e-16</td>\n",
       "      <td>1.816729e-16</td>\n",
       "    </tr>\n",
       "    <tr>\n",
       "      <th>CD8 T cell</th>\n",
       "      <td>0.100512</td>\n",
       "      <td>0.142481</td>\n",
       "      <td>0.085680</td>\n",
       "      <td>0.106514</td>\n",
       "      <td>3.084358</td>\n",
       "      <td>4.790373e-02</td>\n",
       "      <td>4.790373e-02</td>\n",
       "    </tr>\n",
       "    <tr>\n",
       "      <th>Classical monocyte</th>\n",
       "      <td>0.024200</td>\n",
       "      <td>0.037030</td>\n",
       "      <td>0.051113</td>\n",
       "      <td>0.001057</td>\n",
       "      <td>51.438718</td>\n",
       "      <td>1.110223e-16</td>\n",
       "      <td>1.816729e-16</td>\n",
       "    </tr>\n",
       "    <tr>\n",
       "      <th>Dendritic cell</th>\n",
       "      <td>0.013724</td>\n",
       "      <td>0.027943</td>\n",
       "      <td>0.000000</td>\n",
       "      <td>0.010367</td>\n",
       "      <td>94.141393</td>\n",
       "      <td>1.110223e-16</td>\n",
       "      <td>1.816729e-16</td>\n",
       "    </tr>\n",
       "    <tr>\n",
       "      <th>Interstitial macrophage</th>\n",
       "      <td>0.149716</td>\n",
       "      <td>0.193285</td>\n",
       "      <td>0.206349</td>\n",
       "      <td>0.003575</td>\n",
       "      <td>174.115424</td>\n",
       "      <td>1.110223e-16</td>\n",
       "      <td>1.816729e-16</td>\n",
       "    </tr>\n",
       "    <tr>\n",
       "      <th>Mast cell</th>\n",
       "      <td>0.011541</td>\n",
       "      <td>0.000000</td>\n",
       "      <td>0.000000</td>\n",
       "      <td>0.021847</td>\n",
       "      <td>457.911381</td>\n",
       "      <td>1.110223e-16</td>\n",
       "      <td>1.816729e-16</td>\n",
       "    </tr>\n",
       "    <tr>\n",
       "      <th>NK cell</th>\n",
       "      <td>0.036998</td>\n",
       "      <td>0.044923</td>\n",
       "      <td>0.044723</td>\n",
       "      <td>0.031332</td>\n",
       "      <td>4.978149</td>\n",
       "      <td>7.748367e-03</td>\n",
       "      <td>8.716913e-03</td>\n",
       "    </tr>\n",
       "    <tr>\n",
       "      <th>Neutrophil</th>\n",
       "      <td>0.200005</td>\n",
       "      <td>0.129415</td>\n",
       "      <td>0.199190</td>\n",
       "      <td>0.285914</td>\n",
       "      <td>22.976726</td>\n",
       "      <td>1.005102e-09</td>\n",
       "      <td>1.292274e-09</td>\n",
       "    </tr>\n",
       "    <tr>\n",
       "      <th>SARSCoV2+ AM</th>\n",
       "      <td>0.047940</td>\n",
       "      <td>0.034880</td>\n",
       "      <td>0.083041</td>\n",
       "      <td>0.042589</td>\n",
       "      <td>22.258793</td>\n",
       "      <td>1.808550e-09</td>\n",
       "      <td>2.170259e-09</td>\n",
       "    </tr>\n",
       "    <tr>\n",
       "      <th>SARSCoV2+ IM</th>\n",
       "      <td>0.016093</td>\n",
       "      <td>0.014620</td>\n",
       "      <td>0.000000</td>\n",
       "      <td>0.021082</td>\n",
       "      <td>58.341872</td>\n",
       "      <td>1.110223e-16</td>\n",
       "      <td>1.816729e-16</td>\n",
       "    </tr>\n",
       "    <tr>\n",
       "      <th>SARSCoV2+ NK cell</th>\n",
       "      <td>0.016972</td>\n",
       "      <td>0.000000</td>\n",
       "      <td>0.000000</td>\n",
       "      <td>0.026028</td>\n",
       "      <td>263.918392</td>\n",
       "      <td>1.110223e-16</td>\n",
       "      <td>1.816729e-16</td>\n",
       "    </tr>\n",
       "    <tr>\n",
       "      <th>SARSCoV2+ monocyte</th>\n",
       "      <td>0.039807</td>\n",
       "      <td>0.000000</td>\n",
       "      <td>0.000000</td>\n",
       "      <td>0.091862</td>\n",
       "      <td>1121.898861</td>\n",
       "      <td>1.110223e-16</td>\n",
       "      <td>1.816729e-16</td>\n",
       "    </tr>\n",
       "    <tr>\n",
       "      <th>SARSCoV2+ neutrophil</th>\n",
       "      <td>0.045191</td>\n",
       "      <td>0.032348</td>\n",
       "      <td>0.000000</td>\n",
       "      <td>0.055419</td>\n",
       "      <td>105.309530</td>\n",
       "      <td>1.110223e-16</td>\n",
       "      <td>1.816729e-16</td>\n",
       "    </tr>\n",
       "  </tbody>\n",
       "</table>\n",
       "</div>"
      ],
      "text/plain": [
       "                               baseline_props  mean_props_Malawi  \\\n",
       "clusters                                                           \n",
       "Alveolar macrophage                  0.162082           0.115260   \n",
       "Apoptotic alveolar macrophage        0.028013           0.097701   \n",
       "Apoptotic neutrophil                 0.003581           0.000000   \n",
       "B cell                               0.011634           0.064733   \n",
       "CD4 T cell                           0.083254           0.032237   \n",
       "CD4 Treg cell                        0.008739           0.033143   \n",
       "CD8 T cell                           0.100512           0.142481   \n",
       "Classical monocyte                   0.024200           0.037030   \n",
       "Dendritic cell                       0.013724           0.027943   \n",
       "Interstitial macrophage              0.149716           0.193285   \n",
       "Mast cell                            0.011541           0.000000   \n",
       "NK cell                              0.036998           0.044923   \n",
       "Neutrophil                           0.200005           0.129415   \n",
       "SARSCoV2+ AM                         0.047940           0.034880   \n",
       "SARSCoV2+ IM                         0.016093           0.014620   \n",
       "SARSCoV2+ NK cell                    0.016972           0.000000   \n",
       "SARSCoV2+ monocyte                   0.039807           0.000000   \n",
       "SARSCoV2+ neutrophil                 0.045191           0.032348   \n",
       "\n",
       "                               mean_props_Brazil  mean_props_US  f_statistics  \\\n",
       "clusters                                                                        \n",
       "Alveolar macrophage                     0.229970       0.196174      4.333413   \n",
       "Apoptotic alveolar macrophage           0.000000       0.000000    378.805894   \n",
       "Apoptotic neutrophil                    0.014487       0.000000     24.689913   \n",
       "B cell                                  0.000000       0.006987    274.380326   \n",
       "CD4 T cell                              0.085446       0.099253     38.448527   \n",
       "CD4 Treg cell                           0.000000       0.000000    228.640400   \n",
       "CD8 T cell                              0.085680       0.106514      3.084358   \n",
       "Classical monocyte                      0.051113       0.001057     51.438718   \n",
       "Dendritic cell                          0.000000       0.010367     94.141393   \n",
       "Interstitial macrophage                 0.206349       0.003575    174.115424   \n",
       "Mast cell                               0.000000       0.021847    457.911381   \n",
       "NK cell                                 0.044723       0.031332      4.978149   \n",
       "Neutrophil                              0.199190       0.285914     22.976726   \n",
       "SARSCoV2+ AM                            0.083041       0.042589     22.258793   \n",
       "SARSCoV2+ IM                            0.000000       0.021082     58.341872   \n",
       "SARSCoV2+ NK cell                       0.000000       0.026028    263.918392   \n",
       "SARSCoV2+ monocyte                      0.000000       0.091862   1121.898861   \n",
       "SARSCoV2+ neutrophil                    0.000000       0.055419    105.309530   \n",
       "\n",
       "                                   p_values  adjusted_p_values  \n",
       "clusters                                                        \n",
       "Alveolar macrophage            1.435397e-02       1.519832e-02  \n",
       "Apoptotic alveolar macrophage  1.110223e-16       1.816729e-16  \n",
       "Apoptotic neutrophil           2.507863e-10       3.472425e-10  \n",
       "B cell                         1.110223e-16       1.816729e-16  \n",
       "CD4 T cell                     6.772360e-15       1.015854e-14  \n",
       "CD4 Treg cell                  1.110223e-16       1.816729e-16  \n",
       "CD8 T cell                     4.790373e-02       4.790373e-02  \n",
       "Classical monocyte             1.110223e-16       1.816729e-16  \n",
       "Dendritic cell                 1.110223e-16       1.816729e-16  \n",
       "Interstitial macrophage        1.110223e-16       1.816729e-16  \n",
       "Mast cell                      1.110223e-16       1.816729e-16  \n",
       "NK cell                        7.748367e-03       8.716913e-03  \n",
       "Neutrophil                     1.005102e-09       1.292274e-09  \n",
       "SARSCoV2+ AM                   1.808550e-09       2.170259e-09  \n",
       "SARSCoV2+ IM                   1.110223e-16       1.816729e-16  \n",
       "SARSCoV2+ NK cell              1.110223e-16       1.816729e-16  \n",
       "SARSCoV2+ monocyte             1.110223e-16       1.816729e-16  \n",
       "SARSCoV2+ neutrophil           1.110223e-16       1.816729e-16  "
      ]
     },
     "execution_count": 13,
     "metadata": {},
     "output_type": "execute_result"
    }
   ],
   "source": [
    "out.results"
   ]
  },
  {
   "cell_type": "markdown",
   "id": "59f7afd0",
   "metadata": {},
   "source": [
    "# QC integration methods"
   ]
  },
  {
   "cell_type": "code",
   "execution_count": null,
   "id": "1357e2d8",
   "metadata": {
    "scrolled": true
   },
   "outputs": [],
   "source": [
    "import faiss\n",
    "from scib_metrics.nearest_neighbors import NeighborsOutput"
   ]
  },
  {
   "cell_type": "code",
   "execution_count": null,
   "id": "e4dabbfe",
   "metadata": {},
   "outputs": [],
   "source": [
    "from scib_metrics.benchmark import Benchmarker"
   ]
  },
  {
   "cell_type": "code",
   "execution_count": null,
   "id": "eb03b93a",
   "metadata": {},
   "outputs": [],
   "source": [
    "import time"
   ]
  },
  {
   "cell_type": "code",
   "execution_count": null,
   "id": "506b0e69",
   "metadata": {},
   "outputs": [],
   "source": [
    "adata_scvi"
   ]
  },
  {
   "cell_type": "code",
   "execution_count": null,
   "id": "871f68bd",
   "metadata": {},
   "outputs": [],
   "source": [
    "start = time.time()\n",
    "bm = Benchmarker(\n",
    "    adata_scvi,\n",
    "    batch_key=batch_key,\n",
    "    label_key=label_key,\n",
    "    embedding_obsm_keys=[\"X_pca\", \"X_scVI\", \"X_scANVI\", \"X_pca_harmony\"],\n",
    "    pre_integrated_embedding_obsm_key=\"X_pca\",\n",
    "    bio_conservation_metrics=None,\n",
    "    n_jobs=-1,\n",
    ")\n",
    "bm.benchmark()\n",
    "end = time.time()\n",
    "print(f\"Time: {int((end - start) / 60)} min {int((end - start) % 60)} sec\")"
   ]
  },
  {
   "cell_type": "code",
   "execution_count": null,
   "id": "82b64807",
   "metadata": {},
   "outputs": [],
   "source": [
    "label_key = \"population\"\n",
    "batch_key='Patient'"
   ]
  },
  {
   "cell_type": "code",
   "execution_count": null,
   "id": "be8b3804",
   "metadata": {},
   "outputs": [],
   "source": [
    "metrics_scvi = scib.metrics.metrics_fast(adata_scvi, batch_key, label_key, embed=\"X_scVI\")\n",
    "metrics_scanvi = scib.metrics.metrics_fast(adata_scvi, batch_key, label_key, embed=\"X_scANVI\")\n",
    "metrics_bbknn = scib.metrics.metrics_fast(adata_scvi, batch_key, label_key)# BBKNN is stored in the neighbours key, because I ran in adata_subset it might no be different between these adatas\n",
    "metrics_harmony = scib.metrics.metrics_fast(adata_scvi, batch_key, label_key, embed=\"X_pca_harmony\")\n"
   ]
  },
  {
   "cell_type": "markdown",
   "id": "246053e1",
   "metadata": {},
   "source": [
    "# Supervised cell type identification using Astir\n",
    "\n",
    "This uses Astir (https://github.com/camlab-bioml/astir) to do 'semi-supervised' cell identification using a neural network. You specify the populations and markers in hte 'markers.yml' file - see the Astir documentation for full details"
   ]
  },
  {
   "cell_type": "markdown",
   "id": "51da2903",
   "metadata": {},
   "source": [
    "Import markers file and data file"
   ]
  },
  {
   "cell_type": "code",
   "execution_count": null,
   "id": "7abe715a",
   "metadata": {},
   "outputs": [],
   "source": [
    "# Read in the YAML file with a list of the expected marker pairs\n",
    "with open(r'markers.yml') as file:\n",
    "  cell_types = yaml.load(file, Loader=yaml.FullLoader)\n",
    "\n",
    "#View the contents of the YML file\n",
    "!head markers.yml\n",
    "print(cell_types['cell_types'])"
   ]
  },
  {
   "cell_type": "code",
   "execution_count": null,
   "id": "7a944f07",
   "metadata": {},
   "outputs": [],
   "source": [
    "adata_subset3.write(filename='adata_subset_DC_astir')\n",
    "\n",
    "import os\n",
    "import warnings\n",
    "from typing import Any\n",
    "\n",
    "import anndata\n",
    "import loompy\n",
    "import matplotlib.cbook\n",
    "import numpy as np\n",
    "import pandas as pd\n",
    "import torch\n",
    "import yaml\n",
    "from sklearn.preprocessing import OneHotEncoder"
   ]
  },
  {
   "cell_type": "code",
   "execution_count": null,
   "id": "84c6e435",
   "metadata": {},
   "outputs": [],
   "source": [
    "from astir.data import from_anndata_yaml\n",
    "#the name of the anndata file below has to be as saved above!!\n",
    "\n",
    "ast = from_anndata_yaml(\"adata_subset_DC_astir\", \"markers.yml\", batch_name=None)\n",
    "ast"
   ]
  },
  {
   "cell_type": "markdown",
   "id": "e7b79fa9",
   "metadata": {},
   "source": [
    "Set training parameters\n",
    "\n",
    "I've left these all as the default for now"
   ]
  },
  {
   "cell_type": "code",
   "execution_count": null,
   "id": "31fe6e30",
   "metadata": {},
   "outputs": [],
   "source": [
    "# Create batch size proportional to the number of cells\n",
    "N = ast.get_type_dataset().get_exprs_df().shape[0]\n",
    "batch_size = int(N/100)\n",
    "\n",
    "# Number of training epochs\n",
    "max_epochs = 1000\n",
    "\n",
    "# Set learning rate\n",
    "learning_rate = 2e-3\n",
    "\n",
    "# Set initial epochs\n",
    "initial_epochs = 3"
   ]
  },
  {
   "cell_type": "code",
   "execution_count": null,
   "id": "f61c6250",
   "metadata": {
    "scrolled": true
   },
   "outputs": [],
   "source": [
    "#Run the cell type identification\n",
    "ast.fit_type(max_epochs = max_epochs,\n",
    "             batch_size = batch_size,\n",
    "             learning_rate = learning_rate,\n",
    "             n_init_epochs = initial_epochs,\n",
    "             delta_loss=0.001)"
   ]
  },
  {
   "cell_type": "markdown",
   "id": "2654458c",
   "metadata": {},
   "source": [
    "Number of cells of each type found"
   ]
  },
  {
   "cell_type": "code",
   "execution_count": null,
   "id": "2016ddfa",
   "metadata": {
    "scrolled": true
   },
   "outputs": [],
   "source": [
    "ast.get_celltypes().value_counts()"
   ]
  },
  {
   "cell_type": "code",
   "execution_count": null,
   "id": "9eacab34",
   "metadata": {},
   "outputs": [],
   "source": [
    "df = ast.diagnostics_celltype().head(n=20)\n",
    "df"
   ]
  },
  {
   "cell_type": "code",
   "execution_count": null,
   "id": "f7228c74",
   "metadata": {},
   "outputs": [],
   "source": [
    "#plot the losses to assess convergence\n",
    "plt.figure(figsize=(5,4))\n",
    "plt.plot(np.arange(len(ast.get_type_losses())), ast.get_type_losses())\n",
    "plt.ylabel(\"Loss\")\n",
    "plt.xlabel(\"Epoch\")"
   ]
  },
  {
   "cell_type": "code",
   "execution_count": null,
   "id": "75b44e14",
   "metadata": {},
   "outputs": [],
   "source": [
    "#get cell type assignment probabilities\n",
    "assignments = ast.get_celltype_probabilities()\n",
    "assignments"
   ]
  },
  {
   "cell_type": "code",
   "execution_count": null,
   "id": "e6c28b28",
   "metadata": {},
   "outputs": [],
   "source": [
    "assignments.to_csv(\"../assignments_probabilities.csv\")"
   ]
  },
  {
   "cell_type": "code",
   "execution_count": null,
   "id": "8be8a2d2",
   "metadata": {},
   "outputs": [],
   "source": [
    "sb.heatmap(assignments, annot=False, xticklabels=1, yticklabels=False)"
   ]
  },
  {
   "cell_type": "code",
   "execution_count": null,
   "id": "44dfe070",
   "metadata": {},
   "outputs": [],
   "source": [
    "ast.get_celltypes()"
   ]
  },
  {
   "cell_type": "code",
   "execution_count": null,
   "id": "87b0493f",
   "metadata": {},
   "outputs": [],
   "source": [
    "ast.type_to_csv(\"../cell-types.csv\")"
   ]
  },
  {
   "cell_type": "markdown",
   "id": "d615efcc",
   "metadata": {},
   "source": [
    "Add hierarchy and cell type data to original Adata"
   ]
  },
  {
   "cell_type": "code",
   "execution_count": null,
   "id": "13a52d20",
   "metadata": {},
   "outputs": [],
   "source": [
    "# Check that the hierarchy dictionary have been loaded correctly\n",
    "ast.get_hierarchy_dict()"
   ]
  },
  {
   "cell_type": "code",
   "execution_count": null,
   "id": "5b582fc4",
   "metadata": {},
   "outputs": [],
   "source": [
    "#Retrieve the table of probabilites\n",
    "hierarchy_table =  ast.assign_celltype_hierarchy(depth = 1)\n",
    "\n",
    "cell_types = hierarchy_table.columns.tolist()\n",
    "\n",
    "#This is  the threshold as above - probably best to keep the same!\n",
    "threshold_for_classification = 0.5\n",
    "\n",
    "#Start a new list that will store the hierarchy data\n",
    "hierarchy = []\n",
    "\n",
    "#This will work down each row and figure out which hierarchy type have the highest probability\n",
    "for index, row in hierarchy_table.iterrows():\n",
    "    row_values = row.values\n",
    "    max_prob = np.max(row_values)\n",
    "    \n",
    "    if max_prob < threshold_for_classification:\n",
    "        #If the cell doesn't fit into any category, return Unknown\n",
    "        hierarchy.append('Other')\n",
    "    else:\n",
    "        #Add to the list the \n",
    "        hierarchy.append(cell_types[np.argmax(row_values)])\n",
    "\n",
    "adata_subset.obs[\"cell_type_astir\"] = ast.get_celltypes(threshold=threshold_for_classification)['cell_type']\n",
    "adata_subset.obs[\"hierarchy_astir\"] = hierarchy"
   ]
  },
  {
   "cell_type": "code",
   "execution_count": null,
   "id": "e458f2af",
   "metadata": {},
   "outputs": [],
   "source": [
    "adata_subset"
   ]
  },
  {
   "cell_type": "code",
   "execution_count": null,
   "id": "3fc67cdc",
   "metadata": {},
   "outputs": [],
   "source": [
    "#This code further filters the data by removing cells from C10, C31 ROIs and C21_ROI3\n",
    "#The .copy() makes a completely seperate copy\n",
    "adata_subset2 = adata_subset.copy()\n",
    "adata_subset2 = adata_subset2[~adata_subset2.obs['cell_type_astir'].isin(['Other','Unknown']),:].copy()"
   ]
  },
  {
   "cell_type": "code",
   "execution_count": null,
   "id": "54a3a417",
   "metadata": {},
   "outputs": [],
   "source": [
    "adata_subset2"
   ]
  },
  {
   "cell_type": "code",
   "execution_count": null,
   "id": "010b6cf5",
   "metadata": {},
   "outputs": [],
   "source": [
    "#Plot a heatmap grouped by hierarchy\n",
    "sc.pl.heatmap(adata_subset2, adata_subset3.var_names, groupby='cell_type_astir', cmap='viridis', vmax=0.75, swap_axes=False, save='_cell_type.pdf')"
   ]
  },
  {
   "cell_type": "code",
   "execution_count": null,
   "id": "62546736",
   "metadata": {},
   "outputs": [],
   "source": [
    "#Plot a heatmap grouped by cell types\n",
    "sc.pl.heatmap(adata_subset2, adata_subset3.var_names, groupby='cell_type_astir', vmax=0.75, swap_axes=True) #save='_ASTIR_celltype.pdf')"
   ]
  },
  {
   "cell_type": "code",
   "execution_count": null,
   "id": "cbfb0d15",
   "metadata": {},
   "outputs": [],
   "source": [
    "#Plot a heatmap grouped by ASTIR\n",
    "sc.pl.matrixplot(adata_subset2, adata_subset3.var_names, groupby='cell_type_astir', swap_axes=False, cmap='viridis', save='_ASTIR_cell_type.png')"
   ]
  },
  {
   "cell_type": "code",
   "execution_count": null,
   "id": "c0816e02",
   "metadata": {},
   "outputs": [],
   "source": [
    "sb.set_style(\"darkgrid\", {'axes.grid' : False})\n",
    "\n",
    "graph = sb.lmplot(data = adata_subset2.obs, x = 'X_loc',y='Y_loc',hue ='cell_type_astir',palette = 'bright',height = 8,col = 'ROI',col_wrap = 6,fit_reg = False, aspect=1)\n",
    "graph.savefig(\"MappedPlots_cell_type_astir.pdf\")"
   ]
  },
  {
   "cell_type": "code",
   "execution_count": null,
   "id": "b746a14b",
   "metadata": {},
   "outputs": [],
   "source": [
    "sc.pp.neighbors(adata_subset2, use_rep='X_pca_harmony')\n",
    "sc.tl.umap(adata_subset2)"
   ]
  },
  {
   "cell_type": "code",
   "execution_count": null,
   "id": "20952bb4",
   "metadata": {},
   "outputs": [],
   "source": [
    "#Plot PhenoGraph on UMAP\n",
    "sc.pl.umap(adata_subset2, color=['cell_type_astir'], size=2, save='_redsea_cell_type_astir.pdf')"
   ]
  },
  {
   "cell_type": "code",
   "execution_count": null,
   "id": "a9ceb88c",
   "metadata": {},
   "outputs": [],
   "source": [
    "#Plot PhenoGraph on UMAP\n",
    "sb.set_style(\"white\", {'axes.grid' : False})\n",
    "sc.pl.umap(adata_subse2, color = \"hierarchy_astir\", s = 2, legend_loc='on data', title='', legend_fontsize = 7, size=2, save='_hierarchy_astir.pdf')"
   ]
  },
  {
   "cell_type": "code",
   "execution_count": null,
   "id": "0937ea73",
   "metadata": {},
   "outputs": [],
   "source": [
    "adata_subset"
   ]
  },
  {
   "cell_type": "code",
   "execution_count": null,
   "id": "7edd0244",
   "metadata": {},
   "outputs": [],
   "source": [
    "adata_subset2"
   ]
  },
  {
   "cell_type": "markdown",
   "id": "ab2cab24",
   "metadata": {},
   "source": [
    "# Abundance graphs"
   ]
  },
  {
   "cell_type": "code",
   "execution_count": null,
   "id": "98de264a",
   "metadata": {},
   "outputs": [],
   "source": [
    "#stack bar code and extracting number of cells, distribution of each cluster per case or the cluster composition per case\n",
    "#for number of cells - don't use normalize\n",
    "#for distribution of each case per cluster - use normalize = \"index\"\n",
    "#for cluster composition per case - use normalize = \"columns\"\n",
    "tmp = pd.crosstab(adata_subset2.obs['cell_type'], adata_subset2.obs['Group'], margins=False, normalize = \"columns\")"
   ]
  },
  {
   "cell_type": "code",
   "execution_count": null,
   "id": "a5ab9f4a",
   "metadata": {},
   "outputs": [],
   "source": [
    "tmp"
   ]
  },
  {
   "cell_type": "code",
   "execution_count": null,
   "id": "3089111d",
   "metadata": {},
   "outputs": [],
   "source": [
    "compression_opts = dict(method='zip',\n",
    "                         archive_name='Celltype_Group.csv') \n",
    "tmp.to_csv('Celltype_Group.zip', index=True, compression=compression_opts)"
   ]
  },
  {
   "cell_type": "code",
   "execution_count": null,
   "id": "47322a55",
   "metadata": {},
   "outputs": [],
   "source": [
    "tmp2 = pd.DataFrame.transpose(tmp)"
   ]
  },
  {
   "cell_type": "code",
   "execution_count": null,
   "id": "adca0e44",
   "metadata": {},
   "outputs": [],
   "source": [
    "tmp2"
   ]
  },
  {
   "cell_type": "code",
   "execution_count": null,
   "id": "d489aceb",
   "metadata": {},
   "outputs": [],
   "source": [
    "#color for stack bars for the disease groups matching the other bar graphs\n",
    "#F08080 - light coral\n",
    "#87CEFA - lightskyblue\n",
    "#D3D3D3 - lightgrey\n",
    "\n",
    "pretty_colors = ['#F08080','#87CEFA','#D3D3D3']\n",
    "color_pal = sb.color_palette('Paired')\n",
    "\n",
    "#colour_palette['colour']\n",
    "tmp2.plot.bar(stacked=True, color=color_pal, figsize=(4, 4)).legend(bbox_to_anchor=(1, 1))\n",
    "plt.savefig(\"cell_frequencies_group_after_astir.pdf\", format=\"pdf\", bbox_inches=\"tight\")"
   ]
  },
  {
   "cell_type": "markdown",
   "id": "77862e83",
   "metadata": {},
   "source": [
    "Example breakdown of populations per case\n",
    "Here, break down the myeloid and tumour populations per case"
   ]
  },
  {
   "cell_type": "code",
   "execution_count": null,
   "id": "60894330",
   "metadata": {},
   "outputs": [],
   "source": [
    "#Example breakdown of populations per case\n",
    "#Here, break down the myeloid and lymphoid populations per case\n",
    "\n",
    "adata_m = adata_subset2[adata_subset2.obs['hierarchy'].isin(['Myeloid'])].copy()\n",
    "adata_l = adata_subset2[adata_subset2.obs['hierarchy'].isin(['Lymphoid'])].copy()\n",
    "adata_v = adata_subset2[adata_subset2.obs['hierarchy'].isin(['Vascular'])].copy()\n",
    "\n",
    "fig, axs = plt.subplots(1,3,figsize=(11, 6),constrained_layout=True)\n",
    "\n",
    "tmp = pd.crosstab(adata_m.obs['Group'],adata_subset2.obs['cell_type'], normalize='index')\n",
    "tmp.plot.bar(color=color_pal,ax=axs[0],stacked=True).legend(bbox_to_anchor=(0.75, -0.5))#.legend(bbox_to_anchor=(1.1, 1))\n",
    "\n",
    "tmp = pd.crosstab(adata_l.obs['Group'],adata_subset2.obs['cell_type'], normalize='index')\n",
    "tmp.plot.bar(color=color_pal,ax=axs[1],stacked=True).legend(bbox_to_anchor=(0.75, -0.5))#.legend(bbox_to_anchor=(1.1, 1))\n",
    "\n",
    "tmp = pd.crosstab(adata_v.obs['Group'],adata_subset2.obs['cell_type'], normalize='index')\n",
    "tmp.plot.bar(color=color_pal,ax=axs[2],stacked=True).legend(bbox_to_anchor=(0.75, -0.5))#.legend(bbox_to_anchor=(1.1, 1))\n",
    "\n",
    "fig.savefig('population_breakdowns_Group.png')"
   ]
  },
  {
   "cell_type": "markdown",
   "id": "917ceef0",
   "metadata": {},
   "source": [
    "Abundances graphs with stats\n",
    "Example of case averaging abundance stats"
   ]
  },
  {
   "cell_type": "code",
   "execution_count": null,
   "id": "c73e043c",
   "metadata": {},
   "outputs": [],
   "source": [
    "# Alter this list with adata.obs variables that you want to plot against the resulting leiden population\n",
    "image_var = 'ROI'\n",
    "\n",
    "for i in ['Patient']:\n",
    "\n",
    "    mikeimc_v2.grouped_graph(adata_subset2,\n",
    "                             ROI_id=image_var,\n",
    "                             group_by_obs=i,\n",
    "                             x_axis='cell_type',\n",
    "                             fig_size=(20,8),\n",
    "                             log_scale=False,\n",
    "                            display_tables=False) #If you change display_tables to True, will also do stats on the groups\n",
    "    plt.show()"
   ]
  },
  {
   "cell_type": "code",
   "execution_count": null,
   "id": "f1905aaa",
   "metadata": {},
   "outputs": [],
   "source": [
    "mikeimc_v2.pop_stats(adata_subset2,\n",
    "          groups='Group', #The adata.obs we want to use to compare between\n",
    "          Case_id='Patient', #The adata.obs that defines case\n",
    "          ROI_id='ROI',\n",
    "          x_axis='cell_type',\n",
    "          display_tables=True,\n",
    "          fig_size=(8,3),\n",
    "          save='pop_stats_Group.png',\n",
    "           log_scale=False\n",
    "         )"
   ]
  },
  {
   "cell_type": "markdown",
   "id": "7bdea5b1",
   "metadata": {},
   "source": [
    "# Categorise samples using UMAP for cell abundance"
   ]
  },
  {
   "cell_type": "markdown",
   "id": "e75fd5ca",
   "metadata": {},
   "source": [
    "This will use the abundance of the different populations to create a UMAP, then colour it by an adata.obs"
   ]
  },
  {
   "cell_type": "code",
   "execution_count": null,
   "id": "31bf1601",
   "metadata": {},
   "outputs": [],
   "source": [
    "mikeimc_v2.cellabundance_UMAP(adata_subset2,\n",
    "                              ROI_id='Patient',\n",
    "                              population='cell_type',\n",
    "                              colour_by='Group',\n",
    "                              annotate=True,\n",
    "                              save='abundance_umap.svg')"
   ]
  },
  {
   "cell_type": "markdown",
   "id": "021ecd17",
   "metadata": {},
   "source": [
    "# Create new adatas for all cell types for unsupervised analyses"
   ]
  },
  {
   "cell_type": "markdown",
   "id": "e369daf7",
   "metadata": {},
   "source": [
    "# Myeloid cells"
   ]
  },
  {
   "cell_type": "code",
   "execution_count": null,
   "id": "3ecd48a2",
   "metadata": {
    "scrolled": true
   },
   "outputs": [],
   "source": [
    "adata_myeloid = adata_subset2[adata_subset2.obs['hierarchy'].isin(['Myeloid'])].copy()\n",
    "sc.pl.heatmap(adata_myeloid, adata_myeloid.var_names, groupby='cell_type', vmax=0.75, cmap = 'viridis', swap_axes=True, save='_ASTIR_myeloid.png')"
   ]
  },
  {
   "cell_type": "code",
   "execution_count": null,
   "id": "1d959c40",
   "metadata": {},
   "outputs": [],
   "source": [
    "#Plot clustered heatmap\n",
    "sc.tl.dendrogram(adata_myeloid, groupby = 'cell_type')\n",
    "sc.pl.heatmap(adata_myeloid, adata_myeloid.var_names, groupby='cell_type', vmax=0.75, swap_axes=True,dendrogram=True, save='_ASTIR_myeloid_clustered.png')"
   ]
  },
  {
   "cell_type": "code",
   "execution_count": null,
   "id": "663b62e4",
   "metadata": {},
   "outputs": [],
   "source": [
    "#Plot scaled heatmap\n",
    "adata_myeloid_norm = adata_myeloid.copy()\n",
    "sc.pp.scale(adata_myeloid_norm, max_value=2,  zero_center=True)\n",
    "sc.pl.heatmap(adata_myeloid_norm, adata_myeloid_norm.var_names, groupby='cell_type', cmap='viridis', swap_axes=True, save='_scaled_ASTIR_myeloid.png')"
   ]
  },
  {
   "cell_type": "markdown",
   "id": "6ba5cc6a",
   "metadata": {},
   "source": [
    "# Lymphoid cells"
   ]
  },
  {
   "cell_type": "code",
   "execution_count": null,
   "id": "ed4ed319",
   "metadata": {},
   "outputs": [],
   "source": [
    "#Plot heatmap\n",
    "adata_lymphoid = adata_subset2[adata_subset2.obs['hierarchy'].isin(['Lymphoid'])].copy()\n",
    "sc.pl.heatmap(adata_lymphoid, adata_lymphoid.var_names, groupby='cell_type', vmax=0.75, cmap='viridis',swap_axes=True, save='_ASTIR_lymphoid.png')"
   ]
  },
  {
   "cell_type": "code",
   "execution_count": null,
   "id": "339e39c6",
   "metadata": {},
   "outputs": [],
   "source": [
    "#Plot scaled heatmap\n",
    "adata_lymphoid_norm = adata_lymphoid.copy()\n",
    "sc.pp.scale(adata_lymphoid_norm, max_value=1.5,  zero_center=True)\n",
    "sc.pl.heatmap(adata_lymphoid_norm, adata_lymphoid_norm.var_names, groupby='cell_type', swap_axes=True, save='_scaled_ASTIR_lymphoid.pdf')"
   ]
  },
  {
   "cell_type": "markdown",
   "id": "044959b0",
   "metadata": {},
   "source": [
    "# Vascular and Stromal cells"
   ]
  },
  {
   "cell_type": "markdown",
   "id": "d5692f97",
   "metadata": {},
   "source": []
  },
  {
   "cell_type": "code",
   "execution_count": null,
   "id": "6f385bcb",
   "metadata": {
    "scrolled": true
   },
   "outputs": [],
   "source": [
    "adata_vascular = adata_subset2[adata_subset2.obs['hierarchy'].isin(['Vascular'])].copy()\n",
    "sc.pl.heatmap(adata_vascular, adata_vascular.var_names, groupby='cell_type', vmax=0.75, cmap='viridis', swap_axes=True, save='_ASTIR_vascular.png')\n",
    "\n",
    "adata_endothelium = adata_subset2[adata_subset2.obs['cell_type'].isin(['Endothelial cells'])].copy()\n",
    "sc.pl.heatmap(adata_endothelium, adata_endothelium.var_names, groupby='cell_type', cmap='viridis', swap_axes=True, vmax=0.75, save='_ASTIR_endothelium.png')\n",
    "\n",
    "adata_RBC = adata_subset2[adata_subset2.obs['cell_type'].isin(['RBCs'])].copy()\n",
    "sc.pl.heatmap(adata_RBC, adata_RBC.var_names, groupby='cell_type', swap_axes=True, vmax=0.75, cmap='viridis', save='_ASTIR_RBC.png')\n",
    "\n",
    "#Plot scaled heatmap\n",
    "adata_vascular_norm = adata_vascular.copy()\n",
    "sc.pp.scale(adata_vascular_norm, max_value=0.5,  zero_center=True)\n",
    "sc.pl.heatmap(adata_vascular_norm, adata_vascular_norm.var_names, groupby='cell_type', cmap='viridis', swap_axes=True, save='_scaled_ASTIR_vascular.png')"
   ]
  },
  {
   "cell_type": "code",
   "execution_count": null,
   "id": "ad7c9cf3",
   "metadata": {},
   "outputs": [],
   "source": [
    "adata_stromal = adata_subset2[adata_subset2.obs['hierarchy'].isin(['Stromal'])].copy()\n",
    "sc.pl.heatmap(adata_stromal, adata_stromal.var_names, groupby='cell_type', cmap='viridis', swap_axes=True, vmax=0.75, save='_ASTIR_stromal.png')"
   ]
  },
  {
   "cell_type": "markdown",
   "id": "1971e1cf",
   "metadata": {},
   "source": [
    "# Unsupervised analyses on cellular types - ASTIR output"
   ]
  },
  {
   "cell_type": "markdown",
   "id": "932c3560",
   "metadata": {},
   "source": [
    "# ASTIR - clustering analysis including functional markers"
   ]
  },
  {
   "cell_type": "code",
   "execution_count": null,
   "id": "7459f77c",
   "metadata": {},
   "outputs": [],
   "source": [
    "#including functional markers\n",
    "myeloid_markers = ['CD45', 'CD11b', 'CD11c', 'CD14', 'CD16', 'CD68', 'CD163', 'CD206','Iba1', 'CD33', 'VISTA', 'CD74', 'HLADR',\n",
    "                   'CX3CR1', 'Vimentin', 'VEGF', 'PDL1','Ki67', 'MCT4']\n",
    "adata_myeloid_2 = adata_myeloid[:,myeloid_markers].copy()\n",
    "\n",
    "lymphoid_markers = ['CD3','CD4','CD8', 'CD19', 'CD20', 'CD138', 'CD56', 'CD45RA', 'CD45RO', 'CD27', 'IgD', 'HLADR',\n",
    "                    'CD38', 'CD74','PD1','PDL1','Foxp3', 'VISTA', 'LAG3','Foxp3', 'TIM-3', 'CX3CR1', 'Vimentin', 'Ki67', 'MCT4']\n",
    "adata_lymphoid_2 = adata_lymphoid[:,lymphoid_markers].copy()\n",
    "\n",
    "vascular_markers = ['CD31','CD105', 'SMA', 'CD235ab', 'VEGF', 'CD74','HLADR','PDL1', 'Ki67','Fibronectin','MCT4']\n",
    "adata_vascular_2 = adata_vascular[:,vascular_markers].copy()"
   ]
  },
  {
   "cell_type": "code",
   "execution_count": null,
   "id": "2b85a1a3",
   "metadata": {},
   "outputs": [],
   "source": [
    "adata_vascular_2.var_names_make_unique"
   ]
  },
  {
   "cell_type": "markdown",
   "id": "2d162ac7",
   "metadata": {},
   "source": [
    "# First leiden clustering - identification of major cell types"
   ]
  },
  {
   "cell_type": "markdown",
   "id": "c8d19ac0",
   "metadata": {},
   "source": [
    "This is the same algorithm used by PhenoGraph, and is more or less the same"
   ]
  },
  {
   "cell_type": "markdown",
   "id": "aae1eff8",
   "metadata": {},
   "source": [
    "Initial Leiden clustering\n",
    "resolution - Change this to alter the size of the clusters - small resolution results in bigger clusters (therefore, less clusters overall, but each with more cells).\n",
    "Feel free to re-run this with several different resolutions, to see which looks best!"
   ]
  },
  {
   "cell_type": "code",
   "execution_count": null,
   "id": "9069f2a7",
   "metadata": {},
   "outputs": [],
   "source": [
    "# Change this to alter the size of the clusters - small resolution results in bigger clusters (therefore, less clusters overall, but each with more cells)\n",
    "resolution = 0.3\n",
    "leiden_obs_name = 'leiden_'+str(resolution)\n",
    "\n",
    "# This will perform the clustering, then add an 'obs' with name specified above, e.g leiden_0.3\n",
    "sc.tl.leiden(adata_subset, resolution=resolution, key_added = leiden_obs_name)"
   ]
  },
  {
   "cell_type": "code",
   "execution_count": null,
   "id": "781d40d9",
   "metadata": {},
   "outputs": [],
   "source": [
    "adata_subset"
   ]
  },
  {
   "cell_type": "code",
   "execution_count": null,
   "id": "b8ba28cc",
   "metadata": {},
   "outputs": [],
   "source": [
    "obs_to_show = adata_subset.obs.columns.tolist()[-1] #This is the last .obs to be added, alternatively put actual name of leiden group"
   ]
  },
  {
   "cell_type": "code",
   "execution_count": null,
   "id": "56dca541",
   "metadata": {},
   "outputs": [],
   "source": [
    "import pop_id\n",
    "pop_id.population_summary(adata_subset, categorical_obs='Group', groupby_obs=obs_to_show) "
   ]
  },
  {
   "cell_type": "markdown",
   "id": "6da7c4f6",
   "metadata": {},
   "source": [
    "# Labelling populations"
   ]
  },
  {
   "cell_type": "code",
   "execution_count": null,
   "id": "c7bf95f4",
   "metadata": {},
   "outputs": [],
   "source": [
    "pop_id.create_remapping(adata_subset, 'leiden_0.3')"
   ]
  },
  {
   "cell_type": "markdown",
   "id": "c4bc01f5",
   "metadata": {},
   "source": [
    "# Edit in Excel\n",
    "\n",
    "The remapping file is created in this directory, fill in the table in Excel for how each of the population should be remapped.\n",
    "\n",
    "By default three new populations are added (population, population_broad, hierarchy), but you can call the whatever you like and add more column/new groups if you wish"
   ]
  },
  {
   "cell_type": "markdown",
   "id": "601da6a3",
   "metadata": {},
   "source": [
    "Read in labelling file and remap"
   ]
  },
  {
   "cell_type": "code",
   "execution_count": null,
   "id": "fdcc3821",
   "metadata": {},
   "outputs": [],
   "source": [
    "#pop_id.read_remapping(adata_subset, 'leiden_0.3')"
   ]
  },
  {
   "cell_type": "code",
   "execution_count": null,
   "id": "12aa57dd",
   "metadata": {},
   "outputs": [],
   "source": [
    "leiden_obs_name = 'leiden_0.3' #This will depend on what subclustering you did\n",
    "\n",
    "populations={'0':'RBCs',\n",
    "'1':'Myeloid',\n",
    "'2':'B cell',\n",
    "'3':'Myeloid',\n",
    "'4':'T cell',\n",
    "'5':'Stroma',\n",
    "'6':'B cell',\n",
    "'7':'NK cell'\n",
    "}\n",
    "\n",
    "hierarchy={'0':'Erythroid',\n",
    "'1':'Myeloid',\n",
    "'2':'Lymphoid',\n",
    "'3':'Myeloid',\n",
    "'4':'Lymphoid',\n",
    "'5':'Stroma',\n",
    "'6':'Lymphoid',\n",
    "'7':'Lymphoid'} \n",
    "    \n",
    "adata_subset.obs['population']=adata_subset.obs[leiden_obs_name].map(populations).astype('category')\n",
    "#adata_subset.obs['population_broad']=adata_subset.obs[leiden_obs_name].map(populations_broad).astype('category')\n",
    "adata_subset.obs['hierarchy']=adata_subset.obs[leiden_obs_name].map(hierarchy).astype('category')"
   ]
  },
  {
   "cell_type": "code",
   "execution_count": null,
   "id": "34f267a0",
   "metadata": {
    "scrolled": true
   },
   "outputs": [],
   "source": [
    "adata_subset"
   ]
  },
  {
   "cell_type": "code",
   "execution_count": null,
   "id": "6b7be9a9",
   "metadata": {},
   "outputs": [],
   "source": [
    "pop_id.population_summary(adata_subset, categorical_obs='Group', groupby_obs=\"population\") \n",
    "#plt.savefig(\"data.pdf\", format=\"pdf\", bbox_inches=\"tight\")"
   ]
  },
  {
   "cell_type": "markdown",
   "id": "de6054f5",
   "metadata": {},
   "source": [
    "Plot initial clustering results"
   ]
  },
  {
   "cell_type": "code",
   "execution_count": null,
   "id": "dbb2cb3f",
   "metadata": {},
   "outputs": [],
   "source": [
    "#sc.set_figure_params(figsize=(5, 5))\n",
    "sc.pl.umap(adata_subset, color=\"population\", size=1, save = \"leiden0.3_UMAP_populations.pdf\")"
   ]
  },
  {
   "cell_type": "code",
   "execution_count": null,
   "id": "ee97cc88",
   "metadata": {},
   "outputs": [],
   "source": [
    "# Plot a heatmap\n",
    "sc.pl.matrixplot(adata_subset,\n",
    "                 adata_subset.var_names.tolist(), \n",
    "                 groupby=\"population\", \n",
    "                 var_group_rotation = 0,\n",
    "                 vmax=1,\n",
    "                 dendrogram=True, save = \"leiden0.3_heatmap_populations.pdf\")"
   ]
  },
  {
   "cell_type": "code",
   "execution_count": null,
   "id": "2c19c3cb",
   "metadata": {},
   "outputs": [],
   "source": [
    "image_var = 'ROI'\n",
    "for i in ['Group']:\n",
    "\n",
    "    mikeimc_v2.grouped_graph(adata_subset,\n",
    "                             ROI_id=image_var,\n",
    "                             group_by_obs=i,\n",
    "                             x_axis='population',\n",
    "                             fig_size=(4,4),\n",
    "                             log_scale=False,\n",
    "                             display_tables=True) #If you change display_tables to True, will also do stats on the groups\n",
    "    plt.show()\n",
    "    #plt.savefig(\"leiden0.3_cell_numbers_group_populations.pdf\", format=\"pdf\", bbox_inches=\"tight\")"
   ]
  },
  {
   "cell_type": "code",
   "execution_count": null,
   "id": "eebb05c9",
   "metadata": {},
   "outputs": [],
   "source": [
    "image_var = 'ROI'\n",
    "\n",
    "for i in ['Group']:\n",
    "\n",
    "    mikeimc_v2.grouped_graph(adata_subset,\n",
    "                             ROI_id=image_var,\n",
    "                             group_by_obs=i,\n",
    "                             x_axis='population',\n",
    "                             fig_size=(4, 4),\n",
    "                             log_scale=False, scale_factor=True,\n",
    "                            display_tables=True, crosstab_norm=False) #If you change display_tables to True, will also do stats on the groups\n",
    "    # use crosstab_norm='columns' to plot and do statistics based on cell frequencies per group\n",
    "    plt.show()"
   ]
  },
  {
   "cell_type": "code",
   "execution_count": null,
   "id": "62b8ad26",
   "metadata": {},
   "outputs": [],
   "source": [
    "#stack bar code and extracting number of cells, distribution of each cluster per case or the cluster composition per case\n",
    "#for number of cells - don't use normalize\n",
    "#for distribution of each case per cluster - use normalize = \"index\"\n",
    "#for cluster composition per case - use normalize = \"columns\"\n",
    "tmp = pd.crosstab(adata_subset.obs['population'], adata_subset.obs['Group'], margins=False, normalize = \"columns\")"
   ]
  },
  {
   "cell_type": "code",
   "execution_count": null,
   "id": "8443f8fe",
   "metadata": {},
   "outputs": [],
   "source": [
    "tmp2 = pd.DataFrame.transpose(tmp)"
   ]
  },
  {
   "cell_type": "code",
   "execution_count": null,
   "id": "17736030",
   "metadata": {},
   "outputs": [],
   "source": [
    "#color for stack bars for the disease groups matching the other bar graphs\n",
    "#F08080 - light coral\n",
    "#87CEFA - lightskyblue\n",
    "#D3D3D3 - lightgrey\n",
    "\n",
    "pretty_colors = ['#F08080','#87CEFA','#D3D3D3']\n",
    "color_pal = sb.color_palette('Paired')\n",
    "\n",
    "#colour_palette['colour']\n",
    "tmp2.plot.bar(stacked=True, color=color_pal, figsize=(4, 4)).legend(bbox_to_anchor=(1, 1))\n",
    "plt.savefig(\"leiden0.3_cell_frequencies_group_populations.pdf\", format=\"pdf\", bbox_inches=\"tight\")"
   ]
  },
  {
   "cell_type": "code",
   "execution_count": null,
   "id": "c73b9711",
   "metadata": {
    "scrolled": false
   },
   "outputs": [],
   "source": [
    "#Spatial mapping\n",
    "sb.set_style(\"darkgrid\", {'axes.grid' : False})\n",
    "\n",
    "graph = sb.lmplot(data = adata_subset.obs, x = 'X_loc',y='Y_loc',hue ='population',palette = 'bright',height = 8,col = 'ROI',col_wrap = 6,fit_reg = False, aspect=1)\n",
    "graph.savefig(\"MappedPlots_Leiden0.3_populations.pdf\")"
   ]
  },
  {
   "cell_type": "markdown",
   "id": "9bdbfbcc",
   "metadata": {},
   "source": [
    "# Subset adata and run leiden clustering for each major cell type - strategy 1"
   ]
  },
  {
   "cell_type": "markdown",
   "id": "9f0755c6",
   "metadata": {},
   "source": [
    "Sub clustering example\n",
    "Once you've done the initital subclustering, which could be with a fairly low resolution, you can then do subclustering on specific clusters from previous Leiden analyses\n",
    "resolution - As above. Change this to alter the size of the subclusters of the previous analysis"
   ]
  },
  {
   "cell_type": "code",
   "execution_count": null,
   "id": "f4853f2e",
   "metadata": {
    "scrolled": true
   },
   "outputs": [],
   "source": [
    "adata_subset.obs['population']"
   ]
  },
  {
   "cell_type": "code",
   "execution_count": null,
   "id": "e1d372b3",
   "metadata": {
    "scrolled": true
   },
   "outputs": [],
   "source": [
    "# Myeloid\n",
    "adata_myeloid = adata_subset[adata_subset.obs['population'].isin(['Myeloid'])].copy()\n",
    "sc.pl.heatmap(adata_myeloid, adata_myeloid.var_names, groupby='population', vmax=0.75, cmap = 'viridis', swap_axes=True, save='_myeloid.pdf')"
   ]
  },
  {
   "cell_type": "code",
   "execution_count": null,
   "id": "15ea63eb",
   "metadata": {},
   "outputs": [],
   "source": [
    "# T cells\n",
    "adata_Tcells = adata_subset[adata_subset.obs['population'].isin(['T cell'])].copy()\n",
    "sc.pl.heatmap(adata_Tcells, adata_Tcells.var_names, groupby='population', vmax=0.75, cmap='viridis',swap_axes=True, save='_Tcells.pdf')"
   ]
  },
  {
   "cell_type": "code",
   "execution_count": null,
   "id": "4ed818f5",
   "metadata": {},
   "outputs": [],
   "source": [
    "# B cells\n",
    "adata_Bcells = adata_subset[adata_subset.obs['population'].isin(['B cell'])].copy()\n",
    "sc.pl.heatmap(adata_Bcells, adata_Bcells.var_names, groupby='population', vmax=0.75, cmap='viridis',swap_axes=True, save='_Bcells.pdf')"
   ]
  },
  {
   "cell_type": "code",
   "execution_count": null,
   "id": "468b1582",
   "metadata": {},
   "outputs": [],
   "source": [
    "# Stroma\n",
    "adata_stroma = adata_subset[adata_subset.obs['population'].isin(['Stroma'])].copy()\n",
    "sc.pl.heatmap(adata_stroma, adata_stroma.var_names, groupby='population', vmax=0.75, cmap='viridis',swap_axes=True, save='_Stroma.pdf')"
   ]
  },
  {
   "cell_type": "code",
   "execution_count": null,
   "id": "67b843e9",
   "metadata": {},
   "outputs": [],
   "source": [
    "# RBCs\n",
    "adata_RBC = adata_subset[adata_subset.obs['population'].isin(['RBCs'])].copy()\n",
    "sc.pl.heatmap(adata_RBC, adata_RBC.var_names, groupby='population', vmax=0.75, cmap='viridis',swap_axes=True, save='_RBC.pdf')"
   ]
  },
  {
   "cell_type": "code",
   "execution_count": null,
   "id": "549068cf",
   "metadata": {
    "scrolled": true
   },
   "outputs": [],
   "source": [
    "# NK cells\n",
    "adata_NKcells = adata_subset[adata_subset.obs['population'].isin(['NK cell'])].copy()\n",
    "sc.pl.heatmap(adata_NKcells, adata_NKcells.var_names, groupby='population', vmax=0.75, cmap='viridis',swap_axes=True, save='_NKcells.pdf')"
   ]
  },
  {
   "cell_type": "code",
   "execution_count": null,
   "id": "965a4423",
   "metadata": {},
   "outputs": [],
   "source": [
    "adata_myeloid.write('./2_h5ad_files/adata_myeloid.h5ad') \n",
    "adata_Tcells.write('./2_h5ad_files/adata_Tcells.h5ad') \n",
    "adata_Bcells.write('./2_h5ad_files/adata_Bcells.h5ad') \n",
    "adata_stroma.write('./2_h5ad_files/adata_stroma.h5ad') \n",
    "adata_RBC.write('./2_h5ad_files/adata_RBC.h5ad') \n",
    "adata_NKcells.write('./2_h5ad_files/adataNKcells.h5ad') "
   ]
  },
  {
   "cell_type": "markdown",
   "id": "14a91751",
   "metadata": {},
   "source": [
    "# Subset adata and run all functions at once - strategy 2"
   ]
  },
  {
   "cell_type": "code",
   "execution_count": null,
   "id": "59ade8c5",
   "metadata": {},
   "outputs": [],
   "source": [
    "# Create a list of the markers we want to use in the subanalysis, in this example we're focusing on our myeloid markers\n",
    "myeloid = ['Iba1','CD14','CD16','CD44','CD11c','CD206','CX3CR1','HLA-DR', 'CD163', 'CD68']"
   ]
  },
  {
   "cell_type": "code",
   "execution_count": null,
   "id": "126988cd",
   "metadata": {},
   "outputs": [],
   "source": [
    "# This will create a brand new adata object with just myeloid cells in \n",
    "adata_myeloid = pop_id.adata_subclustering(adata,\n",
    "                        population_obs='leiden_0.35', #This is the leiden which you want to to use to identify myeloid populations in your original Leiden\n",
    "                        populations=['4'], #List of populations from the above population_obs\n",
    "                        marker_list=myeloid, #List of markers to use\n",
    "                        clustering_resolutions=[0.1, 0.25, 0.4, 0.7], #Clustering resolutions to try\n",
    "                        umap_categories=['ROI','Case'],\n",
    "                        batch_correct='bbknn', #Whether to batch correct, otherwise but None if you dont want to correct\n",
    "                        batch_correct_obs='Case', #Which .obs to use for batch correction\n",
    "                        close_plots=True)"
   ]
  },
  {
   "cell_type": "markdown",
   "id": "2bcbeb5d",
   "metadata": {},
   "source": [
    "his next function will transfer the popuation labels from one adata and .obs to another. This relies upon all cells having a unique ID inthe 'Master_Index' column of .obs"
   ]
  },
  {
   "cell_type": "code",
   "execution_count": null,
   "id": "ee7a59f8",
   "metadata": {},
   "outputs": [],
   "source": [
    "pop_id.transfer_populations(adata_source=adata_myeloid,\n",
    "                                 adata_source_populations_obs='leiden_0.1',\n",
    "                                 adata_target=adata,\n",
    "                                 adata_target_populations_obs='leiden_0.35',\n",
    "                                 common_cell_index='Master_Index',\n",
    "                                 pop_prefix='NEW')"
   ]
  },
  {
   "cell_type": "markdown",
   "id": "2c16a8b8",
   "metadata": {},
   "source": [
    "# Export data"
   ]
  },
  {
   "cell_type": "code",
   "execution_count": null,
   "id": "e8754588",
   "metadata": {},
   "outputs": [],
   "source": [
    "#Make a simplified dataframe to export\n",
    "adata_export = adata_subset3.obs[['Case','ROI','Type','hierarchy','pheno_cluster']].copy()"
   ]
  },
  {
   "cell_type": "code",
   "execution_count": null,
   "id": "e4ee783c",
   "metadata": {},
   "outputs": [],
   "source": [
    "#Split up the X and Y columns from the adata\n",
    "adata_export['X'], adata_export['Y'] = np.split(adata_subset3.obsm['spatial'],[-1],axis=1)\n",
    "#Save to file\n",
    "adata_export.to_csv('adata_cluster_export.csv')"
   ]
  },
  {
   "cell_type": "code",
   "execution_count": null,
   "id": "b145c56d",
   "metadata": {},
   "outputs": [],
   "source": [
    "# export everything except the data using `.write_csvs`.\n",
    "# Set `skip_data=False` if you also want to export the data.\n",
    "adata_subset3.write_csvs(dirname='./', skip_data=False)"
   ]
  }
 ],
 "metadata": {
  "kernelspec": {
   "display_name": "Python 3 (ipykernel)",
   "language": "python",
   "name": "python3"
  },
  "language_info": {
   "codemirror_mode": {
    "name": "ipython",
    "version": 3
   },
   "file_extension": ".py",
   "mimetype": "text/x-python",
   "name": "python",
   "nbconvert_exporter": "python",
   "pygments_lexer": "ipython3",
   "version": "3.9.13"
  }
 },
 "nbformat": 4,
 "nbformat_minor": 5
}
